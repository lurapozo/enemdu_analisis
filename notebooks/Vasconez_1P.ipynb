{
 "cells": [
  {
   "cell_type": "code",
   "execution_count": 1,
   "id": "c54ad3e3-f95e-4734-8517-7e7c62ec30c3",
   "metadata": {
    "tags": []
   },
   "outputs": [],
   "source": [
    "import pandas as pd\n",
    "import numpy as np\n",
    "import plotly.express as px\n",
    "import plotly.graph_objects as go\n",
    "from plotly.subplots import make_subplots\n",
    "pd.options.display.max_columns = None"
   ]
  },
  {
   "cell_type": "code",
   "execution_count": 2,
   "id": "f79e5e17-9382-4575-a9d7-95afdb2df350",
   "metadata": {},
   "outputs": [],
   "source": [
    "primer = pd.read_spss(\"../data/SPSS/201703_EnemduBDD_15anios.sav\")\n",
    "segundo = pd.read_spss(\"../data/SPSS/201706_EnemduBDD_15anio.sav.sav\")\n",
    "tercero = pd.read_spss(\"../data/SPSS/201709_EnemduBDD_15anios.sav\")\n",
    "cuarto = pd.read_spss(\"../data/SPSS/201712_EnemduBDD_15anios.sav\")"
   ]
  },
  {
   "cell_type": "markdown",
   "id": "864e8baa-3ac7-48ed-9dca-da27253a4c03",
   "metadata": {},
   "source": [
    "# Pregunta 3\n",
    "## Se desea saber cuál es el sueldo promedio que tienen los barrios de Guayaquil y Quito por cada trimestre/año"
   ]
  },
  {
   "cell_type": "code",
   "execution_count": 3,
   "id": "2f081af2-5212-4aef-adfd-cc8fa6772b6b",
   "metadata": {
    "tags": []
   },
   "outputs": [],
   "source": [
    "primer['trimestre']='Primero'\n",
    "segundo['trimestre']='Segundo'\n",
    "tercero['trimestre']='Tercero'\n",
    "cuarto['trimestre']='Cuarto'"
   ]
  },
  {
   "cell_type": "code",
   "execution_count": 4,
   "id": "bf24fff3-3b18-4b8c-9dae-3dc03a8ad443",
   "metadata": {
    "tags": []
   },
   "outputs": [],
   "source": [
    "ciudad_maping={\n",
    "    90150: 'Guayaquil',\n",
    "    170150: 'Quito',\n",
    "}"
   ]
  },
  {
   "cell_type": "code",
   "execution_count": 5,
   "id": "8de5b1a5-bf9c-4bdb-9623-447bdba49a49",
   "metadata": {
    "tags": []
   },
   "outputs": [],
   "source": [
    "gyedf1=primer.loc[primer[\"ciudad\"]==90150]\n",
    "q1 = gyedf1[\"p66\"].quantile(0.25)\n",
    "q3 = gyedf1[\"p66\"].quantile(0.75)\n",
    "RI = q3-q1\n",
    "gyedf1 = gyedf1.loc[(gyedf1[\"p66\"]>q1-1.5*RI) & (gyedf1[\"p66\"]<q3+1.5*RI)]\n",
    "gyedf1[\"ciudad\"] = gyedf1[\"ciudad\"].replace(ciudad_maping,regex=True)"
   ]
  },
  {
   "cell_type": "code",
   "execution_count": 6,
   "id": "4c63897b-98d9-418d-95d9-c34a7f40a3a9",
   "metadata": {},
   "outputs": [],
   "source": [
    "gyedf2=segundo.loc[segundo[\"ciudad\"]==90150]\n",
    "q1 = gyedf2[\"p66\"].quantile(0.25)\n",
    "q3 = gyedf2[\"p66\"].quantile(0.75)\n",
    "RI = q3-q1\n",
    "gyedf2 = gyedf2.loc[(gyedf2[\"p66\"]>q1-1.5*RI) & (gyedf2[\"p66\"]<q3+1.5*RI)]\n",
    "gyedf2[\"ciudad\"] = gyedf2[\"ciudad\"].replace(ciudad_maping,regex=True)"
   ]
  },
  {
   "cell_type": "code",
   "execution_count": 7,
   "id": "fbf9ec84-cc30-4335-9c27-5dc9df4804d7",
   "metadata": {},
   "outputs": [],
   "source": [
    "gyedf3=tercero.loc[tercero[\"ciudad\"]==90150]\n",
    "q1 = gyedf3[\"p66\"].quantile(0.25)\n",
    "q3 = gyedf3[\"p66\"].quantile(0.75)\n",
    "RI = q3-q1\n",
    "gyedf3 = gyedf3.loc[(gyedf3[\"p66\"]>q1-1.5*RI) & (gyedf3[\"p66\"]<q3+1.5*RI)]\n",
    "gyedf3[\"ciudad\"] = gyedf3[\"ciudad\"].replace(ciudad_maping,regex=True)"
   ]
  },
  {
   "cell_type": "code",
   "execution_count": 8,
   "id": "4de56cb3-042b-418f-95ad-2c1357a1ebac",
   "metadata": {},
   "outputs": [],
   "source": [
    "gyedf4=cuarto.loc[cuarto[\"ciudad\"]==90150]\n",
    "q1 = gyedf4[\"p66\"].quantile(0.25)\n",
    "q3 = gyedf4[\"p66\"].quantile(0.75)\n",
    "RI = q3-q1\n",
    "gyedf4 = gyedf4.loc[(gyedf4[\"p66\"]>q1-1.5*RI) & (gyedf4[\"p66\"]<q3+1.5*RI)]\n",
    "gyedf4[\"ciudad\"] = gyedf4[\"ciudad\"].replace(ciudad_maping,regex=True)"
   ]
  },
  {
   "cell_type": "code",
   "execution_count": 9,
   "id": "ff3bb604-f4c5-4d7d-8198-37f9301e37f5",
   "metadata": {
    "tags": []
   },
   "outputs": [],
   "source": [
    "uiodf1=primer.loc[primer[\"ciudad\"]==170150]\n",
    "q1 = uiodf1[\"p66\"].quantile(0.25)\n",
    "q3 = uiodf1[\"p66\"].quantile(0.75)\n",
    "RI = q3-q1\n",
    "uiodf1 = uiodf1.loc[(uiodf1[\"p66\"]>q1-1.5*RI) & (uiodf1[\"p66\"]<q3+1.5*RI)]\n",
    "uiodf1[\"ciudad\"] = uiodf1[\"ciudad\"].replace(ciudad_maping,regex=True)"
   ]
  },
  {
   "cell_type": "code",
   "execution_count": 10,
   "id": "83d08403-61c8-49b9-aed9-2a850a63db73",
   "metadata": {
    "tags": []
   },
   "outputs": [],
   "source": [
    "uiodf2=segundo.loc[segundo[\"ciudad\"]==170150]\n",
    "q1 = uiodf2[\"p66\"].quantile(0.25)\n",
    "q3 = uiodf2[\"p66\"].quantile(0.75)\n",
    "RI = q3-q1\n",
    "uiodf2 = uiodf2.loc[(uiodf2[\"p66\"]>q1-1.5*RI) & (uiodf2[\"p66\"]<q3+1.5*RI)]\n",
    "uiodf2[\"ciudad\"] = uiodf2[\"ciudad\"].replace(ciudad_maping,regex=True)"
   ]
  },
  {
   "cell_type": "code",
   "execution_count": 11,
   "id": "c13ba65a-9e8f-4a2f-8d3f-5cfbab096a57",
   "metadata": {},
   "outputs": [],
   "source": [
    "uiodf3=tercero.loc[tercero[\"ciudad\"]==170150]\n",
    "q1 = uiodf3[\"p66\"].quantile(0.25)\n",
    "q3 = uiodf3[\"p66\"].quantile(0.75)\n",
    "RI = q3-q1\n",
    "uiodf3 = uiodf3.loc[(uiodf3[\"p66\"]>q1-1.5*RI) & (uiodf3[\"p66\"]<q3+1.5*RI)]\n",
    "uiodf3[\"ciudad\"] = uiodf3[\"ciudad\"].replace(ciudad_maping,regex=True)"
   ]
  },
  {
   "cell_type": "code",
   "execution_count": 12,
   "id": "d107d65f-4c37-44f0-a85d-29955efdc486",
   "metadata": {},
   "outputs": [],
   "source": [
    "uiodf4=cuarto.loc[cuarto[\"ciudad\"]==170150]\n",
    "q1 = uiodf4[\"p66\"].quantile(0.25)\n",
    "q3 = uiodf4[\"p66\"].quantile(0.75)\n",
    "RI = q3-q1\n",
    "uiodf4 = uiodf4.loc[(uiodf4[\"p66\"]>q1-1.5*RI) & (uiodf4[\"p66\"]<q3+1.5*RI)]\n",
    "uiodf4[\"ciudad\"] = uiodf4[\"ciudad\"].replace(ciudad_maping,regex=True)"
   ]
  },
  {
   "cell_type": "code",
   "execution_count": 13,
   "id": "e9ef3398-d37a-4760-972c-04bbb8bf10c6",
   "metadata": {
    "tags": []
   },
   "outputs": [],
   "source": [
    "gye_sector_mapping = {\n",
    "    '001': 'AYACUCHO',\n",
    "    '002': 'BOLÍVAR',\n",
    "    '003': 'CARBO',\n",
    "    '004': 'FEBRES CORDERO',\n",
    "    '005': 'GARCÍA MORENO',\n",
    "    '006': 'LETAMENDI',\n",
    "    '007': 'NUEVE DE OCTUBRE',\n",
    "    \"008\": \"OLMEDO\",\n",
    "    '009': 'ROCA',\n",
    "    '010': 'ROCAFUERTE',\n",
    "    '011': 'SUCRE',\n",
    "    '012': 'TARQUI',\n",
    "    '013': 'URDANETA',\n",
    "    '014': 'XIMENA',\n",
    "    '015': 'PASCUALES',\n",
    "}\n",
    "uio_sector_mapping = {\n",
    "    '001': 'BELISARIO QUEVEDO',\n",
    "    '002': 'CARCELÉN',\n",
    "    '003': 'CENTRO HISTÓRICO',\n",
    "    '004': 'COCHAPAMBA',\n",
    "    '005': 'COMITÉ DEL PUEBLO',\n",
    "    '006': 'COTOCOLLAO',\n",
    "    '007': 'CHILIBULO',\n",
    "    \"008\": \"CHILLOGALLO\",\n",
    "    '009': 'CHIMBACALLE',\n",
    "    '010': 'EL CONDADO',\n",
    "    '011': 'GUAMANÍ',\n",
    "    '012': 'IÑAQUITO',\n",
    "    '013': 'ITCHIMBIA',\n",
    "    '014': 'JIPIJAPA',\n",
    "    '015': 'KENNEDY',\n",
    "    '016': 'LA ARGELIA',\n",
    "    '017': 'LA CONCEPCIÓN',\n",
    "    '018': 'LA ECUATORIANA',\n",
    "    '019': 'LA FERROVIARIA',\n",
    "    '020': 'LA LIBERTAD',\n",
    "    '021': 'LA MAGDALENA',\n",
    "    '022': 'LA MENA',\n",
    "    \"023\": \"MARISCAL SUCRE\",\n",
    "    '024': 'PONCEANO',\n",
    "    '025': 'PUENGASÍ',\n",
    "    '026': 'QUITUMBE',\n",
    "    '027': 'RUMIPAMBA',\n",
    "    '028': 'SAN BARTOLO',\n",
    "    '029': 'SAN ISIDRO DEL INCA',\n",
    "    '030': 'SAN JUAN',\n",
    "    '031': 'SOLANDA',\n",
    "    '032': 'TURUBAMBA',\n",
    "    '037': 'TURUBAMBA',\n",
    "}\n"
   ]
  },
  {
   "cell_type": "code",
   "execution_count": 14,
   "id": "580d3da9-efa9-4c87-b4cf-3c77cb842aff",
   "metadata": {
    "tags": []
   },
   "outputs": [],
   "source": [
    "gyedf1[\"parroquia\"] = gyedf1[\"sector\"].replace(gye_sector_mapping,regex=True)\n",
    "gyedf2[\"parroquia\"] = gyedf2[\"sector\"].replace(gye_sector_mapping,regex=True)\n",
    "gyedf3[\"parroquia\"] = gyedf3[\"sector\"].replace(gye_sector_mapping,regex=True)\n",
    "gyedf4[\"parroquia\"] = gyedf4[\"sector\"].replace(gye_sector_mapping,regex=True)\n",
    "#\n",
    "uiodf1[\"parroquia\"] = uiodf1[\"sector\"].replace(uio_sector_mapping,regex=True)\n",
    "uiodf2[\"parroquia\"] = uiodf2[\"sector\"].replace(uio_sector_mapping,regex=True)\n",
    "uiodf3[\"parroquia\"] = uiodf3[\"sector\"].replace(uio_sector_mapping,regex=True)\n",
    "uiodf4[\"parroquia\"] = uiodf4[\"sector\"].replace(uio_sector_mapping,regex=True)"
   ]
  },
  {
   "cell_type": "code",
   "execution_count": 15,
   "id": "5bc367b3-8036-496b-a13a-6efa54c7eb90",
   "metadata": {
    "tags": []
   },
   "outputs": [],
   "source": [
    "gyedf1=gyedf1.loc[:, ['parroquia', 'p66','trimestre','ciudad']]\n",
    "gyedf2=gyedf2.loc[:, ['parroquia', 'p66','trimestre','ciudad']]\n",
    "gyedf3=gyedf3.loc[:, ['parroquia', 'p66','trimestre','ciudad']]\n",
    "gyedf4=gyedf4.loc[:, ['parroquia', 'p66','trimestre','ciudad']]\n",
    "#\n",
    "uiodf1=uiodf1.loc[:, ['parroquia', 'p66','trimestre','ciudad']]\n",
    "uiodf2=uiodf2.loc[:, ['parroquia', 'p66','trimestre','ciudad']]\n",
    "uiodf3=uiodf3.loc[:, ['parroquia', 'p66','trimestre','ciudad']]\n",
    "uiodf4=uiodf4.loc[:, ['parroquia', 'p66','trimestre','ciudad']]"
   ]
  },
  {
   "cell_type": "code",
   "execution_count": 18,
   "id": "46aca427-ad79-4277-a0b7-b431ab148198",
   "metadata": {
    "tags": []
   },
   "outputs": [],
   "source": [
    "gyeUIOdf= pd.concat([gyedf1,gyedf2,gyedf3,gyedf4,uiodf1,uiodf2,uiodf3,uiodf4]).reset_index(drop=True)\n",
    "gyeUIOdf.dropna(subset=['p66'],inplace=True)\n",
    "#UIOdf = pd.concat([]).reset_index(drop=True)"
   ]
  },
  {
   "cell_type": "code",
   "execution_count": 19,
   "id": "5762501a-6f46-4eaa-8798-09d565d8009e",
   "metadata": {
    "tags": []
   },
   "outputs": [
    {
     "data": {
      "text/plain": [
       "Guayaquil    5204\n",
       "Quito        4578\n",
       "Name: ciudad, dtype: int64"
      ]
     },
     "execution_count": 19,
     "metadata": {},
     "output_type": "execute_result"
    }
   ],
   "source": [
    "gyeUIOdf['ciudad'].value_counts()"
   ]
  },
  {
   "cell_type": "code",
   "execution_count": 20,
   "id": "dfac04c0-4693-4001-991b-d91f75bb7982",
   "metadata": {
    "tags": []
   },
   "outputs": [],
   "source": [
    "gyeUIOgroup=gyeUIOdf.groupby([\"ciudad\",\"trimestre\",\"parroquia\"])[\"p66\"].mean().reset_index()\n",
    "#UIOgroup=UIOdf.groupby([\"parroquia\",\"trimestre\"])[\"p66\"].mean().reset_index()"
   ]
  },
  {
   "cell_type": "code",
   "execution_count": 21,
   "id": "b97c210c-abf4-4ba7-a9cd-7331c058915d",
   "metadata": {
    "tags": []
   },
   "outputs": [
    {
     "data": {
      "text/html": [
       "<div>\n",
       "<style scoped>\n",
       "    .dataframe tbody tr th:only-of-type {\n",
       "        vertical-align: middle;\n",
       "    }\n",
       "\n",
       "    .dataframe tbody tr th {\n",
       "        vertical-align: top;\n",
       "    }\n",
       "\n",
       "    .dataframe thead th {\n",
       "        text-align: right;\n",
       "    }\n",
       "</style>\n",
       "<table border=\"1\" class=\"dataframe\">\n",
       "  <thead>\n",
       "    <tr style=\"text-align: right;\">\n",
       "      <th></th>\n",
       "      <th>ciudad</th>\n",
       "      <th>trimestre</th>\n",
       "      <th>parroquia</th>\n",
       "      <th>p66</th>\n",
       "    </tr>\n",
       "  </thead>\n",
       "  <tbody>\n",
       "    <tr>\n",
       "      <th>0</th>\n",
       "      <td>Guayaquil</td>\n",
       "      <td>Cuarto</td>\n",
       "      <td>AYACUCHO</td>\n",
       "      <td>371.257576</td>\n",
       "    </tr>\n",
       "    <tr>\n",
       "      <th>1</th>\n",
       "      <td>Guayaquil</td>\n",
       "      <td>Cuarto</td>\n",
       "      <td>BOLÍVAR</td>\n",
       "      <td>407.716216</td>\n",
       "    </tr>\n",
       "    <tr>\n",
       "      <th>2</th>\n",
       "      <td>Guayaquil</td>\n",
       "      <td>Cuarto</td>\n",
       "      <td>CARBO</td>\n",
       "      <td>411.095652</td>\n",
       "    </tr>\n",
       "    <tr>\n",
       "      <th>3</th>\n",
       "      <td>Guayaquil</td>\n",
       "      <td>Cuarto</td>\n",
       "      <td>FEBRES CORDERO</td>\n",
       "      <td>352.152174</td>\n",
       "    </tr>\n",
       "    <tr>\n",
       "      <th>4</th>\n",
       "      <td>Guayaquil</td>\n",
       "      <td>Cuarto</td>\n",
       "      <td>GARCÍA MORENO</td>\n",
       "      <td>384.736434</td>\n",
       "    </tr>\n",
       "    <tr>\n",
       "      <th>...</th>\n",
       "      <td>...</td>\n",
       "      <td>...</td>\n",
       "      <td>...</td>\n",
       "      <td>...</td>\n",
       "    </tr>\n",
       "    <tr>\n",
       "      <th>90</th>\n",
       "      <td>Quito</td>\n",
       "      <td>Tercero</td>\n",
       "      <td>COCHAPAMBA</td>\n",
       "      <td>738.672131</td>\n",
       "    </tr>\n",
       "    <tr>\n",
       "      <th>91</th>\n",
       "      <td>Quito</td>\n",
       "      <td>Tercero</td>\n",
       "      <td>COMITÉ DEL PUEBLO</td>\n",
       "      <td>614.320312</td>\n",
       "    </tr>\n",
       "    <tr>\n",
       "      <th>92</th>\n",
       "      <td>Quito</td>\n",
       "      <td>Tercero</td>\n",
       "      <td>COTOCOLLAO</td>\n",
       "      <td>851.692308</td>\n",
       "    </tr>\n",
       "    <tr>\n",
       "      <th>93</th>\n",
       "      <td>Quito</td>\n",
       "      <td>Tercero</td>\n",
       "      <td>EL CONDADO</td>\n",
       "      <td>727.173913</td>\n",
       "    </tr>\n",
       "    <tr>\n",
       "      <th>94</th>\n",
       "      <td>Quito</td>\n",
       "      <td>Tercero</td>\n",
       "      <td>IÑAQUITO</td>\n",
       "      <td>407.368421</td>\n",
       "    </tr>\n",
       "  </tbody>\n",
       "</table>\n",
       "<p>95 rows × 4 columns</p>\n",
       "</div>"
      ],
      "text/plain": [
       "       ciudad trimestre          parroquia         p66\n",
       "0   Guayaquil    Cuarto           AYACUCHO  371.257576\n",
       "1   Guayaquil    Cuarto            BOLÍVAR  407.716216\n",
       "2   Guayaquil    Cuarto              CARBO  411.095652\n",
       "3   Guayaquil    Cuarto     FEBRES CORDERO  352.152174\n",
       "4   Guayaquil    Cuarto      GARCÍA MORENO  384.736434\n",
       "..        ...       ...                ...         ...\n",
       "90      Quito   Tercero         COCHAPAMBA  738.672131\n",
       "91      Quito   Tercero  COMITÉ DEL PUEBLO  614.320312\n",
       "92      Quito   Tercero         COTOCOLLAO  851.692308\n",
       "93      Quito   Tercero         EL CONDADO  727.173913\n",
       "94      Quito   Tercero           IÑAQUITO  407.368421\n",
       "\n",
       "[95 rows x 4 columns]"
      ]
     },
     "execution_count": 21,
     "metadata": {},
     "output_type": "execute_result"
    }
   ],
   "source": [
    "gyeUIOgroup"
   ]
  },
  {
   "cell_type": "code",
   "execution_count": 26,
   "id": "657b803a-12e6-4120-a5d5-42d2ece815dc",
   "metadata": {},
   "outputs": [
    {
     "data": {
      "application/vnd.plotly.v1+json": {
       "config": {
        "plotlyServerURL": "https://plot.ly"
       },
       "data": [
        {
         "alignmentgroup": "True",
         "hovertemplate": "trimestre=Cuarto<br>Ingresos promedio=%{marker.color}<br>Parroquia=%{y}<extra></extra>",
         "legendgroup": "",
         "marker": {
          "color": [
           371.25757575757575,
           407.7162162162162,
           411.09565217391304,
           352.1521739130435,
           384.73643410852713,
           386.0240963855422,
           427.6470588235294,
           411.24043715846994,
           420.8780487804878,
           416.50877192982455,
           364.27142857142854,
           330.88235294117646,
           505.1136363636364,
           504.93333333333334,
           472.7685950413223,
           646.425,
           593.934131736527,
           536.209090909091,
           484.5245901639344,
           457.1694915254237,
           648.25,
           428.2142857142857,
           442.14285714285717,
           337.72727272727275
          ],
          "coloraxis": "coloraxis",
          "pattern": {
           "shape": ""
          }
         },
         "name": "",
         "offsetgroup": "",
         "orientation": "h",
         "showlegend": false,
         "textposition": "auto",
         "type": "bar",
         "width": 0.8,
         "x": [
          371.25757575757575,
          407.7162162162162,
          411.09565217391304,
          352.1521739130435,
          384.73643410852713,
          386.0240963855422,
          427.6470588235294,
          411.24043715846994,
          420.8780487804878,
          416.50877192982455,
          364.27142857142854,
          330.88235294117646,
          505.1136363636364,
          504.93333333333334,
          472.7685950413223,
          646.425,
          593.934131736527,
          536.209090909091,
          484.5245901639344,
          457.1694915254237,
          648.25,
          428.2142857142857,
          442.14285714285717,
          337.72727272727275
         ],
         "xaxis": "x",
         "y": [
          "AYACUCHO",
          "BOLÍVAR",
          "CARBO",
          "FEBRES CORDERO",
          "GARCÍA MORENO",
          "LETAMENDI",
          "NUEVE DE OCTUBRE",
          "OLMEDO",
          "ROCA",
          "ROCAFUERTE",
          "SUCRE",
          "TARQUI",
          "BELISARIO QUEVEDO",
          "CARCELÉN",
          "CENTRO HISTÓRICO",
          "CHILIBULO",
          "CHILLOGALLO",
          "CHIMBACALLE",
          "COCHAPAMBA",
          "COMITÉ DEL PUEBLO",
          "COTOCOLLAO",
          "EL CONDADO",
          "IÑAQUITO",
          "TURUBAMBA"
         ],
         "yaxis": "y"
        },
        {
         "alignmentgroup": "True",
         "hovertemplate": "trimestre=Primero<br>Ingresos promedio=%{marker.color}<br>Parroquia=%{y}<extra></extra>",
         "legendgroup": "",
         "marker": {
          "color": [
           391.2992125984252,
           375.1111111111111,
           426.8269230769231,
           392.8936170212766,
           373.0406504065041,
           397.84615384615387,
           395.9054054054054,
           409.9942528735632,
           448.1578947368421,
           402.85714285714283,
           359.88235294117646,
           430.7,
           488.25,
           559.2317880794702,
           470.11678832116786,
           516.9052631578948,
           544.9333333333333,
           504.672268907563,
           492.61290322580646,
           449.288,
           512.6530612244898,
           448.0869565217391,
           434,
           386.7857142857143
          ],
          "coloraxis": "coloraxis",
          "pattern": {
           "shape": ""
          }
         },
         "name": "",
         "offsetgroup": "",
         "orientation": "h",
         "showlegend": false,
         "textposition": "auto",
         "type": "bar",
         "width": 0.8,
         "x": [
          391.2992125984252,
          375.1111111111111,
          426.8269230769231,
          392.8936170212766,
          373.0406504065041,
          397.84615384615387,
          395.9054054054054,
          409.9942528735632,
          448.1578947368421,
          402.85714285714283,
          359.88235294117646,
          430.7,
          488.25,
          559.2317880794702,
          470.11678832116786,
          516.9052631578948,
          544.9333333333333,
          504.672268907563,
          492.61290322580646,
          449.288,
          512.6530612244898,
          448.0869565217391,
          434,
          386.7857142857143
         ],
         "xaxis": "x2",
         "y": [
          "AYACUCHO",
          "BOLÍVAR",
          "CARBO",
          "FEBRES CORDERO",
          "GARCÍA MORENO",
          "LETAMENDI",
          "NUEVE DE OCTUBRE",
          "OLMEDO",
          "ROCA",
          "ROCAFUERTE",
          "SUCRE",
          "TARQUI",
          "BELISARIO QUEVEDO",
          "CARCELÉN",
          "CENTRO HISTÓRICO",
          "CHILIBULO",
          "CHILLOGALLO",
          "CHIMBACALLE",
          "COCHAPAMBA",
          "COMITÉ DEL PUEBLO",
          "COTOCOLLAO",
          "EL CONDADO",
          "GUAMANÍ",
          "IÑAQUITO"
         ],
         "yaxis": "y2"
        },
        {
         "alignmentgroup": "True",
         "hovertemplate": "trimestre=Segundo<br>Ingresos promedio=%{marker.color}<br>Parroquia=%{y}<extra></extra>",
         "legendgroup": "",
         "marker": {
          "color": [
           350.3533834586466,
           416.26797385620915,
           417.59016393442624,
           380.462962962963,
           383.3565891472868,
           362.1666666666667,
           392.5855263157895,
           388.375,
           413.02941176470586,
           373.55,
           333.2676056338028,
           426.59090909090907,
           522.9027777777778,
           528.5103448275862,
           479.20754716981133,
           568.6857142857143,
           541.4793388429752,
           501.8349514563107,
           451.2708333333333,
           447.9051724137931,
           606.7325581395348,
           501.5,
           495.5833333333333,
           369.36842105263156
          ],
          "coloraxis": "coloraxis",
          "pattern": {
           "shape": ""
          }
         },
         "name": "",
         "offsetgroup": "",
         "orientation": "h",
         "showlegend": false,
         "textposition": "auto",
         "type": "bar",
         "width": 0.8,
         "x": [
          350.3533834586466,
          416.26797385620915,
          417.59016393442624,
          380.462962962963,
          383.3565891472868,
          362.1666666666667,
          392.5855263157895,
          388.375,
          413.02941176470586,
          373.55,
          333.2676056338028,
          426.59090909090907,
          522.9027777777778,
          528.5103448275862,
          479.20754716981133,
          568.6857142857143,
          541.4793388429752,
          501.8349514563107,
          451.2708333333333,
          447.9051724137931,
          606.7325581395348,
          501.5,
          495.5833333333333,
          369.36842105263156
         ],
         "xaxis": "x3",
         "y": [
          "AYACUCHO",
          "BOLÍVAR",
          "CARBO",
          "FEBRES CORDERO",
          "GARCÍA MORENO",
          "LETAMENDI",
          "NUEVE DE OCTUBRE",
          "OLMEDO",
          "ROCA",
          "ROCAFUERTE",
          "SUCRE",
          "TARQUI",
          "BELISARIO QUEVEDO",
          "CARCELÉN",
          "CENTRO HISTÓRICO",
          "CHILIBULO",
          "CHILLOGALLO",
          "CHIMBACALLE",
          "COCHAPAMBA",
          "COMITÉ DEL PUEBLO",
          "COTOCOLLAO",
          "EL CONDADO",
          "GUAMANÍ",
          "IÑAQUITO"
         ],
         "yaxis": "y3"
        },
        {
         "alignmentgroup": "True",
         "hovertemplate": "trimestre=Tercero<br>Ingresos promedio=%{marker.color}<br>Parroquia=%{y}<extra></extra>",
         "legendgroup": "",
         "marker": {
          "color": [
           345.94736842105266,
           394.8089171974522,
           453.1111111111111,
           308.8191489361702,
           399.7522935779817,
           383.95604395604397,
           414.2857142857143,
           397.07909604519773,
           426.13492063492066,
           367.01960784313724,
           403.31666666666666,
           397.7647058823529,
           683.8321167883212,
           675.5,
           670.5909090909091,
           819.2307692307693,
           776.9615384615385,
           693.4583333333334,
           738.672131147541,
           614.3203125,
           851.6923076923077,
           727.1739130434783,
           407.36842105263156
          ],
          "coloraxis": "coloraxis",
          "pattern": {
           "shape": ""
          }
         },
         "name": "",
         "offsetgroup": "",
         "orientation": "h",
         "showlegend": false,
         "textposition": "auto",
         "type": "bar",
         "width": 0.8,
         "x": [
          345.94736842105266,
          394.8089171974522,
          453.1111111111111,
          308.8191489361702,
          399.7522935779817,
          383.95604395604397,
          414.2857142857143,
          397.07909604519773,
          426.13492063492066,
          367.01960784313724,
          403.31666666666666,
          397.7647058823529,
          683.8321167883212,
          675.5,
          670.5909090909091,
          819.2307692307693,
          776.9615384615385,
          693.4583333333334,
          738.672131147541,
          614.3203125,
          851.6923076923077,
          727.1739130434783,
          407.36842105263156
         ],
         "xaxis": "x4",
         "y": [
          "AYACUCHO",
          "BOLÍVAR",
          "CARBO",
          "FEBRES CORDERO",
          "GARCÍA MORENO",
          "LETAMENDI",
          "NUEVE DE OCTUBRE",
          "OLMEDO",
          "ROCA",
          "ROCAFUERTE",
          "SUCRE",
          "TARQUI",
          "BELISARIO QUEVEDO",
          "CARCELÉN",
          "CENTRO HISTÓRICO",
          "CHILIBULO",
          "CHILLOGALLO",
          "CHIMBACALLE",
          "COCHAPAMBA",
          "COMITÉ DEL PUEBLO",
          "COTOCOLLAO",
          "EL CONDADO",
          "IÑAQUITO"
         ],
         "yaxis": "y4"
        }
       ],
       "layout": {
        "annotations": [
         {
          "font": {},
          "showarrow": false,
          "text": "trimestre=Cuarto",
          "x": 0.1175,
          "xanchor": "center",
          "xref": "paper",
          "y": 1,
          "yanchor": "bottom",
          "yref": "paper"
         },
         {
          "font": {},
          "showarrow": false,
          "text": "trimestre=Primero",
          "x": 0.3725,
          "xanchor": "center",
          "xref": "paper",
          "y": 1,
          "yanchor": "bottom",
          "yref": "paper"
         },
         {
          "font": {},
          "showarrow": false,
          "text": "trimestre=Segundo",
          "x": 0.6275,
          "xanchor": "center",
          "xref": "paper",
          "y": 1,
          "yanchor": "bottom",
          "yref": "paper"
         },
         {
          "font": {},
          "showarrow": false,
          "text": "trimestre=Tercero",
          "x": 0.8824999999999998,
          "xanchor": "center",
          "xref": "paper",
          "y": 1,
          "yanchor": "bottom",
          "yref": "paper"
         }
        ],
        "autosize": true,
        "barmode": "group",
        "coloraxis": {
         "colorbar": {
          "title": {
           "text": "Ingresos promedio"
          }
         },
         "colorscale": [
          [
           0,
           "#0d0887"
          ],
          [
           0.1111111111111111,
           "#46039f"
          ],
          [
           0.2222222222222222,
           "#7201a8"
          ],
          [
           0.3333333333333333,
           "#9c179e"
          ],
          [
           0.4444444444444444,
           "#bd3786"
          ],
          [
           0.5555555555555556,
           "#d8576b"
          ],
          [
           0.6666666666666666,
           "#ed7953"
          ],
          [
           0.7777777777777778,
           "#fb9f3a"
          ],
          [
           0.8888888888888888,
           "#fdca26"
          ],
          [
           1,
           "#f0f921"
          ]
         ]
        },
        "legend": {
         "tracegroupgap": 0
        },
        "template": {
         "data": {
          "bar": [
           {
            "error_x": {
             "color": "#2a3f5f"
            },
            "error_y": {
             "color": "#2a3f5f"
            },
            "marker": {
             "line": {
              "color": "#E5ECF6",
              "width": 0.5
             },
             "pattern": {
              "fillmode": "overlay",
              "size": 10,
              "solidity": 0.2
             }
            },
            "type": "bar"
           }
          ],
          "barpolar": [
           {
            "marker": {
             "line": {
              "color": "#E5ECF6",
              "width": 0.5
             },
             "pattern": {
              "fillmode": "overlay",
              "size": 10,
              "solidity": 0.2
             }
            },
            "type": "barpolar"
           }
          ],
          "carpet": [
           {
            "aaxis": {
             "endlinecolor": "#2a3f5f",
             "gridcolor": "white",
             "linecolor": "white",
             "minorgridcolor": "white",
             "startlinecolor": "#2a3f5f"
            },
            "baxis": {
             "endlinecolor": "#2a3f5f",
             "gridcolor": "white",
             "linecolor": "white",
             "minorgridcolor": "white",
             "startlinecolor": "#2a3f5f"
            },
            "type": "carpet"
           }
          ],
          "choropleth": [
           {
            "colorbar": {
             "outlinewidth": 0,
             "ticks": ""
            },
            "type": "choropleth"
           }
          ],
          "contour": [
           {
            "colorbar": {
             "outlinewidth": 0,
             "ticks": ""
            },
            "colorscale": [
             [
              0,
              "#0d0887"
             ],
             [
              0.1111111111111111,
              "#46039f"
             ],
             [
              0.2222222222222222,
              "#7201a8"
             ],
             [
              0.3333333333333333,
              "#9c179e"
             ],
             [
              0.4444444444444444,
              "#bd3786"
             ],
             [
              0.5555555555555556,
              "#d8576b"
             ],
             [
              0.6666666666666666,
              "#ed7953"
             ],
             [
              0.7777777777777778,
              "#fb9f3a"
             ],
             [
              0.8888888888888888,
              "#fdca26"
             ],
             [
              1,
              "#f0f921"
             ]
            ],
            "type": "contour"
           }
          ],
          "contourcarpet": [
           {
            "colorbar": {
             "outlinewidth": 0,
             "ticks": ""
            },
            "type": "contourcarpet"
           }
          ],
          "heatmap": [
           {
            "colorbar": {
             "outlinewidth": 0,
             "ticks": ""
            },
            "colorscale": [
             [
              0,
              "#0d0887"
             ],
             [
              0.1111111111111111,
              "#46039f"
             ],
             [
              0.2222222222222222,
              "#7201a8"
             ],
             [
              0.3333333333333333,
              "#9c179e"
             ],
             [
              0.4444444444444444,
              "#bd3786"
             ],
             [
              0.5555555555555556,
              "#d8576b"
             ],
             [
              0.6666666666666666,
              "#ed7953"
             ],
             [
              0.7777777777777778,
              "#fb9f3a"
             ],
             [
              0.8888888888888888,
              "#fdca26"
             ],
             [
              1,
              "#f0f921"
             ]
            ],
            "type": "heatmap"
           }
          ],
          "heatmapgl": [
           {
            "colorbar": {
             "outlinewidth": 0,
             "ticks": ""
            },
            "colorscale": [
             [
              0,
              "#0d0887"
             ],
             [
              0.1111111111111111,
              "#46039f"
             ],
             [
              0.2222222222222222,
              "#7201a8"
             ],
             [
              0.3333333333333333,
              "#9c179e"
             ],
             [
              0.4444444444444444,
              "#bd3786"
             ],
             [
              0.5555555555555556,
              "#d8576b"
             ],
             [
              0.6666666666666666,
              "#ed7953"
             ],
             [
              0.7777777777777778,
              "#fb9f3a"
             ],
             [
              0.8888888888888888,
              "#fdca26"
             ],
             [
              1,
              "#f0f921"
             ]
            ],
            "type": "heatmapgl"
           }
          ],
          "histogram": [
           {
            "marker": {
             "pattern": {
              "fillmode": "overlay",
              "size": 10,
              "solidity": 0.2
             }
            },
            "type": "histogram"
           }
          ],
          "histogram2d": [
           {
            "colorbar": {
             "outlinewidth": 0,
             "ticks": ""
            },
            "colorscale": [
             [
              0,
              "#0d0887"
             ],
             [
              0.1111111111111111,
              "#46039f"
             ],
             [
              0.2222222222222222,
              "#7201a8"
             ],
             [
              0.3333333333333333,
              "#9c179e"
             ],
             [
              0.4444444444444444,
              "#bd3786"
             ],
             [
              0.5555555555555556,
              "#d8576b"
             ],
             [
              0.6666666666666666,
              "#ed7953"
             ],
             [
              0.7777777777777778,
              "#fb9f3a"
             ],
             [
              0.8888888888888888,
              "#fdca26"
             ],
             [
              1,
              "#f0f921"
             ]
            ],
            "type": "histogram2d"
           }
          ],
          "histogram2dcontour": [
           {
            "colorbar": {
             "outlinewidth": 0,
             "ticks": ""
            },
            "colorscale": [
             [
              0,
              "#0d0887"
             ],
             [
              0.1111111111111111,
              "#46039f"
             ],
             [
              0.2222222222222222,
              "#7201a8"
             ],
             [
              0.3333333333333333,
              "#9c179e"
             ],
             [
              0.4444444444444444,
              "#bd3786"
             ],
             [
              0.5555555555555556,
              "#d8576b"
             ],
             [
              0.6666666666666666,
              "#ed7953"
             ],
             [
              0.7777777777777778,
              "#fb9f3a"
             ],
             [
              0.8888888888888888,
              "#fdca26"
             ],
             [
              1,
              "#f0f921"
             ]
            ],
            "type": "histogram2dcontour"
           }
          ],
          "mesh3d": [
           {
            "colorbar": {
             "outlinewidth": 0,
             "ticks": ""
            },
            "type": "mesh3d"
           }
          ],
          "parcoords": [
           {
            "line": {
             "colorbar": {
              "outlinewidth": 0,
              "ticks": ""
             }
            },
            "type": "parcoords"
           }
          ],
          "pie": [
           {
            "automargin": true,
            "type": "pie"
           }
          ],
          "scatter": [
           {
            "fillpattern": {
             "fillmode": "overlay",
             "size": 10,
             "solidity": 0.2
            },
            "type": "scatter"
           }
          ],
          "scatter3d": [
           {
            "line": {
             "colorbar": {
              "outlinewidth": 0,
              "ticks": ""
             }
            },
            "marker": {
             "colorbar": {
              "outlinewidth": 0,
              "ticks": ""
             }
            },
            "type": "scatter3d"
           }
          ],
          "scattercarpet": [
           {
            "marker": {
             "colorbar": {
              "outlinewidth": 0,
              "ticks": ""
             }
            },
            "type": "scattercarpet"
           }
          ],
          "scattergeo": [
           {
            "marker": {
             "colorbar": {
              "outlinewidth": 0,
              "ticks": ""
             }
            },
            "type": "scattergeo"
           }
          ],
          "scattergl": [
           {
            "marker": {
             "colorbar": {
              "outlinewidth": 0,
              "ticks": ""
             }
            },
            "type": "scattergl"
           }
          ],
          "scattermapbox": [
           {
            "marker": {
             "colorbar": {
              "outlinewidth": 0,
              "ticks": ""
             }
            },
            "type": "scattermapbox"
           }
          ],
          "scatterpolar": [
           {
            "marker": {
             "colorbar": {
              "outlinewidth": 0,
              "ticks": ""
             }
            },
            "type": "scatterpolar"
           }
          ],
          "scatterpolargl": [
           {
            "marker": {
             "colorbar": {
              "outlinewidth": 0,
              "ticks": ""
             }
            },
            "type": "scatterpolargl"
           }
          ],
          "scatterternary": [
           {
            "marker": {
             "colorbar": {
              "outlinewidth": 0,
              "ticks": ""
             }
            },
            "type": "scatterternary"
           }
          ],
          "surface": [
           {
            "colorbar": {
             "outlinewidth": 0,
             "ticks": ""
            },
            "colorscale": [
             [
              0,
              "#0d0887"
             ],
             [
              0.1111111111111111,
              "#46039f"
             ],
             [
              0.2222222222222222,
              "#7201a8"
             ],
             [
              0.3333333333333333,
              "#9c179e"
             ],
             [
              0.4444444444444444,
              "#bd3786"
             ],
             [
              0.5555555555555556,
              "#d8576b"
             ],
             [
              0.6666666666666666,
              "#ed7953"
             ],
             [
              0.7777777777777778,
              "#fb9f3a"
             ],
             [
              0.8888888888888888,
              "#fdca26"
             ],
             [
              1,
              "#f0f921"
             ]
            ],
            "type": "surface"
           }
          ],
          "table": [
           {
            "cells": {
             "fill": {
              "color": "#EBF0F8"
             },
             "line": {
              "color": "white"
             }
            },
            "header": {
             "fill": {
              "color": "#C8D4E3"
             },
             "line": {
              "color": "white"
             }
            },
            "type": "table"
           }
          ]
         },
         "layout": {
          "annotationdefaults": {
           "arrowcolor": "#2a3f5f",
           "arrowhead": 0,
           "arrowwidth": 1
          },
          "autotypenumbers": "strict",
          "coloraxis": {
           "colorbar": {
            "outlinewidth": 0,
            "ticks": ""
           }
          },
          "colorscale": {
           "diverging": [
            [
             0,
             "#8e0152"
            ],
            [
             0.1,
             "#c51b7d"
            ],
            [
             0.2,
             "#de77ae"
            ],
            [
             0.3,
             "#f1b6da"
            ],
            [
             0.4,
             "#fde0ef"
            ],
            [
             0.5,
             "#f7f7f7"
            ],
            [
             0.6,
             "#e6f5d0"
            ],
            [
             0.7,
             "#b8e186"
            ],
            [
             0.8,
             "#7fbc41"
            ],
            [
             0.9,
             "#4d9221"
            ],
            [
             1,
             "#276419"
            ]
           ],
           "sequential": [
            [
             0,
             "#0d0887"
            ],
            [
             0.1111111111111111,
             "#46039f"
            ],
            [
             0.2222222222222222,
             "#7201a8"
            ],
            [
             0.3333333333333333,
             "#9c179e"
            ],
            [
             0.4444444444444444,
             "#bd3786"
            ],
            [
             0.5555555555555556,
             "#d8576b"
            ],
            [
             0.6666666666666666,
             "#ed7953"
            ],
            [
             0.7777777777777778,
             "#fb9f3a"
            ],
            [
             0.8888888888888888,
             "#fdca26"
            ],
            [
             1,
             "#f0f921"
            ]
           ],
           "sequentialminus": [
            [
             0,
             "#0d0887"
            ],
            [
             0.1111111111111111,
             "#46039f"
            ],
            [
             0.2222222222222222,
             "#7201a8"
            ],
            [
             0.3333333333333333,
             "#9c179e"
            ],
            [
             0.4444444444444444,
             "#bd3786"
            ],
            [
             0.5555555555555556,
             "#d8576b"
            ],
            [
             0.6666666666666666,
             "#ed7953"
            ],
            [
             0.7777777777777778,
             "#fb9f3a"
            ],
            [
             0.8888888888888888,
             "#fdca26"
            ],
            [
             1,
             "#f0f921"
            ]
           ]
          },
          "colorway": [
           "#636efa",
           "#EF553B",
           "#00cc96",
           "#ab63fa",
           "#FFA15A",
           "#19d3f3",
           "#FF6692",
           "#B6E880",
           "#FF97FF",
           "#FECB52"
          ],
          "font": {
           "color": "#2a3f5f"
          },
          "geo": {
           "bgcolor": "white",
           "lakecolor": "white",
           "landcolor": "#E5ECF6",
           "showlakes": true,
           "showland": true,
           "subunitcolor": "white"
          },
          "hoverlabel": {
           "align": "left"
          },
          "hovermode": "closest",
          "mapbox": {
           "style": "light"
          },
          "paper_bgcolor": "white",
          "plot_bgcolor": "#E5ECF6",
          "polar": {
           "angularaxis": {
            "gridcolor": "white",
            "linecolor": "white",
            "ticks": ""
           },
           "bgcolor": "#E5ECF6",
           "radialaxis": {
            "gridcolor": "white",
            "linecolor": "white",
            "ticks": ""
           }
          },
          "scene": {
           "xaxis": {
            "backgroundcolor": "#E5ECF6",
            "gridcolor": "white",
            "gridwidth": 2,
            "linecolor": "white",
            "showbackground": true,
            "ticks": "",
            "zerolinecolor": "white"
           },
           "yaxis": {
            "backgroundcolor": "#E5ECF6",
            "gridcolor": "white",
            "gridwidth": 2,
            "linecolor": "white",
            "showbackground": true,
            "ticks": "",
            "zerolinecolor": "white"
           },
           "zaxis": {
            "backgroundcolor": "#E5ECF6",
            "gridcolor": "white",
            "gridwidth": 2,
            "linecolor": "white",
            "showbackground": true,
            "ticks": "",
            "zerolinecolor": "white"
           }
          },
          "shapedefaults": {
           "line": {
            "color": "#2a3f5f"
           }
          },
          "ternary": {
           "aaxis": {
            "gridcolor": "white",
            "linecolor": "white",
            "ticks": ""
           },
           "baxis": {
            "gridcolor": "white",
            "linecolor": "white",
            "ticks": ""
           },
           "bgcolor": "#E5ECF6",
           "caxis": {
            "gridcolor": "white",
            "linecolor": "white",
            "ticks": ""
           }
          },
          "title": {
           "x": 0.05
          },
          "xaxis": {
           "automargin": true,
           "gridcolor": "white",
           "linecolor": "white",
           "ticks": "",
           "title": {
            "standoff": 15
           },
           "zerolinecolor": "white",
           "zerolinewidth": 2
          },
          "yaxis": {
           "automargin": true,
           "gridcolor": "white",
           "linecolor": "white",
           "ticks": "",
           "title": {
            "standoff": 15
           },
           "zerolinecolor": "white",
           "zerolinewidth": 2
          }
         }
        },
        "title": {
         "text": "Barplot de las parroquias de Guayaquil y Quito por trimestres del año 2017 "
        },
        "xaxis": {
         "anchor": "y",
         "autorange": true,
         "domain": [
          0,
          0.235
         ],
         "range": [
          0,
          896.5182186234819
         ],
         "title": {
          "text": "Ingresos promedio"
         },
         "type": "linear"
        },
        "xaxis2": {
         "anchor": "y2",
         "autorange": true,
         "domain": [
          0.255,
          0.49
         ],
         "matches": "x",
         "range": [
          0,
          896.5182186234819
         ],
         "title": {
          "text": "Ingresos promedio"
         },
         "type": "linear"
        },
        "xaxis3": {
         "anchor": "y3",
         "autorange": true,
         "domain": [
          0.51,
          0.745
         ],
         "matches": "x",
         "range": [
          0,
          896.5182186234819
         ],
         "title": {
          "text": "Ingresos promedio"
         },
         "type": "linear"
        },
        "xaxis4": {
         "anchor": "y4",
         "autorange": true,
         "domain": [
          0.7649999999999999,
          0.9999999999999999
         ],
         "matches": "x",
         "range": [
          0,
          896.5182186234819
         ],
         "title": {
          "text": "Ingresos promedio"
         },
         "type": "linear"
        },
        "yaxis": {
         "anchor": "x",
         "autorange": true,
         "domain": [
          0,
          1
         ],
         "range": [
          -0.5,
          24.5
         ],
         "title": {
          "text": "Parroquia"
         },
         "type": "category"
        },
        "yaxis2": {
         "anchor": "x2",
         "autorange": true,
         "domain": [
          0,
          1
         ],
         "matches": "y",
         "range": [
          -0.5,
          24.5
         ],
         "showticklabels": false,
         "type": "category"
        },
        "yaxis3": {
         "anchor": "x3",
         "autorange": true,
         "domain": [
          0,
          1
         ],
         "matches": "y",
         "range": [
          -0.5,
          24.5
         ],
         "showticklabels": false,
         "type": "category"
        },
        "yaxis4": {
         "anchor": "x4",
         "autorange": true,
         "domain": [
          0,
          1
         ],
         "matches": "y",
         "range": [
          -0.5,
          24.5
         ],
         "showticklabels": false,
         "type": "category"
        }
       }
      },
      "image/png": "[encoded data removed]",
      "text/html": [
       "<div>                            <div id=\"c8c9f613-1f09-47cf-bebb-751d5dc84765\" class=\"plotly-graph-div\" style=\"height:600px; width:100%;\"></div>            <script type=\"text/javascript\">                require([\"plotly\"], function(Plotly) {                    window.PLOTLYENV=window.PLOTLYENV || {};                                    if (document.getElementById(\"c8c9f613-1f09-47cf-bebb-751d5dc84765\")) {                    Plotly.newPlot(                        \"c8c9f613-1f09-47cf-bebb-751d5dc84765\",                        [{\"alignmentgroup\":\"True\",\"hovertemplate\":\"trimestre=Cuarto<br>Ingresos promedio=%{marker.color}<br>Parroquia=%{y}<extra></extra>\",\"legendgroup\":\"\",\"marker\":{\"color\":[371.25757575757575,407.7162162162162,411.09565217391304,352.1521739130435,384.73643410852713,386.0240963855422,427.6470588235294,411.24043715846994,420.8780487804878,416.50877192982455,364.27142857142854,330.88235294117646,505.1136363636364,504.93333333333334,472.7685950413223,646.425,593.934131736527,536.209090909091,484.5245901639344,457.1694915254237,648.25,428.2142857142857,442.14285714285717,337.72727272727275],\"coloraxis\":\"coloraxis\",\"pattern\":{\"shape\":\"\"}},\"name\":\"\",\"offsetgroup\":\"\",\"orientation\":\"h\",\"showlegend\":false,\"textposition\":\"auto\",\"x\":[371.25757575757575,407.7162162162162,411.09565217391304,352.1521739130435,384.73643410852713,386.0240963855422,427.6470588235294,411.24043715846994,420.8780487804878,416.50877192982455,364.27142857142854,330.88235294117646,505.1136363636364,504.93333333333334,472.7685950413223,646.425,593.934131736527,536.209090909091,484.5245901639344,457.1694915254237,648.25,428.2142857142857,442.14285714285717,337.72727272727275],\"xaxis\":\"x\",\"y\":[\"AYACUCHO\",\"BOL\\u00cdVAR\",\"CARBO\",\"FEBRES CORDERO\",\"GARC\\u00cdA MORENO\",\"LETAMENDI\",\"NUEVE DE OCTUBRE\",\"OLMEDO\",\"ROCA\",\"ROCAFUERTE\",\"SUCRE\",\"TARQUI\",\"BELISARIO QUEVEDO\",\"CARCEL\\u00c9N\",\"CENTRO HIST\\u00d3RICO\",\"CHILIBULO\",\"CHILLOGALLO\",\"CHIMBACALLE\",\"COCHAPAMBA\",\"COMIT\\u00c9 DEL PUEBLO\",\"COTOCOLLAO\",\"EL CONDADO\",\"I\\u00d1AQUITO\",\"TURUBAMBA\"],\"yaxis\":\"y\",\"type\":\"bar\",\"width\":0.8},{\"alignmentgroup\":\"True\",\"hovertemplate\":\"trimestre=Primero<br>Ingresos promedio=%{marker.color}<br>Parroquia=%{y}<extra></extra>\",\"legendgroup\":\"\",\"marker\":{\"color\":[391.2992125984252,375.1111111111111,426.8269230769231,392.8936170212766,373.0406504065041,397.84615384615387,395.9054054054054,409.9942528735632,448.1578947368421,402.85714285714283,359.88235294117646,430.7,488.25,559.2317880794702,470.11678832116786,516.9052631578948,544.9333333333333,504.672268907563,492.61290322580646,449.288,512.6530612244898,448.0869565217391,434.0,386.7857142857143],\"coloraxis\":\"coloraxis\",\"pattern\":{\"shape\":\"\"}},\"name\":\"\",\"offsetgroup\":\"\",\"orientation\":\"h\",\"showlegend\":false,\"textposition\":\"auto\",\"x\":[391.2992125984252,375.1111111111111,426.8269230769231,392.8936170212766,373.0406504065041,397.84615384615387,395.9054054054054,409.9942528735632,448.1578947368421,402.85714285714283,359.88235294117646,430.7,488.25,559.2317880794702,470.11678832116786,516.9052631578948,544.9333333333333,504.672268907563,492.61290322580646,449.288,512.6530612244898,448.0869565217391,434.0,386.7857142857143],\"xaxis\":\"x2\",\"y\":[\"AYACUCHO\",\"BOL\\u00cdVAR\",\"CARBO\",\"FEBRES CORDERO\",\"GARC\\u00cdA MORENO\",\"LETAMENDI\",\"NUEVE DE OCTUBRE\",\"OLMEDO\",\"ROCA\",\"ROCAFUERTE\",\"SUCRE\",\"TARQUI\",\"BELISARIO QUEVEDO\",\"CARCEL\\u00c9N\",\"CENTRO HIST\\u00d3RICO\",\"CHILIBULO\",\"CHILLOGALLO\",\"CHIMBACALLE\",\"COCHAPAMBA\",\"COMIT\\u00c9 DEL PUEBLO\",\"COTOCOLLAO\",\"EL CONDADO\",\"GUAMAN\\u00cd\",\"I\\u00d1AQUITO\"],\"yaxis\":\"y2\",\"type\":\"bar\",\"width\":0.8},{\"alignmentgroup\":\"True\",\"hovertemplate\":\"trimestre=Segundo<br>Ingresos promedio=%{marker.color}<br>Parroquia=%{y}<extra></extra>\",\"legendgroup\":\"\",\"marker\":{\"color\":[350.3533834586466,416.26797385620915,417.59016393442624,380.462962962963,383.3565891472868,362.1666666666667,392.5855263157895,388.375,413.02941176470586,373.55,333.2676056338028,426.59090909090907,522.9027777777778,528.5103448275862,479.20754716981133,568.6857142857143,541.4793388429752,501.8349514563107,451.2708333333333,447.9051724137931,606.7325581395348,501.5,495.5833333333333,369.36842105263156],\"coloraxis\":\"coloraxis\",\"pattern\":{\"shape\":\"\"}},\"name\":\"\",\"offsetgroup\":\"\",\"orientation\":\"h\",\"showlegend\":false,\"textposition\":\"auto\",\"x\":[350.3533834586466,416.26797385620915,417.59016393442624,380.462962962963,383.3565891472868,362.1666666666667,392.5855263157895,388.375,413.02941176470586,373.55,333.2676056338028,426.59090909090907,522.9027777777778,528.5103448275862,479.20754716981133,568.6857142857143,541.4793388429752,501.8349514563107,451.2708333333333,447.9051724137931,606.7325581395348,501.5,495.5833333333333,369.36842105263156],\"xaxis\":\"x3\",\"y\":[\"AYACUCHO\",\"BOL\\u00cdVAR\",\"CARBO\",\"FEBRES CORDERO\",\"GARC\\u00cdA MORENO\",\"LETAMENDI\",\"NUEVE DE OCTUBRE\",\"OLMEDO\",\"ROCA\",\"ROCAFUERTE\",\"SUCRE\",\"TARQUI\",\"BELISARIO QUEVEDO\",\"CARCEL\\u00c9N\",\"CENTRO HIST\\u00d3RICO\",\"CHILIBULO\",\"CHILLOGALLO\",\"CHIMBACALLE\",\"COCHAPAMBA\",\"COMIT\\u00c9 DEL PUEBLO\",\"COTOCOLLAO\",\"EL CONDADO\",\"GUAMAN\\u00cd\",\"I\\u00d1AQUITO\"],\"yaxis\":\"y3\",\"type\":\"bar\",\"width\":0.8},{\"alignmentgroup\":\"True\",\"hovertemplate\":\"trimestre=Tercero<br>Ingresos promedio=%{marker.color}<br>Parroquia=%{y}<extra></extra>\",\"legendgroup\":\"\",\"marker\":{\"color\":[345.94736842105266,394.8089171974522,453.1111111111111,308.8191489361702,399.7522935779817,383.95604395604397,414.2857142857143,397.07909604519773,426.13492063492066,367.01960784313724,403.31666666666666,397.7647058823529,683.8321167883212,675.5,670.5909090909091,819.2307692307693,776.9615384615385,693.4583333333334,738.672131147541,614.3203125,851.6923076923077,727.1739130434783,407.36842105263156],\"coloraxis\":\"coloraxis\",\"pattern\":{\"shape\":\"\"}},\"name\":\"\",\"offsetgroup\":\"\",\"orientation\":\"h\",\"showlegend\":false,\"textposition\":\"auto\",\"x\":[345.94736842105266,394.8089171974522,453.1111111111111,308.8191489361702,399.7522935779817,383.95604395604397,414.2857142857143,397.07909604519773,426.13492063492066,367.01960784313724,403.31666666666666,397.7647058823529,683.8321167883212,675.5,670.5909090909091,819.2307692307693,776.9615384615385,693.4583333333334,738.672131147541,614.3203125,851.6923076923077,727.1739130434783,407.36842105263156],\"xaxis\":\"x4\",\"y\":[\"AYACUCHO\",\"BOL\\u00cdVAR\",\"CARBO\",\"FEBRES CORDERO\",\"GARC\\u00cdA MORENO\",\"LETAMENDI\",\"NUEVE DE OCTUBRE\",\"OLMEDO\",\"ROCA\",\"ROCAFUERTE\",\"SUCRE\",\"TARQUI\",\"BELISARIO QUEVEDO\",\"CARCEL\\u00c9N\",\"CENTRO HIST\\u00d3RICO\",\"CHILIBULO\",\"CHILLOGALLO\",\"CHIMBACALLE\",\"COCHAPAMBA\",\"COMIT\\u00c9 DEL PUEBLO\",\"COTOCOLLAO\",\"EL CONDADO\",\"I\\u00d1AQUITO\"],\"yaxis\":\"y4\",\"type\":\"bar\",\"width\":0.8}],                        {\"template\":{\"data\":{\"histogram2dcontour\":[{\"type\":\"histogram2dcontour\",\"colorbar\":{\"outlinewidth\":0,\"ticks\":\"\"},\"colorscale\":[[0.0,\"#0d0887\"],[0.1111111111111111,\"#46039f\"],[0.2222222222222222,\"#7201a8\"],[0.3333333333333333,\"#9c179e\"],[0.4444444444444444,\"#bd3786\"],[0.5555555555555556,\"#d8576b\"],[0.6666666666666666,\"#ed7953\"],[0.7777777777777778,\"#fb9f3a\"],[0.8888888888888888,\"#fdca26\"],[1.0,\"#f0f921\"]]}],\"choropleth\":[{\"type\":\"choropleth\",\"colorbar\":{\"outlinewidth\":0,\"ticks\":\"\"}}],\"histogram2d\":[{\"type\":\"histogram2d\",\"colorbar\":{\"outlinewidth\":0,\"ticks\":\"\"},\"colorscale\":[[0.0,\"#0d0887\"],[0.1111111111111111,\"#46039f\"],[0.2222222222222222,\"#7201a8\"],[0.3333333333333333,\"#9c179e\"],[0.4444444444444444,\"#bd3786\"],[0.5555555555555556,\"#d8576b\"],[0.6666666666666666,\"#ed7953\"],[0.7777777777777778,\"#fb9f3a\"],[0.8888888888888888,\"#fdca26\"],[1.0,\"#f0f921\"]]}],\"heatmap\":[{\"type\":\"heatmap\",\"colorbar\":{\"outlinewidth\":0,\"ticks\":\"\"},\"colorscale\":[[0.0,\"#0d0887\"],[0.1111111111111111,\"#46039f\"],[0.2222222222222222,\"#7201a8\"],[0.3333333333333333,\"#9c179e\"],[0.4444444444444444,\"#bd3786\"],[0.5555555555555556,\"#d8576b\"],[0.6666666666666666,\"#ed7953\"],[0.7777777777777778,\"#fb9f3a\"],[0.8888888888888888,\"#fdca26\"],[1.0,\"#f0f921\"]]}],\"heatmapgl\":[{\"type\":\"heatmapgl\",\"colorbar\":{\"outlinewidth\":0,\"ticks\":\"\"},\"colorscale\":[[0.0,\"#0d0887\"],[0.1111111111111111,\"#46039f\"],[0.2222222222222222,\"#7201a8\"],[0.3333333333333333,\"#9c179e\"],[0.4444444444444444,\"#bd3786\"],[0.5555555555555556,\"#d8576b\"],[0.6666666666666666,\"#ed7953\"],[0.7777777777777778,\"#fb9f3a\"],[0.8888888888888888,\"#fdca26\"],[1.0,\"#f0f921\"]]}],\"contourcarpet\":[{\"type\":\"contourcarpet\",\"colorbar\":{\"outlinewidth\":0,\"ticks\":\"\"}}],\"contour\":[{\"type\":\"contour\",\"colorbar\":{\"outlinewidth\":0,\"ticks\":\"\"},\"colorscale\":[[0.0,\"#0d0887\"],[0.1111111111111111,\"#46039f\"],[0.2222222222222222,\"#7201a8\"],[0.3333333333333333,\"#9c179e\"],[0.4444444444444444,\"#bd3786\"],[0.5555555555555556,\"#d8576b\"],[0.6666666666666666,\"#ed7953\"],[0.7777777777777778,\"#fb9f3a\"],[0.8888888888888888,\"#fdca26\"],[1.0,\"#f0f921\"]]}],\"surface\":[{\"type\":\"surface\",\"colorbar\":{\"outlinewidth\":0,\"ticks\":\"\"},\"colorscale\":[[0.0,\"#0d0887\"],[0.1111111111111111,\"#46039f\"],[0.2222222222222222,\"#7201a8\"],[0.3333333333333333,\"#9c179e\"],[0.4444444444444444,\"#bd3786\"],[0.5555555555555556,\"#d8576b\"],[0.6666666666666666,\"#ed7953\"],[0.7777777777777778,\"#fb9f3a\"],[0.8888888888888888,\"#fdca26\"],[1.0,\"#f0f921\"]]}],\"mesh3d\":[{\"type\":\"mesh3d\",\"colorbar\":{\"outlinewidth\":0,\"ticks\":\"\"}}],\"scatter\":[{\"fillpattern\":{\"fillmode\":\"overlay\",\"size\":10,\"solidity\":0.2},\"type\":\"scatter\"}],\"parcoords\":[{\"type\":\"parcoords\",\"line\":{\"colorbar\":{\"outlinewidth\":0,\"ticks\":\"\"}}}],\"scatterpolargl\":[{\"type\":\"scatterpolargl\",\"marker\":{\"colorbar\":{\"outlinewidth\":0,\"ticks\":\"\"}}}],\"bar\":[{\"error_x\":{\"color\":\"#2a3f5f\"},\"error_y\":{\"color\":\"#2a3f5f\"},\"marker\":{\"line\":{\"color\":\"#E5ECF6\",\"width\":0.5},\"pattern\":{\"fillmode\":\"overlay\",\"size\":10,\"solidity\":0.2}},\"type\":\"bar\"}],\"scattergeo\":[{\"type\":\"scattergeo\",\"marker\":{\"colorbar\":{\"outlinewidth\":0,\"ticks\":\"\"}}}],\"scatterpolar\":[{\"type\":\"scatterpolar\",\"marker\":{\"colorbar\":{\"outlinewidth\":0,\"ticks\":\"\"}}}],\"histogram\":[{\"marker\":{\"pattern\":{\"fillmode\":\"overlay\",\"size\":10,\"solidity\":0.2}},\"type\":\"histogram\"}],\"scattergl\":[{\"type\":\"scattergl\",\"marker\":{\"colorbar\":{\"outlinewidth\":0,\"ticks\":\"\"}}}],\"scatter3d\":[{\"type\":\"scatter3d\",\"line\":{\"colorbar\":{\"outlinewidth\":0,\"ticks\":\"\"}},\"marker\":{\"colorbar\":{\"outlinewidth\":0,\"ticks\":\"\"}}}],\"scattermapbox\":[{\"type\":\"scattermapbox\",\"marker\":{\"colorbar\":{\"outlinewidth\":0,\"ticks\":\"\"}}}],\"scatterternary\":[{\"type\":\"scatterternary\",\"marker\":{\"colorbar\":{\"outlinewidth\":0,\"ticks\":\"\"}}}],\"scattercarpet\":[{\"type\":\"scattercarpet\",\"marker\":{\"colorbar\":{\"outlinewidth\":0,\"ticks\":\"\"}}}],\"carpet\":[{\"aaxis\":{\"endlinecolor\":\"#2a3f5f\",\"gridcolor\":\"white\",\"linecolor\":\"white\",\"minorgridcolor\":\"white\",\"startlinecolor\":\"#2a3f5f\"},\"baxis\":{\"endlinecolor\":\"#2a3f5f\",\"gridcolor\":\"white\",\"linecolor\":\"white\",\"minorgridcolor\":\"white\",\"startlinecolor\":\"#2a3f5f\"},\"type\":\"carpet\"}],\"table\":[{\"cells\":{\"fill\":{\"color\":\"#EBF0F8\"},\"line\":{\"color\":\"white\"}},\"header\":{\"fill\":{\"color\":\"#C8D4E3\"},\"line\":{\"color\":\"white\"}},\"type\":\"table\"}],\"barpolar\":[{\"marker\":{\"line\":{\"color\":\"#E5ECF6\",\"width\":0.5},\"pattern\":{\"fillmode\":\"overlay\",\"size\":10,\"solidity\":0.2}},\"type\":\"barpolar\"}],\"pie\":[{\"automargin\":true,\"type\":\"pie\"}]},\"layout\":{\"autotypenumbers\":\"strict\",\"colorway\":[\"#636efa\",\"#EF553B\",\"#00cc96\",\"#ab63fa\",\"#FFA15A\",\"#19d3f3\",\"#FF6692\",\"#B6E880\",\"#FF97FF\",\"#FECB52\"],\"font\":{\"color\":\"#2a3f5f\"},\"hovermode\":\"closest\",\"hoverlabel\":{\"align\":\"left\"},\"paper_bgcolor\":\"white\",\"plot_bgcolor\":\"#E5ECF6\",\"polar\":{\"bgcolor\":\"#E5ECF6\",\"angularaxis\":{\"gridcolor\":\"white\",\"linecolor\":\"white\",\"ticks\":\"\"},\"radialaxis\":{\"gridcolor\":\"white\",\"linecolor\":\"white\",\"ticks\":\"\"}},\"ternary\":{\"bgcolor\":\"#E5ECF6\",\"aaxis\":{\"gridcolor\":\"white\",\"linecolor\":\"white\",\"ticks\":\"\"},\"baxis\":{\"gridcolor\":\"white\",\"linecolor\":\"white\",\"ticks\":\"\"},\"caxis\":{\"gridcolor\":\"white\",\"linecolor\":\"white\",\"ticks\":\"\"}},\"coloraxis\":{\"colorbar\":{\"outlinewidth\":0,\"ticks\":\"\"}},\"colorscale\":{\"sequential\":[[0.0,\"#0d0887\"],[0.1111111111111111,\"#46039f\"],[0.2222222222222222,\"#7201a8\"],[0.3333333333333333,\"#9c179e\"],[0.4444444444444444,\"#bd3786\"],[0.5555555555555556,\"#d8576b\"],[0.6666666666666666,\"#ed7953\"],[0.7777777777777778,\"#fb9f3a\"],[0.8888888888888888,\"#fdca26\"],[1.0,\"#f0f921\"]],\"sequentialminus\":[[0.0,\"#0d0887\"],[0.1111111111111111,\"#46039f\"],[0.2222222222222222,\"#7201a8\"],[0.3333333333333333,\"#9c179e\"],[0.4444444444444444,\"#bd3786\"],[0.5555555555555556,\"#d8576b\"],[0.6666666666666666,\"#ed7953\"],[0.7777777777777778,\"#fb9f3a\"],[0.8888888888888888,\"#fdca26\"],[1.0,\"#f0f921\"]],\"diverging\":[[0,\"#8e0152\"],[0.1,\"#c51b7d\"],[0.2,\"#de77ae\"],[0.3,\"#f1b6da\"],[0.4,\"#fde0ef\"],[0.5,\"#f7f7f7\"],[0.6,\"#e6f5d0\"],[0.7,\"#b8e186\"],[0.8,\"#7fbc41\"],[0.9,\"#4d9221\"],[1,\"#276419\"]]},\"xaxis\":{\"gridcolor\":\"white\",\"linecolor\":\"white\",\"ticks\":\"\",\"title\":{\"standoff\":15},\"zerolinecolor\":\"white\",\"automargin\":true,\"zerolinewidth\":2},\"yaxis\":{\"gridcolor\":\"white\",\"linecolor\":\"white\",\"ticks\":\"\",\"title\":{\"standoff\":15},\"zerolinecolor\":\"white\",\"automargin\":true,\"zerolinewidth\":2},\"scene\":{\"xaxis\":{\"backgroundcolor\":\"#E5ECF6\",\"gridcolor\":\"white\",\"linecolor\":\"white\",\"showbackground\":true,\"ticks\":\"\",\"zerolinecolor\":\"white\",\"gridwidth\":2},\"yaxis\":{\"backgroundcolor\":\"#E5ECF6\",\"gridcolor\":\"white\",\"linecolor\":\"white\",\"showbackground\":true,\"ticks\":\"\",\"zerolinecolor\":\"white\",\"gridwidth\":2},\"zaxis\":{\"backgroundcolor\":\"#E5ECF6\",\"gridcolor\":\"white\",\"linecolor\":\"white\",\"showbackground\":true,\"ticks\":\"\",\"zerolinecolor\":\"white\",\"gridwidth\":2}},\"shapedefaults\":{\"line\":{\"color\":\"#2a3f5f\"}},\"annotationdefaults\":{\"arrowcolor\":\"#2a3f5f\",\"arrowhead\":0,\"arrowwidth\":1},\"geo\":{\"bgcolor\":\"white\",\"landcolor\":\"#E5ECF6\",\"subunitcolor\":\"white\",\"showland\":true,\"showlakes\":true,\"lakecolor\":\"white\"},\"title\":{\"x\":0.05},\"mapbox\":{\"style\":\"light\"}}},\"xaxis\":{\"anchor\":\"y\",\"domain\":[0.0,0.235],\"title\":{\"text\":\"Ingresos promedio\"}},\"yaxis\":{\"anchor\":\"x\",\"domain\":[0.0,1.0],\"title\":{\"text\":\"Parroquia\"}},\"xaxis2\":{\"anchor\":\"y2\",\"domain\":[0.255,0.49],\"matches\":\"x\",\"title\":{\"text\":\"Ingresos promedio\"}},\"yaxis2\":{\"anchor\":\"x2\",\"domain\":[0.0,1.0],\"matches\":\"y\",\"showticklabels\":false},\"xaxis3\":{\"anchor\":\"y3\",\"domain\":[0.51,0.745],\"matches\":\"x\",\"title\":{\"text\":\"Ingresos promedio\"}},\"yaxis3\":{\"anchor\":\"x3\",\"domain\":[0.0,1.0],\"matches\":\"y\",\"showticklabels\":false},\"xaxis4\":{\"anchor\":\"y4\",\"domain\":[0.7649999999999999,0.9999999999999999],\"matches\":\"x\",\"title\":{\"text\":\"Ingresos promedio\"}},\"yaxis4\":{\"anchor\":\"x4\",\"domain\":[0.0,1.0],\"matches\":\"y\",\"showticklabels\":false},\"annotations\":[{\"font\":{},\"showarrow\":false,\"text\":\"trimestre=Cuarto\",\"x\":0.1175,\"xanchor\":\"center\",\"xref\":\"paper\",\"y\":1.0,\"yanchor\":\"bottom\",\"yref\":\"paper\"},{\"font\":{},\"showarrow\":false,\"text\":\"trimestre=Primero\",\"x\":0.3725,\"xanchor\":\"center\",\"xref\":\"paper\",\"y\":1.0,\"yanchor\":\"bottom\",\"yref\":\"paper\"},{\"font\":{},\"showarrow\":false,\"text\":\"trimestre=Segundo\",\"x\":0.6275,\"xanchor\":\"center\",\"xref\":\"paper\",\"y\":1.0,\"yanchor\":\"bottom\",\"yref\":\"paper\"},{\"font\":{},\"showarrow\":false,\"text\":\"trimestre=Tercero\",\"x\":0.8824999999999998,\"xanchor\":\"center\",\"xref\":\"paper\",\"y\":1.0,\"yanchor\":\"bottom\",\"yref\":\"paper\"}],\"coloraxis\":{\"colorbar\":{\"title\":{\"text\":\"Ingresos promedio\"}},\"colorscale\":[[0.0,\"#0d0887\"],[0.1111111111111111,\"#46039f\"],[0.2222222222222222,\"#7201a8\"],[0.3333333333333333,\"#9c179e\"],[0.4444444444444444,\"#bd3786\"],[0.5555555555555556,\"#d8576b\"],[0.6666666666666666,\"#ed7953\"],[0.7777777777777778,\"#fb9f3a\"],[0.8888888888888888,\"#fdca26\"],[1.0,\"#f0f921\"]]},\"legend\":{\"tracegroupgap\":0},\"title\":{\"text\":\"Barplot de las parroquias de Guayaquil y Quito por trimestres del a\\u00f1o 2017 \"},\"barmode\":\"group\",\"height\":600},                        {\"responsive\": true}                    ).then(function(){\n",
       "                            \n",
       "var gd = document.getElementById('c8c9f613-1f09-47cf-bebb-751d5dc84765');\n",
       "var x = new MutationObserver(function (mutations, observer) {{\n",
       "        var display = window.getComputedStyle(gd).display;\n",
       "        if (!display || display === 'none') {{\n",
       "            console.log([gd, 'removed!']);\n",
       "            Plotly.purge(gd);\n",
       "            observer.disconnect();\n",
       "        }}\n",
       "}});\n",
       "\n",
       "// Listen for the removal of the full notebook cells\n",
       "var notebookContainer = gd.closest('#notebook-container');\n",
       "if (notebookContainer) {{\n",
       "    x.observe(notebookContainer, {childList: true});\n",
       "}}\n",
       "\n",
       "// Listen for the clearing of the current output cell\n",
       "var outputEl = gd.closest('.output');\n",
       "if (outputEl) {{\n",
       "    x.observe(outputEl, {childList: true});\n",
       "}}\n",
       "\n",
       "                        })                };                });            </script>        </div>"
      ]
     },
     "metadata": {},
     "output_type": "display_data"
    }
   ],
   "source": [
    "fig = px.bar(gyeUIOgroup, x='p66', y='parroquia',facet_col='trimestre',title='Barplot de las parroquias de Guayaquil y Quito por trimestres del año 2017 ',\n",
    "                   labels={'p66':'Ingresos promedio','parroquia':'Parroquia'},orientation='h',color=\"p66\", height=600,barmode='group')\n",
    "\n",
    "fig.update_traces(width=0.8) \n",
    "\n",
    "fig.show()"
   ]
  },
  {
   "cell_type": "code",
   "execution_count": 59,
   "id": "0e53bbe4-bdf8-475e-9d96-aedd7443d4a2",
   "metadata": {
    "tags": []
   },
   "outputs": [
    {
     "data": {
      "application/vnd.plotly.v1+json": {
       "config": {
        "plotlyServerURL": "https://plot.ly"
       },
       "data": [
        {
         "coloraxis": "coloraxis",
         "histfunc": "sum",
         "hovertemplate": "trimestre=%{x}<br>parroquia=%{y}<br>sum of p66=%{z}<extra></extra>",
         "name": "",
         "texttemplate": "%{z}",
         "type": "histogram2d",
         "x": [
          "Cuarto",
          "Cuarto",
          "Cuarto",
          "Cuarto",
          "Cuarto",
          "Cuarto",
          "Cuarto",
          "Cuarto",
          "Cuarto",
          "Cuarto",
          "Cuarto",
          "Cuarto",
          "Primero",
          "Primero",
          "Primero",
          "Primero",
          "Primero",
          "Primero",
          "Primero",
          "Primero",
          "Primero",
          "Primero",
          "Primero",
          "Primero",
          "Segundo",
          "Segundo",
          "Segundo",
          "Segundo",
          "Segundo",
          "Segundo",
          "Segundo",
          "Segundo",
          "Segundo",
          "Segundo",
          "Segundo",
          "Segundo",
          "Tercero",
          "Tercero",
          "Tercero",
          "Tercero",
          "Tercero",
          "Tercero",
          "Tercero",
          "Tercero",
          "Tercero",
          "Tercero",
          "Tercero",
          "Tercero",
          "Cuarto",
          "Cuarto",
          "Cuarto",
          "Cuarto",
          "Cuarto",
          "Cuarto",
          "Cuarto",
          "Cuarto",
          "Cuarto",
          "Cuarto",
          "Cuarto",
          "Cuarto",
          "Primero",
          "Primero",
          "Primero",
          "Primero",
          "Primero",
          "Primero",
          "Primero",
          "Primero",
          "Primero",
          "Primero",
          "Primero",
          "Primero",
          "Segundo",
          "Segundo",
          "Segundo",
          "Segundo",
          "Segundo",
          "Segundo",
          "Segundo",
          "Segundo",
          "Segundo",
          "Segundo",
          "Segundo",
          "Segundo",
          "Tercero",
          "Tercero",
          "Tercero",
          "Tercero",
          "Tercero",
          "Tercero",
          "Tercero",
          "Tercero",
          "Tercero",
          "Tercero",
          "Tercero"
         ],
         "xaxis": "x",
         "xbingroup": "x",
         "y": [
          "AYACUCHO",
          "BOLÍVAR",
          "CARBO",
          "FEBRES CORDERO",
          "GARCÍA MORENO",
          "LETAMENDI",
          "NUEVE DE OCTUBRE",
          "OLMEDO",
          "ROCA",
          "ROCAFUERTE",
          "SUCRE",
          "TARQUI",
          "AYACUCHO",
          "BOLÍVAR",
          "CARBO",
          "FEBRES CORDERO",
          "GARCÍA MORENO",
          "LETAMENDI",
          "NUEVE DE OCTUBRE",
          "OLMEDO",
          "ROCA",
          "ROCAFUERTE",
          "SUCRE",
          "TARQUI",
          "AYACUCHO",
          "BOLÍVAR",
          "CARBO",
          "FEBRES CORDERO",
          "GARCÍA MORENO",
          "LETAMENDI",
          "NUEVE DE OCTUBRE",
          "OLMEDO",
          "ROCA",
          "ROCAFUERTE",
          "SUCRE",
          "TARQUI",
          "AYACUCHO",
          "BOLÍVAR",
          "CARBO",
          "FEBRES CORDERO",
          "GARCÍA MORENO",
          "LETAMENDI",
          "NUEVE DE OCTUBRE",
          "OLMEDO",
          "ROCA",
          "ROCAFUERTE",
          "SUCRE",
          "TARQUI",
          "BELISARIO QUEVEDO",
          "CARCELÉN",
          "CENTRO HISTÓRICO",
          "CHILIBULO",
          "CHILLOGALLO",
          "CHIMBACALLE",
          "COCHAPAMBA",
          "COMITÉ DEL PUEBLO",
          "COTOCOLLAO",
          "EL CONDADO",
          "IÑAQUITO",
          "TURUBAMBA",
          "BELISARIO QUEVEDO",
          "CARCELÉN",
          "CENTRO HISTÓRICO",
          "CHILIBULO",
          "CHILLOGALLO",
          "CHIMBACALLE",
          "COCHAPAMBA",
          "COMITÉ DEL PUEBLO",
          "COTOCOLLAO",
          "EL CONDADO",
          "GUAMANÍ",
          "IÑAQUITO",
          "BELISARIO QUEVEDO",
          "CARCELÉN",
          "CENTRO HISTÓRICO",
          "CHILIBULO",
          "CHILLOGALLO",
          "CHIMBACALLE",
          "COCHAPAMBA",
          "COMITÉ DEL PUEBLO",
          "COTOCOLLAO",
          "EL CONDADO",
          "GUAMANÍ",
          "IÑAQUITO",
          "BELISARIO QUEVEDO",
          "CARCELÉN",
          "CENTRO HISTÓRICO",
          "CHILIBULO",
          "CHILLOGALLO",
          "CHIMBACALLE",
          "COCHAPAMBA",
          "COMITÉ DEL PUEBLO",
          "COTOCOLLAO",
          "EL CONDADO",
          "IÑAQUITO"
         ],
         "yaxis": "y",
         "ybingroup": "y",
         "z": [
          371.25757575757575,
          407.7162162162162,
          411.09565217391304,
          352.1521739130435,
          384.73643410852713,
          386.0240963855422,
          427.6470588235294,
          411.24043715846994,
          420.8780487804878,
          416.50877192982455,
          364.27142857142854,
          330.88235294117646,
          391.2992125984252,
          375.1111111111111,
          426.8269230769231,
          392.8936170212766,
          373.0406504065041,
          397.84615384615387,
          395.9054054054054,
          409.9942528735632,
          448.1578947368421,
          402.85714285714283,
          359.88235294117646,
          430.7,
          350.3533834586466,
          416.26797385620915,
          417.59016393442624,
          380.462962962963,
          383.3565891472868,
          362.1666666666667,
          392.5855263157895,
          388.375,
          413.02941176470586,
          373.55,
          333.2676056338028,
          426.59090909090907,
          345.94736842105266,
          394.8089171974522,
          453.1111111111111,
          308.8191489361702,
          399.7522935779817,
          383.95604395604397,
          414.2857142857143,
          397.07909604519773,
          426.13492063492066,
          367.01960784313724,
          403.31666666666666,
          397.7647058823529,
          505.1136363636364,
          504.93333333333334,
          472.7685950413223,
          646.425,
          593.934131736527,
          536.209090909091,
          484.5245901639344,
          457.1694915254237,
          648.25,
          428.2142857142857,
          442.14285714285717,
          337.72727272727275,
          488.25,
          559.2317880794702,
          470.11678832116786,
          516.9052631578948,
          544.9333333333333,
          504.672268907563,
          492.61290322580646,
          449.288,
          512.6530612244898,
          448.0869565217391,
          434,
          386.7857142857143,
          522.9027777777778,
          528.5103448275862,
          479.20754716981133,
          568.6857142857143,
          541.4793388429752,
          501.8349514563107,
          451.2708333333333,
          447.9051724137931,
          606.7325581395348,
          501.5,
          495.5833333333333,
          369.36842105263156,
          683.8321167883212,
          675.5,
          670.5909090909091,
          819.2307692307693,
          776.9615384615385,
          693.4583333333334,
          738.672131147541,
          614.3203125,
          851.6923076923077,
          727.1739130434783,
          407.36842105263156
         ]
        }
       ],
       "layout": {
        "autosize": true,
        "coloraxis": {
         "colorbar": {
          "title": {
           "text": "Ingresos promedio"
          }
         },
         "colorscale": [
          [
           0,
           "#0d0887"
          ],
          [
           0.1111111111111111,
           "#46039f"
          ],
          [
           0.2222222222222222,
           "#7201a8"
          ],
          [
           0.3333333333333333,
           "#9c179e"
          ],
          [
           0.4444444444444444,
           "#bd3786"
          ],
          [
           0.5555555555555556,
           "#d8576b"
          ],
          [
           0.6666666666666666,
           "#ed7953"
          ],
          [
           0.7777777777777778,
           "#fb9f3a"
          ],
          [
           0.8888888888888888,
           "#fdca26"
          ],
          [
           1,
           "#f0f921"
          ]
         ]
        },
        "legend": {
         "tracegroupgap": 0
        },
        "template": {
         "data": {
          "bar": [
           {
            "error_x": {
             "color": "#2a3f5f"
            },
            "error_y": {
             "color": "#2a3f5f"
            },
            "marker": {
             "line": {
              "color": "#E5ECF6",
              "width": 0.5
             },
             "pattern": {
              "fillmode": "overlay",
              "size": 10,
              "solidity": 0.2
             }
            },
            "type": "bar"
           }
          ],
          "barpolar": [
           {
            "marker": {
             "line": {
              "color": "#E5ECF6",
              "width": 0.5
             },
             "pattern": {
              "fillmode": "overlay",
              "size": 10,
              "solidity": 0.2
             }
            },
            "type": "barpolar"
           }
          ],
          "carpet": [
           {
            "aaxis": {
             "endlinecolor": "#2a3f5f",
             "gridcolor": "white",
             "linecolor": "white",
             "minorgridcolor": "white",
             "startlinecolor": "#2a3f5f"
            },
            "baxis": {
             "endlinecolor": "#2a3f5f",
             "gridcolor": "white",
             "linecolor": "white",
             "minorgridcolor": "white",
             "startlinecolor": "#2a3f5f"
            },
            "type": "carpet"
           }
          ],
          "choropleth": [
           {
            "colorbar": {
             "outlinewidth": 0,
             "ticks": ""
            },
            "type": "choropleth"
           }
          ],
          "contour": [
           {
            "colorbar": {
             "outlinewidth": 0,
             "ticks": ""
            },
            "colorscale": [
             [
              0,
              "#0d0887"
             ],
             [
              0.1111111111111111,
              "#46039f"
             ],
             [
              0.2222222222222222,
              "#7201a8"
             ],
             [
              0.3333333333333333,
              "#9c179e"
             ],
             [
              0.4444444444444444,
              "#bd3786"
             ],
             [
              0.5555555555555556,
              "#d8576b"
             ],
             [
              0.6666666666666666,
              "#ed7953"
             ],
             [
              0.7777777777777778,
              "#fb9f3a"
             ],
             [
              0.8888888888888888,
              "#fdca26"
             ],
             [
              1,
              "#f0f921"
             ]
            ],
            "type": "contour"
           }
          ],
          "contourcarpet": [
           {
            "colorbar": {
             "outlinewidth": 0,
             "ticks": ""
            },
            "type": "contourcarpet"
           }
          ],
          "heatmap": [
           {
            "colorbar": {
             "outlinewidth": 0,
             "ticks": ""
            },
            "colorscale": [
             [
              0,
              "#0d0887"
             ],
             [
              0.1111111111111111,
              "#46039f"
             ],
             [
              0.2222222222222222,
              "#7201a8"
             ],
             [
              0.3333333333333333,
              "#9c179e"
             ],
             [
              0.4444444444444444,
              "#bd3786"
             ],
             [
              0.5555555555555556,
              "#d8576b"
             ],
             [
              0.6666666666666666,
              "#ed7953"
             ],
             [
              0.7777777777777778,
              "#fb9f3a"
             ],
             [
              0.8888888888888888,
              "#fdca26"
             ],
             [
              1,
              "#f0f921"
             ]
            ],
            "type": "heatmap"
           }
          ],
          "heatmapgl": [
           {
            "colorbar": {
             "outlinewidth": 0,
             "ticks": ""
            },
            "colorscale": [
             [
              0,
              "#0d0887"
             ],
             [
              0.1111111111111111,
              "#46039f"
             ],
             [
              0.2222222222222222,
              "#7201a8"
             ],
             [
              0.3333333333333333,
              "#9c179e"
             ],
             [
              0.4444444444444444,
              "#bd3786"
             ],
             [
              0.5555555555555556,
              "#d8576b"
             ],
             [
              0.6666666666666666,
              "#ed7953"
             ],
             [
              0.7777777777777778,
              "#fb9f3a"
             ],
             [
              0.8888888888888888,
              "#fdca26"
             ],
             [
              1,
              "#f0f921"
             ]
            ],
            "type": "heatmapgl"
           }
          ],
          "histogram": [
           {
            "marker": {
             "pattern": {
              "fillmode": "overlay",
              "size": 10,
              "solidity": 0.2
             }
            },
            "type": "histogram"
           }
          ],
          "histogram2d": [
           {
            "colorbar": {
             "outlinewidth": 0,
             "ticks": ""
            },
            "colorscale": [
             [
              0,
              "#0d0887"
             ],
             [
              0.1111111111111111,
              "#46039f"
             ],
             [
              0.2222222222222222,
              "#7201a8"
             ],
             [
              0.3333333333333333,
              "#9c179e"
             ],
             [
              0.4444444444444444,
              "#bd3786"
             ],
             [
              0.5555555555555556,
              "#d8576b"
             ],
             [
              0.6666666666666666,
              "#ed7953"
             ],
             [
              0.7777777777777778,
              "#fb9f3a"
             ],
             [
              0.8888888888888888,
              "#fdca26"
             ],
             [
              1,
              "#f0f921"
             ]
            ],
            "type": "histogram2d"
           }
          ],
          "histogram2dcontour": [
           {
            "colorbar": {
             "outlinewidth": 0,
             "ticks": ""
            },
            "colorscale": [
             [
              0,
              "#0d0887"
             ],
             [
              0.1111111111111111,
              "#46039f"
             ],
             [
              0.2222222222222222,
              "#7201a8"
             ],
             [
              0.3333333333333333,
              "#9c179e"
             ],
             [
              0.4444444444444444,
              "#bd3786"
             ],
             [
              0.5555555555555556,
              "#d8576b"
             ],
             [
              0.6666666666666666,
              "#ed7953"
             ],
             [
              0.7777777777777778,
              "#fb9f3a"
             ],
             [
              0.8888888888888888,
              "#fdca26"
             ],
             [
              1,
              "#f0f921"
             ]
            ],
            "type": "histogram2dcontour"
           }
          ],
          "mesh3d": [
           {
            "colorbar": {
             "outlinewidth": 0,
             "ticks": ""
            },
            "type": "mesh3d"
           }
          ],
          "parcoords": [
           {
            "line": {
             "colorbar": {
              "outlinewidth": 0,
              "ticks": ""
             }
            },
            "type": "parcoords"
           }
          ],
          "pie": [
           {
            "automargin": true,
            "type": "pie"
           }
          ],
          "scatter": [
           {
            "fillpattern": {
             "fillmode": "overlay",
             "size": 10,
             "solidity": 0.2
            },
            "type": "scatter"
           }
          ],
          "scatter3d": [
           {
            "line": {
             "colorbar": {
              "outlinewidth": 0,
              "ticks": ""
             }
            },
            "marker": {
             "colorbar": {
              "outlinewidth": 0,
              "ticks": ""
             }
            },
            "type": "scatter3d"
           }
          ],
          "scattercarpet": [
           {
            "marker": {
             "colorbar": {
              "outlinewidth": 0,
              "ticks": ""
             }
            },
            "type": "scattercarpet"
           }
          ],
          "scattergeo": [
           {
            "marker": {
             "colorbar": {
              "outlinewidth": 0,
              "ticks": ""
             }
            },
            "type": "scattergeo"
           }
          ],
          "scattergl": [
           {
            "marker": {
             "colorbar": {
              "outlinewidth": 0,
              "ticks": ""
             }
            },
            "type": "scattergl"
           }
          ],
          "scattermapbox": [
           {
            "marker": {
             "colorbar": {
              "outlinewidth": 0,
              "ticks": ""
             }
            },
            "type": "scattermapbox"
           }
          ],
          "scatterpolar": [
           {
            "marker": {
             "colorbar": {
              "outlinewidth": 0,
              "ticks": ""
             }
            },
            "type": "scatterpolar"
           }
          ],
          "scatterpolargl": [
           {
            "marker": {
             "colorbar": {
              "outlinewidth": 0,
              "ticks": ""
             }
            },
            "type": "scatterpolargl"
           }
          ],
          "scatterternary": [
           {
            "marker": {
             "colorbar": {
              "outlinewidth": 0,
              "ticks": ""
             }
            },
            "type": "scatterternary"
           }
          ],
          "surface": [
           {
            "colorbar": {
             "outlinewidth": 0,
             "ticks": ""
            },
            "colorscale": [
             [
              0,
              "#0d0887"
             ],
             [
              0.1111111111111111,
              "#46039f"
             ],
             [
              0.2222222222222222,
              "#7201a8"
             ],
             [
              0.3333333333333333,
              "#9c179e"
             ],
             [
              0.4444444444444444,
              "#bd3786"
             ],
             [
              0.5555555555555556,
              "#d8576b"
             ],
             [
              0.6666666666666666,
              "#ed7953"
             ],
             [
              0.7777777777777778,
              "#fb9f3a"
             ],
             [
              0.8888888888888888,
              "#fdca26"
             ],
             [
              1,
              "#f0f921"
             ]
            ],
            "type": "surface"
           }
          ],
          "table": [
           {
            "cells": {
             "fill": {
              "color": "#EBF0F8"
             },
             "line": {
              "color": "white"
             }
            },
            "header": {
             "fill": {
              "color": "#C8D4E3"
             },
             "line": {
              "color": "white"
             }
            },
            "type": "table"
           }
          ]
         },
         "layout": {
          "annotationdefaults": {
           "arrowcolor": "#2a3f5f",
           "arrowhead": 0,
           "arrowwidth": 1
          },
          "autotypenumbers": "strict",
          "coloraxis": {
           "colorbar": {
            "outlinewidth": 0,
            "ticks": ""
           }
          },
          "colorscale": {
           "diverging": [
            [
             0,
             "#8e0152"
            ],
            [
             0.1,
             "#c51b7d"
            ],
            [
             0.2,
             "#de77ae"
            ],
            [
             0.3,
             "#f1b6da"
            ],
            [
             0.4,
             "#fde0ef"
            ],
            [
             0.5,
             "#f7f7f7"
            ],
            [
             0.6,
             "#e6f5d0"
            ],
            [
             0.7,
             "#b8e186"
            ],
            [
             0.8,
             "#7fbc41"
            ],
            [
             0.9,
             "#4d9221"
            ],
            [
             1,
             "#276419"
            ]
           ],
           "sequential": [
            [
             0,
             "#0d0887"
            ],
            [
             0.1111111111111111,
             "#46039f"
            ],
            [
             0.2222222222222222,
             "#7201a8"
            ],
            [
             0.3333333333333333,
             "#9c179e"
            ],
            [
             0.4444444444444444,
             "#bd3786"
            ],
            [
             0.5555555555555556,
             "#d8576b"
            ],
            [
             0.6666666666666666,
             "#ed7953"
            ],
            [
             0.7777777777777778,
             "#fb9f3a"
            ],
            [
             0.8888888888888888,
             "#fdca26"
            ],
            [
             1,
             "#f0f921"
            ]
           ],
           "sequentialminus": [
            [
             0,
             "#0d0887"
            ],
            [
             0.1111111111111111,
             "#46039f"
            ],
            [
             0.2222222222222222,
             "#7201a8"
            ],
            [
             0.3333333333333333,
             "#9c179e"
            ],
            [
             0.4444444444444444,
             "#bd3786"
            ],
            [
             0.5555555555555556,
             "#d8576b"
            ],
            [
             0.6666666666666666,
             "#ed7953"
            ],
            [
             0.7777777777777778,
             "#fb9f3a"
            ],
            [
             0.8888888888888888,
             "#fdca26"
            ],
            [
             1,
             "#f0f921"
            ]
           ]
          },
          "colorway": [
           "#636efa",
           "#EF553B",
           "#00cc96",
           "#ab63fa",
           "#FFA15A",
           "#19d3f3",
           "#FF6692",
           "#B6E880",
           "#FF97FF",
           "#FECB52"
          ],
          "font": {
           "color": "#2a3f5f"
          },
          "geo": {
           "bgcolor": "white",
           "lakecolor": "white",
           "landcolor": "#E5ECF6",
           "showlakes": true,
           "showland": true,
           "subunitcolor": "white"
          },
          "hoverlabel": {
           "align": "left"
          },
          "hovermode": "closest",
          "mapbox": {
           "style": "light"
          },
          "paper_bgcolor": "white",
          "plot_bgcolor": "#E5ECF6",
          "polar": {
           "angularaxis": {
            "gridcolor": "white",
            "linecolor": "white",
            "ticks": ""
           },
           "bgcolor": "#E5ECF6",
           "radialaxis": {
            "gridcolor": "white",
            "linecolor": "white",
            "ticks": ""
           }
          },
          "scene": {
           "xaxis": {
            "backgroundcolor": "#E5ECF6",
            "gridcolor": "white",
            "gridwidth": 2,
            "linecolor": "white",
            "showbackground": true,
            "ticks": "",
            "zerolinecolor": "white"
           },
           "yaxis": {
            "backgroundcolor": "#E5ECF6",
            "gridcolor": "white",
            "gridwidth": 2,
            "linecolor": "white",
            "showbackground": true,
            "ticks": "",
            "zerolinecolor": "white"
           },
           "zaxis": {
            "backgroundcolor": "#E5ECF6",
            "gridcolor": "white",
            "gridwidth": 2,
            "linecolor": "white",
            "showbackground": true,
            "ticks": "",
            "zerolinecolor": "white"
           }
          },
          "shapedefaults": {
           "line": {
            "color": "#2a3f5f"
           }
          },
          "ternary": {
           "aaxis": {
            "gridcolor": "white",
            "linecolor": "white",
            "ticks": ""
           },
           "baxis": {
            "gridcolor": "white",
            "linecolor": "white",
            "ticks": ""
           },
           "bgcolor": "#E5ECF6",
           "caxis": {
            "gridcolor": "white",
            "linecolor": "white",
            "ticks": ""
           }
          },
          "title": {
           "x": 0.05
          },
          "xaxis": {
           "automargin": true,
           "gridcolor": "white",
           "linecolor": "white",
           "ticks": "",
           "title": {
            "standoff": 15
           },
           "zerolinecolor": "white",
           "zerolinewidth": 2
          },
          "yaxis": {
           "automargin": true,
           "gridcolor": "white",
           "linecolor": "white",
           "ticks": "",
           "title": {
            "standoff": 15
           },
           "zerolinecolor": "white",
           "zerolinewidth": 2
          }
         }
        },
        "title": {
         "text": "Heatmap de las parroquias de Guayaquil y Quito por trimestres del año 2017 "
        },
        "xaxis": {
         "anchor": "y",
         "autorange": true,
         "domain": [
          0,
          1
         ],
         "range": [
          -0.5,
          3.5
         ],
         "title": {
          "text": "Trimestre"
         },
         "type": "category"
        },
        "yaxis": {
         "anchor": "x",
         "autorange": true,
         "domain": [
          0,
          1
         ],
         "range": [
          -0.5,
          24.5
         ],
         "title": {
          "text": "Parroquia"
         },
         "type": "category"
        }
       }
      },
      "image/png": "[encoded data removed]",
      "text/html": [
       "<div>                            <div id=\"1fc0c06a-2883-46a2-924d-ffed8d6a9252\" class=\"plotly-graph-div\" style=\"height:600px; width:100%;\"></div>            <script type=\"text/javascript\">                require([\"plotly\"], function(Plotly) {                    window.PLOTLYENV=window.PLOTLYENV || {};                                    if (document.getElementById(\"1fc0c06a-2883-46a2-924d-ffed8d6a9252\")) {                    Plotly.newPlot(                        \"1fc0c06a-2883-46a2-924d-ffed8d6a9252\",                        [{\"coloraxis\":\"coloraxis\",\"histfunc\":\"sum\",\"hovertemplate\":\"trimestre=%{x}<br>parroquia=%{y}<br>sum of p66=%{z}<extra></extra>\",\"name\":\"\",\"texttemplate\":\"%{z}\",\"x\":[\"Cuarto\",\"Cuarto\",\"Cuarto\",\"Cuarto\",\"Cuarto\",\"Cuarto\",\"Cuarto\",\"Cuarto\",\"Cuarto\",\"Cuarto\",\"Cuarto\",\"Cuarto\",\"Primero\",\"Primero\",\"Primero\",\"Primero\",\"Primero\",\"Primero\",\"Primero\",\"Primero\",\"Primero\",\"Primero\",\"Primero\",\"Primero\",\"Segundo\",\"Segundo\",\"Segundo\",\"Segundo\",\"Segundo\",\"Segundo\",\"Segundo\",\"Segundo\",\"Segundo\",\"Segundo\",\"Segundo\",\"Segundo\",\"Tercero\",\"Tercero\",\"Tercero\",\"Tercero\",\"Tercero\",\"Tercero\",\"Tercero\",\"Tercero\",\"Tercero\",\"Tercero\",\"Tercero\",\"Tercero\",\"Cuarto\",\"Cuarto\",\"Cuarto\",\"Cuarto\",\"Cuarto\",\"Cuarto\",\"Cuarto\",\"Cuarto\",\"Cuarto\",\"Cuarto\",\"Cuarto\",\"Cuarto\",\"Primero\",\"Primero\",\"Primero\",\"Primero\",\"Primero\",\"Primero\",\"Primero\",\"Primero\",\"Primero\",\"Primero\",\"Primero\",\"Primero\",\"Segundo\",\"Segundo\",\"Segundo\",\"Segundo\",\"Segundo\",\"Segundo\",\"Segundo\",\"Segundo\",\"Segundo\",\"Segundo\",\"Segundo\",\"Segundo\",\"Tercero\",\"Tercero\",\"Tercero\",\"Tercero\",\"Tercero\",\"Tercero\",\"Tercero\",\"Tercero\",\"Tercero\",\"Tercero\",\"Tercero\"],\"xaxis\":\"x\",\"xbingroup\":\"x\",\"y\":[\"AYACUCHO\",\"BOL\\u00cdVAR\",\"CARBO\",\"FEBRES CORDERO\",\"GARC\\u00cdA MORENO\",\"LETAMENDI\",\"NUEVE DE OCTUBRE\",\"OLMEDO\",\"ROCA\",\"ROCAFUERTE\",\"SUCRE\",\"TARQUI\",\"AYACUCHO\",\"BOL\\u00cdVAR\",\"CARBO\",\"FEBRES CORDERO\",\"GARC\\u00cdA MORENO\",\"LETAMENDI\",\"NUEVE DE OCTUBRE\",\"OLMEDO\",\"ROCA\",\"ROCAFUERTE\",\"SUCRE\",\"TARQUI\",\"AYACUCHO\",\"BOL\\u00cdVAR\",\"CARBO\",\"FEBRES CORDERO\",\"GARC\\u00cdA MORENO\",\"LETAMENDI\",\"NUEVE DE OCTUBRE\",\"OLMEDO\",\"ROCA\",\"ROCAFUERTE\",\"SUCRE\",\"TARQUI\",\"AYACUCHO\",\"BOL\\u00cdVAR\",\"CARBO\",\"FEBRES CORDERO\",\"GARC\\u00cdA MORENO\",\"LETAMENDI\",\"NUEVE DE OCTUBRE\",\"OLMEDO\",\"ROCA\",\"ROCAFUERTE\",\"SUCRE\",\"TARQUI\",\"BELISARIO QUEVEDO\",\"CARCEL\\u00c9N\",\"CENTRO HIST\\u00d3RICO\",\"CHILIBULO\",\"CHILLOGALLO\",\"CHIMBACALLE\",\"COCHAPAMBA\",\"COMIT\\u00c9 DEL PUEBLO\",\"COTOCOLLAO\",\"EL CONDADO\",\"I\\u00d1AQUITO\",\"TURUBAMBA\",\"BELISARIO QUEVEDO\",\"CARCEL\\u00c9N\",\"CENTRO HIST\\u00d3RICO\",\"CHILIBULO\",\"CHILLOGALLO\",\"CHIMBACALLE\",\"COCHAPAMBA\",\"COMIT\\u00c9 DEL PUEBLO\",\"COTOCOLLAO\",\"EL CONDADO\",\"GUAMAN\\u00cd\",\"I\\u00d1AQUITO\",\"BELISARIO QUEVEDO\",\"CARCEL\\u00c9N\",\"CENTRO HIST\\u00d3RICO\",\"CHILIBULO\",\"CHILLOGALLO\",\"CHIMBACALLE\",\"COCHAPAMBA\",\"COMIT\\u00c9 DEL PUEBLO\",\"COTOCOLLAO\",\"EL CONDADO\",\"GUAMAN\\u00cd\",\"I\\u00d1AQUITO\",\"BELISARIO QUEVEDO\",\"CARCEL\\u00c9N\",\"CENTRO HIST\\u00d3RICO\",\"CHILIBULO\",\"CHILLOGALLO\",\"CHIMBACALLE\",\"COCHAPAMBA\",\"COMIT\\u00c9 DEL PUEBLO\",\"COTOCOLLAO\",\"EL CONDADO\",\"I\\u00d1AQUITO\"],\"yaxis\":\"y\",\"ybingroup\":\"y\",\"z\":[371.25757575757575,407.7162162162162,411.09565217391304,352.1521739130435,384.73643410852713,386.0240963855422,427.6470588235294,411.24043715846994,420.8780487804878,416.50877192982455,364.27142857142854,330.88235294117646,391.2992125984252,375.1111111111111,426.8269230769231,392.8936170212766,373.0406504065041,397.84615384615387,395.9054054054054,409.9942528735632,448.1578947368421,402.85714285714283,359.88235294117646,430.7,350.3533834586466,416.26797385620915,417.59016393442624,380.462962962963,383.3565891472868,362.1666666666667,392.5855263157895,388.375,413.02941176470586,373.55,333.2676056338028,426.59090909090907,345.94736842105266,394.8089171974522,453.1111111111111,308.8191489361702,399.7522935779817,383.95604395604397,414.2857142857143,397.07909604519773,426.13492063492066,367.01960784313724,403.31666666666666,397.7647058823529,505.1136363636364,504.93333333333334,472.7685950413223,646.425,593.934131736527,536.209090909091,484.5245901639344,457.1694915254237,648.25,428.2142857142857,442.14285714285717,337.72727272727275,488.25,559.2317880794702,470.11678832116786,516.9052631578948,544.9333333333333,504.672268907563,492.61290322580646,449.288,512.6530612244898,448.0869565217391,434.0,386.7857142857143,522.9027777777778,528.5103448275862,479.20754716981133,568.6857142857143,541.4793388429752,501.8349514563107,451.2708333333333,447.9051724137931,606.7325581395348,501.5,495.5833333333333,369.36842105263156,683.8321167883212,675.5,670.5909090909091,819.2307692307693,776.9615384615385,693.4583333333334,738.672131147541,614.3203125,851.6923076923077,727.1739130434783,407.36842105263156],\"type\":\"histogram2d\"}],                        {\"template\":{\"data\":{\"histogram2dcontour\":[{\"type\":\"histogram2dcontour\",\"colorbar\":{\"outlinewidth\":0,\"ticks\":\"\"},\"colorscale\":[[0.0,\"#0d0887\"],[0.1111111111111111,\"#46039f\"],[0.2222222222222222,\"#7201a8\"],[0.3333333333333333,\"#9c179e\"],[0.4444444444444444,\"#bd3786\"],[0.5555555555555556,\"#d8576b\"],[0.6666666666666666,\"#ed7953\"],[0.7777777777777778,\"#fb9f3a\"],[0.8888888888888888,\"#fdca26\"],[1.0,\"#f0f921\"]]}],\"choropleth\":[{\"type\":\"choropleth\",\"colorbar\":{\"outlinewidth\":0,\"ticks\":\"\"}}],\"histogram2d\":[{\"type\":\"histogram2d\",\"colorbar\":{\"outlinewidth\":0,\"ticks\":\"\"},\"colorscale\":[[0.0,\"#0d0887\"],[0.1111111111111111,\"#46039f\"],[0.2222222222222222,\"#7201a8\"],[0.3333333333333333,\"#9c179e\"],[0.4444444444444444,\"#bd3786\"],[0.5555555555555556,\"#d8576b\"],[0.6666666666666666,\"#ed7953\"],[0.7777777777777778,\"#fb9f3a\"],[0.8888888888888888,\"#fdca26\"],[1.0,\"#f0f921\"]]}],\"heatmap\":[{\"type\":\"heatmap\",\"colorbar\":{\"outlinewidth\":0,\"ticks\":\"\"},\"colorscale\":[[0.0,\"#0d0887\"],[0.1111111111111111,\"#46039f\"],[0.2222222222222222,\"#7201a8\"],[0.3333333333333333,\"#9c179e\"],[0.4444444444444444,\"#bd3786\"],[0.5555555555555556,\"#d8576b\"],[0.6666666666666666,\"#ed7953\"],[0.7777777777777778,\"#fb9f3a\"],[0.8888888888888888,\"#fdca26\"],[1.0,\"#f0f921\"]]}],\"heatmapgl\":[{\"type\":\"heatmapgl\",\"colorbar\":{\"outlinewidth\":0,\"ticks\":\"\"},\"colorscale\":[[0.0,\"#0d0887\"],[0.1111111111111111,\"#46039f\"],[0.2222222222222222,\"#7201a8\"],[0.3333333333333333,\"#9c179e\"],[0.4444444444444444,\"#bd3786\"],[0.5555555555555556,\"#d8576b\"],[0.6666666666666666,\"#ed7953\"],[0.7777777777777778,\"#fb9f3a\"],[0.8888888888888888,\"#fdca26\"],[1.0,\"#f0f921\"]]}],\"contourcarpet\":[{\"type\":\"contourcarpet\",\"colorbar\":{\"outlinewidth\":0,\"ticks\":\"\"}}],\"contour\":[{\"type\":\"contour\",\"colorbar\":{\"outlinewidth\":0,\"ticks\":\"\"},\"colorscale\":[[0.0,\"#0d0887\"],[0.1111111111111111,\"#46039f\"],[0.2222222222222222,\"#7201a8\"],[0.3333333333333333,\"#9c179e\"],[0.4444444444444444,\"#bd3786\"],[0.5555555555555556,\"#d8576b\"],[0.6666666666666666,\"#ed7953\"],[0.7777777777777778,\"#fb9f3a\"],[0.8888888888888888,\"#fdca26\"],[1.0,\"#f0f921\"]]}],\"surface\":[{\"type\":\"surface\",\"colorbar\":{\"outlinewidth\":0,\"ticks\":\"\"},\"colorscale\":[[0.0,\"#0d0887\"],[0.1111111111111111,\"#46039f\"],[0.2222222222222222,\"#7201a8\"],[0.3333333333333333,\"#9c179e\"],[0.4444444444444444,\"#bd3786\"],[0.5555555555555556,\"#d8576b\"],[0.6666666666666666,\"#ed7953\"],[0.7777777777777778,\"#fb9f3a\"],[0.8888888888888888,\"#fdca26\"],[1.0,\"#f0f921\"]]}],\"mesh3d\":[{\"type\":\"mesh3d\",\"colorbar\":{\"outlinewidth\":0,\"ticks\":\"\"}}],\"scatter\":[{\"fillpattern\":{\"fillmode\":\"overlay\",\"size\":10,\"solidity\":0.2},\"type\":\"scatter\"}],\"parcoords\":[{\"type\":\"parcoords\",\"line\":{\"colorbar\":{\"outlinewidth\":0,\"ticks\":\"\"}}}],\"scatterpolargl\":[{\"type\":\"scatterpolargl\",\"marker\":{\"colorbar\":{\"outlinewidth\":0,\"ticks\":\"\"}}}],\"bar\":[{\"error_x\":{\"color\":\"#2a3f5f\"},\"error_y\":{\"color\":\"#2a3f5f\"},\"marker\":{\"line\":{\"color\":\"#E5ECF6\",\"width\":0.5},\"pattern\":{\"fillmode\":\"overlay\",\"size\":10,\"solidity\":0.2}},\"type\":\"bar\"}],\"scattergeo\":[{\"type\":\"scattergeo\",\"marker\":{\"colorbar\":{\"outlinewidth\":0,\"ticks\":\"\"}}}],\"scatterpolar\":[{\"type\":\"scatterpolar\",\"marker\":{\"colorbar\":{\"outlinewidth\":0,\"ticks\":\"\"}}}],\"histogram\":[{\"marker\":{\"pattern\":{\"fillmode\":\"overlay\",\"size\":10,\"solidity\":0.2}},\"type\":\"histogram\"}],\"scattergl\":[{\"type\":\"scattergl\",\"marker\":{\"colorbar\":{\"outlinewidth\":0,\"ticks\":\"\"}}}],\"scatter3d\":[{\"type\":\"scatter3d\",\"line\":{\"colorbar\":{\"outlinewidth\":0,\"ticks\":\"\"}},\"marker\":{\"colorbar\":{\"outlinewidth\":0,\"ticks\":\"\"}}}],\"scattermapbox\":[{\"type\":\"scattermapbox\",\"marker\":{\"colorbar\":{\"outlinewidth\":0,\"ticks\":\"\"}}}],\"scatterternary\":[{\"type\":\"scatterternary\",\"marker\":{\"colorbar\":{\"outlinewidth\":0,\"ticks\":\"\"}}}],\"scattercarpet\":[{\"type\":\"scattercarpet\",\"marker\":{\"colorbar\":{\"outlinewidth\":0,\"ticks\":\"\"}}}],\"carpet\":[{\"aaxis\":{\"endlinecolor\":\"#2a3f5f\",\"gridcolor\":\"white\",\"linecolor\":\"white\",\"minorgridcolor\":\"white\",\"startlinecolor\":\"#2a3f5f\"},\"baxis\":{\"endlinecolor\":\"#2a3f5f\",\"gridcolor\":\"white\",\"linecolor\":\"white\",\"minorgridcolor\":\"white\",\"startlinecolor\":\"#2a3f5f\"},\"type\":\"carpet\"}],\"table\":[{\"cells\":{\"fill\":{\"color\":\"#EBF0F8\"},\"line\":{\"color\":\"white\"}},\"header\":{\"fill\":{\"color\":\"#C8D4E3\"},\"line\":{\"color\":\"white\"}},\"type\":\"table\"}],\"barpolar\":[{\"marker\":{\"line\":{\"color\":\"#E5ECF6\",\"width\":0.5},\"pattern\":{\"fillmode\":\"overlay\",\"size\":10,\"solidity\":0.2}},\"type\":\"barpolar\"}],\"pie\":[{\"automargin\":true,\"type\":\"pie\"}]},\"layout\":{\"autotypenumbers\":\"strict\",\"colorway\":[\"#636efa\",\"#EF553B\",\"#00cc96\",\"#ab63fa\",\"#FFA15A\",\"#19d3f3\",\"#FF6692\",\"#B6E880\",\"#FF97FF\",\"#FECB52\"],\"font\":{\"color\":\"#2a3f5f\"},\"hovermode\":\"closest\",\"hoverlabel\":{\"align\":\"left\"},\"paper_bgcolor\":\"white\",\"plot_bgcolor\":\"#E5ECF6\",\"polar\":{\"bgcolor\":\"#E5ECF6\",\"angularaxis\":{\"gridcolor\":\"white\",\"linecolor\":\"white\",\"ticks\":\"\"},\"radialaxis\":{\"gridcolor\":\"white\",\"linecolor\":\"white\",\"ticks\":\"\"}},\"ternary\":{\"bgcolor\":\"#E5ECF6\",\"aaxis\":{\"gridcolor\":\"white\",\"linecolor\":\"white\",\"ticks\":\"\"},\"baxis\":{\"gridcolor\":\"white\",\"linecolor\":\"white\",\"ticks\":\"\"},\"caxis\":{\"gridcolor\":\"white\",\"linecolor\":\"white\",\"ticks\":\"\"}},\"coloraxis\":{\"colorbar\":{\"outlinewidth\":0,\"ticks\":\"\"}},\"colorscale\":{\"sequential\":[[0.0,\"#0d0887\"],[0.1111111111111111,\"#46039f\"],[0.2222222222222222,\"#7201a8\"],[0.3333333333333333,\"#9c179e\"],[0.4444444444444444,\"#bd3786\"],[0.5555555555555556,\"#d8576b\"],[0.6666666666666666,\"#ed7953\"],[0.7777777777777778,\"#fb9f3a\"],[0.8888888888888888,\"#fdca26\"],[1.0,\"#f0f921\"]],\"sequentialminus\":[[0.0,\"#0d0887\"],[0.1111111111111111,\"#46039f\"],[0.2222222222222222,\"#7201a8\"],[0.3333333333333333,\"#9c179e\"],[0.4444444444444444,\"#bd3786\"],[0.5555555555555556,\"#d8576b\"],[0.6666666666666666,\"#ed7953\"],[0.7777777777777778,\"#fb9f3a\"],[0.8888888888888888,\"#fdca26\"],[1.0,\"#f0f921\"]],\"diverging\":[[0,\"#8e0152\"],[0.1,\"#c51b7d\"],[0.2,\"#de77ae\"],[0.3,\"#f1b6da\"],[0.4,\"#fde0ef\"],[0.5,\"#f7f7f7\"],[0.6,\"#e6f5d0\"],[0.7,\"#b8e186\"],[0.8,\"#7fbc41\"],[0.9,\"#4d9221\"],[1,\"#276419\"]]},\"xaxis\":{\"gridcolor\":\"white\",\"linecolor\":\"white\",\"ticks\":\"\",\"title\":{\"standoff\":15},\"zerolinecolor\":\"white\",\"automargin\":true,\"zerolinewidth\":2},\"yaxis\":{\"gridcolor\":\"white\",\"linecolor\":\"white\",\"ticks\":\"\",\"title\":{\"standoff\":15},\"zerolinecolor\":\"white\",\"automargin\":true,\"zerolinewidth\":2},\"scene\":{\"xaxis\":{\"backgroundcolor\":\"#E5ECF6\",\"gridcolor\":\"white\",\"linecolor\":\"white\",\"showbackground\":true,\"ticks\":\"\",\"zerolinecolor\":\"white\",\"gridwidth\":2},\"yaxis\":{\"backgroundcolor\":\"#E5ECF6\",\"gridcolor\":\"white\",\"linecolor\":\"white\",\"showbackground\":true,\"ticks\":\"\",\"zerolinecolor\":\"white\",\"gridwidth\":2},\"zaxis\":{\"backgroundcolor\":\"#E5ECF6\",\"gridcolor\":\"white\",\"linecolor\":\"white\",\"showbackground\":true,\"ticks\":\"\",\"zerolinecolor\":\"white\",\"gridwidth\":2}},\"shapedefaults\":{\"line\":{\"color\":\"#2a3f5f\"}},\"annotationdefaults\":{\"arrowcolor\":\"#2a3f5f\",\"arrowhead\":0,\"arrowwidth\":1},\"geo\":{\"bgcolor\":\"white\",\"landcolor\":\"#E5ECF6\",\"subunitcolor\":\"white\",\"showland\":true,\"showlakes\":true,\"lakecolor\":\"white\"},\"title\":{\"x\":0.05},\"mapbox\":{\"style\":\"light\"}}},\"xaxis\":{\"anchor\":\"y\",\"domain\":[0.0,1.0],\"title\":{\"text\":\"Trimestre\"}},\"yaxis\":{\"anchor\":\"x\",\"domain\":[0.0,1.0],\"title\":{\"text\":\"Parroquia\"}},\"coloraxis\":{\"colorbar\":{\"title\":{\"text\":\"Ingresos promedio\"}},\"colorscale\":[[0.0,\"#0d0887\"],[0.1111111111111111,\"#46039f\"],[0.2222222222222222,\"#7201a8\"],[0.3333333333333333,\"#9c179e\"],[0.4444444444444444,\"#bd3786\"],[0.5555555555555556,\"#d8576b\"],[0.6666666666666666,\"#ed7953\"],[0.7777777777777778,\"#fb9f3a\"],[0.8888888888888888,\"#fdca26\"],[1.0,\"#f0f921\"]]},\"legend\":{\"tracegroupgap\":0},\"title\":{\"text\":\"Heatmap de las parroquias de Guayaquil y Quito por trimestres del a\\u00f1o 2017 \"},\"height\":600},                        {\"responsive\": true}                    ).then(function(){\n",
       "                            \n",
       "var gd = document.getElementById('1fc0c06a-2883-46a2-924d-ffed8d6a9252');\n",
       "var x = new MutationObserver(function (mutations, observer) {{\n",
       "        var display = window.getComputedStyle(gd).display;\n",
       "        if (!display || display === 'none') {{\n",
       "            console.log([gd, 'removed!']);\n",
       "            Plotly.purge(gd);\n",
       "            observer.disconnect();\n",
       "        }}\n",
       "}});\n",
       "\n",
       "// Listen for the removal of the full notebook cells\n",
       "var notebookContainer = gd.closest('#notebook-container');\n",
       "if (notebookContainer) {{\n",
       "    x.observe(notebookContainer, {childList: true});\n",
       "}}\n",
       "\n",
       "// Listen for the clearing of the current output cell\n",
       "var outputEl = gd.closest('.output');\n",
       "if (outputEl) {{\n",
       "    x.observe(outputEl, {childList: true});\n",
       "}}\n",
       "\n",
       "                        })                };                });            </script>        </div>"
      ]
     },
     "metadata": {},
     "output_type": "display_data"
    }
   ],
   "source": [
    "fig = px.density_heatmap(gyeUIOgroup, z='p66', y='parroquia',x='trimestre',title='Heatmap de las parroquias de Guayaquil y Quito por trimestres del año 2017 ',\n",
    "                  height=600, text_auto=True)\n",
    "\n",
    "fig.update_layout(\n",
    "    xaxis=dict(title='Trimestre'),\n",
    "    yaxis=dict(title='Parroquia'),\n",
    "    coloraxis_colorbar=dict(title='Ingresos promedio')\n",
    ")\n",
    "\n",
    "fig.show()\n"
   ]
  }
 ],
 "metadata": {
  "kernelspec": {
   "display_name": "Python 3 (ipykernel)",
   "language": "python",
   "name": "python3"
  },
  "language_info": {
   "codemirror_mode": {
    "name": "ipython",
    "version": 3
   },
   "file_extension": ".py",
   "mimetype": "text/x-python",
   "name": "python",
   "nbconvert_exporter": "python",
   "pygments_lexer": "ipython3",
   "version": "3.9.17"
  }
 },
 "nbformat": 4,
 "nbformat_minor": 5
}
