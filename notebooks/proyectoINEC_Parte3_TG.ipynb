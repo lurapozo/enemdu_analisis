{
 "cells": [
  {
   "cell_type": "code",
   "execution_count": 1,
   "id": "6c38a53f",
   "metadata": {},
   "outputs": [],
   "source": [
    "import numpy as np\n",
    "import pandas as pd\n",
    "import geopandas as gpd\n",
    "import chart_studio.plotly as py\n",
    "import cufflinks as cf\n",
    "import plotly.express as px\n",
    "import plotly.graph_objects as go\n",
    "import plotly\n",
    "import seaborn as sns\n",
    "import matplotlib.pyplot as plt"
   ]
  },
  {
   "cell_type": "code",
   "execution_count": 2,
   "id": "6795b0e7",
   "metadata": {},
   "outputs": [
    {
     "data": {
      "text/html": [
       "        <script type=\"text/javascript\">\n",
       "        window.PlotlyConfig = {MathJaxConfig: 'local'};\n",
       "        if (window.MathJax && window.MathJax.Hub && window.MathJax.Hub.Config) {window.MathJax.Hub.Config({SVG: {font: \"STIX-Web\"}});}\n",
       "        if (typeof require !== 'undefined') {\n",
       "        require.undef(\"plotly\");\n",
       "        requirejs.config({\n",
       "            paths: {\n",
       "                'plotly': ['https://cdn.plot.ly/plotly-2.24.1.min']\n",
       "            }\n",
       "        });\n",
       "        require(['plotly'], function(Plotly) {\n",
       "            window._Plotly = Plotly;\n",
       "        });\n",
       "        }\n",
       "        </script>\n",
       "        "
      ]
     },
     "metadata": {},
     "output_type": "display_data"
    },
    {
     "data": {
      "text/html": [
       "        <script type=\"text/javascript\">\n",
       "        window.PlotlyConfig = {MathJaxConfig: 'local'};\n",
       "        if (window.MathJax && window.MathJax.Hub && window.MathJax.Hub.Config) {window.MathJax.Hub.Config({SVG: {font: \"STIX-Web\"}});}\n",
       "        if (typeof require !== 'undefined') {\n",
       "        require.undef(\"plotly\");\n",
       "        requirejs.config({\n",
       "            paths: {\n",
       "                'plotly': ['https://cdn.plot.ly/plotly-2.24.1.min']\n",
       "            }\n",
       "        });\n",
       "        require(['plotly'], function(Plotly) {\n",
       "            window._Plotly = Plotly;\n",
       "        });\n",
       "        }\n",
       "        </script>\n",
       "        "
      ]
     },
     "metadata": {},
     "output_type": "display_data"
    }
   ],
   "source": [
    "from plotly.offline import download_plotlyjs, init_notebook_mode, iplot\n",
    "init_notebook_mode(connected = True)\n",
    "cf.go_offline()"
   ]
  },
  {
   "cell_type": "code",
   "execution_count": 3,
   "id": "95e43c91",
   "metadata": {},
   "outputs": [
    {
     "data": {
      "text/plain": [
       "'files = [\\n    \"../inputs/2015/primer_trimestre/201503_EnemduBDD_15anios.sav\",\\n    \"../inputs/2015/segundo_trimestre/201506_EnemduBDD_15anios.sav\",\\n    \"../inputs/2015/tercer_trimestre/201509_EnemduBDD_15anios.sav\",\\n    \"../inputs/2015/cuarto_trimestre/201512_EnemduBDD_15anios.sav\",\\n    \"../inputs/2016/cuarto_trimestre/122016_EnemduBDD_completa.sav\",\\n    \"../inputs/2016/segundo_trimestre/201606_EnemduBDD.SAV\",\\n    \"../inputs/2016/primer_trimestre/201603_EnemduBDD.sav\",\\n    \"../inputs/2016/tercer_trimestre/201609_EnemduBDD_per.sav\",\\n    \"../inputs/2017/primer_trimestre/201703_EnemduBDD_15anios.sav\",\\n    \"../inputs/2017/segundo_trimestre/201706_EnemduBDD_15anio.sav\",\\n    \"../inputs/2017/tercer_trimestre/201709_EnemduBDD_15anios.sav\",\\n    \"../inputs/2017/cuarto_trimestre/201712_EnemduBDD_15anios.sav\",\\n]\\ndf = pd.concat([pd.read_spss(f) for f in files])\\n'"
      ]
     },
     "execution_count": 3,
     "metadata": {},
     "output_type": "execute_result"
    }
   ],
   "source": [
    "\"\"\"files = [\n",
    "    \"../inputs/2015/primer_trimestre/201503_EnemduBDD_15anios.sav\",\n",
    "    \"../inputs/2015/segundo_trimestre/201506_EnemduBDD_15anios.sav\",\n",
    "    \"../inputs/2015/tercer_trimestre/201509_EnemduBDD_15anios.sav\",\n",
    "    \"../inputs/2015/cuarto_trimestre/201512_EnemduBDD_15anios.sav\",\n",
    "    \"../inputs/2016/cuarto_trimestre/122016_EnemduBDD_completa.sav\",\n",
    "    \"../inputs/2016/segundo_trimestre/201606_EnemduBDD.SAV\",\n",
    "    \"../inputs/2016/primer_trimestre/201603_EnemduBDD.sav\",\n",
    "    \"../inputs/2016/tercer_trimestre/201609_EnemduBDD_per.sav\",\n",
    "    \"../inputs/2017/primer_trimestre/201703_EnemduBDD_15anios.sav\",\n",
    "    \"../inputs/2017/segundo_trimestre/201706_EnemduBDD_15anio.sav\",\n",
    "    \"../inputs/2017/tercer_trimestre/201709_EnemduBDD_15anios.sav\",\n",
    "    \"../inputs/2017/cuarto_trimestre/201712_EnemduBDD_15anios.sav\",\n",
    "]\n",
    "df = pd.concat([pd.read_spss(f) for f in files])\n",
    "\"\"\""
   ]
  },
  {
   "cell_type": "code",
   "execution_count": 4,
   "id": "6d48c72a",
   "metadata": {},
   "outputs": [
    {
     "data": {
      "text/html": [
       "<div>\n",
       "<style scoped>\n",
       "    .dataframe tbody tr th:only-of-type {\n",
       "        vertical-align: middle;\n",
       "    }\n",
       "\n",
       "    .dataframe tbody tr th {\n",
       "        vertical-align: top;\n",
       "    }\n",
       "\n",
       "    .dataframe thead th {\n",
       "        text-align: right;\n",
       "    }\n",
       "</style>\n",
       "<table border=\"1\" class=\"dataframe\">\n",
       "  <thead>\n",
       "    <tr style=\"text-align: right;\">\n",
       "      <th></th>\n",
       "      <th>area</th>\n",
       "      <th>ciudad</th>\n",
       "      <th>zona</th>\n",
       "      <th>sector</th>\n",
       "      <th>panelm</th>\n",
       "      <th>vivienda</th>\n",
       "      <th>hogar</th>\n",
       "      <th>p01</th>\n",
       "      <th>p02</th>\n",
       "      <th>p03</th>\n",
       "      <th>...</th>\n",
       "      <th>desemoc</th>\n",
       "      <th>desem1</th>\n",
       "      <th>desem2</th>\n",
       "      <th>pein</th>\n",
       "      <th>menor10</th>\n",
       "      <th>menor15</th>\n",
       "      <th>pobla10</th>\n",
       "      <th>pobla15</th>\n",
       "      <th>year</th>\n",
       "      <th>trimestre</th>\n",
       "    </tr>\n",
       "  </thead>\n",
       "  <tbody>\n",
       "    <tr>\n",
       "      <th>0</th>\n",
       "      <td>Urbana</td>\n",
       "      <td>10150.0</td>\n",
       "      <td>001</td>\n",
       "      <td>003</td>\n",
       "      <td>Panel K2</td>\n",
       "      <td>Vivienda Uno</td>\n",
       "      <td>Hogar Uno</td>\n",
       "      <td>Persona 1</td>\n",
       "      <td>Hombre</td>\n",
       "      <td>53.0</td>\n",
       "      <td>...</td>\n",
       "      <td>NaN</td>\n",
       "      <td>NaN</td>\n",
       "      <td>NaN</td>\n",
       "      <td>NaN</td>\n",
       "      <td>NaN</td>\n",
       "      <td>NaN</td>\n",
       "      <td>Población mayor o igual a 10 años</td>\n",
       "      <td>Población mayor o igual a 15 años</td>\n",
       "      <td>2016</td>\n",
       "      <td>1</td>\n",
       "    </tr>\n",
       "    <tr>\n",
       "      <th>1</th>\n",
       "      <td>Urbana</td>\n",
       "      <td>10150.0</td>\n",
       "      <td>001</td>\n",
       "      <td>003</td>\n",
       "      <td>Panel K2</td>\n",
       "      <td>Vivienda Uno</td>\n",
       "      <td>Hogar Uno</td>\n",
       "      <td>Persona 2</td>\n",
       "      <td>Mujer</td>\n",
       "      <td>53.0</td>\n",
       "      <td>...</td>\n",
       "      <td>NaN</td>\n",
       "      <td>NaN</td>\n",
       "      <td>NaN</td>\n",
       "      <td>NaN</td>\n",
       "      <td>NaN</td>\n",
       "      <td>NaN</td>\n",
       "      <td>Población mayor o igual a 10 años</td>\n",
       "      <td>Población mayor o igual a 15 años</td>\n",
       "      <td>2016</td>\n",
       "      <td>1</td>\n",
       "    </tr>\n",
       "    <tr>\n",
       "      <th>2</th>\n",
       "      <td>Urbana</td>\n",
       "      <td>10150.0</td>\n",
       "      <td>001</td>\n",
       "      <td>003</td>\n",
       "      <td>Panel K2</td>\n",
       "      <td>Vivienda Uno</td>\n",
       "      <td>Hogar Uno</td>\n",
       "      <td>Persona 3</td>\n",
       "      <td>Hombre</td>\n",
       "      <td>23.0</td>\n",
       "      <td>...</td>\n",
       "      <td>NaN</td>\n",
       "      <td>NaN</td>\n",
       "      <td>NaN</td>\n",
       "      <td>Población Económicamente Inactiva</td>\n",
       "      <td>NaN</td>\n",
       "      <td>NaN</td>\n",
       "      <td>Población mayor o igual a 10 años</td>\n",
       "      <td>Población mayor o igual a 15 años</td>\n",
       "      <td>2016</td>\n",
       "      <td>1</td>\n",
       "    </tr>\n",
       "    <tr>\n",
       "      <th>3</th>\n",
       "      <td>Urbana</td>\n",
       "      <td>10150.0</td>\n",
       "      <td>001</td>\n",
       "      <td>003</td>\n",
       "      <td>Panel K2</td>\n",
       "      <td>Vivienda Uno</td>\n",
       "      <td>Hogar Uno</td>\n",
       "      <td>Persona 4</td>\n",
       "      <td>Mujer</td>\n",
       "      <td>14.0</td>\n",
       "      <td>...</td>\n",
       "      <td>NaN</td>\n",
       "      <td>NaN</td>\n",
       "      <td>NaN</td>\n",
       "      <td>NaN</td>\n",
       "      <td>NaN</td>\n",
       "      <td>Población menor a 15 años</td>\n",
       "      <td>Población mayor o igual a 10 años</td>\n",
       "      <td>NaN</td>\n",
       "      <td>2016</td>\n",
       "      <td>1</td>\n",
       "    </tr>\n",
       "    <tr>\n",
       "      <th>4</th>\n",
       "      <td>Urbana</td>\n",
       "      <td>10150.0</td>\n",
       "      <td>001</td>\n",
       "      <td>003</td>\n",
       "      <td>Panel K2</td>\n",
       "      <td>Vivienda Dos</td>\n",
       "      <td>Hogar Uno</td>\n",
       "      <td>Persona 1</td>\n",
       "      <td>Mujer</td>\n",
       "      <td>49.0</td>\n",
       "      <td>...</td>\n",
       "      <td>NaN</td>\n",
       "      <td>NaN</td>\n",
       "      <td>NaN</td>\n",
       "      <td>NaN</td>\n",
       "      <td>NaN</td>\n",
       "      <td>NaN</td>\n",
       "      <td>Población mayor o igual a 10 años</td>\n",
       "      <td>Población mayor o igual a 15 años</td>\n",
       "      <td>2016</td>\n",
       "      <td>1</td>\n",
       "    </tr>\n",
       "  </tbody>\n",
       "</table>\n",
       "<p>5 rows × 188 columns</p>\n",
       "</div>"
      ],
      "text/plain": [
       "     area   ciudad zona sector    panelm      vivienda      hogar        p01  \\\n",
       "0  Urbana  10150.0  001    003  Panel K2  Vivienda Uno  Hogar Uno  Persona 1   \n",
       "1  Urbana  10150.0  001    003  Panel K2  Vivienda Uno  Hogar Uno  Persona 2   \n",
       "2  Urbana  10150.0  001    003  Panel K2  Vivienda Uno  Hogar Uno  Persona 3   \n",
       "3  Urbana  10150.0  001    003  Panel K2  Vivienda Uno  Hogar Uno  Persona 4   \n",
       "4  Urbana  10150.0  001    003  Panel K2  Vivienda Dos  Hogar Uno  Persona 1   \n",
       "\n",
       "      p02   p03  ... desemoc desem1 desem2                               pein  \\\n",
       "0  Hombre  53.0  ...     NaN    NaN    NaN                                NaN   \n",
       "1   Mujer  53.0  ...     NaN    NaN    NaN                                NaN   \n",
       "2  Hombre  23.0  ...     NaN    NaN    NaN  Población Económicamente Inactiva   \n",
       "3   Mujer  14.0  ...     NaN    NaN    NaN                                NaN   \n",
       "4   Mujer  49.0  ...     NaN    NaN    NaN                                NaN   \n",
       "\n",
       "  menor10                    menor15                            pobla10  \\\n",
       "0     NaN                        NaN  Población mayor o igual a 10 años   \n",
       "1     NaN                        NaN  Población mayor o igual a 10 años   \n",
       "2     NaN                        NaN  Población mayor o igual a 10 años   \n",
       "3     NaN  Población menor a 15 años  Población mayor o igual a 10 años   \n",
       "4     NaN                        NaN  Población mayor o igual a 10 años   \n",
       "\n",
       "                             pobla15  year trimestre  \n",
       "0  Población mayor o igual a 15 años  2016         1  \n",
       "1  Población mayor o igual a 15 años  2016         1  \n",
       "2  Población mayor o igual a 15 años  2016         1  \n",
       "3                                NaN  2016         1  \n",
       "4  Población mayor o igual a 15 años  2016         1  \n",
       "\n",
       "[5 rows x 188 columns]"
      ]
     },
     "execution_count": 4,
     "metadata": {},
     "output_type": "execute_result"
    }
   ],
   "source": [
    "df_2016_primertrimestre = pd.read_spss(\"../inputs/2016/primer_trimestre/201603_EnemduBDD.sav\")\n",
    "df_2016_primertrimestre[\"year\"] = 2016\n",
    "df_2016_primertrimestre[\"trimestre\"] = 1\n",
    "df_2016_primertrimestre.head()"
   ]
  },
  {
   "cell_type": "code",
   "execution_count": 5,
   "id": "b6138729",
   "metadata": {},
   "outputs": [
    {
     "data": {
      "text/html": [
       "<div>\n",
       "<style scoped>\n",
       "    .dataframe tbody tr th:only-of-type {\n",
       "        vertical-align: middle;\n",
       "    }\n",
       "\n",
       "    .dataframe tbody tr th {\n",
       "        vertical-align: top;\n",
       "    }\n",
       "\n",
       "    .dataframe thead th {\n",
       "        text-align: right;\n",
       "    }\n",
       "</style>\n",
       "<table border=\"1\" class=\"dataframe\">\n",
       "  <thead>\n",
       "    <tr style=\"text-align: right;\">\n",
       "      <th></th>\n",
       "      <th>area</th>\n",
       "      <th>ciudad</th>\n",
       "      <th>zona</th>\n",
       "      <th>sector</th>\n",
       "      <th>panelm</th>\n",
       "      <th>vivienda</th>\n",
       "      <th>hogar</th>\n",
       "      <th>p01</th>\n",
       "      <th>p02</th>\n",
       "      <th>p03</th>\n",
       "      <th>...</th>\n",
       "      <th>desemoc</th>\n",
       "      <th>desem1</th>\n",
       "      <th>desem2</th>\n",
       "      <th>pein</th>\n",
       "      <th>menor10</th>\n",
       "      <th>menor15</th>\n",
       "      <th>pobla10</th>\n",
       "      <th>pobla15</th>\n",
       "      <th>year</th>\n",
       "      <th>trimestre</th>\n",
       "    </tr>\n",
       "  </thead>\n",
       "  <tbody>\n",
       "    <tr>\n",
       "      <th>0</th>\n",
       "      <td>Urbana</td>\n",
       "      <td>180150.0</td>\n",
       "      <td>037</td>\n",
       "      <td>001</td>\n",
       "      <td>Panel Q2</td>\n",
       "      <td>Vivienda Dos</td>\n",
       "      <td>Hogar Uno</td>\n",
       "      <td>Persona 3</td>\n",
       "      <td>Mujer</td>\n",
       "      <td>No informa</td>\n",
       "      <td>...</td>\n",
       "      <td>NaN</td>\n",
       "      <td>NaN</td>\n",
       "      <td>NaN</td>\n",
       "      <td>Población Económicamente Inactiva</td>\n",
       "      <td>NaN</td>\n",
       "      <td>NaN</td>\n",
       "      <td>Población mayor o igual a 10 años</td>\n",
       "      <td>Población mayor o igual a 15 años</td>\n",
       "      <td>2016</td>\n",
       "      <td>2</td>\n",
       "    </tr>\n",
       "    <tr>\n",
       "      <th>1</th>\n",
       "      <td>Rural</td>\n",
       "      <td>20450.0</td>\n",
       "      <td>999</td>\n",
       "      <td>024</td>\n",
       "      <td>Panel Q2</td>\n",
       "      <td>Vivienda Tres</td>\n",
       "      <td>Hogar Uno</td>\n",
       "      <td>Persona 2</td>\n",
       "      <td>Mujer</td>\n",
       "      <td>98 y más</td>\n",
       "      <td>...</td>\n",
       "      <td>NaN</td>\n",
       "      <td>NaN</td>\n",
       "      <td>NaN</td>\n",
       "      <td>Población Económicamente Inactiva</td>\n",
       "      <td>NaN</td>\n",
       "      <td>NaN</td>\n",
       "      <td>Población mayor o igual a 10 años</td>\n",
       "      <td>Población mayor o igual a 15 años</td>\n",
       "      <td>2016</td>\n",
       "      <td>2</td>\n",
       "    </tr>\n",
       "    <tr>\n",
       "      <th>2</th>\n",
       "      <td>Rural</td>\n",
       "      <td>40550.0</td>\n",
       "      <td>999</td>\n",
       "      <td>008</td>\n",
       "      <td>Panel R2</td>\n",
       "      <td>Vivienda Dos</td>\n",
       "      <td>Hogar Uno</td>\n",
       "      <td>Persona 4</td>\n",
       "      <td>Mujer</td>\n",
       "      <td>98 y más</td>\n",
       "      <td>...</td>\n",
       "      <td>NaN</td>\n",
       "      <td>NaN</td>\n",
       "      <td>NaN</td>\n",
       "      <td>Población Económicamente Inactiva</td>\n",
       "      <td>NaN</td>\n",
       "      <td>NaN</td>\n",
       "      <td>Población mayor o igual a 10 años</td>\n",
       "      <td>Población mayor o igual a 15 años</td>\n",
       "      <td>2016</td>\n",
       "      <td>2</td>\n",
       "    </tr>\n",
       "    <tr>\n",
       "      <th>3</th>\n",
       "      <td>Rural</td>\n",
       "      <td>50653.0</td>\n",
       "      <td>999</td>\n",
       "      <td>006</td>\n",
       "      <td>Panel R2</td>\n",
       "      <td>Vivienda Cuatro (reemplazo)</td>\n",
       "      <td>Hogar Uno</td>\n",
       "      <td>Persona 5</td>\n",
       "      <td>Hombre</td>\n",
       "      <td>98 y más</td>\n",
       "      <td>...</td>\n",
       "      <td>NaN</td>\n",
       "      <td>NaN</td>\n",
       "      <td>NaN</td>\n",
       "      <td>Población Económicamente Inactiva</td>\n",
       "      <td>NaN</td>\n",
       "      <td>NaN</td>\n",
       "      <td>Población mayor o igual a 10 años</td>\n",
       "      <td>Población mayor o igual a 15 años</td>\n",
       "      <td>2016</td>\n",
       "      <td>2</td>\n",
       "    </tr>\n",
       "    <tr>\n",
       "      <th>4</th>\n",
       "      <td>Urbana</td>\n",
       "      <td>90150.0</td>\n",
       "      <td>010</td>\n",
       "      <td>008</td>\n",
       "      <td>Panel R2</td>\n",
       "      <td>Vivienda Dos</td>\n",
       "      <td>Hogar Uno</td>\n",
       "      <td>Persona 2</td>\n",
       "      <td>Hombre</td>\n",
       "      <td>98 y más</td>\n",
       "      <td>...</td>\n",
       "      <td>NaN</td>\n",
       "      <td>NaN</td>\n",
       "      <td>NaN</td>\n",
       "      <td>Población Económicamente Inactiva</td>\n",
       "      <td>NaN</td>\n",
       "      <td>NaN</td>\n",
       "      <td>Población mayor o igual a 10 años</td>\n",
       "      <td>Población mayor o igual a 15 años</td>\n",
       "      <td>2016</td>\n",
       "      <td>2</td>\n",
       "    </tr>\n",
       "  </tbody>\n",
       "</table>\n",
       "<p>5 rows × 212 columns</p>\n",
       "</div>"
      ],
      "text/plain": [
       "     area    ciudad zona sector    panelm                     vivienda  \\\n",
       "0  Urbana  180150.0  037    001  Panel Q2                 Vivienda Dos   \n",
       "1   Rural   20450.0  999    024  Panel Q2                Vivienda Tres   \n",
       "2   Rural   40550.0  999    008  Panel R2                 Vivienda Dos   \n",
       "3   Rural   50653.0  999    006  Panel R2  Vivienda Cuatro (reemplazo)   \n",
       "4  Urbana   90150.0  010    008  Panel R2                 Vivienda Dos   \n",
       "\n",
       "       hogar        p01     p02         p03  ... desemoc desem1 desem2  \\\n",
       "0  Hogar Uno  Persona 3   Mujer  No informa  ...     NaN    NaN    NaN   \n",
       "1  Hogar Uno  Persona 2   Mujer    98 y más  ...     NaN    NaN    NaN   \n",
       "2  Hogar Uno  Persona 4   Mujer    98 y más  ...     NaN    NaN    NaN   \n",
       "3  Hogar Uno  Persona 5  Hombre    98 y más  ...     NaN    NaN    NaN   \n",
       "4  Hogar Uno  Persona 2  Hombre    98 y más  ...     NaN    NaN    NaN   \n",
       "\n",
       "                                pein menor10 menor15  \\\n",
       "0  Población Económicamente Inactiva     NaN     NaN   \n",
       "1  Población Económicamente Inactiva     NaN     NaN   \n",
       "2  Población Económicamente Inactiva     NaN     NaN   \n",
       "3  Población Económicamente Inactiva     NaN     NaN   \n",
       "4  Población Económicamente Inactiva     NaN     NaN   \n",
       "\n",
       "                             pobla10                            pobla15  year  \\\n",
       "0  Población mayor o igual a 10 años  Población mayor o igual a 15 años  2016   \n",
       "1  Población mayor o igual a 10 años  Población mayor o igual a 15 años  2016   \n",
       "2  Población mayor o igual a 10 años  Población mayor o igual a 15 años  2016   \n",
       "3  Población mayor o igual a 10 años  Población mayor o igual a 15 años  2016   \n",
       "4  Población mayor o igual a 10 años  Población mayor o igual a 15 años  2016   \n",
       "\n",
       "  trimestre  \n",
       "0         2  \n",
       "1         2  \n",
       "2         2  \n",
       "3         2  \n",
       "4         2  \n",
       "\n",
       "[5 rows x 212 columns]"
      ]
     },
     "execution_count": 5,
     "metadata": {},
     "output_type": "execute_result"
    }
   ],
   "source": [
    "df_2016_segundotrimestre = pd.read_spss(\"../inputs/2016/segundo_trimestre/201606_EnemduBDD.SAV\")\n",
    "df_2016_segundotrimestre[\"year\"] = 2016\n",
    "df_2016_segundotrimestre[\"trimestre\"] = 2\n",
    "df_2016_segundotrimestre.head()"
   ]
  },
  {
   "cell_type": "code",
   "execution_count": 6,
   "id": "09e52490",
   "metadata": {},
   "outputs": [
    {
     "data": {
      "text/html": [
       "<div>\n",
       "<style scoped>\n",
       "    .dataframe tbody tr th:only-of-type {\n",
       "        vertical-align: middle;\n",
       "    }\n",
       "\n",
       "    .dataframe tbody tr th {\n",
       "        vertical-align: top;\n",
       "    }\n",
       "\n",
       "    .dataframe thead th {\n",
       "        text-align: right;\n",
       "    }\n",
       "</style>\n",
       "<table border=\"1\" class=\"dataframe\">\n",
       "  <thead>\n",
       "    <tr style=\"text-align: right;\">\n",
       "      <th></th>\n",
       "      <th>area</th>\n",
       "      <th>ciudad</th>\n",
       "      <th>zona</th>\n",
       "      <th>sector</th>\n",
       "      <th>panelm</th>\n",
       "      <th>vivienda</th>\n",
       "      <th>hogar</th>\n",
       "      <th>p01</th>\n",
       "      <th>p02</th>\n",
       "      <th>p03</th>\n",
       "      <th>...</th>\n",
       "      <th>desem2</th>\n",
       "      <th>pein</th>\n",
       "      <th>menor10</th>\n",
       "      <th>menor15</th>\n",
       "      <th>pobla10</th>\n",
       "      <th>pobla15</th>\n",
       "      <th>plan_muestreo</th>\n",
       "      <th>fexp</th>\n",
       "      <th>year</th>\n",
       "      <th>trimestre</th>\n",
       "    </tr>\n",
       "  </thead>\n",
       "  <tbody>\n",
       "    <tr>\n",
       "      <th>0</th>\n",
       "      <td>Urbana</td>\n",
       "      <td>10150.0</td>\n",
       "      <td>001</td>\n",
       "      <td>003</td>\n",
       "      <td>Panel A2</td>\n",
       "      <td>Vivienda Uno</td>\n",
       "      <td>Hogar Uno</td>\n",
       "      <td>Persona 1</td>\n",
       "      <td>Hombre</td>\n",
       "      <td>42.0</td>\n",
       "      <td>...</td>\n",
       "      <td>NaN</td>\n",
       "      <td>NaN</td>\n",
       "      <td>NaN</td>\n",
       "      <td>NaN</td>\n",
       "      <td>Población mayor o igual a 10 años</td>\n",
       "      <td>Población mayor o igual a 15 años</td>\n",
       "      <td>1013</td>\n",
       "      <td>156.325536</td>\n",
       "      <td>2016</td>\n",
       "      <td>3</td>\n",
       "    </tr>\n",
       "    <tr>\n",
       "      <th>1</th>\n",
       "      <td>Urbana</td>\n",
       "      <td>10150.0</td>\n",
       "      <td>001</td>\n",
       "      <td>003</td>\n",
       "      <td>Panel A2</td>\n",
       "      <td>Vivienda Uno</td>\n",
       "      <td>Hogar Uno</td>\n",
       "      <td>Persona 2</td>\n",
       "      <td>Mujer</td>\n",
       "      <td>40.0</td>\n",
       "      <td>...</td>\n",
       "      <td>NaN</td>\n",
       "      <td>Población Económicamente Inactiva</td>\n",
       "      <td>NaN</td>\n",
       "      <td>NaN</td>\n",
       "      <td>Población mayor o igual a 10 años</td>\n",
       "      <td>Población mayor o igual a 15 años</td>\n",
       "      <td>1013</td>\n",
       "      <td>156.325536</td>\n",
       "      <td>2016</td>\n",
       "      <td>3</td>\n",
       "    </tr>\n",
       "    <tr>\n",
       "      <th>2</th>\n",
       "      <td>Urbana</td>\n",
       "      <td>10150.0</td>\n",
       "      <td>001</td>\n",
       "      <td>003</td>\n",
       "      <td>Panel A2</td>\n",
       "      <td>Vivienda Uno</td>\n",
       "      <td>Hogar Uno</td>\n",
       "      <td>Persona 3</td>\n",
       "      <td>Hombre</td>\n",
       "      <td>21.0</td>\n",
       "      <td>...</td>\n",
       "      <td>NaN</td>\n",
       "      <td>Población Económicamente Inactiva</td>\n",
       "      <td>NaN</td>\n",
       "      <td>NaN</td>\n",
       "      <td>Población mayor o igual a 10 años</td>\n",
       "      <td>Población mayor o igual a 15 años</td>\n",
       "      <td>1013</td>\n",
       "      <td>156.325536</td>\n",
       "      <td>2016</td>\n",
       "      <td>3</td>\n",
       "    </tr>\n",
       "    <tr>\n",
       "      <th>3</th>\n",
       "      <td>Urbana</td>\n",
       "      <td>10150.0</td>\n",
       "      <td>001</td>\n",
       "      <td>003</td>\n",
       "      <td>Panel A2</td>\n",
       "      <td>Vivienda Uno</td>\n",
       "      <td>Hogar Uno</td>\n",
       "      <td>Persona 4</td>\n",
       "      <td>Mujer</td>\n",
       "      <td>19.0</td>\n",
       "      <td>...</td>\n",
       "      <td>NaN</td>\n",
       "      <td>NaN</td>\n",
       "      <td>NaN</td>\n",
       "      <td>NaN</td>\n",
       "      <td>Población mayor o igual a 10 años</td>\n",
       "      <td>Población mayor o igual a 15 años</td>\n",
       "      <td>1013</td>\n",
       "      <td>156.325536</td>\n",
       "      <td>2016</td>\n",
       "      <td>3</td>\n",
       "    </tr>\n",
       "    <tr>\n",
       "      <th>4</th>\n",
       "      <td>Urbana</td>\n",
       "      <td>10150.0</td>\n",
       "      <td>001</td>\n",
       "      <td>003</td>\n",
       "      <td>Panel A2</td>\n",
       "      <td>Vivienda Dos</td>\n",
       "      <td>Hogar Uno</td>\n",
       "      <td>Persona 1</td>\n",
       "      <td>Hombre</td>\n",
       "      <td>44.0</td>\n",
       "      <td>...</td>\n",
       "      <td>NaN</td>\n",
       "      <td>NaN</td>\n",
       "      <td>NaN</td>\n",
       "      <td>NaN</td>\n",
       "      <td>Población mayor o igual a 10 años</td>\n",
       "      <td>Población mayor o igual a 15 años</td>\n",
       "      <td>1013</td>\n",
       "      <td>156.325536</td>\n",
       "      <td>2016</td>\n",
       "      <td>3</td>\n",
       "    </tr>\n",
       "  </tbody>\n",
       "</table>\n",
       "<p>5 rows × 257 columns</p>\n",
       "</div>"
      ],
      "text/plain": [
       "     area   ciudad zona sector    panelm      vivienda      hogar        p01  \\\n",
       "0  Urbana  10150.0  001    003  Panel A2  Vivienda Uno  Hogar Uno  Persona 1   \n",
       "1  Urbana  10150.0  001    003  Panel A2  Vivienda Uno  Hogar Uno  Persona 2   \n",
       "2  Urbana  10150.0  001    003  Panel A2  Vivienda Uno  Hogar Uno  Persona 3   \n",
       "3  Urbana  10150.0  001    003  Panel A2  Vivienda Uno  Hogar Uno  Persona 4   \n",
       "4  Urbana  10150.0  001    003  Panel A2  Vivienda Dos  Hogar Uno  Persona 1   \n",
       "\n",
       "      p02   p03  ... desem2                               pein menor10  \\\n",
       "0  Hombre  42.0  ...    NaN                                NaN     NaN   \n",
       "1   Mujer  40.0  ...    NaN  Población Económicamente Inactiva     NaN   \n",
       "2  Hombre  21.0  ...    NaN  Población Económicamente Inactiva     NaN   \n",
       "3   Mujer  19.0  ...    NaN                                NaN     NaN   \n",
       "4  Hombre  44.0  ...    NaN                                NaN     NaN   \n",
       "\n",
       "  menor15                            pobla10  \\\n",
       "0     NaN  Población mayor o igual a 10 años   \n",
       "1     NaN  Población mayor o igual a 10 años   \n",
       "2     NaN  Población mayor o igual a 10 años   \n",
       "3     NaN  Población mayor o igual a 10 años   \n",
       "4     NaN  Población mayor o igual a 10 años   \n",
       "\n",
       "                             pobla15 plan_muestreo        fexp  year trimestre  \n",
       "0  Población mayor o igual a 15 años          1013  156.325536  2016         3  \n",
       "1  Población mayor o igual a 15 años          1013  156.325536  2016         3  \n",
       "2  Población mayor o igual a 15 años          1013  156.325536  2016         3  \n",
       "3  Población mayor o igual a 15 años          1013  156.325536  2016         3  \n",
       "4  Población mayor o igual a 15 años          1013  156.325536  2016         3  \n",
       "\n",
       "[5 rows x 257 columns]"
      ]
     },
     "execution_count": 6,
     "metadata": {},
     "output_type": "execute_result"
    }
   ],
   "source": [
    "df_2016_tercertrimestre = pd.read_spss(\"../inputs/2016/tercer_trimestre/201609_EnemduBDD_per.sav\")\n",
    "df_2016_tercertrimestre[\"year\"] = 2016\n",
    "df_2016_tercertrimestre[\"trimestre\"] = 3\n",
    "df_2016_tercertrimestre.head()"
   ]
  },
  {
   "cell_type": "code",
   "execution_count": 7,
   "id": "39bd4efd",
   "metadata": {},
   "outputs": [
    {
     "data": {
      "text/html": [
       "<div>\n",
       "<style scoped>\n",
       "    .dataframe tbody tr th:only-of-type {\n",
       "        vertical-align: middle;\n",
       "    }\n",
       "\n",
       "    .dataframe tbody tr th {\n",
       "        vertical-align: top;\n",
       "    }\n",
       "\n",
       "    .dataframe thead th {\n",
       "        text-align: right;\n",
       "    }\n",
       "</style>\n",
       "<table border=\"1\" class=\"dataframe\">\n",
       "  <thead>\n",
       "    <tr style=\"text-align: right;\">\n",
       "      <th></th>\n",
       "      <th>area</th>\n",
       "      <th>ciudad</th>\n",
       "      <th>zona</th>\n",
       "      <th>sector</th>\n",
       "      <th>panelm</th>\n",
       "      <th>vivienda</th>\n",
       "      <th>hogar</th>\n",
       "      <th>p01</th>\n",
       "      <th>p02</th>\n",
       "      <th>p03</th>\n",
       "      <th>...</th>\n",
       "      <th>nr</th>\n",
       "      <th>nc</th>\n",
       "      <th>desem</th>\n",
       "      <th>desemab</th>\n",
       "      <th>desemoc</th>\n",
       "      <th>desem1</th>\n",
       "      <th>desem2</th>\n",
       "      <th>pein</th>\n",
       "      <th>year</th>\n",
       "      <th>trimestre</th>\n",
       "    </tr>\n",
       "  </thead>\n",
       "  <tbody>\n",
       "    <tr>\n",
       "      <th>0</th>\n",
       "      <td>Urbana</td>\n",
       "      <td>10150.0</td>\n",
       "      <td>001</td>\n",
       "      <td>003</td>\n",
       "      <td>Panel A2</td>\n",
       "      <td>Vivienda Uno</td>\n",
       "      <td>Hogar Uno</td>\n",
       "      <td>Persona 1</td>\n",
       "      <td>Hombre</td>\n",
       "      <td>44.0</td>\n",
       "      <td>...</td>\n",
       "      <td>NaN</td>\n",
       "      <td>NaN</td>\n",
       "      <td>NaN</td>\n",
       "      <td>NaN</td>\n",
       "      <td>NaN</td>\n",
       "      <td>NaN</td>\n",
       "      <td>NaN</td>\n",
       "      <td>NaN</td>\n",
       "      <td>2016</td>\n",
       "      <td>4</td>\n",
       "    </tr>\n",
       "    <tr>\n",
       "      <th>1</th>\n",
       "      <td>Urbana</td>\n",
       "      <td>10150.0</td>\n",
       "      <td>001</td>\n",
       "      <td>003</td>\n",
       "      <td>Panel A2</td>\n",
       "      <td>Vivienda Uno</td>\n",
       "      <td>Hogar Uno</td>\n",
       "      <td>Persona 2</td>\n",
       "      <td>Mujer</td>\n",
       "      <td>42.0</td>\n",
       "      <td>...</td>\n",
       "      <td>NaN</td>\n",
       "      <td>NaN</td>\n",
       "      <td>NaN</td>\n",
       "      <td>NaN</td>\n",
       "      <td>NaN</td>\n",
       "      <td>NaN</td>\n",
       "      <td>NaN</td>\n",
       "      <td>Población Económicamente Inactiva</td>\n",
       "      <td>2016</td>\n",
       "      <td>4</td>\n",
       "    </tr>\n",
       "    <tr>\n",
       "      <th>2</th>\n",
       "      <td>Urbana</td>\n",
       "      <td>10150.0</td>\n",
       "      <td>001</td>\n",
       "      <td>003</td>\n",
       "      <td>Panel A2</td>\n",
       "      <td>Vivienda Uno</td>\n",
       "      <td>Hogar Uno</td>\n",
       "      <td>Persona 3</td>\n",
       "      <td>Hombre</td>\n",
       "      <td>21.0</td>\n",
       "      <td>...</td>\n",
       "      <td>NaN</td>\n",
       "      <td>NaN</td>\n",
       "      <td>NaN</td>\n",
       "      <td>NaN</td>\n",
       "      <td>NaN</td>\n",
       "      <td>NaN</td>\n",
       "      <td>NaN</td>\n",
       "      <td>NaN</td>\n",
       "      <td>2016</td>\n",
       "      <td>4</td>\n",
       "    </tr>\n",
       "    <tr>\n",
       "      <th>3</th>\n",
       "      <td>Urbana</td>\n",
       "      <td>10150.0</td>\n",
       "      <td>001</td>\n",
       "      <td>003</td>\n",
       "      <td>Panel A2</td>\n",
       "      <td>Vivienda Uno</td>\n",
       "      <td>Hogar Uno</td>\n",
       "      <td>Persona 4</td>\n",
       "      <td>Mujer</td>\n",
       "      <td>19.0</td>\n",
       "      <td>...</td>\n",
       "      <td>NaN</td>\n",
       "      <td>NaN</td>\n",
       "      <td>NaN</td>\n",
       "      <td>NaN</td>\n",
       "      <td>NaN</td>\n",
       "      <td>NaN</td>\n",
       "      <td>NaN</td>\n",
       "      <td>NaN</td>\n",
       "      <td>2016</td>\n",
       "      <td>4</td>\n",
       "    </tr>\n",
       "    <tr>\n",
       "      <th>4</th>\n",
       "      <td>Urbana</td>\n",
       "      <td>10150.0</td>\n",
       "      <td>001</td>\n",
       "      <td>003</td>\n",
       "      <td>Panel A2</td>\n",
       "      <td>Vivienda Dos</td>\n",
       "      <td>Hogar Uno</td>\n",
       "      <td>Persona 1</td>\n",
       "      <td>Hombre</td>\n",
       "      <td>45.0</td>\n",
       "      <td>...</td>\n",
       "      <td>NaN</td>\n",
       "      <td>NaN</td>\n",
       "      <td>NaN</td>\n",
       "      <td>NaN</td>\n",
       "      <td>NaN</td>\n",
       "      <td>NaN</td>\n",
       "      <td>NaN</td>\n",
       "      <td>NaN</td>\n",
       "      <td>2016</td>\n",
       "      <td>4</td>\n",
       "    </tr>\n",
       "  </tbody>\n",
       "</table>\n",
       "<p>5 rows × 274 columns</p>\n",
       "</div>"
      ],
      "text/plain": [
       "     area   ciudad zona sector    panelm      vivienda      hogar        p01  \\\n",
       "0  Urbana  10150.0  001    003  Panel A2  Vivienda Uno  Hogar Uno  Persona 1   \n",
       "1  Urbana  10150.0  001    003  Panel A2  Vivienda Uno  Hogar Uno  Persona 2   \n",
       "2  Urbana  10150.0  001    003  Panel A2  Vivienda Uno  Hogar Uno  Persona 3   \n",
       "3  Urbana  10150.0  001    003  Panel A2  Vivienda Uno  Hogar Uno  Persona 4   \n",
       "4  Urbana  10150.0  001    003  Panel A2  Vivienda Dos  Hogar Uno  Persona 1   \n",
       "\n",
       "      p02   p03  ...   nr   nc desem desemab desemoc desem1 desem2  \\\n",
       "0  Hombre  44.0  ...  NaN  NaN   NaN     NaN     NaN    NaN    NaN   \n",
       "1   Mujer  42.0  ...  NaN  NaN   NaN     NaN     NaN    NaN    NaN   \n",
       "2  Hombre  21.0  ...  NaN  NaN   NaN     NaN     NaN    NaN    NaN   \n",
       "3   Mujer  19.0  ...  NaN  NaN   NaN     NaN     NaN    NaN    NaN   \n",
       "4  Hombre  45.0  ...  NaN  NaN   NaN     NaN     NaN    NaN    NaN   \n",
       "\n",
       "                                pein  year trimestre  \n",
       "0                                NaN  2016         4  \n",
       "1  Población Económicamente Inactiva  2016         4  \n",
       "2                                NaN  2016         4  \n",
       "3                                NaN  2016         4  \n",
       "4                                NaN  2016         4  \n",
       "\n",
       "[5 rows x 274 columns]"
      ]
     },
     "execution_count": 7,
     "metadata": {},
     "output_type": "execute_result"
    }
   ],
   "source": [
    "df_2016_cuartotrimestre = pd.read_spss(\"../inputs/2016/cuarto_trimestre/122016_EnemduBDD_completa.sav\")\n",
    "df_2016_cuartotrimestre[\"year\"] = 2016\n",
    "df_2016_cuartotrimestre[\"trimestre\"] = 4\n",
    "df_2016_cuartotrimestre.head()"
   ]
  },
  {
   "cell_type": "code",
   "execution_count": 8,
   "id": "dfee27a1",
   "metadata": {},
   "outputs": [
    {
     "data": {
      "text/html": [
       "<div>\n",
       "<style scoped>\n",
       "    .dataframe tbody tr th:only-of-type {\n",
       "        vertical-align: middle;\n",
       "    }\n",
       "\n",
       "    .dataframe tbody tr th {\n",
       "        vertical-align: top;\n",
       "    }\n",
       "\n",
       "    .dataframe thead th {\n",
       "        text-align: right;\n",
       "    }\n",
       "</style>\n",
       "<table border=\"1\" class=\"dataframe\">\n",
       "  <thead>\n",
       "    <tr style=\"text-align: right;\">\n",
       "      <th></th>\n",
       "      <th>area</th>\n",
       "      <th>ciudad</th>\n",
       "      <th>zona</th>\n",
       "      <th>sector</th>\n",
       "      <th>panelm</th>\n",
       "      <th>vivienda</th>\n",
       "      <th>hogar</th>\n",
       "      <th>p01</th>\n",
       "      <th>p02</th>\n",
       "      <th>p03</th>\n",
       "      <th>...</th>\n",
       "      <th>desemoc</th>\n",
       "      <th>desem1</th>\n",
       "      <th>desem2</th>\n",
       "      <th>pein</th>\n",
       "      <th>menor10</th>\n",
       "      <th>menor15</th>\n",
       "      <th>pobla10</th>\n",
       "      <th>pobla15</th>\n",
       "      <th>year</th>\n",
       "      <th>trimestre</th>\n",
       "    </tr>\n",
       "  </thead>\n",
       "  <tbody>\n",
       "    <tr>\n",
       "      <th>0</th>\n",
       "      <td>Urbana</td>\n",
       "      <td>10150.0</td>\n",
       "      <td>001</td>\n",
       "      <td>003</td>\n",
       "      <td>Panel K2</td>\n",
       "      <td>Vivienda Uno</td>\n",
       "      <td>Hogar Uno</td>\n",
       "      <td>Persona 1</td>\n",
       "      <td>Hombre</td>\n",
       "      <td>54.0</td>\n",
       "      <td>...</td>\n",
       "      <td>NaN</td>\n",
       "      <td>NaN</td>\n",
       "      <td>NaN</td>\n",
       "      <td>NaN</td>\n",
       "      <td>NaN</td>\n",
       "      <td>NaN</td>\n",
       "      <td>Población mayor o igual a 10 años</td>\n",
       "      <td>Población mayor o igual a 15 años</td>\n",
       "      <td>2017</td>\n",
       "      <td>1</td>\n",
       "    </tr>\n",
       "    <tr>\n",
       "      <th>1</th>\n",
       "      <td>Urbana</td>\n",
       "      <td>10150.0</td>\n",
       "      <td>001</td>\n",
       "      <td>003</td>\n",
       "      <td>Panel K2</td>\n",
       "      <td>Vivienda Uno</td>\n",
       "      <td>Hogar Uno</td>\n",
       "      <td>Persona 2</td>\n",
       "      <td>Mujer</td>\n",
       "      <td>53.0</td>\n",
       "      <td>...</td>\n",
       "      <td>NaN</td>\n",
       "      <td>NaN</td>\n",
       "      <td>NaN</td>\n",
       "      <td>NaN</td>\n",
       "      <td>NaN</td>\n",
       "      <td>NaN</td>\n",
       "      <td>Población mayor o igual a 10 años</td>\n",
       "      <td>Población mayor o igual a 15 años</td>\n",
       "      <td>2017</td>\n",
       "      <td>1</td>\n",
       "    </tr>\n",
       "    <tr>\n",
       "      <th>2</th>\n",
       "      <td>Urbana</td>\n",
       "      <td>10150.0</td>\n",
       "      <td>001</td>\n",
       "      <td>003</td>\n",
       "      <td>Panel K2</td>\n",
       "      <td>Vivienda Uno</td>\n",
       "      <td>Hogar Uno</td>\n",
       "      <td>Persona 3</td>\n",
       "      <td>Mujer</td>\n",
       "      <td>15.0</td>\n",
       "      <td>...</td>\n",
       "      <td>NaN</td>\n",
       "      <td>NaN</td>\n",
       "      <td>NaN</td>\n",
       "      <td>Población Económicamente Inactiva</td>\n",
       "      <td>NaN</td>\n",
       "      <td>NaN</td>\n",
       "      <td>Población mayor o igual a 10 años</td>\n",
       "      <td>Población mayor o igual a 15 años</td>\n",
       "      <td>2017</td>\n",
       "      <td>1</td>\n",
       "    </tr>\n",
       "    <tr>\n",
       "      <th>3</th>\n",
       "      <td>Urbana</td>\n",
       "      <td>10150.0</td>\n",
       "      <td>001</td>\n",
       "      <td>003</td>\n",
       "      <td>Panel K2</td>\n",
       "      <td>Vivienda Dos</td>\n",
       "      <td>Hogar Uno</td>\n",
       "      <td>Persona 1</td>\n",
       "      <td>Mujer</td>\n",
       "      <td>51.0</td>\n",
       "      <td>...</td>\n",
       "      <td>NaN</td>\n",
       "      <td>NaN</td>\n",
       "      <td>NaN</td>\n",
       "      <td>NaN</td>\n",
       "      <td>NaN</td>\n",
       "      <td>NaN</td>\n",
       "      <td>Población mayor o igual a 10 años</td>\n",
       "      <td>Población mayor o igual a 15 años</td>\n",
       "      <td>2017</td>\n",
       "      <td>1</td>\n",
       "    </tr>\n",
       "    <tr>\n",
       "      <th>4</th>\n",
       "      <td>Urbana</td>\n",
       "      <td>10150.0</td>\n",
       "      <td>001</td>\n",
       "      <td>003</td>\n",
       "      <td>Panel K2</td>\n",
       "      <td>Vivienda Dos</td>\n",
       "      <td>Hogar Uno</td>\n",
       "      <td>Persona 2</td>\n",
       "      <td>Hombre</td>\n",
       "      <td>47.0</td>\n",
       "      <td>...</td>\n",
       "      <td>NaN</td>\n",
       "      <td>NaN</td>\n",
       "      <td>NaN</td>\n",
       "      <td>NaN</td>\n",
       "      <td>NaN</td>\n",
       "      <td>NaN</td>\n",
       "      <td>Población mayor o igual a 10 años</td>\n",
       "      <td>Población mayor o igual a 15 años</td>\n",
       "      <td>2017</td>\n",
       "      <td>1</td>\n",
       "    </tr>\n",
       "  </tbody>\n",
       "</table>\n",
       "<p>5 rows × 187 columns</p>\n",
       "</div>"
      ],
      "text/plain": [
       "     area   ciudad zona sector    panelm      vivienda      hogar        p01  \\\n",
       "0  Urbana  10150.0  001    003  Panel K2  Vivienda Uno  Hogar Uno  Persona 1   \n",
       "1  Urbana  10150.0  001    003  Panel K2  Vivienda Uno  Hogar Uno  Persona 2   \n",
       "2  Urbana  10150.0  001    003  Panel K2  Vivienda Uno  Hogar Uno  Persona 3   \n",
       "3  Urbana  10150.0  001    003  Panel K2  Vivienda Dos  Hogar Uno  Persona 1   \n",
       "4  Urbana  10150.0  001    003  Panel K2  Vivienda Dos  Hogar Uno  Persona 2   \n",
       "\n",
       "      p02   p03  ... desemoc desem1 desem2                               pein  \\\n",
       "0  Hombre  54.0  ...     NaN    NaN    NaN                                NaN   \n",
       "1   Mujer  53.0  ...     NaN    NaN    NaN                                NaN   \n",
       "2   Mujer  15.0  ...     NaN    NaN    NaN  Población Económicamente Inactiva   \n",
       "3   Mujer  51.0  ...     NaN    NaN    NaN                                NaN   \n",
       "4  Hombre  47.0  ...     NaN    NaN    NaN                                NaN   \n",
       "\n",
       "  menor10 menor15                            pobla10  \\\n",
       "0     NaN     NaN  Población mayor o igual a 10 años   \n",
       "1     NaN     NaN  Población mayor o igual a 10 años   \n",
       "2     NaN     NaN  Población mayor o igual a 10 años   \n",
       "3     NaN     NaN  Población mayor o igual a 10 años   \n",
       "4     NaN     NaN  Población mayor o igual a 10 años   \n",
       "\n",
       "                             pobla15  year trimestre  \n",
       "0  Población mayor o igual a 15 años  2017         1  \n",
       "1  Población mayor o igual a 15 años  2017         1  \n",
       "2  Población mayor o igual a 15 años  2017         1  \n",
       "3  Población mayor o igual a 15 años  2017         1  \n",
       "4  Población mayor o igual a 15 años  2017         1  \n",
       "\n",
       "[5 rows x 187 columns]"
      ]
     },
     "execution_count": 8,
     "metadata": {},
     "output_type": "execute_result"
    }
   ],
   "source": [
    "df_2017_primertrimestre = pd.read_spss(\"../inputs/2017/primer_trimestre/201703_EnemduBDD_15anios.sav\")\n",
    "df_2017_primertrimestre[\"year\"] = 2017\n",
    "df_2017_primertrimestre[\"trimestre\"] = 1\n",
    "df_2017_primertrimestre.head()"
   ]
  },
  {
   "cell_type": "code",
   "execution_count": 9,
   "id": "1b2e2ab0",
   "metadata": {},
   "outputs": [
    {
     "data": {
      "text/html": [
       "<div>\n",
       "<style scoped>\n",
       "    .dataframe tbody tr th:only-of-type {\n",
       "        vertical-align: middle;\n",
       "    }\n",
       "\n",
       "    .dataframe tbody tr th {\n",
       "        vertical-align: top;\n",
       "    }\n",
       "\n",
       "    .dataframe thead th {\n",
       "        text-align: right;\n",
       "    }\n",
       "</style>\n",
       "<table border=\"1\" class=\"dataframe\">\n",
       "  <thead>\n",
       "    <tr style=\"text-align: right;\">\n",
       "      <th></th>\n",
       "      <th>area</th>\n",
       "      <th>ciudad</th>\n",
       "      <th>zona</th>\n",
       "      <th>sector</th>\n",
       "      <th>panelm</th>\n",
       "      <th>vivienda</th>\n",
       "      <th>hogar</th>\n",
       "      <th>p01</th>\n",
       "      <th>p02</th>\n",
       "      <th>p03</th>\n",
       "      <th>...</th>\n",
       "      <th>desemoc</th>\n",
       "      <th>desem1</th>\n",
       "      <th>desem2</th>\n",
       "      <th>pein</th>\n",
       "      <th>menor10</th>\n",
       "      <th>menor15</th>\n",
       "      <th>pobla10</th>\n",
       "      <th>pobla15</th>\n",
       "      <th>year</th>\n",
       "      <th>trimestre</th>\n",
       "    </tr>\n",
       "  </thead>\n",
       "  <tbody>\n",
       "    <tr>\n",
       "      <th>0</th>\n",
       "      <td>Urbana</td>\n",
       "      <td>10150.0</td>\n",
       "      <td>001</td>\n",
       "      <td>003</td>\n",
       "      <td>Panel Q2</td>\n",
       "      <td>Vivienda Uno</td>\n",
       "      <td>Hogar Uno</td>\n",
       "      <td>Persona 1</td>\n",
       "      <td>Mujer</td>\n",
       "      <td>40.0</td>\n",
       "      <td>...</td>\n",
       "      <td>NaN</td>\n",
       "      <td>NaN</td>\n",
       "      <td>NaN</td>\n",
       "      <td>NaN</td>\n",
       "      <td>NaN</td>\n",
       "      <td>NaN</td>\n",
       "      <td>Población mayor o igual a 10 años</td>\n",
       "      <td>Población mayor o igual a 15 años</td>\n",
       "      <td>2017</td>\n",
       "      <td>2</td>\n",
       "    </tr>\n",
       "    <tr>\n",
       "      <th>1</th>\n",
       "      <td>Urbana</td>\n",
       "      <td>10150.0</td>\n",
       "      <td>001</td>\n",
       "      <td>003</td>\n",
       "      <td>Panel Q2</td>\n",
       "      <td>Vivienda Uno</td>\n",
       "      <td>Hogar Uno</td>\n",
       "      <td>Persona 2</td>\n",
       "      <td>Mujer</td>\n",
       "      <td>23.0</td>\n",
       "      <td>...</td>\n",
       "      <td>NaN</td>\n",
       "      <td>NaN</td>\n",
       "      <td>NaN</td>\n",
       "      <td>NaN</td>\n",
       "      <td>NaN</td>\n",
       "      <td>NaN</td>\n",
       "      <td>Población mayor o igual a 10 años</td>\n",
       "      <td>Población mayor o igual a 15 años</td>\n",
       "      <td>2017</td>\n",
       "      <td>2</td>\n",
       "    </tr>\n",
       "    <tr>\n",
       "      <th>2</th>\n",
       "      <td>Urbana</td>\n",
       "      <td>10150.0</td>\n",
       "      <td>001</td>\n",
       "      <td>003</td>\n",
       "      <td>Panel Q2</td>\n",
       "      <td>Vivienda Uno</td>\n",
       "      <td>Hogar Uno</td>\n",
       "      <td>Persona 3</td>\n",
       "      <td>Mujer</td>\n",
       "      <td>20.0</td>\n",
       "      <td>...</td>\n",
       "      <td>NaN</td>\n",
       "      <td>NaN</td>\n",
       "      <td>NaN</td>\n",
       "      <td>NaN</td>\n",
       "      <td>NaN</td>\n",
       "      <td>NaN</td>\n",
       "      <td>Población mayor o igual a 10 años</td>\n",
       "      <td>Población mayor o igual a 15 años</td>\n",
       "      <td>2017</td>\n",
       "      <td>2</td>\n",
       "    </tr>\n",
       "    <tr>\n",
       "      <th>3</th>\n",
       "      <td>Urbana</td>\n",
       "      <td>10150.0</td>\n",
       "      <td>001</td>\n",
       "      <td>003</td>\n",
       "      <td>Panel Q2</td>\n",
       "      <td>Vivienda Uno</td>\n",
       "      <td>Hogar Uno</td>\n",
       "      <td>Persona 4</td>\n",
       "      <td>Hombre</td>\n",
       "      <td>18.0</td>\n",
       "      <td>...</td>\n",
       "      <td>NaN</td>\n",
       "      <td>NaN</td>\n",
       "      <td>NaN</td>\n",
       "      <td>NaN</td>\n",
       "      <td>NaN</td>\n",
       "      <td>NaN</td>\n",
       "      <td>Población mayor o igual a 10 años</td>\n",
       "      <td>Población mayor o igual a 15 años</td>\n",
       "      <td>2017</td>\n",
       "      <td>2</td>\n",
       "    </tr>\n",
       "    <tr>\n",
       "      <th>4</th>\n",
       "      <td>Urbana</td>\n",
       "      <td>10150.0</td>\n",
       "      <td>001</td>\n",
       "      <td>003</td>\n",
       "      <td>Panel Q2</td>\n",
       "      <td>Vivienda Uno</td>\n",
       "      <td>Hogar Uno</td>\n",
       "      <td>Persona 5</td>\n",
       "      <td>Hombre</td>\n",
       "      <td>10.0</td>\n",
       "      <td>...</td>\n",
       "      <td>NaN</td>\n",
       "      <td>NaN</td>\n",
       "      <td>NaN</td>\n",
       "      <td>NaN</td>\n",
       "      <td>NaN</td>\n",
       "      <td>Población menor a 15 años</td>\n",
       "      <td>Población mayor o igual a 10 años</td>\n",
       "      <td>NaN</td>\n",
       "      <td>2017</td>\n",
       "      <td>2</td>\n",
       "    </tr>\n",
       "  </tbody>\n",
       "</table>\n",
       "<p>5 rows × 248 columns</p>\n",
       "</div>"
      ],
      "text/plain": [
       "     area   ciudad zona sector    panelm      vivienda      hogar        p01  \\\n",
       "0  Urbana  10150.0  001    003  Panel Q2  Vivienda Uno  Hogar Uno  Persona 1   \n",
       "1  Urbana  10150.0  001    003  Panel Q2  Vivienda Uno  Hogar Uno  Persona 2   \n",
       "2  Urbana  10150.0  001    003  Panel Q2  Vivienda Uno  Hogar Uno  Persona 3   \n",
       "3  Urbana  10150.0  001    003  Panel Q2  Vivienda Uno  Hogar Uno  Persona 4   \n",
       "4  Urbana  10150.0  001    003  Panel Q2  Vivienda Uno  Hogar Uno  Persona 5   \n",
       "\n",
       "      p02   p03  ... desemoc desem1 desem2 pein menor10  \\\n",
       "0   Mujer  40.0  ...     NaN    NaN    NaN  NaN     NaN   \n",
       "1   Mujer  23.0  ...     NaN    NaN    NaN  NaN     NaN   \n",
       "2   Mujer  20.0  ...     NaN    NaN    NaN  NaN     NaN   \n",
       "3  Hombre  18.0  ...     NaN    NaN    NaN  NaN     NaN   \n",
       "4  Hombre  10.0  ...     NaN    NaN    NaN  NaN     NaN   \n",
       "\n",
       "                     menor15                            pobla10  \\\n",
       "0                        NaN  Población mayor o igual a 10 años   \n",
       "1                        NaN  Población mayor o igual a 10 años   \n",
       "2                        NaN  Población mayor o igual a 10 años   \n",
       "3                        NaN  Población mayor o igual a 10 años   \n",
       "4  Población menor a 15 años  Población mayor o igual a 10 años   \n",
       "\n",
       "                             pobla15  year trimestre  \n",
       "0  Población mayor o igual a 15 años  2017         2  \n",
       "1  Población mayor o igual a 15 años  2017         2  \n",
       "2  Población mayor o igual a 15 años  2017         2  \n",
       "3  Población mayor o igual a 15 años  2017         2  \n",
       "4                                NaN  2017         2  \n",
       "\n",
       "[5 rows x 248 columns]"
      ]
     },
     "execution_count": 9,
     "metadata": {},
     "output_type": "execute_result"
    }
   ],
   "source": [
    "df_2017_segundotrimestre = pd.read_spss(\"../inputs/2017/segundo_trimestre/201706_EnemduBDD_15anio.sav.sav\")\n",
    "df_2017_segundotrimestre[\"year\"] = 2017\n",
    "df_2017_segundotrimestre[\"trimestre\"] = 2\n",
    "df_2017_segundotrimestre.head()"
   ]
  },
  {
   "cell_type": "code",
   "execution_count": 10,
   "id": "b8b931ee",
   "metadata": {},
   "outputs": [
    {
     "data": {
      "text/html": [
       "<div>\n",
       "<style scoped>\n",
       "    .dataframe tbody tr th:only-of-type {\n",
       "        vertical-align: middle;\n",
       "    }\n",
       "\n",
       "    .dataframe tbody tr th {\n",
       "        vertical-align: top;\n",
       "    }\n",
       "\n",
       "    .dataframe thead th {\n",
       "        text-align: right;\n",
       "    }\n",
       "</style>\n",
       "<table border=\"1\" class=\"dataframe\">\n",
       "  <thead>\n",
       "    <tr style=\"text-align: right;\">\n",
       "      <th></th>\n",
       "      <th>area</th>\n",
       "      <th>ciudad</th>\n",
       "      <th>zona</th>\n",
       "      <th>sector</th>\n",
       "      <th>panelm</th>\n",
       "      <th>vivienda</th>\n",
       "      <th>hogar</th>\n",
       "      <th>p01</th>\n",
       "      <th>p02</th>\n",
       "      <th>p03</th>\n",
       "      <th>...</th>\n",
       "      <th>desemoc</th>\n",
       "      <th>desem1</th>\n",
       "      <th>desem2</th>\n",
       "      <th>pein</th>\n",
       "      <th>menor10</th>\n",
       "      <th>menor15</th>\n",
       "      <th>pobla10</th>\n",
       "      <th>pobla15</th>\n",
       "      <th>year</th>\n",
       "      <th>trimestre</th>\n",
       "    </tr>\n",
       "  </thead>\n",
       "  <tbody>\n",
       "    <tr>\n",
       "      <th>0</th>\n",
       "      <td>Urbana</td>\n",
       "      <td>10150.0</td>\n",
       "      <td>001</td>\n",
       "      <td>003</td>\n",
       "      <td>Panel A3</td>\n",
       "      <td>Vivienda Uno</td>\n",
       "      <td>Hogar Uno</td>\n",
       "      <td>Persona 4</td>\n",
       "      <td>Hombre</td>\n",
       "      <td>11.0</td>\n",
       "      <td>...</td>\n",
       "      <td>NaN</td>\n",
       "      <td>NaN</td>\n",
       "      <td>NaN</td>\n",
       "      <td>NaN</td>\n",
       "      <td>NaN</td>\n",
       "      <td>Población menor a 15 años</td>\n",
       "      <td>Población mayor o igual a 10 años</td>\n",
       "      <td>NaN</td>\n",
       "      <td>2017</td>\n",
       "      <td>3</td>\n",
       "    </tr>\n",
       "    <tr>\n",
       "      <th>1</th>\n",
       "      <td>Urbana</td>\n",
       "      <td>10150.0</td>\n",
       "      <td>001</td>\n",
       "      <td>003</td>\n",
       "      <td>Panel A3</td>\n",
       "      <td>Vivienda Uno</td>\n",
       "      <td>Hogar Uno</td>\n",
       "      <td>Persona 3</td>\n",
       "      <td>Hombre</td>\n",
       "      <td>21.0</td>\n",
       "      <td>...</td>\n",
       "      <td>NaN</td>\n",
       "      <td>NaN</td>\n",
       "      <td>NaN</td>\n",
       "      <td>Población Económicamente Inactiva</td>\n",
       "      <td>NaN</td>\n",
       "      <td>NaN</td>\n",
       "      <td>Población mayor o igual a 10 años</td>\n",
       "      <td>Población mayor o igual a 15 años</td>\n",
       "      <td>2017</td>\n",
       "      <td>3</td>\n",
       "    </tr>\n",
       "    <tr>\n",
       "      <th>2</th>\n",
       "      <td>Urbana</td>\n",
       "      <td>10150.0</td>\n",
       "      <td>001</td>\n",
       "      <td>003</td>\n",
       "      <td>Panel A3</td>\n",
       "      <td>Vivienda Uno</td>\n",
       "      <td>Hogar Uno</td>\n",
       "      <td>Persona 1</td>\n",
       "      <td>Hombre</td>\n",
       "      <td>43.0</td>\n",
       "      <td>...</td>\n",
       "      <td>NaN</td>\n",
       "      <td>Desempleo cesante</td>\n",
       "      <td>NaN</td>\n",
       "      <td>NaN</td>\n",
       "      <td>NaN</td>\n",
       "      <td>NaN</td>\n",
       "      <td>Población mayor o igual a 10 años</td>\n",
       "      <td>Población mayor o igual a 15 años</td>\n",
       "      <td>2017</td>\n",
       "      <td>3</td>\n",
       "    </tr>\n",
       "    <tr>\n",
       "      <th>3</th>\n",
       "      <td>Urbana</td>\n",
       "      <td>10150.0</td>\n",
       "      <td>001</td>\n",
       "      <td>003</td>\n",
       "      <td>Panel A3</td>\n",
       "      <td>Vivienda Uno</td>\n",
       "      <td>Hogar Uno</td>\n",
       "      <td>Persona 2</td>\n",
       "      <td>Mujer</td>\n",
       "      <td>41.0</td>\n",
       "      <td>...</td>\n",
       "      <td>NaN</td>\n",
       "      <td>NaN</td>\n",
       "      <td>NaN</td>\n",
       "      <td>NaN</td>\n",
       "      <td>NaN</td>\n",
       "      <td>NaN</td>\n",
       "      <td>Población mayor o igual a 10 años</td>\n",
       "      <td>Población mayor o igual a 15 años</td>\n",
       "      <td>2017</td>\n",
       "      <td>3</td>\n",
       "    </tr>\n",
       "    <tr>\n",
       "      <th>4</th>\n",
       "      <td>Urbana</td>\n",
       "      <td>10150.0</td>\n",
       "      <td>001</td>\n",
       "      <td>003</td>\n",
       "      <td>Panel A3</td>\n",
       "      <td>Vivienda Dos</td>\n",
       "      <td>Hogar Uno</td>\n",
       "      <td>Persona 3</td>\n",
       "      <td>Mujer</td>\n",
       "      <td>24.0</td>\n",
       "      <td>...</td>\n",
       "      <td>NaN</td>\n",
       "      <td>NaN</td>\n",
       "      <td>NaN</td>\n",
       "      <td>NaN</td>\n",
       "      <td>NaN</td>\n",
       "      <td>NaN</td>\n",
       "      <td>Población mayor o igual a 10 años</td>\n",
       "      <td>Población mayor o igual a 15 años</td>\n",
       "      <td>2017</td>\n",
       "      <td>3</td>\n",
       "    </tr>\n",
       "  </tbody>\n",
       "</table>\n",
       "<p>5 rows × 258 columns</p>\n",
       "</div>"
      ],
      "text/plain": [
       "     area   ciudad zona sector    panelm      vivienda      hogar        p01  \\\n",
       "0  Urbana  10150.0  001    003  Panel A3  Vivienda Uno  Hogar Uno  Persona 4   \n",
       "1  Urbana  10150.0  001    003  Panel A3  Vivienda Uno  Hogar Uno  Persona 3   \n",
       "2  Urbana  10150.0  001    003  Panel A3  Vivienda Uno  Hogar Uno  Persona 1   \n",
       "3  Urbana  10150.0  001    003  Panel A3  Vivienda Uno  Hogar Uno  Persona 2   \n",
       "4  Urbana  10150.0  001    003  Panel A3  Vivienda Dos  Hogar Uno  Persona 3   \n",
       "\n",
       "      p02   p03  ... desemoc             desem1 desem2  \\\n",
       "0  Hombre  11.0  ...     NaN                NaN    NaN   \n",
       "1  Hombre  21.0  ...     NaN                NaN    NaN   \n",
       "2  Hombre  43.0  ...     NaN  Desempleo cesante    NaN   \n",
       "3   Mujer  41.0  ...     NaN                NaN    NaN   \n",
       "4   Mujer  24.0  ...     NaN                NaN    NaN   \n",
       "\n",
       "                                pein menor10                    menor15  \\\n",
       "0                                NaN     NaN  Población menor a 15 años   \n",
       "1  Población Económicamente Inactiva     NaN                        NaN   \n",
       "2                                NaN     NaN                        NaN   \n",
       "3                                NaN     NaN                        NaN   \n",
       "4                                NaN     NaN                        NaN   \n",
       "\n",
       "                             pobla10                            pobla15  year  \\\n",
       "0  Población mayor o igual a 10 años                                NaN  2017   \n",
       "1  Población mayor o igual a 10 años  Población mayor o igual a 15 años  2017   \n",
       "2  Población mayor o igual a 10 años  Población mayor o igual a 15 años  2017   \n",
       "3  Población mayor o igual a 10 años  Población mayor o igual a 15 años  2017   \n",
       "4  Población mayor o igual a 10 años  Población mayor o igual a 15 años  2017   \n",
       "\n",
       "  trimestre  \n",
       "0         3  \n",
       "1         3  \n",
       "2         3  \n",
       "3         3  \n",
       "4         3  \n",
       "\n",
       "[5 rows x 258 columns]"
      ]
     },
     "execution_count": 10,
     "metadata": {},
     "output_type": "execute_result"
    }
   ],
   "source": [
    "df_2017_tercertrimestre = pd.read_spss(\"../inputs/2017/tercer_trimestre/201709_EnemduBDD_15anios.sav\")\n",
    "df_2017_tercertrimestre[\"year\"] = 2017\n",
    "df_2017_tercertrimestre[\"trimestre\"] = 3\n",
    "df_2017_tercertrimestre.head()"
   ]
  },
  {
   "cell_type": "code",
   "execution_count": 11,
   "id": "78855003",
   "metadata": {},
   "outputs": [
    {
     "data": {
      "text/html": [
       "<div>\n",
       "<style scoped>\n",
       "    .dataframe tbody tr th:only-of-type {\n",
       "        vertical-align: middle;\n",
       "    }\n",
       "\n",
       "    .dataframe tbody tr th {\n",
       "        vertical-align: top;\n",
       "    }\n",
       "\n",
       "    .dataframe thead th {\n",
       "        text-align: right;\n",
       "    }\n",
       "</style>\n",
       "<table border=\"1\" class=\"dataframe\">\n",
       "  <thead>\n",
       "    <tr style=\"text-align: right;\">\n",
       "      <th></th>\n",
       "      <th>area</th>\n",
       "      <th>ciudad</th>\n",
       "      <th>conglomerado</th>\n",
       "      <th>zona</th>\n",
       "      <th>sector</th>\n",
       "      <th>panelm</th>\n",
       "      <th>vivienda</th>\n",
       "      <th>hogar</th>\n",
       "      <th>p01</th>\n",
       "      <th>p02</th>\n",
       "      <th>...</th>\n",
       "      <th>nr</th>\n",
       "      <th>nc</th>\n",
       "      <th>desem</th>\n",
       "      <th>desemab</th>\n",
       "      <th>desemoc</th>\n",
       "      <th>desem1</th>\n",
       "      <th>desem2</th>\n",
       "      <th>pein</th>\n",
       "      <th>year</th>\n",
       "      <th>trimestre</th>\n",
       "    </tr>\n",
       "  </thead>\n",
       "  <tbody>\n",
       "    <tr>\n",
       "      <th>0</th>\n",
       "      <td>Urbana</td>\n",
       "      <td>10150.0</td>\n",
       "      <td>999999</td>\n",
       "      <td>001</td>\n",
       "      <td>003</td>\n",
       "      <td>013</td>\n",
       "      <td>Vivienda Dos</td>\n",
       "      <td>Hogar Uno</td>\n",
       "      <td>Persona 1</td>\n",
       "      <td>Mujer</td>\n",
       "      <td>...</td>\n",
       "      <td>NaN</td>\n",
       "      <td>NaN</td>\n",
       "      <td>NaN</td>\n",
       "      <td>NaN</td>\n",
       "      <td>NaN</td>\n",
       "      <td>NaN</td>\n",
       "      <td>NaN</td>\n",
       "      <td>NaN</td>\n",
       "      <td>2017</td>\n",
       "      <td>4</td>\n",
       "    </tr>\n",
       "    <tr>\n",
       "      <th>1</th>\n",
       "      <td>Urbana</td>\n",
       "      <td>10150.0</td>\n",
       "      <td>999999</td>\n",
       "      <td>001</td>\n",
       "      <td>003</td>\n",
       "      <td>013</td>\n",
       "      <td>Vivienda Dos</td>\n",
       "      <td>Hogar Uno</td>\n",
       "      <td>Persona 2</td>\n",
       "      <td>Hombre</td>\n",
       "      <td>...</td>\n",
       "      <td>NaN</td>\n",
       "      <td>NaN</td>\n",
       "      <td>NaN</td>\n",
       "      <td>NaN</td>\n",
       "      <td>NaN</td>\n",
       "      <td>NaN</td>\n",
       "      <td>NaN</td>\n",
       "      <td>NaN</td>\n",
       "      <td>2017</td>\n",
       "      <td>4</td>\n",
       "    </tr>\n",
       "    <tr>\n",
       "      <th>2</th>\n",
       "      <td>Urbana</td>\n",
       "      <td>10150.0</td>\n",
       "      <td>999999</td>\n",
       "      <td>001</td>\n",
       "      <td>003</td>\n",
       "      <td>013</td>\n",
       "      <td>Vivienda Dos</td>\n",
       "      <td>Hogar Uno</td>\n",
       "      <td>Persona 3</td>\n",
       "      <td>Mujer</td>\n",
       "      <td>...</td>\n",
       "      <td>NaN</td>\n",
       "      <td>NaN</td>\n",
       "      <td>NaN</td>\n",
       "      <td>NaN</td>\n",
       "      <td>NaN</td>\n",
       "      <td>NaN</td>\n",
       "      <td>NaN</td>\n",
       "      <td>NaN</td>\n",
       "      <td>2017</td>\n",
       "      <td>4</td>\n",
       "    </tr>\n",
       "    <tr>\n",
       "      <th>3</th>\n",
       "      <td>Urbana</td>\n",
       "      <td>10150.0</td>\n",
       "      <td>999999</td>\n",
       "      <td>001</td>\n",
       "      <td>003</td>\n",
       "      <td>013</td>\n",
       "      <td>Vivienda Tres</td>\n",
       "      <td>Hogar Uno</td>\n",
       "      <td>Persona 1</td>\n",
       "      <td>Hombre</td>\n",
       "      <td>...</td>\n",
       "      <td>NaN</td>\n",
       "      <td>NaN</td>\n",
       "      <td>NaN</td>\n",
       "      <td>NaN</td>\n",
       "      <td>NaN</td>\n",
       "      <td>NaN</td>\n",
       "      <td>NaN</td>\n",
       "      <td>NaN</td>\n",
       "      <td>2017</td>\n",
       "      <td>4</td>\n",
       "    </tr>\n",
       "    <tr>\n",
       "      <th>4</th>\n",
       "      <td>Urbana</td>\n",
       "      <td>10150.0</td>\n",
       "      <td>999999</td>\n",
       "      <td>001</td>\n",
       "      <td>003</td>\n",
       "      <td>013</td>\n",
       "      <td>Vivienda Tres</td>\n",
       "      <td>Hogar Uno</td>\n",
       "      <td>Persona 2</td>\n",
       "      <td>Mujer</td>\n",
       "      <td>...</td>\n",
       "      <td>NaN</td>\n",
       "      <td>NaN</td>\n",
       "      <td>NaN</td>\n",
       "      <td>NaN</td>\n",
       "      <td>NaN</td>\n",
       "      <td>NaN</td>\n",
       "      <td>NaN</td>\n",
       "      <td>Población Económicamente Inactiva</td>\n",
       "      <td>2017</td>\n",
       "      <td>4</td>\n",
       "    </tr>\n",
       "  </tbody>\n",
       "</table>\n",
       "<p>5 rows × 315 columns</p>\n",
       "</div>"
      ],
      "text/plain": [
       "     area   ciudad conglomerado zona sector panelm       vivienda      hogar  \\\n",
       "0  Urbana  10150.0       999999  001    003    013   Vivienda Dos  Hogar Uno   \n",
       "1  Urbana  10150.0       999999  001    003    013   Vivienda Dos  Hogar Uno   \n",
       "2  Urbana  10150.0       999999  001    003    013   Vivienda Dos  Hogar Uno   \n",
       "3  Urbana  10150.0       999999  001    003    013  Vivienda Tres  Hogar Uno   \n",
       "4  Urbana  10150.0       999999  001    003    013  Vivienda Tres  Hogar Uno   \n",
       "\n",
       "         p01     p02  ...   nr   nc desem desemab desemoc desem1 desem2  \\\n",
       "0  Persona 1   Mujer  ...  NaN  NaN   NaN     NaN     NaN    NaN    NaN   \n",
       "1  Persona 2  Hombre  ...  NaN  NaN   NaN     NaN     NaN    NaN    NaN   \n",
       "2  Persona 3   Mujer  ...  NaN  NaN   NaN     NaN     NaN    NaN    NaN   \n",
       "3  Persona 1  Hombre  ...  NaN  NaN   NaN     NaN     NaN    NaN    NaN   \n",
       "4  Persona 2   Mujer  ...  NaN  NaN   NaN     NaN     NaN    NaN    NaN   \n",
       "\n",
       "                                pein  year  trimestre  \n",
       "0                                NaN  2017          4  \n",
       "1                                NaN  2017          4  \n",
       "2                                NaN  2017          4  \n",
       "3                                NaN  2017          4  \n",
       "4  Población Económicamente Inactiva  2017          4  \n",
       "\n",
       "[5 rows x 315 columns]"
      ]
     },
     "execution_count": 11,
     "metadata": {},
     "output_type": "execute_result"
    }
   ],
   "source": [
    "df_2017_cuartotrimestre = pd.read_spss(\"../inputs/2017/cuarto_trimestre/201712_EnemduBDD_15anios.sav\")\n",
    "df_2017_cuartotrimestre[\"year\"] = 2017\n",
    "df_2017_cuartotrimestre[\"trimestre\"] = 4\n",
    "df_2017_cuartotrimestre.head()"
   ]
  },
  {
   "cell_type": "code",
   "execution_count": 12,
   "id": "b08eda47",
   "metadata": {},
   "outputs": [],
   "source": [
    "df = pd.concat([df_2016_primertrimestre, df_2017_primertrimestre, df_2016_segundotrimestre, df_2017_segundotrimestre, \n",
    "          df_2016_tercertrimestre, df_2017_tercertrimestre, df_2016_cuartotrimestre, df_2017_cuartotrimestre])"
   ]
  },
  {
   "cell_type": "code",
   "execution_count": 13,
   "id": "8a85e8dc",
   "metadata": {},
   "outputs": [
    {
     "data": {
      "text/plain": [
       "Index(['area', 'ciudad', 'zona', 'sector', 'panelm', 'vivienda', 'hogar',\n",
       "       'p01', 'p02', 'p03',\n",
       "       ...\n",
       "       'seg122', 'seg123', 'prov', 'conglomerado', 'pe03a1', 'pe03a2',\n",
       "       'pe03a3', 'pe03a4', 'pe03a5', 'id_sector'],\n",
       "      dtype='object', length=419)"
      ]
     },
     "execution_count": 13,
     "metadata": {},
     "output_type": "execute_result"
    }
   ],
   "source": [
    "df.columns"
   ]
  },
  {
   "cell_type": "code",
   "execution_count": 14,
   "id": "4ef6db32",
   "metadata": {},
   "outputs": [],
   "source": [
    "#df[\"i\"]"
   ]
  },
  {
   "cell_type": "code",
   "execution_count": 15,
   "id": "7121870c",
   "metadata": {},
   "outputs": [],
   "source": [
    "gdf_cantones = gpd.read_file(\"../inputs/SHP/nxcantones.shp\")"
   ]
  },
  {
   "cell_type": "code",
   "execution_count": 16,
   "id": "25e5594d",
   "metadata": {},
   "outputs": [
    {
     "data": {
      "text/html": [
       "<div>\n",
       "<style scoped>\n",
       "    .dataframe tbody tr th:only-of-type {\n",
       "        vertical-align: middle;\n",
       "    }\n",
       "\n",
       "    .dataframe tbody tr th {\n",
       "        vertical-align: top;\n",
       "    }\n",
       "\n",
       "    .dataframe thead th {\n",
       "        text-align: right;\n",
       "    }\n",
       "</style>\n",
       "<table border=\"1\" class=\"dataframe\">\n",
       "  <thead>\n",
       "    <tr style=\"text-align: right;\">\n",
       "      <th></th>\n",
       "      <th>DPA_VALOR</th>\n",
       "      <th>DPA_ANIO</th>\n",
       "      <th>DPA_CANTON</th>\n",
       "      <th>DPA_DESCAN</th>\n",
       "      <th>DPA_PROVIN</th>\n",
       "      <th>DPA_DESPRO</th>\n",
       "      <th>geometry</th>\n",
       "    </tr>\n",
       "  </thead>\n",
       "  <tbody>\n",
       "    <tr>\n",
       "      <th>0</th>\n",
       "      <td>0</td>\n",
       "      <td>2012</td>\n",
       "      <td>0201</td>\n",
       "      <td>GUARANDA</td>\n",
       "      <td>02</td>\n",
       "      <td>BOLIVAR</td>\n",
       "      <td>POLYGON ((710807.591 9872762.982, 710853.291 9...</td>\n",
       "    </tr>\n",
       "    <tr>\n",
       "      <th>1</th>\n",
       "      <td>0</td>\n",
       "      <td>2012</td>\n",
       "      <td>0202</td>\n",
       "      <td>CHILLANES</td>\n",
       "      <td>02</td>\n",
       "      <td>BOLIVAR</td>\n",
       "      <td>POLYGON ((720530.210 9793835.659, 720541.380 9...</td>\n",
       "    </tr>\n",
       "    <tr>\n",
       "      <th>2</th>\n",
       "      <td>0</td>\n",
       "      <td>2012</td>\n",
       "      <td>0203</td>\n",
       "      <td>CHIMBO</td>\n",
       "      <td>02</td>\n",
       "      <td>BOLIVAR</td>\n",
       "      <td>POLYGON ((711141.911 9822095.666, 711185.441 9...</td>\n",
       "    </tr>\n",
       "    <tr>\n",
       "      <th>3</th>\n",
       "      <td>0</td>\n",
       "      <td>2012</td>\n",
       "      <td>0204</td>\n",
       "      <td>ECHEANDIA</td>\n",
       "      <td>02</td>\n",
       "      <td>BOLIVAR</td>\n",
       "      <td>POLYGON ((700585.537 9836991.327, 700609.658 9...</td>\n",
       "    </tr>\n",
       "    <tr>\n",
       "      <th>4</th>\n",
       "      <td>0</td>\n",
       "      <td>2012</td>\n",
       "      <td>0205</td>\n",
       "      <td>SAN MIGUEL</td>\n",
       "      <td>02</td>\n",
       "      <td>BOLIVAR</td>\n",
       "      <td>POLYGON ((721746.267 9813431.090, 721746.237 9...</td>\n",
       "    </tr>\n",
       "  </tbody>\n",
       "</table>\n",
       "</div>"
      ],
      "text/plain": [
       "   DPA_VALOR DPA_ANIO DPA_CANTON  DPA_DESCAN DPA_PROVIN DPA_DESPRO  \\\n",
       "0          0     2012       0201    GUARANDA         02    BOLIVAR   \n",
       "1          0     2012       0202   CHILLANES         02    BOLIVAR   \n",
       "2          0     2012       0203      CHIMBO         02    BOLIVAR   \n",
       "3          0     2012       0204   ECHEANDIA         02    BOLIVAR   \n",
       "4          0     2012       0205  SAN MIGUEL         02    BOLIVAR   \n",
       "\n",
       "                                            geometry  \n",
       "0  POLYGON ((710807.591 9872762.982, 710853.291 9...  \n",
       "1  POLYGON ((720530.210 9793835.659, 720541.380 9...  \n",
       "2  POLYGON ((711141.911 9822095.666, 711185.441 9...  \n",
       "3  POLYGON ((700585.537 9836991.327, 700609.658 9...  \n",
       "4  POLYGON ((721746.267 9813431.090, 721746.237 9...  "
      ]
     },
     "execution_count": 16,
     "metadata": {},
     "output_type": "execute_result"
    }
   ],
   "source": [
    "gdf_cantones.head()"
   ]
  },
  {
   "cell_type": "code",
   "execution_count": 17,
   "id": "fc88e27c",
   "metadata": {},
   "outputs": [],
   "source": [
    "gdf_parroquias = gpd.read_file(\"../inputs/SHP/nxparroquias.shp\")"
   ]
  },
  {
   "cell_type": "code",
   "execution_count": 18,
   "id": "0304ca11",
   "metadata": {},
   "outputs": [
    {
     "data": {
      "text/html": [
       "<div>\n",
       "<style scoped>\n",
       "    .dataframe tbody tr th:only-of-type {\n",
       "        vertical-align: middle;\n",
       "    }\n",
       "\n",
       "    .dataframe tbody tr th {\n",
       "        vertical-align: top;\n",
       "    }\n",
       "\n",
       "    .dataframe thead th {\n",
       "        text-align: right;\n",
       "    }\n",
       "</style>\n",
       "<table border=\"1\" class=\"dataframe\">\n",
       "  <thead>\n",
       "    <tr style=\"text-align: right;\">\n",
       "      <th></th>\n",
       "      <th>DPA_PARROQ</th>\n",
       "      <th>DPA_DESPAR</th>\n",
       "      <th>DPA_VALOR</th>\n",
       "      <th>DPA_ANIO</th>\n",
       "      <th>DPA_CANTON</th>\n",
       "      <th>DPA_DESCAN</th>\n",
       "      <th>DPA_PROVIN</th>\n",
       "      <th>DPA_DESPRO</th>\n",
       "      <th>geometry</th>\n",
       "    </tr>\n",
       "  </thead>\n",
       "  <tbody>\n",
       "    <tr>\n",
       "      <th>0</th>\n",
       "      <td>020150</td>\n",
       "      <td>GUARANDA</td>\n",
       "      <td>0</td>\n",
       "      <td>2012</td>\n",
       "      <td>0201</td>\n",
       "      <td>GUARANDA</td>\n",
       "      <td>02</td>\n",
       "      <td>BOLIVAR</td>\n",
       "      <td>POLYGON ((736004.379 9838239.905, 736006.324 9...</td>\n",
       "    </tr>\n",
       "    <tr>\n",
       "      <th>1</th>\n",
       "      <td>020151</td>\n",
       "      <td>FACUNDO VELA</td>\n",
       "      <td>0</td>\n",
       "      <td>2012</td>\n",
       "      <td>0201</td>\n",
       "      <td>GUARANDA</td>\n",
       "      <td>02</td>\n",
       "      <td>BOLIVAR</td>\n",
       "      <td>POLYGON ((716027.651 9868847.197, 716028.320 9...</td>\n",
       "    </tr>\n",
       "    <tr>\n",
       "      <th>2</th>\n",
       "      <td>020153</td>\n",
       "      <td>JULIO E. MORENO (CATANAHUAN GRANDE)</td>\n",
       "      <td>0</td>\n",
       "      <td>2012</td>\n",
       "      <td>0201</td>\n",
       "      <td>GUARANDA</td>\n",
       "      <td>02</td>\n",
       "      <td>BOLIVAR</td>\n",
       "      <td>POLYGON ((721344.030 9824034.783, 721314.366 9...</td>\n",
       "    </tr>\n",
       "    <tr>\n",
       "      <th>3</th>\n",
       "      <td>020155</td>\n",
       "      <td>SALINAS</td>\n",
       "      <td>0</td>\n",
       "      <td>2012</td>\n",
       "      <td>0201</td>\n",
       "      <td>GUARANDA</td>\n",
       "      <td>02</td>\n",
       "      <td>BOLIVAR</td>\n",
       "      <td>POLYGON ((705426.023 9858768.396, 705493.833 9...</td>\n",
       "    </tr>\n",
       "    <tr>\n",
       "      <th>4</th>\n",
       "      <td>020156</td>\n",
       "      <td>SAN LORENZO</td>\n",
       "      <td>0</td>\n",
       "      <td>2012</td>\n",
       "      <td>0201</td>\n",
       "      <td>GUARANDA</td>\n",
       "      <td>02</td>\n",
       "      <td>BOLIVAR</td>\n",
       "      <td>POLYGON ((737792.824 9814211.296, 738001.238 9...</td>\n",
       "    </tr>\n",
       "  </tbody>\n",
       "</table>\n",
       "</div>"
      ],
      "text/plain": [
       "  DPA_PARROQ                           DPA_DESPAR  DPA_VALOR DPA_ANIO  \\\n",
       "0     020150                             GUARANDA          0     2012   \n",
       "1     020151                         FACUNDO VELA          0     2012   \n",
       "2     020153  JULIO E. MORENO (CATANAHUAN GRANDE)          0     2012   \n",
       "3     020155                              SALINAS          0     2012   \n",
       "4     020156                          SAN LORENZO          0     2012   \n",
       "\n",
       "  DPA_CANTON DPA_DESCAN DPA_PROVIN DPA_DESPRO  \\\n",
       "0       0201   GUARANDA         02    BOLIVAR   \n",
       "1       0201   GUARANDA         02    BOLIVAR   \n",
       "2       0201   GUARANDA         02    BOLIVAR   \n",
       "3       0201   GUARANDA         02    BOLIVAR   \n",
       "4       0201   GUARANDA         02    BOLIVAR   \n",
       "\n",
       "                                            geometry  \n",
       "0  POLYGON ((736004.379 9838239.905, 736006.324 9...  \n",
       "1  POLYGON ((716027.651 9868847.197, 716028.320 9...  \n",
       "2  POLYGON ((721344.030 9824034.783, 721314.366 9...  \n",
       "3  POLYGON ((705426.023 9858768.396, 705493.833 9...  \n",
       "4  POLYGON ((737792.824 9814211.296, 738001.238 9...  "
      ]
     },
     "execution_count": 18,
     "metadata": {},
     "output_type": "execute_result"
    }
   ],
   "source": [
    "gdf_parroquias.head()"
   ]
  },
  {
   "cell_type": "code",
   "execution_count": 19,
   "id": "c27170a5",
   "metadata": {},
   "outputs": [
    {
     "data": {
      "text/html": [
       "<div>\n",
       "<style scoped>\n",
       "    .dataframe tbody tr th:only-of-type {\n",
       "        vertical-align: middle;\n",
       "    }\n",
       "\n",
       "    .dataframe tbody tr th {\n",
       "        vertical-align: top;\n",
       "    }\n",
       "\n",
       "    .dataframe thead th {\n",
       "        text-align: right;\n",
       "    }\n",
       "</style>\n",
       "<table border=\"1\" class=\"dataframe\">\n",
       "  <thead>\n",
       "    <tr style=\"text-align: right;\">\n",
       "      <th></th>\n",
       "      <th>DPA_PARROQ</th>\n",
       "      <th>DPA_DESPAR</th>\n",
       "      <th>DPA_VALOR</th>\n",
       "      <th>DPA_ANIO</th>\n",
       "      <th>DPA_CANTON</th>\n",
       "      <th>DPA_DESCAN</th>\n",
       "      <th>DPA_PROVIN</th>\n",
       "      <th>DPA_DESPRO</th>\n",
       "      <th>geometry</th>\n",
       "    </tr>\n",
       "  </thead>\n",
       "  <tbody>\n",
       "    <tr>\n",
       "      <th>693</th>\n",
       "      <td>091650</td>\n",
       "      <td>SAMBORONDON</td>\n",
       "      <td>0</td>\n",
       "      <td>2012</td>\n",
       "      <td>0916</td>\n",
       "      <td>SAMBORONDON</td>\n",
       "      <td>09</td>\n",
       "      <td>GUAYAS</td>\n",
       "      <td>POLYGON ((635649.816 9792279.208, 635637.347 9...</td>\n",
       "    </tr>\n",
       "    <tr>\n",
       "      <th>694</th>\n",
       "      <td>091651</td>\n",
       "      <td>TARIFA</td>\n",
       "      <td>0</td>\n",
       "      <td>2012</td>\n",
       "      <td>0916</td>\n",
       "      <td>SAMBORONDON</td>\n",
       "      <td>09</td>\n",
       "      <td>GUAYAS</td>\n",
       "      <td>POLYGON ((630988.585 9788865.511, 630995.429 9...</td>\n",
       "    </tr>\n",
       "  </tbody>\n",
       "</table>\n",
       "</div>"
      ],
      "text/plain": [
       "    DPA_PARROQ   DPA_DESPAR  DPA_VALOR DPA_ANIO DPA_CANTON   DPA_DESCAN  \\\n",
       "693     091650  SAMBORONDON          0     2012       0916  SAMBORONDON   \n",
       "694     091651       TARIFA          0     2012       0916  SAMBORONDON   \n",
       "\n",
       "    DPA_PROVIN DPA_DESPRO                                           geometry  \n",
       "693         09     GUAYAS  POLYGON ((635649.816 9792279.208, 635637.347 9...  \n",
       "694         09     GUAYAS  POLYGON ((630988.585 9788865.511, 630995.429 9...  "
      ]
     },
     "execution_count": 19,
     "metadata": {},
     "output_type": "execute_result"
    }
   ],
   "source": [
    "gdf_parroquias.loc[gdf_parroquias[\"DPA_DESCAN\"] == \"SAMBORONDON\"]"
   ]
  },
  {
   "cell_type": "code",
   "execution_count": 20,
   "id": "833ee5c7",
   "metadata": {},
   "outputs": [],
   "source": [
    "gdf_parroquias[\"DPA_PARROQ\"] = gdf_parroquias[\"DPA_PARROQ\"].astype(int)\n",
    "gdf_parroquias[\"DPA_PROVIN\"] = gdf_parroquias[\"DPA_PROVIN\"].astype(int)\n",
    "gdf_parroquias[\"DPA_CANTON\"] = gdf_parroquias[\"DPA_CANTON\"].astype(int)"
   ]
  },
  {
   "cell_type": "code",
   "execution_count": 21,
   "id": "9ad0bbfc",
   "metadata": {},
   "outputs": [
    {
     "data": {
      "text/plain": [
       "DPA_PARROQ       int32\n",
       "DPA_DESPAR      object\n",
       "DPA_VALOR        int64\n",
       "DPA_ANIO        object\n",
       "DPA_CANTON       int32\n",
       "DPA_DESCAN      object\n",
       "DPA_PROVIN       int32\n",
       "DPA_DESPRO      object\n",
       "geometry      geometry\n",
       "dtype: object"
      ]
     },
     "execution_count": 21,
     "metadata": {},
     "output_type": "execute_result"
    }
   ],
   "source": [
    "gdf_parroquias.dtypes"
   ]
  },
  {
   "cell_type": "code",
   "execution_count": 22,
   "id": "722592ae",
   "metadata": {},
   "outputs": [],
   "source": [
    "gdf_provincias = gpd.read_file(\"../inputs/SHP/nxprovincias.shp\")"
   ]
  },
  {
   "cell_type": "code",
   "execution_count": 23,
   "id": "ed5bb9bf",
   "metadata": {},
   "outputs": [
    {
     "data": {
      "text/html": [
       "<div>\n",
       "<style scoped>\n",
       "    .dataframe tbody tr th:only-of-type {\n",
       "        vertical-align: middle;\n",
       "    }\n",
       "\n",
       "    .dataframe tbody tr th {\n",
       "        vertical-align: top;\n",
       "    }\n",
       "\n",
       "    .dataframe thead th {\n",
       "        text-align: right;\n",
       "    }\n",
       "</style>\n",
       "<table border=\"1\" class=\"dataframe\">\n",
       "  <thead>\n",
       "    <tr style=\"text-align: right;\">\n",
       "      <th></th>\n",
       "      <th>DPA_PROVIN</th>\n",
       "      <th>DPA_DESPRO</th>\n",
       "      <th>DPA_VALOR</th>\n",
       "      <th>DPA_ANIO</th>\n",
       "      <th>REI_CODIGO</th>\n",
       "      <th>REN_CODIGO</th>\n",
       "      <th>PEE_CODIGO</th>\n",
       "      <th>geometry</th>\n",
       "    </tr>\n",
       "  </thead>\n",
       "  <tbody>\n",
       "    <tr>\n",
       "      <th>0</th>\n",
       "      <td>01</td>\n",
       "      <td>AZUAY</td>\n",
       "      <td>0</td>\n",
       "      <td>2012</td>\n",
       "      <td>05</td>\n",
       "      <td>01</td>\n",
       "      <td>593</td>\n",
       "      <td>POLYGON ((770262.329 9716934.130, 770300.821 9...</td>\n",
       "    </tr>\n",
       "    <tr>\n",
       "      <th>1</th>\n",
       "      <td>02</td>\n",
       "      <td>BOLIVAR</td>\n",
       "      <td>0</td>\n",
       "      <td>2012</td>\n",
       "      <td>02</td>\n",
       "      <td>01</td>\n",
       "      <td>593</td>\n",
       "      <td>POLYGON ((737900.250 9868221.511, 737892.686 9...</td>\n",
       "    </tr>\n",
       "    <tr>\n",
       "      <th>2</th>\n",
       "      <td>03</td>\n",
       "      <td>CAÑAR</td>\n",
       "      <td>0</td>\n",
       "      <td>2012</td>\n",
       "      <td>05</td>\n",
       "      <td>01</td>\n",
       "      <td>593</td>\n",
       "      <td>POLYGON ((770262.329 9716934.130, 770204.122 9...</td>\n",
       "    </tr>\n",
       "    <tr>\n",
       "      <th>3</th>\n",
       "      <td>04</td>\n",
       "      <td>CARCHI</td>\n",
       "      <td>0</td>\n",
       "      <td>2012</td>\n",
       "      <td>04</td>\n",
       "      <td>01</td>\n",
       "      <td>593</td>\n",
       "      <td>POLYGON ((778608.989 10132516.042, 778691.202 ...</td>\n",
       "    </tr>\n",
       "    <tr>\n",
       "      <th>4</th>\n",
       "      <td>05</td>\n",
       "      <td>COTOPAXI</td>\n",
       "      <td>0</td>\n",
       "      <td>2012</td>\n",
       "      <td>02</td>\n",
       "      <td>01</td>\n",
       "      <td>593</td>\n",
       "      <td>POLYGON ((786958.225 9920678.840, 786958.678 9...</td>\n",
       "    </tr>\n",
       "  </tbody>\n",
       "</table>\n",
       "</div>"
      ],
      "text/plain": [
       "  DPA_PROVIN DPA_DESPRO  DPA_VALOR DPA_ANIO REI_CODIGO REN_CODIGO PEE_CODIGO  \\\n",
       "0         01      AZUAY          0     2012         05         01        593   \n",
       "1         02    BOLIVAR          0     2012         02         01        593   \n",
       "2         03      CAÑAR          0     2012         05         01        593   \n",
       "3         04     CARCHI          0     2012         04         01        593   \n",
       "4         05   COTOPAXI          0     2012         02         01        593   \n",
       "\n",
       "                                            geometry  \n",
       "0  POLYGON ((770262.329 9716934.130, 770300.821 9...  \n",
       "1  POLYGON ((737900.250 9868221.511, 737892.686 9...  \n",
       "2  POLYGON ((770262.329 9716934.130, 770204.122 9...  \n",
       "3  POLYGON ((778608.989 10132516.042, 778691.202 ...  \n",
       "4  POLYGON ((786958.225 9920678.840, 786958.678 9...  "
      ]
     },
     "execution_count": 23,
     "metadata": {},
     "output_type": "execute_result"
    }
   ],
   "source": [
    "gdf_provincias.head()"
   ]
  },
  {
   "cell_type": "code",
   "execution_count": 24,
   "id": "326c3e97",
   "metadata": {},
   "outputs": [],
   "source": [
    "gdf_provincias['DPA_PROVIN'] = gdf_provincias['DPA_PROVIN'].astype('int')\n",
    "df['ciudad'] = df['ciudad'].astype('int')"
   ]
  },
  {
   "cell_type": "code",
   "execution_count": 25,
   "id": "35f39e89",
   "metadata": {},
   "outputs": [],
   "source": [
    "gdf_parroquias = gdf_parroquias.merge(gdf_provincias, how = \"inner\", left_on = \"DPA_PROVIN\", right_on = \"DPA_PROVIN\")"
   ]
  },
  {
   "cell_type": "code",
   "execution_count": 26,
   "id": "85bb16d2",
   "metadata": {},
   "outputs": [
    {
     "data": {
      "text/html": [
       "<div>\n",
       "<style scoped>\n",
       "    .dataframe tbody tr th:only-of-type {\n",
       "        vertical-align: middle;\n",
       "    }\n",
       "\n",
       "    .dataframe tbody tr th {\n",
       "        vertical-align: top;\n",
       "    }\n",
       "\n",
       "    .dataframe thead th {\n",
       "        text-align: right;\n",
       "    }\n",
       "</style>\n",
       "<table border=\"1\" class=\"dataframe\">\n",
       "  <thead>\n",
       "    <tr style=\"text-align: right;\">\n",
       "      <th></th>\n",
       "      <th>DPA_PARROQ</th>\n",
       "      <th>DPA_DESPAR</th>\n",
       "      <th>DPA_VALOR_x</th>\n",
       "      <th>DPA_ANIO_x</th>\n",
       "      <th>DPA_CANTON</th>\n",
       "      <th>DPA_DESCAN</th>\n",
       "      <th>DPA_PROVIN</th>\n",
       "      <th>DPA_DESPRO_x</th>\n",
       "      <th>geometry_x</th>\n",
       "      <th>DPA_DESPRO_y</th>\n",
       "      <th>DPA_VALOR_y</th>\n",
       "      <th>DPA_ANIO_y</th>\n",
       "      <th>REI_CODIGO</th>\n",
       "      <th>REN_CODIGO</th>\n",
       "      <th>PEE_CODIGO</th>\n",
       "      <th>geometry_y</th>\n",
       "    </tr>\n",
       "  </thead>\n",
       "  <tbody>\n",
       "    <tr>\n",
       "      <th>0</th>\n",
       "      <td>20150</td>\n",
       "      <td>GUARANDA</td>\n",
       "      <td>0</td>\n",
       "      <td>2012</td>\n",
       "      <td>201</td>\n",
       "      <td>GUARANDA</td>\n",
       "      <td>2</td>\n",
       "      <td>BOLIVAR</td>\n",
       "      <td>POLYGON ((736004.379 9838239.905, 736006.324 9...</td>\n",
       "      <td>BOLIVAR</td>\n",
       "      <td>0</td>\n",
       "      <td>2012</td>\n",
       "      <td>02</td>\n",
       "      <td>01</td>\n",
       "      <td>593</td>\n",
       "      <td>POLYGON ((737900.250 9868221.511, 737892.686 9...</td>\n",
       "    </tr>\n",
       "    <tr>\n",
       "      <th>1</th>\n",
       "      <td>20151</td>\n",
       "      <td>FACUNDO VELA</td>\n",
       "      <td>0</td>\n",
       "      <td>2012</td>\n",
       "      <td>201</td>\n",
       "      <td>GUARANDA</td>\n",
       "      <td>2</td>\n",
       "      <td>BOLIVAR</td>\n",
       "      <td>POLYGON ((716027.651 9868847.197, 716028.320 9...</td>\n",
       "      <td>BOLIVAR</td>\n",
       "      <td>0</td>\n",
       "      <td>2012</td>\n",
       "      <td>02</td>\n",
       "      <td>01</td>\n",
       "      <td>593</td>\n",
       "      <td>POLYGON ((737900.250 9868221.511, 737892.686 9...</td>\n",
       "    </tr>\n",
       "    <tr>\n",
       "      <th>2</th>\n",
       "      <td>20153</td>\n",
       "      <td>JULIO E. MORENO (CATANAHUAN GRANDE)</td>\n",
       "      <td>0</td>\n",
       "      <td>2012</td>\n",
       "      <td>201</td>\n",
       "      <td>GUARANDA</td>\n",
       "      <td>2</td>\n",
       "      <td>BOLIVAR</td>\n",
       "      <td>POLYGON ((721344.030 9824034.783, 721314.366 9...</td>\n",
       "      <td>BOLIVAR</td>\n",
       "      <td>0</td>\n",
       "      <td>2012</td>\n",
       "      <td>02</td>\n",
       "      <td>01</td>\n",
       "      <td>593</td>\n",
       "      <td>POLYGON ((737900.250 9868221.511, 737892.686 9...</td>\n",
       "    </tr>\n",
       "    <tr>\n",
       "      <th>3</th>\n",
       "      <td>20155</td>\n",
       "      <td>SALINAS</td>\n",
       "      <td>0</td>\n",
       "      <td>2012</td>\n",
       "      <td>201</td>\n",
       "      <td>GUARANDA</td>\n",
       "      <td>2</td>\n",
       "      <td>BOLIVAR</td>\n",
       "      <td>POLYGON ((705426.023 9858768.396, 705493.833 9...</td>\n",
       "      <td>BOLIVAR</td>\n",
       "      <td>0</td>\n",
       "      <td>2012</td>\n",
       "      <td>02</td>\n",
       "      <td>01</td>\n",
       "      <td>593</td>\n",
       "      <td>POLYGON ((737900.250 9868221.511, 737892.686 9...</td>\n",
       "    </tr>\n",
       "    <tr>\n",
       "      <th>4</th>\n",
       "      <td>20156</td>\n",
       "      <td>SAN LORENZO</td>\n",
       "      <td>0</td>\n",
       "      <td>2012</td>\n",
       "      <td>201</td>\n",
       "      <td>GUARANDA</td>\n",
       "      <td>2</td>\n",
       "      <td>BOLIVAR</td>\n",
       "      <td>POLYGON ((737792.824 9814211.296, 738001.238 9...</td>\n",
       "      <td>BOLIVAR</td>\n",
       "      <td>0</td>\n",
       "      <td>2012</td>\n",
       "      <td>02</td>\n",
       "      <td>01</td>\n",
       "      <td>593</td>\n",
       "      <td>POLYGON ((737900.250 9868221.511, 737892.686 9...</td>\n",
       "    </tr>\n",
       "  </tbody>\n",
       "</table>\n",
       "</div>"
      ],
      "text/plain": [
       "   DPA_PARROQ                           DPA_DESPAR  DPA_VALOR_x DPA_ANIO_x  \\\n",
       "0       20150                             GUARANDA            0       2012   \n",
       "1       20151                         FACUNDO VELA            0       2012   \n",
       "2       20153  JULIO E. MORENO (CATANAHUAN GRANDE)            0       2012   \n",
       "3       20155                              SALINAS            0       2012   \n",
       "4       20156                          SAN LORENZO            0       2012   \n",
       "\n",
       "   DPA_CANTON DPA_DESCAN  DPA_PROVIN DPA_DESPRO_x  \\\n",
       "0         201   GUARANDA           2      BOLIVAR   \n",
       "1         201   GUARANDA           2      BOLIVAR   \n",
       "2         201   GUARANDA           2      BOLIVAR   \n",
       "3         201   GUARANDA           2      BOLIVAR   \n",
       "4         201   GUARANDA           2      BOLIVAR   \n",
       "\n",
       "                                          geometry_x DPA_DESPRO_y  \\\n",
       "0  POLYGON ((736004.379 9838239.905, 736006.324 9...      BOLIVAR   \n",
       "1  POLYGON ((716027.651 9868847.197, 716028.320 9...      BOLIVAR   \n",
       "2  POLYGON ((721344.030 9824034.783, 721314.366 9...      BOLIVAR   \n",
       "3  POLYGON ((705426.023 9858768.396, 705493.833 9...      BOLIVAR   \n",
       "4  POLYGON ((737792.824 9814211.296, 738001.238 9...      BOLIVAR   \n",
       "\n",
       "   DPA_VALOR_y DPA_ANIO_y REI_CODIGO REN_CODIGO PEE_CODIGO  \\\n",
       "0            0       2012         02         01        593   \n",
       "1            0       2012         02         01        593   \n",
       "2            0       2012         02         01        593   \n",
       "3            0       2012         02         01        593   \n",
       "4            0       2012         02         01        593   \n",
       "\n",
       "                                          geometry_y  \n",
       "0  POLYGON ((737900.250 9868221.511, 737892.686 9...  \n",
       "1  POLYGON ((737900.250 9868221.511, 737892.686 9...  \n",
       "2  POLYGON ((737900.250 9868221.511, 737892.686 9...  \n",
       "3  POLYGON ((737900.250 9868221.511, 737892.686 9...  \n",
       "4  POLYGON ((737900.250 9868221.511, 737892.686 9...  "
      ]
     },
     "execution_count": 26,
     "metadata": {},
     "output_type": "execute_result"
    }
   ],
   "source": [
    "gdf_parroquias.head()"
   ]
  },
  {
   "cell_type": "code",
   "execution_count": 27,
   "id": "fa43d125",
   "metadata": {},
   "outputs": [
    {
     "data": {
      "text/html": [
       "<div>\n",
       "<style scoped>\n",
       "    .dataframe tbody tr th:only-of-type {\n",
       "        vertical-align: middle;\n",
       "    }\n",
       "\n",
       "    .dataframe tbody tr th {\n",
       "        vertical-align: top;\n",
       "    }\n",
       "\n",
       "    .dataframe thead th {\n",
       "        text-align: right;\n",
       "    }\n",
       "</style>\n",
       "<table border=\"1\" class=\"dataframe\">\n",
       "  <thead>\n",
       "    <tr style=\"text-align: right;\">\n",
       "      <th></th>\n",
       "      <th>DPA_PARROQ</th>\n",
       "      <th>DPA_DESPAR</th>\n",
       "      <th>DPA_VALOR_x</th>\n",
       "      <th>DPA_ANIO_x</th>\n",
       "      <th>DPA_CANTON</th>\n",
       "      <th>DPA_DESCAN</th>\n",
       "      <th>DPA_PROVIN</th>\n",
       "      <th>DPA_DESPRO_x</th>\n",
       "      <th>geometry_x</th>\n",
       "      <th>DPA_DESPRO_y</th>\n",
       "      <th>DPA_VALOR_y</th>\n",
       "      <th>DPA_ANIO_y</th>\n",
       "      <th>REI_CODIGO</th>\n",
       "      <th>REN_CODIGO</th>\n",
       "      <th>PEE_CODIGO</th>\n",
       "      <th>geometry_y</th>\n",
       "    </tr>\n",
       "  </thead>\n",
       "  <tbody>\n",
       "    <tr>\n",
       "      <th>673</th>\n",
       "      <td>90150</td>\n",
       "      <td>GUAYAQUIL</td>\n",
       "      <td>0</td>\n",
       "      <td>2012</td>\n",
       "      <td>901</td>\n",
       "      <td>GUAYAQUIL</td>\n",
       "      <td>9</td>\n",
       "      <td>GUAYAS</td>\n",
       "      <td>MULTIPOLYGON (((588584.686 9702837.227, 588541...</td>\n",
       "      <td>GUAYAS</td>\n",
       "      <td>0</td>\n",
       "      <td>2012</td>\n",
       "      <td>03</td>\n",
       "      <td>02</td>\n",
       "      <td>593</td>\n",
       "      <td>MULTIPOLYGON (((592899.868 9666806.067, 592821...</td>\n",
       "    </tr>\n",
       "    <tr>\n",
       "      <th>674</th>\n",
       "      <td>90152</td>\n",
       "      <td>JUAN GOMEZ RENDON (PROGRESO)</td>\n",
       "      <td>0</td>\n",
       "      <td>2012</td>\n",
       "      <td>901</td>\n",
       "      <td>GUAYAQUIL</td>\n",
       "      <td>9</td>\n",
       "      <td>GUAYAS</td>\n",
       "      <td>POLYGON ((579404.191 9727655.926, 579409.588 9...</td>\n",
       "      <td>GUAYAS</td>\n",
       "      <td>0</td>\n",
       "      <td>2012</td>\n",
       "      <td>03</td>\n",
       "      <td>02</td>\n",
       "      <td>593</td>\n",
       "      <td>MULTIPOLYGON (((592899.868 9666806.067, 592821...</td>\n",
       "    </tr>\n",
       "    <tr>\n",
       "      <th>675</th>\n",
       "      <td>90153</td>\n",
       "      <td>MORRO</td>\n",
       "      <td>0</td>\n",
       "      <td>2012</td>\n",
       "      <td>901</td>\n",
       "      <td>GUAYAQUIL</td>\n",
       "      <td>9</td>\n",
       "      <td>GUAYAS</td>\n",
       "      <td>POLYGON ((579404.191 9727655.926, 579374.103 9...</td>\n",
       "      <td>GUAYAS</td>\n",
       "      <td>0</td>\n",
       "      <td>2012</td>\n",
       "      <td>03</td>\n",
       "      <td>02</td>\n",
       "      <td>593</td>\n",
       "      <td>MULTIPOLYGON (((592899.868 9666806.067, 592821...</td>\n",
       "    </tr>\n",
       "    <tr>\n",
       "      <th>676</th>\n",
       "      <td>90156</td>\n",
       "      <td>POSORJA</td>\n",
       "      <td>0</td>\n",
       "      <td>2012</td>\n",
       "      <td>901</td>\n",
       "      <td>GUAYAQUIL</td>\n",
       "      <td>9</td>\n",
       "      <td>GUAYAS</td>\n",
       "      <td>POLYGON ((576717.133 9699890.123, 576697.760 9...</td>\n",
       "      <td>GUAYAS</td>\n",
       "      <td>0</td>\n",
       "      <td>2012</td>\n",
       "      <td>03</td>\n",
       "      <td>02</td>\n",
       "      <td>593</td>\n",
       "      <td>MULTIPOLYGON (((592899.868 9666806.067, 592821...</td>\n",
       "    </tr>\n",
       "    <tr>\n",
       "      <th>677</th>\n",
       "      <td>90157</td>\n",
       "      <td>PUNA</td>\n",
       "      <td>0</td>\n",
       "      <td>2012</td>\n",
       "      <td>901</td>\n",
       "      <td>GUAYAQUIL</td>\n",
       "      <td>9</td>\n",
       "      <td>GUAYAS</td>\n",
       "      <td>MULTIPOLYGON (((592899.868 9666806.067, 592821...</td>\n",
       "      <td>GUAYAS</td>\n",
       "      <td>0</td>\n",
       "      <td>2012</td>\n",
       "      <td>03</td>\n",
       "      <td>02</td>\n",
       "      <td>593</td>\n",
       "      <td>MULTIPOLYGON (((592899.868 9666806.067, 592821...</td>\n",
       "    </tr>\n",
       "    <tr>\n",
       "      <th>678</th>\n",
       "      <td>90158</td>\n",
       "      <td>TENGUEL</td>\n",
       "      <td>0</td>\n",
       "      <td>2012</td>\n",
       "      <td>901</td>\n",
       "      <td>GUAYAQUIL</td>\n",
       "      <td>9</td>\n",
       "      <td>GUAYAS</td>\n",
       "      <td>POLYGON ((641596.516 9670628.202, 641552.047 9...</td>\n",
       "      <td>GUAYAS</td>\n",
       "      <td>0</td>\n",
       "      <td>2012</td>\n",
       "      <td>03</td>\n",
       "      <td>02</td>\n",
       "      <td>593</td>\n",
       "      <td>MULTIPOLYGON (((592899.868 9666806.067, 592821...</td>\n",
       "    </tr>\n",
       "    <tr>\n",
       "      <th>679</th>\n",
       "      <td>90250</td>\n",
       "      <td>ALFREDO BAQUERIZO MORENO (JUJAN)</td>\n",
       "      <td>0</td>\n",
       "      <td>2012</td>\n",
       "      <td>902</td>\n",
       "      <td>ALFREDO BAQUERIZO MORENO</td>\n",
       "      <td>9</td>\n",
       "      <td>GUAYAS</td>\n",
       "      <td>POLYGON ((671840.017 9788009.622, 671848.047 9...</td>\n",
       "      <td>GUAYAS</td>\n",
       "      <td>0</td>\n",
       "      <td>2012</td>\n",
       "      <td>03</td>\n",
       "      <td>02</td>\n",
       "      <td>593</td>\n",
       "      <td>MULTIPOLYGON (((592899.868 9666806.067, 592821...</td>\n",
       "    </tr>\n",
       "    <tr>\n",
       "      <th>680</th>\n",
       "      <td>90350</td>\n",
       "      <td>BALAO</td>\n",
       "      <td>0</td>\n",
       "      <td>2012</td>\n",
       "      <td>903</td>\n",
       "      <td>BALAO</td>\n",
       "      <td>9</td>\n",
       "      <td>GUAYAS</td>\n",
       "      <td>MULTIPOLYGON (((633544.648 9691507.651, 633565...</td>\n",
       "      <td>GUAYAS</td>\n",
       "      <td>0</td>\n",
       "      <td>2012</td>\n",
       "      <td>03</td>\n",
       "      <td>02</td>\n",
       "      <td>593</td>\n",
       "      <td>MULTIPOLYGON (((592899.868 9666806.067, 592821...</td>\n",
       "    </tr>\n",
       "    <tr>\n",
       "      <th>681</th>\n",
       "      <td>90450</td>\n",
       "      <td>BALZAR</td>\n",
       "      <td>0</td>\n",
       "      <td>2012</td>\n",
       "      <td>904</td>\n",
       "      <td>BALZAR</td>\n",
       "      <td>9</td>\n",
       "      <td>GUAYAS</td>\n",
       "      <td>POLYGON ((640005.021 9878693.740, 640007.060 9...</td>\n",
       "      <td>GUAYAS</td>\n",
       "      <td>0</td>\n",
       "      <td>2012</td>\n",
       "      <td>03</td>\n",
       "      <td>02</td>\n",
       "      <td>593</td>\n",
       "      <td>MULTIPOLYGON (((592899.868 9666806.067, 592821...</td>\n",
       "    </tr>\n",
       "    <tr>\n",
       "      <th>682</th>\n",
       "      <td>90550</td>\n",
       "      <td>COLIMES</td>\n",
       "      <td>0</td>\n",
       "      <td>2012</td>\n",
       "      <td>905</td>\n",
       "      <td>COLIMES</td>\n",
       "      <td>9</td>\n",
       "      <td>GUAYAS</td>\n",
       "      <td>POLYGON ((625106.073 9833079.713, 625101.960 9...</td>\n",
       "      <td>GUAYAS</td>\n",
       "      <td>0</td>\n",
       "      <td>2012</td>\n",
       "      <td>03</td>\n",
       "      <td>02</td>\n",
       "      <td>593</td>\n",
       "      <td>MULTIPOLYGON (((592899.868 9666806.067, 592821...</td>\n",
       "    </tr>\n",
       "    <tr>\n",
       "      <th>683</th>\n",
       "      <td>90551</td>\n",
       "      <td>SAN JACINTO</td>\n",
       "      <td>0</td>\n",
       "      <td>2012</td>\n",
       "      <td>905</td>\n",
       "      <td>COLIMES</td>\n",
       "      <td>9</td>\n",
       "      <td>GUAYAS</td>\n",
       "      <td>POLYGON ((589963.419 9828470.286, 589965.801 9...</td>\n",
       "      <td>GUAYAS</td>\n",
       "      <td>0</td>\n",
       "      <td>2012</td>\n",
       "      <td>03</td>\n",
       "      <td>02</td>\n",
       "      <td>593</td>\n",
       "      <td>MULTIPOLYGON (((592899.868 9666806.067, 592821...</td>\n",
       "    </tr>\n",
       "    <tr>\n",
       "      <th>684</th>\n",
       "      <td>90650</td>\n",
       "      <td>DAULE</td>\n",
       "      <td>0</td>\n",
       "      <td>2012</td>\n",
       "      <td>906</td>\n",
       "      <td>DAULE</td>\n",
       "      <td>9</td>\n",
       "      <td>GUAYAS</td>\n",
       "      <td>MULTIPOLYGON (((626329.454 9777053.564, 626271...</td>\n",
       "      <td>GUAYAS</td>\n",
       "      <td>0</td>\n",
       "      <td>2012</td>\n",
       "      <td>03</td>\n",
       "      <td>02</td>\n",
       "      <td>593</td>\n",
       "      <td>MULTIPOLYGON (((592899.868 9666806.067, 592821...</td>\n",
       "    </tr>\n",
       "    <tr>\n",
       "      <th>685</th>\n",
       "      <td>90652</td>\n",
       "      <td>JUAN BAUTISTA AGUIRRE (LOS TINTOS)</td>\n",
       "      <td>0</td>\n",
       "      <td>2012</td>\n",
       "      <td>906</td>\n",
       "      <td>DAULE</td>\n",
       "      <td>9</td>\n",
       "      <td>GUAYAS</td>\n",
       "      <td>POLYGON ((628641.056 9789665.985, 628646.099 9...</td>\n",
       "      <td>GUAYAS</td>\n",
       "      <td>0</td>\n",
       "      <td>2012</td>\n",
       "      <td>03</td>\n",
       "      <td>02</td>\n",
       "      <td>593</td>\n",
       "      <td>MULTIPOLYGON (((592899.868 9666806.067, 592821...</td>\n",
       "    </tr>\n",
       "    <tr>\n",
       "      <th>686</th>\n",
       "      <td>90653</td>\n",
       "      <td>LAUREL</td>\n",
       "      <td>0</td>\n",
       "      <td>2012</td>\n",
       "      <td>906</td>\n",
       "      <td>DAULE</td>\n",
       "      <td>9</td>\n",
       "      <td>GUAYAS</td>\n",
       "      <td>POLYGON ((622317.317 9803748.199, 622302.606 9...</td>\n",
       "      <td>GUAYAS</td>\n",
       "      <td>0</td>\n",
       "      <td>2012</td>\n",
       "      <td>03</td>\n",
       "      <td>02</td>\n",
       "      <td>593</td>\n",
       "      <td>MULTIPOLYGON (((592899.868 9666806.067, 592821...</td>\n",
       "    </tr>\n",
       "    <tr>\n",
       "      <th>687</th>\n",
       "      <td>90654</td>\n",
       "      <td>LIMONAL</td>\n",
       "      <td>0</td>\n",
       "      <td>2012</td>\n",
       "      <td>906</td>\n",
       "      <td>DAULE</td>\n",
       "      <td>9</td>\n",
       "      <td>GUAYAS</td>\n",
       "      <td>POLYGON ((617289.117 9802568.184, 617277.917 9...</td>\n",
       "      <td>GUAYAS</td>\n",
       "      <td>0</td>\n",
       "      <td>2012</td>\n",
       "      <td>03</td>\n",
       "      <td>02</td>\n",
       "      <td>593</td>\n",
       "      <td>MULTIPOLYGON (((592899.868 9666806.067, 592821...</td>\n",
       "    </tr>\n",
       "    <tr>\n",
       "      <th>688</th>\n",
       "      <td>90656</td>\n",
       "      <td>LOS LOJAS (ENRIQUE BAQUERIZO MORENO)</td>\n",
       "      <td>0</td>\n",
       "      <td>2012</td>\n",
       "      <td>906</td>\n",
       "      <td>DAULE</td>\n",
       "      <td>9</td>\n",
       "      <td>GUAYAS</td>\n",
       "      <td>POLYGON ((623473.288 9786786.689, 623472.566 9...</td>\n",
       "      <td>GUAYAS</td>\n",
       "      <td>0</td>\n",
       "      <td>2012</td>\n",
       "      <td>03</td>\n",
       "      <td>02</td>\n",
       "      <td>593</td>\n",
       "      <td>MULTIPOLYGON (((592899.868 9666806.067, 592821...</td>\n",
       "    </tr>\n",
       "    <tr>\n",
       "      <th>689</th>\n",
       "      <td>90750</td>\n",
       "      <td>ELOY ALFARO (DURAN)</td>\n",
       "      <td>0</td>\n",
       "      <td>2012</td>\n",
       "      <td>907</td>\n",
       "      <td>DURAN</td>\n",
       "      <td>9</td>\n",
       "      <td>GUAYAS</td>\n",
       "      <td>MULTIPOLYGON (((629800.415 9753081.151, 629733...</td>\n",
       "      <td>GUAYAS</td>\n",
       "      <td>0</td>\n",
       "      <td>2012</td>\n",
       "      <td>03</td>\n",
       "      <td>02</td>\n",
       "      <td>593</td>\n",
       "      <td>MULTIPOLYGON (((592899.868 9666806.067, 592821...</td>\n",
       "    </tr>\n",
       "    <tr>\n",
       "      <th>690</th>\n",
       "      <td>90850</td>\n",
       "      <td>VELASCO IBARRA (CAB. EL EMPALME)</td>\n",
       "      <td>0</td>\n",
       "      <td>2012</td>\n",
       "      <td>908</td>\n",
       "      <td>EMPALME</td>\n",
       "      <td>9</td>\n",
       "      <td>GUAYAS</td>\n",
       "      <td>POLYGON ((657182.866 9881911.751, 657180.146 9...</td>\n",
       "      <td>GUAYAS</td>\n",
       "      <td>0</td>\n",
       "      <td>2012</td>\n",
       "      <td>03</td>\n",
       "      <td>02</td>\n",
       "      <td>593</td>\n",
       "      <td>MULTIPOLYGON (((592899.868 9666806.067, 592821...</td>\n",
       "    </tr>\n",
       "    <tr>\n",
       "      <th>691</th>\n",
       "      <td>90851</td>\n",
       "      <td>GUAYAS (PUEBLO NUEVO)</td>\n",
       "      <td>0</td>\n",
       "      <td>2012</td>\n",
       "      <td>908</td>\n",
       "      <td>EMPALME</td>\n",
       "      <td>9</td>\n",
       "      <td>GUAYAS</td>\n",
       "      <td>POLYGON ((666105.272 9895531.727, 666090.971 9...</td>\n",
       "      <td>GUAYAS</td>\n",
       "      <td>0</td>\n",
       "      <td>2012</td>\n",
       "      <td>03</td>\n",
       "      <td>02</td>\n",
       "      <td>593</td>\n",
       "      <td>MULTIPOLYGON (((592899.868 9666806.067, 592821...</td>\n",
       "    </tr>\n",
       "    <tr>\n",
       "      <th>692</th>\n",
       "      <td>90852</td>\n",
       "      <td>EL ROSARIO</td>\n",
       "      <td>0</td>\n",
       "      <td>2012</td>\n",
       "      <td>908</td>\n",
       "      <td>EMPALME</td>\n",
       "      <td>9</td>\n",
       "      <td>GUAYAS</td>\n",
       "      <td>POLYGON ((640548.727 9890267.815, 640535.646 9...</td>\n",
       "      <td>GUAYAS</td>\n",
       "      <td>0</td>\n",
       "      <td>2012</td>\n",
       "      <td>03</td>\n",
       "      <td>02</td>\n",
       "      <td>593</td>\n",
       "      <td>MULTIPOLYGON (((592899.868 9666806.067, 592821...</td>\n",
       "    </tr>\n",
       "    <tr>\n",
       "      <th>693</th>\n",
       "      <td>90950</td>\n",
       "      <td>EL TRIUNFO</td>\n",
       "      <td>0</td>\n",
       "      <td>2012</td>\n",
       "      <td>909</td>\n",
       "      <td>EL TRIUNFO</td>\n",
       "      <td>9</td>\n",
       "      <td>GUAYAS</td>\n",
       "      <td>POLYGON ((706743.944 9755255.729, 706742.228 9...</td>\n",
       "      <td>GUAYAS</td>\n",
       "      <td>0</td>\n",
       "      <td>2012</td>\n",
       "      <td>03</td>\n",
       "      <td>02</td>\n",
       "      <td>593</td>\n",
       "      <td>MULTIPOLYGON (((592899.868 9666806.067, 592821...</td>\n",
       "    </tr>\n",
       "    <tr>\n",
       "      <th>694</th>\n",
       "      <td>91050</td>\n",
       "      <td>MILAGRO</td>\n",
       "      <td>0</td>\n",
       "      <td>2012</td>\n",
       "      <td>910</td>\n",
       "      <td>MILAGRO</td>\n",
       "      <td>9</td>\n",
       "      <td>GUAYAS</td>\n",
       "      <td>POLYGON ((664541.830 9777416.043, 664541.024 9...</td>\n",
       "      <td>GUAYAS</td>\n",
       "      <td>0</td>\n",
       "      <td>2012</td>\n",
       "      <td>03</td>\n",
       "      <td>02</td>\n",
       "      <td>593</td>\n",
       "      <td>MULTIPOLYGON (((592899.868 9666806.067, 592821...</td>\n",
       "    </tr>\n",
       "    <tr>\n",
       "      <th>695</th>\n",
       "      <td>91051</td>\n",
       "      <td>CHOBO</td>\n",
       "      <td>0</td>\n",
       "      <td>2012</td>\n",
       "      <td>910</td>\n",
       "      <td>MILAGRO</td>\n",
       "      <td>9</td>\n",
       "      <td>GUAYAS</td>\n",
       "      <td>POLYGON ((653490.504 9758487.848, 653490.494 9...</td>\n",
       "      <td>GUAYAS</td>\n",
       "      <td>0</td>\n",
       "      <td>2012</td>\n",
       "      <td>03</td>\n",
       "      <td>02</td>\n",
       "      <td>593</td>\n",
       "      <td>MULTIPOLYGON (((592899.868 9666806.067, 592821...</td>\n",
       "    </tr>\n",
       "    <tr>\n",
       "      <th>696</th>\n",
       "      <td>91053</td>\n",
       "      <td>MARISCAL SUCRE (HUAQUES)</td>\n",
       "      <td>0</td>\n",
       "      <td>2012</td>\n",
       "      <td>910</td>\n",
       "      <td>MILAGRO</td>\n",
       "      <td>9</td>\n",
       "      <td>GUAYAS</td>\n",
       "      <td>POLYGON ((669682.406 9771949.948, 669681.897 9...</td>\n",
       "      <td>GUAYAS</td>\n",
       "      <td>0</td>\n",
       "      <td>2012</td>\n",
       "      <td>03</td>\n",
       "      <td>02</td>\n",
       "      <td>593</td>\n",
       "      <td>MULTIPOLYGON (((592899.868 9666806.067, 592821...</td>\n",
       "    </tr>\n",
       "    <tr>\n",
       "      <th>697</th>\n",
       "      <td>91054</td>\n",
       "      <td>ROBERTO ASTUDILLO (CAB. EN CRUCE DE VENECIA)</td>\n",
       "      <td>0</td>\n",
       "      <td>2012</td>\n",
       "      <td>910</td>\n",
       "      <td>MILAGRO</td>\n",
       "      <td>9</td>\n",
       "      <td>GUAYAS</td>\n",
       "      <td>POLYGON ((667069.917 9753487.742, 667045.756 9...</td>\n",
       "      <td>GUAYAS</td>\n",
       "      <td>0</td>\n",
       "      <td>2012</td>\n",
       "      <td>03</td>\n",
       "      <td>02</td>\n",
       "      <td>593</td>\n",
       "      <td>MULTIPOLYGON (((592899.868 9666806.067, 592821...</td>\n",
       "    </tr>\n",
       "    <tr>\n",
       "      <th>698</th>\n",
       "      <td>91150</td>\n",
       "      <td>NARANJAL</td>\n",
       "      <td>0</td>\n",
       "      <td>2012</td>\n",
       "      <td>911</td>\n",
       "      <td>NARANJAL</td>\n",
       "      <td>9</td>\n",
       "      <td>GUAYAS</td>\n",
       "      <td>MULTIPOLYGON (((650376.501 9708190.794, 650376...</td>\n",
       "      <td>GUAYAS</td>\n",
       "      <td>0</td>\n",
       "      <td>2012</td>\n",
       "      <td>03</td>\n",
       "      <td>02</td>\n",
       "      <td>593</td>\n",
       "      <td>MULTIPOLYGON (((592899.868 9666806.067, 592821...</td>\n",
       "    </tr>\n",
       "    <tr>\n",
       "      <th>699</th>\n",
       "      <td>91151</td>\n",
       "      <td>JESUS MARIA</td>\n",
       "      <td>0</td>\n",
       "      <td>2012</td>\n",
       "      <td>911</td>\n",
       "      <td>NARANJAL</td>\n",
       "      <td>9</td>\n",
       "      <td>GUAYAS</td>\n",
       "      <td>POLYGON ((672833.430 9712654.412, 672829.691 9...</td>\n",
       "      <td>GUAYAS</td>\n",
       "      <td>0</td>\n",
       "      <td>2012</td>\n",
       "      <td>03</td>\n",
       "      <td>02</td>\n",
       "      <td>593</td>\n",
       "      <td>MULTIPOLYGON (((592899.868 9666806.067, 592821...</td>\n",
       "    </tr>\n",
       "    <tr>\n",
       "      <th>700</th>\n",
       "      <td>91152</td>\n",
       "      <td>SAN CARLOS</td>\n",
       "      <td>0</td>\n",
       "      <td>2012</td>\n",
       "      <td>911</td>\n",
       "      <td>NARANJAL</td>\n",
       "      <td>9</td>\n",
       "      <td>GUAYAS</td>\n",
       "      <td>POLYGON ((663302.386 9723618.389, 663247.960 9...</td>\n",
       "      <td>GUAYAS</td>\n",
       "      <td>0</td>\n",
       "      <td>2012</td>\n",
       "      <td>03</td>\n",
       "      <td>02</td>\n",
       "      <td>593</td>\n",
       "      <td>MULTIPOLYGON (((592899.868 9666806.067, 592821...</td>\n",
       "    </tr>\n",
       "    <tr>\n",
       "      <th>701</th>\n",
       "      <td>91153</td>\n",
       "      <td>SANTA ROSA DE FLANDES</td>\n",
       "      <td>0</td>\n",
       "      <td>2012</td>\n",
       "      <td>911</td>\n",
       "      <td>NARANJAL</td>\n",
       "      <td>9</td>\n",
       "      <td>GUAYAS</td>\n",
       "      <td>POLYGON ((656506.529 9712836.208, 656465.047 9...</td>\n",
       "      <td>GUAYAS</td>\n",
       "      <td>0</td>\n",
       "      <td>2012</td>\n",
       "      <td>03</td>\n",
       "      <td>02</td>\n",
       "      <td>593</td>\n",
       "      <td>MULTIPOLYGON (((592899.868 9666806.067, 592821...</td>\n",
       "    </tr>\n",
       "    <tr>\n",
       "      <th>702</th>\n",
       "      <td>91154</td>\n",
       "      <td>TAURA</td>\n",
       "      <td>0</td>\n",
       "      <td>2012</td>\n",
       "      <td>911</td>\n",
       "      <td>NARANJAL</td>\n",
       "      <td>9</td>\n",
       "      <td>GUAYAS</td>\n",
       "      <td>MULTIPOLYGON (((638529.533 9720606.904, 638525...</td>\n",
       "      <td>GUAYAS</td>\n",
       "      <td>0</td>\n",
       "      <td>2012</td>\n",
       "      <td>03</td>\n",
       "      <td>02</td>\n",
       "      <td>593</td>\n",
       "      <td>MULTIPOLYGON (((592899.868 9666806.067, 592821...</td>\n",
       "    </tr>\n",
       "    <tr>\n",
       "      <th>703</th>\n",
       "      <td>91250</td>\n",
       "      <td>NARANJITO</td>\n",
       "      <td>0</td>\n",
       "      <td>2012</td>\n",
       "      <td>912</td>\n",
       "      <td>NARANJITO</td>\n",
       "      <td>9</td>\n",
       "      <td>GUAYAS</td>\n",
       "      <td>POLYGON ((691230.383 9762755.282, 691221.595 9...</td>\n",
       "      <td>GUAYAS</td>\n",
       "      <td>0</td>\n",
       "      <td>2012</td>\n",
       "      <td>03</td>\n",
       "      <td>02</td>\n",
       "      <td>593</td>\n",
       "      <td>MULTIPOLYGON (((592899.868 9666806.067, 592821...</td>\n",
       "    </tr>\n",
       "    <tr>\n",
       "      <th>704</th>\n",
       "      <td>91350</td>\n",
       "      <td>PALESTINA</td>\n",
       "      <td>0</td>\n",
       "      <td>2012</td>\n",
       "      <td>913</td>\n",
       "      <td>PALESTINA</td>\n",
       "      <td>9</td>\n",
       "      <td>GUAYAS</td>\n",
       "      <td>POLYGON ((625170.453 9829545.170, 625172.576 9...</td>\n",
       "      <td>GUAYAS</td>\n",
       "      <td>0</td>\n",
       "      <td>2012</td>\n",
       "      <td>03</td>\n",
       "      <td>02</td>\n",
       "      <td>593</td>\n",
       "      <td>MULTIPOLYGON (((592899.868 9666806.067, 592821...</td>\n",
       "    </tr>\n",
       "    <tr>\n",
       "      <th>705</th>\n",
       "      <td>91450</td>\n",
       "      <td>PEDRO CARBO</td>\n",
       "      <td>0</td>\n",
       "      <td>2012</td>\n",
       "      <td>914</td>\n",
       "      <td>PEDRO CARBO</td>\n",
       "      <td>9</td>\n",
       "      <td>GUAYAS</td>\n",
       "      <td>POLYGON ((585499.631 9813383.426, 585500.744 9...</td>\n",
       "      <td>GUAYAS</td>\n",
       "      <td>0</td>\n",
       "      <td>2012</td>\n",
       "      <td>03</td>\n",
       "      <td>02</td>\n",
       "      <td>593</td>\n",
       "      <td>MULTIPOLYGON (((592899.868 9666806.067, 592821...</td>\n",
       "    </tr>\n",
       "    <tr>\n",
       "      <th>706</th>\n",
       "      <td>91451</td>\n",
       "      <td>VALLE DE LA VIRGEN</td>\n",
       "      <td>0</td>\n",
       "      <td>2012</td>\n",
       "      <td>914</td>\n",
       "      <td>PEDRO CARBO</td>\n",
       "      <td>9</td>\n",
       "      <td>GUAYAS</td>\n",
       "      <td>POLYGON ((595016.032 9818044.367, 595003.392 9...</td>\n",
       "      <td>GUAYAS</td>\n",
       "      <td>0</td>\n",
       "      <td>2012</td>\n",
       "      <td>03</td>\n",
       "      <td>02</td>\n",
       "      <td>593</td>\n",
       "      <td>MULTIPOLYGON (((592899.868 9666806.067, 592821...</td>\n",
       "    </tr>\n",
       "    <tr>\n",
       "      <th>707</th>\n",
       "      <td>91452</td>\n",
       "      <td>SABANILLA</td>\n",
       "      <td>0</td>\n",
       "      <td>2012</td>\n",
       "      <td>914</td>\n",
       "      <td>PEDRO CARBO</td>\n",
       "      <td>9</td>\n",
       "      <td>GUAYAS</td>\n",
       "      <td>POLYGON ((596354.470 9798340.826, 596343.972 9...</td>\n",
       "      <td>GUAYAS</td>\n",
       "      <td>0</td>\n",
       "      <td>2012</td>\n",
       "      <td>03</td>\n",
       "      <td>02</td>\n",
       "      <td>593</td>\n",
       "      <td>MULTIPOLYGON (((592899.868 9666806.067, 592821...</td>\n",
       "    </tr>\n",
       "    <tr>\n",
       "      <th>708</th>\n",
       "      <td>91650</td>\n",
       "      <td>SAMBORONDON</td>\n",
       "      <td>0</td>\n",
       "      <td>2012</td>\n",
       "      <td>916</td>\n",
       "      <td>SAMBORONDON</td>\n",
       "      <td>9</td>\n",
       "      <td>GUAYAS</td>\n",
       "      <td>POLYGON ((635649.816 9792279.208, 635637.347 9...</td>\n",
       "      <td>GUAYAS</td>\n",
       "      <td>0</td>\n",
       "      <td>2012</td>\n",
       "      <td>03</td>\n",
       "      <td>02</td>\n",
       "      <td>593</td>\n",
       "      <td>MULTIPOLYGON (((592899.868 9666806.067, 592821...</td>\n",
       "    </tr>\n",
       "    <tr>\n",
       "      <th>709</th>\n",
       "      <td>91651</td>\n",
       "      <td>TARIFA</td>\n",
       "      <td>0</td>\n",
       "      <td>2012</td>\n",
       "      <td>916</td>\n",
       "      <td>SAMBORONDON</td>\n",
       "      <td>9</td>\n",
       "      <td>GUAYAS</td>\n",
       "      <td>POLYGON ((630988.585 9788865.511, 630995.429 9...</td>\n",
       "      <td>GUAYAS</td>\n",
       "      <td>0</td>\n",
       "      <td>2012</td>\n",
       "      <td>03</td>\n",
       "      <td>02</td>\n",
       "      <td>593</td>\n",
       "      <td>MULTIPOLYGON (((592899.868 9666806.067, 592821...</td>\n",
       "    </tr>\n",
       "    <tr>\n",
       "      <th>710</th>\n",
       "      <td>91850</td>\n",
       "      <td>SANTA LUCIA</td>\n",
       "      <td>0</td>\n",
       "      <td>2012</td>\n",
       "      <td>918</td>\n",
       "      <td>SANTA LUCIA</td>\n",
       "      <td>9</td>\n",
       "      <td>GUAYAS</td>\n",
       "      <td>POLYGON ((609932.078 9818622.755, 609937.919 9...</td>\n",
       "      <td>GUAYAS</td>\n",
       "      <td>0</td>\n",
       "      <td>2012</td>\n",
       "      <td>03</td>\n",
       "      <td>02</td>\n",
       "      <td>593</td>\n",
       "      <td>MULTIPOLYGON (((592899.868 9666806.067, 592821...</td>\n",
       "    </tr>\n",
       "    <tr>\n",
       "      <th>711</th>\n",
       "      <td>91950</td>\n",
       "      <td>EL SALITRE (LAS RAMAS)</td>\n",
       "      <td>0</td>\n",
       "      <td>2012</td>\n",
       "      <td>919</td>\n",
       "      <td>SALITRE</td>\n",
       "      <td>9</td>\n",
       "      <td>GUAYAS</td>\n",
       "      <td>POLYGON ((641424.510 9798180.314, 641479.459 9...</td>\n",
       "      <td>GUAYAS</td>\n",
       "      <td>0</td>\n",
       "      <td>2012</td>\n",
       "      <td>03</td>\n",
       "      <td>02</td>\n",
       "      <td>593</td>\n",
       "      <td>MULTIPOLYGON (((592899.868 9666806.067, 592821...</td>\n",
       "    </tr>\n",
       "    <tr>\n",
       "      <th>712</th>\n",
       "      <td>91951</td>\n",
       "      <td>GRAL. VERNAZA (DOS ESTEROS)</td>\n",
       "      <td>0</td>\n",
       "      <td>2012</td>\n",
       "      <td>919</td>\n",
       "      <td>SALITRE</td>\n",
       "      <td>9</td>\n",
       "      <td>GUAYAS</td>\n",
       "      <td>POLYGON ((639237.456 9807801.689, 639255.304 9...</td>\n",
       "      <td>GUAYAS</td>\n",
       "      <td>0</td>\n",
       "      <td>2012</td>\n",
       "      <td>03</td>\n",
       "      <td>02</td>\n",
       "      <td>593</td>\n",
       "      <td>MULTIPOLYGON (((592899.868 9666806.067, 592821...</td>\n",
       "    </tr>\n",
       "    <tr>\n",
       "      <th>713</th>\n",
       "      <td>91952</td>\n",
       "      <td>LA VICTORIA (ÑAUZA)</td>\n",
       "      <td>0</td>\n",
       "      <td>2012</td>\n",
       "      <td>919</td>\n",
       "      <td>SALITRE</td>\n",
       "      <td>9</td>\n",
       "      <td>GUAYAS</td>\n",
       "      <td>POLYGON ((641482.324 9796913.222, 641478.831 9...</td>\n",
       "      <td>GUAYAS</td>\n",
       "      <td>0</td>\n",
       "      <td>2012</td>\n",
       "      <td>03</td>\n",
       "      <td>02</td>\n",
       "      <td>593</td>\n",
       "      <td>MULTIPOLYGON (((592899.868 9666806.067, 592821...</td>\n",
       "    </tr>\n",
       "    <tr>\n",
       "      <th>714</th>\n",
       "      <td>91953</td>\n",
       "      <td>JUNQUILLAL</td>\n",
       "      <td>0</td>\n",
       "      <td>2012</td>\n",
       "      <td>919</td>\n",
       "      <td>SALITRE</td>\n",
       "      <td>9</td>\n",
       "      <td>GUAYAS</td>\n",
       "      <td>POLYGON ((626430.879 9818277.441, 626435.052 9...</td>\n",
       "      <td>GUAYAS</td>\n",
       "      <td>0</td>\n",
       "      <td>2012</td>\n",
       "      <td>03</td>\n",
       "      <td>02</td>\n",
       "      <td>593</td>\n",
       "      <td>MULTIPOLYGON (((592899.868 9666806.067, 592821...</td>\n",
       "    </tr>\n",
       "    <tr>\n",
       "      <th>715</th>\n",
       "      <td>92050</td>\n",
       "      <td>SAN JACINTO DE YAGUACHI</td>\n",
       "      <td>0</td>\n",
       "      <td>2012</td>\n",
       "      <td>920</td>\n",
       "      <td>SAN JACINTO DE YAGUACHI</td>\n",
       "      <td>9</td>\n",
       "      <td>GUAYAS</td>\n",
       "      <td>POLYGON ((655213.964 9780175.558, 655176.445 9...</td>\n",
       "      <td>GUAYAS</td>\n",
       "      <td>0</td>\n",
       "      <td>2012</td>\n",
       "      <td>03</td>\n",
       "      <td>02</td>\n",
       "      <td>593</td>\n",
       "      <td>MULTIPOLYGON (((592899.868 9666806.067, 592821...</td>\n",
       "    </tr>\n",
       "    <tr>\n",
       "      <th>716</th>\n",
       "      <td>92053</td>\n",
       "      <td>GRAL. PEDRO J. MONTERO (BOLICHE)</td>\n",
       "      <td>0</td>\n",
       "      <td>2012</td>\n",
       "      <td>920</td>\n",
       "      <td>SAN JACINTO DE YAGUACHI</td>\n",
       "      <td>9</td>\n",
       "      <td>GUAYAS</td>\n",
       "      <td>POLYGON ((659607.567 9753537.995, 659641.764 9...</td>\n",
       "      <td>GUAYAS</td>\n",
       "      <td>0</td>\n",
       "      <td>2012</td>\n",
       "      <td>03</td>\n",
       "      <td>02</td>\n",
       "      <td>593</td>\n",
       "      <td>MULTIPOLYGON (((592899.868 9666806.067, 592821...</td>\n",
       "    </tr>\n",
       "    <tr>\n",
       "      <th>717</th>\n",
       "      <td>92055</td>\n",
       "      <td>YAGUACHI VIEJO (CONE)</td>\n",
       "      <td>0</td>\n",
       "      <td>2012</td>\n",
       "      <td>920</td>\n",
       "      <td>SAN JACINTO DE YAGUACHI</td>\n",
       "      <td>9</td>\n",
       "      <td>GUAYAS</td>\n",
       "      <td>POLYGON ((646031.166 9763013.038, 646060.319 9...</td>\n",
       "      <td>GUAYAS</td>\n",
       "      <td>0</td>\n",
       "      <td>2012</td>\n",
       "      <td>03</td>\n",
       "      <td>02</td>\n",
       "      <td>593</td>\n",
       "      <td>MULTIPOLYGON (((592899.868 9666806.067, 592821...</td>\n",
       "    </tr>\n",
       "    <tr>\n",
       "      <th>718</th>\n",
       "      <td>92056</td>\n",
       "      <td>VIRGEN DE FATIMA</td>\n",
       "      <td>0</td>\n",
       "      <td>2012</td>\n",
       "      <td>920</td>\n",
       "      <td>SAN JACINTO DE YAGUACHI</td>\n",
       "      <td>9</td>\n",
       "      <td>GUAYAS</td>\n",
       "      <td>POLYGON ((651308.113 9752957.067, 651330.586 9...</td>\n",
       "      <td>GUAYAS</td>\n",
       "      <td>0</td>\n",
       "      <td>2012</td>\n",
       "      <td>03</td>\n",
       "      <td>02</td>\n",
       "      <td>593</td>\n",
       "      <td>MULTIPOLYGON (((592899.868 9666806.067, 592821...</td>\n",
       "    </tr>\n",
       "    <tr>\n",
       "      <th>719</th>\n",
       "      <td>92150</td>\n",
       "      <td>GENERAL VILLAMIL (PLAYAS)</td>\n",
       "      <td>0</td>\n",
       "      <td>2012</td>\n",
       "      <td>921</td>\n",
       "      <td>PLAYAS</td>\n",
       "      <td>9</td>\n",
       "      <td>GUAYAS</td>\n",
       "      <td>POLYGON ((568050.233 9726222.365, 568047.042 9...</td>\n",
       "      <td>GUAYAS</td>\n",
       "      <td>0</td>\n",
       "      <td>2012</td>\n",
       "      <td>03</td>\n",
       "      <td>02</td>\n",
       "      <td>593</td>\n",
       "      <td>MULTIPOLYGON (((592899.868 9666806.067, 592821...</td>\n",
       "    </tr>\n",
       "    <tr>\n",
       "      <th>720</th>\n",
       "      <td>92250</td>\n",
       "      <td>SIMON BOLIVAR</td>\n",
       "      <td>0</td>\n",
       "      <td>2012</td>\n",
       "      <td>922</td>\n",
       "      <td>SIMON BOLIVAR</td>\n",
       "      <td>9</td>\n",
       "      <td>GUAYAS</td>\n",
       "      <td>POLYGON ((677988.123 9782462.120, 677988.793 9...</td>\n",
       "      <td>GUAYAS</td>\n",
       "      <td>0</td>\n",
       "      <td>2012</td>\n",
       "      <td>03</td>\n",
       "      <td>02</td>\n",
       "      <td>593</td>\n",
       "      <td>MULTIPOLYGON (((592899.868 9666806.067, 592821...</td>\n",
       "    </tr>\n",
       "    <tr>\n",
       "      <th>721</th>\n",
       "      <td>92251</td>\n",
       "      <td>CRNEL. LORENZO DE GARAICOA (PEDREGAL)</td>\n",
       "      <td>0</td>\n",
       "      <td>2012</td>\n",
       "      <td>922</td>\n",
       "      <td>SIMON BOLIVAR</td>\n",
       "      <td>9</td>\n",
       "      <td>GUAYAS</td>\n",
       "      <td>POLYGON ((692282.038 9767355.118, 692282.038 9...</td>\n",
       "      <td>GUAYAS</td>\n",
       "      <td>0</td>\n",
       "      <td>2012</td>\n",
       "      <td>03</td>\n",
       "      <td>02</td>\n",
       "      <td>593</td>\n",
       "      <td>MULTIPOLYGON (((592899.868 9666806.067, 592821...</td>\n",
       "    </tr>\n",
       "    <tr>\n",
       "      <th>722</th>\n",
       "      <td>92350</td>\n",
       "      <td>CORONEL MARCELINO MARIDUEÑA (SAN CARLOS)</td>\n",
       "      <td>0</td>\n",
       "      <td>2012</td>\n",
       "      <td>923</td>\n",
       "      <td>CRNEL. MARCELINO MARIDUEÑA</td>\n",
       "      <td>9</td>\n",
       "      <td>GUAYAS</td>\n",
       "      <td>POLYGON ((690511.972 9758199.353, 690530.336 9...</td>\n",
       "      <td>GUAYAS</td>\n",
       "      <td>0</td>\n",
       "      <td>2012</td>\n",
       "      <td>03</td>\n",
       "      <td>02</td>\n",
       "      <td>593</td>\n",
       "      <td>MULTIPOLYGON (((592899.868 9666806.067, 592821...</td>\n",
       "    </tr>\n",
       "    <tr>\n",
       "      <th>723</th>\n",
       "      <td>92450</td>\n",
       "      <td>LOMAS DE SARGENTILLO</td>\n",
       "      <td>0</td>\n",
       "      <td>2012</td>\n",
       "      <td>924</td>\n",
       "      <td>LOMAS DE SARGENTILLO</td>\n",
       "      <td>9</td>\n",
       "      <td>GUAYAS</td>\n",
       "      <td>POLYGON ((605613.524 9802401.081, 605618.718 9...</td>\n",
       "      <td>GUAYAS</td>\n",
       "      <td>0</td>\n",
       "      <td>2012</td>\n",
       "      <td>03</td>\n",
       "      <td>02</td>\n",
       "      <td>593</td>\n",
       "      <td>MULTIPOLYGON (((592899.868 9666806.067, 592821...</td>\n",
       "    </tr>\n",
       "    <tr>\n",
       "      <th>724</th>\n",
       "      <td>92550</td>\n",
       "      <td>NARCISA DE JESUS</td>\n",
       "      <td>0</td>\n",
       "      <td>2012</td>\n",
       "      <td>925</td>\n",
       "      <td>NOBOL</td>\n",
       "      <td>9</td>\n",
       "      <td>GUAYAS</td>\n",
       "      <td>POLYGON ((611031.271 9781427.728, 611008.939 9...</td>\n",
       "      <td>GUAYAS</td>\n",
       "      <td>0</td>\n",
       "      <td>2012</td>\n",
       "      <td>03</td>\n",
       "      <td>02</td>\n",
       "      <td>593</td>\n",
       "      <td>MULTIPOLYGON (((592899.868 9666806.067, 592821...</td>\n",
       "    </tr>\n",
       "    <tr>\n",
       "      <th>725</th>\n",
       "      <td>92750</td>\n",
       "      <td>GRAL. ANTONIO ELIZALDE (BUCAY)</td>\n",
       "      <td>0</td>\n",
       "      <td>2012</td>\n",
       "      <td>927</td>\n",
       "      <td>GNRAL. ANTONIO ELIZALDE</td>\n",
       "      <td>9</td>\n",
       "      <td>GUAYAS</td>\n",
       "      <td>POLYGON ((699805.358 9764067.298, 699841.955 9...</td>\n",
       "      <td>GUAYAS</td>\n",
       "      <td>0</td>\n",
       "      <td>2012</td>\n",
       "      <td>03</td>\n",
       "      <td>02</td>\n",
       "      <td>593</td>\n",
       "      <td>MULTIPOLYGON (((592899.868 9666806.067, 592821...</td>\n",
       "    </tr>\n",
       "    <tr>\n",
       "      <th>726</th>\n",
       "      <td>92850</td>\n",
       "      <td>ISIDRO AYORA</td>\n",
       "      <td>0</td>\n",
       "      <td>2012</td>\n",
       "      <td>928</td>\n",
       "      <td>ISIDRO AYORA</td>\n",
       "      <td>9</td>\n",
       "      <td>GUAYAS</td>\n",
       "      <td>POLYGON ((603255.695 9805503.005, 603225.486 9...</td>\n",
       "      <td>GUAYAS</td>\n",
       "      <td>0</td>\n",
       "      <td>2012</td>\n",
       "      <td>03</td>\n",
       "      <td>02</td>\n",
       "      <td>593</td>\n",
       "      <td>MULTIPOLYGON (((592899.868 9666806.067, 592821...</td>\n",
       "    </tr>\n",
       "  </tbody>\n",
       "</table>\n",
       "</div>"
      ],
      "text/plain": [
       "     DPA_PARROQ                                    DPA_DESPAR  DPA_VALOR_x  \\\n",
       "673       90150                                     GUAYAQUIL            0   \n",
       "674       90152                  JUAN GOMEZ RENDON (PROGRESO)            0   \n",
       "675       90153                                         MORRO            0   \n",
       "676       90156                                       POSORJA            0   \n",
       "677       90157                                          PUNA            0   \n",
       "678       90158                                       TENGUEL            0   \n",
       "679       90250              ALFREDO BAQUERIZO MORENO (JUJAN)            0   \n",
       "680       90350                                         BALAO            0   \n",
       "681       90450                                        BALZAR            0   \n",
       "682       90550                                       COLIMES            0   \n",
       "683       90551                                   SAN JACINTO            0   \n",
       "684       90650                                         DAULE            0   \n",
       "685       90652            JUAN BAUTISTA AGUIRRE (LOS TINTOS)            0   \n",
       "686       90653                                        LAUREL            0   \n",
       "687       90654                                       LIMONAL            0   \n",
       "688       90656          LOS LOJAS (ENRIQUE BAQUERIZO MORENO)            0   \n",
       "689       90750                           ELOY ALFARO (DURAN)            0   \n",
       "690       90850              VELASCO IBARRA (CAB. EL EMPALME)            0   \n",
       "691       90851                         GUAYAS (PUEBLO NUEVO)            0   \n",
       "692       90852                                    EL ROSARIO            0   \n",
       "693       90950                                    EL TRIUNFO            0   \n",
       "694       91050                                       MILAGRO            0   \n",
       "695       91051                                         CHOBO            0   \n",
       "696       91053                      MARISCAL SUCRE (HUAQUES)            0   \n",
       "697       91054  ROBERTO ASTUDILLO (CAB. EN CRUCE DE VENECIA)            0   \n",
       "698       91150                                      NARANJAL            0   \n",
       "699       91151                                   JESUS MARIA            0   \n",
       "700       91152                                    SAN CARLOS            0   \n",
       "701       91153                         SANTA ROSA DE FLANDES            0   \n",
       "702       91154                                         TAURA            0   \n",
       "703       91250                                     NARANJITO            0   \n",
       "704       91350                                     PALESTINA            0   \n",
       "705       91450                                   PEDRO CARBO            0   \n",
       "706       91451                            VALLE DE LA VIRGEN            0   \n",
       "707       91452                                     SABANILLA            0   \n",
       "708       91650                                   SAMBORONDON            0   \n",
       "709       91651                                        TARIFA            0   \n",
       "710       91850                                   SANTA LUCIA            0   \n",
       "711       91950                        EL SALITRE (LAS RAMAS)            0   \n",
       "712       91951                   GRAL. VERNAZA (DOS ESTEROS)            0   \n",
       "713       91952                           LA VICTORIA (ÑAUZA)            0   \n",
       "714       91953                                    JUNQUILLAL            0   \n",
       "715       92050                       SAN JACINTO DE YAGUACHI            0   \n",
       "716       92053              GRAL. PEDRO J. MONTERO (BOLICHE)            0   \n",
       "717       92055                         YAGUACHI VIEJO (CONE)            0   \n",
       "718       92056                              VIRGEN DE FATIMA            0   \n",
       "719       92150                     GENERAL VILLAMIL (PLAYAS)            0   \n",
       "720       92250                                 SIMON BOLIVAR            0   \n",
       "721       92251         CRNEL. LORENZO DE GARAICOA (PEDREGAL)            0   \n",
       "722       92350      CORONEL MARCELINO MARIDUEÑA (SAN CARLOS)            0   \n",
       "723       92450                          LOMAS DE SARGENTILLO            0   \n",
       "724       92550                              NARCISA DE JESUS            0   \n",
       "725       92750                GRAL. ANTONIO ELIZALDE (BUCAY)            0   \n",
       "726       92850                                  ISIDRO AYORA            0   \n",
       "\n",
       "    DPA_ANIO_x  DPA_CANTON                  DPA_DESCAN  DPA_PROVIN  \\\n",
       "673       2012         901                   GUAYAQUIL           9   \n",
       "674       2012         901                   GUAYAQUIL           9   \n",
       "675       2012         901                   GUAYAQUIL           9   \n",
       "676       2012         901                   GUAYAQUIL           9   \n",
       "677       2012         901                   GUAYAQUIL           9   \n",
       "678       2012         901                   GUAYAQUIL           9   \n",
       "679       2012         902    ALFREDO BAQUERIZO MORENO           9   \n",
       "680       2012         903                       BALAO           9   \n",
       "681       2012         904                      BALZAR           9   \n",
       "682       2012         905                     COLIMES           9   \n",
       "683       2012         905                     COLIMES           9   \n",
       "684       2012         906                       DAULE           9   \n",
       "685       2012         906                       DAULE           9   \n",
       "686       2012         906                       DAULE           9   \n",
       "687       2012         906                       DAULE           9   \n",
       "688       2012         906                       DAULE           9   \n",
       "689       2012         907                       DURAN           9   \n",
       "690       2012         908                     EMPALME           9   \n",
       "691       2012         908                     EMPALME           9   \n",
       "692       2012         908                     EMPALME           9   \n",
       "693       2012         909                  EL TRIUNFO           9   \n",
       "694       2012         910                     MILAGRO           9   \n",
       "695       2012         910                     MILAGRO           9   \n",
       "696       2012         910                     MILAGRO           9   \n",
       "697       2012         910                     MILAGRO           9   \n",
       "698       2012         911                    NARANJAL           9   \n",
       "699       2012         911                    NARANJAL           9   \n",
       "700       2012         911                    NARANJAL           9   \n",
       "701       2012         911                    NARANJAL           9   \n",
       "702       2012         911                    NARANJAL           9   \n",
       "703       2012         912                   NARANJITO           9   \n",
       "704       2012         913                   PALESTINA           9   \n",
       "705       2012         914                 PEDRO CARBO           9   \n",
       "706       2012         914                 PEDRO CARBO           9   \n",
       "707       2012         914                 PEDRO CARBO           9   \n",
       "708       2012         916                 SAMBORONDON           9   \n",
       "709       2012         916                 SAMBORONDON           9   \n",
       "710       2012         918                 SANTA LUCIA           9   \n",
       "711       2012         919                     SALITRE           9   \n",
       "712       2012         919                     SALITRE           9   \n",
       "713       2012         919                     SALITRE           9   \n",
       "714       2012         919                     SALITRE           9   \n",
       "715       2012         920     SAN JACINTO DE YAGUACHI           9   \n",
       "716       2012         920     SAN JACINTO DE YAGUACHI           9   \n",
       "717       2012         920     SAN JACINTO DE YAGUACHI           9   \n",
       "718       2012         920     SAN JACINTO DE YAGUACHI           9   \n",
       "719       2012         921                      PLAYAS           9   \n",
       "720       2012         922               SIMON BOLIVAR           9   \n",
       "721       2012         922               SIMON BOLIVAR           9   \n",
       "722       2012         923  CRNEL. MARCELINO MARIDUEÑA           9   \n",
       "723       2012         924        LOMAS DE SARGENTILLO           9   \n",
       "724       2012         925                       NOBOL           9   \n",
       "725       2012         927     GNRAL. ANTONIO ELIZALDE           9   \n",
       "726       2012         928                ISIDRO AYORA           9   \n",
       "\n",
       "    DPA_DESPRO_x                                         geometry_x  \\\n",
       "673       GUAYAS  MULTIPOLYGON (((588584.686 9702837.227, 588541...   \n",
       "674       GUAYAS  POLYGON ((579404.191 9727655.926, 579409.588 9...   \n",
       "675       GUAYAS  POLYGON ((579404.191 9727655.926, 579374.103 9...   \n",
       "676       GUAYAS  POLYGON ((576717.133 9699890.123, 576697.760 9...   \n",
       "677       GUAYAS  MULTIPOLYGON (((592899.868 9666806.067, 592821...   \n",
       "678       GUAYAS  POLYGON ((641596.516 9670628.202, 641552.047 9...   \n",
       "679       GUAYAS  POLYGON ((671840.017 9788009.622, 671848.047 9...   \n",
       "680       GUAYAS  MULTIPOLYGON (((633544.648 9691507.651, 633565...   \n",
       "681       GUAYAS  POLYGON ((640005.021 9878693.740, 640007.060 9...   \n",
       "682       GUAYAS  POLYGON ((625106.073 9833079.713, 625101.960 9...   \n",
       "683       GUAYAS  POLYGON ((589963.419 9828470.286, 589965.801 9...   \n",
       "684       GUAYAS  MULTIPOLYGON (((626329.454 9777053.564, 626271...   \n",
       "685       GUAYAS  POLYGON ((628641.056 9789665.985, 628646.099 9...   \n",
       "686       GUAYAS  POLYGON ((622317.317 9803748.199, 622302.606 9...   \n",
       "687       GUAYAS  POLYGON ((617289.117 9802568.184, 617277.917 9...   \n",
       "688       GUAYAS  POLYGON ((623473.288 9786786.689, 623472.566 9...   \n",
       "689       GUAYAS  MULTIPOLYGON (((629800.415 9753081.151, 629733...   \n",
       "690       GUAYAS  POLYGON ((657182.866 9881911.751, 657180.146 9...   \n",
       "691       GUAYAS  POLYGON ((666105.272 9895531.727, 666090.971 9...   \n",
       "692       GUAYAS  POLYGON ((640548.727 9890267.815, 640535.646 9...   \n",
       "693       GUAYAS  POLYGON ((706743.944 9755255.729, 706742.228 9...   \n",
       "694       GUAYAS  POLYGON ((664541.830 9777416.043, 664541.024 9...   \n",
       "695       GUAYAS  POLYGON ((653490.504 9758487.848, 653490.494 9...   \n",
       "696       GUAYAS  POLYGON ((669682.406 9771949.948, 669681.897 9...   \n",
       "697       GUAYAS  POLYGON ((667069.917 9753487.742, 667045.756 9...   \n",
       "698       GUAYAS  MULTIPOLYGON (((650376.501 9708190.794, 650376...   \n",
       "699       GUAYAS  POLYGON ((672833.430 9712654.412, 672829.691 9...   \n",
       "700       GUAYAS  POLYGON ((663302.386 9723618.389, 663247.960 9...   \n",
       "701       GUAYAS  POLYGON ((656506.529 9712836.208, 656465.047 9...   \n",
       "702       GUAYAS  MULTIPOLYGON (((638529.533 9720606.904, 638525...   \n",
       "703       GUAYAS  POLYGON ((691230.383 9762755.282, 691221.595 9...   \n",
       "704       GUAYAS  POLYGON ((625170.453 9829545.170, 625172.576 9...   \n",
       "705       GUAYAS  POLYGON ((585499.631 9813383.426, 585500.744 9...   \n",
       "706       GUAYAS  POLYGON ((595016.032 9818044.367, 595003.392 9...   \n",
       "707       GUAYAS  POLYGON ((596354.470 9798340.826, 596343.972 9...   \n",
       "708       GUAYAS  POLYGON ((635649.816 9792279.208, 635637.347 9...   \n",
       "709       GUAYAS  POLYGON ((630988.585 9788865.511, 630995.429 9...   \n",
       "710       GUAYAS  POLYGON ((609932.078 9818622.755, 609937.919 9...   \n",
       "711       GUAYAS  POLYGON ((641424.510 9798180.314, 641479.459 9...   \n",
       "712       GUAYAS  POLYGON ((639237.456 9807801.689, 639255.304 9...   \n",
       "713       GUAYAS  POLYGON ((641482.324 9796913.222, 641478.831 9...   \n",
       "714       GUAYAS  POLYGON ((626430.879 9818277.441, 626435.052 9...   \n",
       "715       GUAYAS  POLYGON ((655213.964 9780175.558, 655176.445 9...   \n",
       "716       GUAYAS  POLYGON ((659607.567 9753537.995, 659641.764 9...   \n",
       "717       GUAYAS  POLYGON ((646031.166 9763013.038, 646060.319 9...   \n",
       "718       GUAYAS  POLYGON ((651308.113 9752957.067, 651330.586 9...   \n",
       "719       GUAYAS  POLYGON ((568050.233 9726222.365, 568047.042 9...   \n",
       "720       GUAYAS  POLYGON ((677988.123 9782462.120, 677988.793 9...   \n",
       "721       GUAYAS  POLYGON ((692282.038 9767355.118, 692282.038 9...   \n",
       "722       GUAYAS  POLYGON ((690511.972 9758199.353, 690530.336 9...   \n",
       "723       GUAYAS  POLYGON ((605613.524 9802401.081, 605618.718 9...   \n",
       "724       GUAYAS  POLYGON ((611031.271 9781427.728, 611008.939 9...   \n",
       "725       GUAYAS  POLYGON ((699805.358 9764067.298, 699841.955 9...   \n",
       "726       GUAYAS  POLYGON ((603255.695 9805503.005, 603225.486 9...   \n",
       "\n",
       "    DPA_DESPRO_y  DPA_VALOR_y DPA_ANIO_y REI_CODIGO REN_CODIGO PEE_CODIGO  \\\n",
       "673       GUAYAS            0       2012         03         02        593   \n",
       "674       GUAYAS            0       2012         03         02        593   \n",
       "675       GUAYAS            0       2012         03         02        593   \n",
       "676       GUAYAS            0       2012         03         02        593   \n",
       "677       GUAYAS            0       2012         03         02        593   \n",
       "678       GUAYAS            0       2012         03         02        593   \n",
       "679       GUAYAS            0       2012         03         02        593   \n",
       "680       GUAYAS            0       2012         03         02        593   \n",
       "681       GUAYAS            0       2012         03         02        593   \n",
       "682       GUAYAS            0       2012         03         02        593   \n",
       "683       GUAYAS            0       2012         03         02        593   \n",
       "684       GUAYAS            0       2012         03         02        593   \n",
       "685       GUAYAS            0       2012         03         02        593   \n",
       "686       GUAYAS            0       2012         03         02        593   \n",
       "687       GUAYAS            0       2012         03         02        593   \n",
       "688       GUAYAS            0       2012         03         02        593   \n",
       "689       GUAYAS            0       2012         03         02        593   \n",
       "690       GUAYAS            0       2012         03         02        593   \n",
       "691       GUAYAS            0       2012         03         02        593   \n",
       "692       GUAYAS            0       2012         03         02        593   \n",
       "693       GUAYAS            0       2012         03         02        593   \n",
       "694       GUAYAS            0       2012         03         02        593   \n",
       "695       GUAYAS            0       2012         03         02        593   \n",
       "696       GUAYAS            0       2012         03         02        593   \n",
       "697       GUAYAS            0       2012         03         02        593   \n",
       "698       GUAYAS            0       2012         03         02        593   \n",
       "699       GUAYAS            0       2012         03         02        593   \n",
       "700       GUAYAS            0       2012         03         02        593   \n",
       "701       GUAYAS            0       2012         03         02        593   \n",
       "702       GUAYAS            0       2012         03         02        593   \n",
       "703       GUAYAS            0       2012         03         02        593   \n",
       "704       GUAYAS            0       2012         03         02        593   \n",
       "705       GUAYAS            0       2012         03         02        593   \n",
       "706       GUAYAS            0       2012         03         02        593   \n",
       "707       GUAYAS            0       2012         03         02        593   \n",
       "708       GUAYAS            0       2012         03         02        593   \n",
       "709       GUAYAS            0       2012         03         02        593   \n",
       "710       GUAYAS            0       2012         03         02        593   \n",
       "711       GUAYAS            0       2012         03         02        593   \n",
       "712       GUAYAS            0       2012         03         02        593   \n",
       "713       GUAYAS            0       2012         03         02        593   \n",
       "714       GUAYAS            0       2012         03         02        593   \n",
       "715       GUAYAS            0       2012         03         02        593   \n",
       "716       GUAYAS            0       2012         03         02        593   \n",
       "717       GUAYAS            0       2012         03         02        593   \n",
       "718       GUAYAS            0       2012         03         02        593   \n",
       "719       GUAYAS            0       2012         03         02        593   \n",
       "720       GUAYAS            0       2012         03         02        593   \n",
       "721       GUAYAS            0       2012         03         02        593   \n",
       "722       GUAYAS            0       2012         03         02        593   \n",
       "723       GUAYAS            0       2012         03         02        593   \n",
       "724       GUAYAS            0       2012         03         02        593   \n",
       "725       GUAYAS            0       2012         03         02        593   \n",
       "726       GUAYAS            0       2012         03         02        593   \n",
       "\n",
       "                                            geometry_y  \n",
       "673  MULTIPOLYGON (((592899.868 9666806.067, 592821...  \n",
       "674  MULTIPOLYGON (((592899.868 9666806.067, 592821...  \n",
       "675  MULTIPOLYGON (((592899.868 9666806.067, 592821...  \n",
       "676  MULTIPOLYGON (((592899.868 9666806.067, 592821...  \n",
       "677  MULTIPOLYGON (((592899.868 9666806.067, 592821...  \n",
       "678  MULTIPOLYGON (((592899.868 9666806.067, 592821...  \n",
       "679  MULTIPOLYGON (((592899.868 9666806.067, 592821...  \n",
       "680  MULTIPOLYGON (((592899.868 9666806.067, 592821...  \n",
       "681  MULTIPOLYGON (((592899.868 9666806.067, 592821...  \n",
       "682  MULTIPOLYGON (((592899.868 9666806.067, 592821...  \n",
       "683  MULTIPOLYGON (((592899.868 9666806.067, 592821...  \n",
       "684  MULTIPOLYGON (((592899.868 9666806.067, 592821...  \n",
       "685  MULTIPOLYGON (((592899.868 9666806.067, 592821...  \n",
       "686  MULTIPOLYGON (((592899.868 9666806.067, 592821...  \n",
       "687  MULTIPOLYGON (((592899.868 9666806.067, 592821...  \n",
       "688  MULTIPOLYGON (((592899.868 9666806.067, 592821...  \n",
       "689  MULTIPOLYGON (((592899.868 9666806.067, 592821...  \n",
       "690  MULTIPOLYGON (((592899.868 9666806.067, 592821...  \n",
       "691  MULTIPOLYGON (((592899.868 9666806.067, 592821...  \n",
       "692  MULTIPOLYGON (((592899.868 9666806.067, 592821...  \n",
       "693  MULTIPOLYGON (((592899.868 9666806.067, 592821...  \n",
       "694  MULTIPOLYGON (((592899.868 9666806.067, 592821...  \n",
       "695  MULTIPOLYGON (((592899.868 9666806.067, 592821...  \n",
       "696  MULTIPOLYGON (((592899.868 9666806.067, 592821...  \n",
       "697  MULTIPOLYGON (((592899.868 9666806.067, 592821...  \n",
       "698  MULTIPOLYGON (((592899.868 9666806.067, 592821...  \n",
       "699  MULTIPOLYGON (((592899.868 9666806.067, 592821...  \n",
       "700  MULTIPOLYGON (((592899.868 9666806.067, 592821...  \n",
       "701  MULTIPOLYGON (((592899.868 9666806.067, 592821...  \n",
       "702  MULTIPOLYGON (((592899.868 9666806.067, 592821...  \n",
       "703  MULTIPOLYGON (((592899.868 9666806.067, 592821...  \n",
       "704  MULTIPOLYGON (((592899.868 9666806.067, 592821...  \n",
       "705  MULTIPOLYGON (((592899.868 9666806.067, 592821...  \n",
       "706  MULTIPOLYGON (((592899.868 9666806.067, 592821...  \n",
       "707  MULTIPOLYGON (((592899.868 9666806.067, 592821...  \n",
       "708  MULTIPOLYGON (((592899.868 9666806.067, 592821...  \n",
       "709  MULTIPOLYGON (((592899.868 9666806.067, 592821...  \n",
       "710  MULTIPOLYGON (((592899.868 9666806.067, 592821...  \n",
       "711  MULTIPOLYGON (((592899.868 9666806.067, 592821...  \n",
       "712  MULTIPOLYGON (((592899.868 9666806.067, 592821...  \n",
       "713  MULTIPOLYGON (((592899.868 9666806.067, 592821...  \n",
       "714  MULTIPOLYGON (((592899.868 9666806.067, 592821...  \n",
       "715  MULTIPOLYGON (((592899.868 9666806.067, 592821...  \n",
       "716  MULTIPOLYGON (((592899.868 9666806.067, 592821...  \n",
       "717  MULTIPOLYGON (((592899.868 9666806.067, 592821...  \n",
       "718  MULTIPOLYGON (((592899.868 9666806.067, 592821...  \n",
       "719  MULTIPOLYGON (((592899.868 9666806.067, 592821...  \n",
       "720  MULTIPOLYGON (((592899.868 9666806.067, 592821...  \n",
       "721  MULTIPOLYGON (((592899.868 9666806.067, 592821...  \n",
       "722  MULTIPOLYGON (((592899.868 9666806.067, 592821...  \n",
       "723  MULTIPOLYGON (((592899.868 9666806.067, 592821...  \n",
       "724  MULTIPOLYGON (((592899.868 9666806.067, 592821...  \n",
       "725  MULTIPOLYGON (((592899.868 9666806.067, 592821...  \n",
       "726  MULTIPOLYGON (((592899.868 9666806.067, 592821...  "
      ]
     },
     "execution_count": 27,
     "metadata": {},
     "output_type": "execute_result"
    }
   ],
   "source": [
    "gdf_parroquias.loc[gdf_parroquias[\"DPA_DESPRO_y\"] == \"GUAYAS\"]"
   ]
  },
  {
   "cell_type": "code",
   "execution_count": 28,
   "id": "f28666c4",
   "metadata": {},
   "outputs": [
    {
     "data": {
      "text/plain": [
       "area         category\n",
       "ciudad          int32\n",
       "zona           object\n",
       "sector         object\n",
       "panelm         object\n",
       "               ...   \n",
       "pe03a2       category\n",
       "pe03a3       category\n",
       "pe03a4       category\n",
       "pe03a5       category\n",
       "id_sector      object\n",
       "Length: 419, dtype: object"
      ]
     },
     "execution_count": 28,
     "metadata": {},
     "output_type": "execute_result"
    }
   ],
   "source": [
    "df.dtypes"
   ]
  },
  {
   "cell_type": "code",
   "execution_count": 29,
   "id": "99462831",
   "metadata": {},
   "outputs": [
    {
     "data": {
      "text/plain": [
       "90150     43245\n",
       "170150    34578\n",
       "180150    28277\n",
       "10150     26505\n",
       "70150     22949\n",
       "          ...  \n",
       "180550       33\n",
       "200151       33\n",
       "200352       32\n",
       "200152       30\n",
       "200251       28\n",
       "Name: ciudad, Length: 618, dtype: int64"
      ]
     },
     "execution_count": 29,
     "metadata": {},
     "output_type": "execute_result"
    }
   ],
   "source": [
    "df[\"ciudad\"].value_counts()"
   ]
  },
  {
   "cell_type": "code",
   "execution_count": 30,
   "id": "cd509e43",
   "metadata": {},
   "outputs": [],
   "source": [
    "df = df.merge(gdf_parroquias, how = \"inner\", left_on = \"ciudad\", right_on = \"DPA_PARROQ\")"
   ]
  },
  {
   "cell_type": "code",
   "execution_count": 31,
   "id": "ff0f834a",
   "metadata": {},
   "outputs": [
    {
     "data": {
      "text/plain": [
       "(573530, 435)"
      ]
     },
     "execution_count": 31,
     "metadata": {},
     "output_type": "execute_result"
    }
   ],
   "source": [
    "df.shape"
   ]
  },
  {
   "cell_type": "markdown",
   "id": "1a66f8c7",
   "metadata": {},
   "source": [
    "# ¿En qué barrios de Guayaquil se gana más como extranjero (ingpc)?"
   ]
  },
  {
   "cell_type": "code",
   "execution_count": 32,
   "id": "59e213af",
   "metadata": {},
   "outputs": [
    {
     "data": {
      "text/plain": [
       "array([283.25      , 120.42857143, 563.6       , ..., 653.83333333,\n",
       "       427.2       , 741.2       ])"
      ]
     },
     "execution_count": 32,
     "metadata": {},
     "output_type": "execute_result"
    }
   ],
   "source": [
    "q1 = df['ingpc'].quantile(0.25)\n",
    "q3 = df['ingpc'].quantile(0.75)\n",
    "iqr = q3 - q1\n",
    "df_f = df.loc[~((df[\"ingpc\"] > (q3 + (1.5*iqr))) | (df[\"ingpc\"] < (q1 - (1.5*iqr)))),:]"
   ]
  },
  {
   "cell_type": "code",
   "execution_count": null,
   "id": "5b7fea53",
   "metadata": {},
   "outputs": [],
   "source": [
    "df_f[\"ingpc\"].unique()"
   ]
  },
  {
   "cell_type": "code",
   "execution_count": 33,
   "id": "56fc7793",
   "metadata": {},
   "outputs": [
    {
     "data": {
      "text/plain": [
       "En otro lugar del país    146783\n",
       "En otro país               11023\n",
       "Name: p17a, dtype: int64"
      ]
     },
     "execution_count": 33,
     "metadata": {},
     "output_type": "execute_result"
    }
   ],
   "source": [
    "df_f[\"p17a\"].value_counts()"
   ]
  },
  {
   "cell_type": "code",
   "execution_count": 34,
   "id": "234411a3",
   "metadata": {},
   "outputs": [],
   "source": [
    "df_f[\"p17a\"] = df_f[\"p17a\"].astype(object)"
   ]
  },
  {
   "cell_type": "code",
   "execution_count": 35,
   "id": "b8fe607b",
   "metadata": {},
   "outputs": [],
   "source": [
    "df_f[\"p17a\"] = df_f[\"p17a\"].str.replace(\"En otro lugar del país\", \"En otro país\")"
   ]
  },
  {
   "cell_type": "code",
   "execution_count": 36,
   "id": "f1c91774",
   "metadata": {},
   "outputs": [],
   "source": [
    "df_f[\"p17a\"] = df_f[\"p17a\"].fillna(\"No aplica\")"
   ]
  },
  {
   "cell_type": "code",
   "execution_count": 37,
   "id": "a40cb03f",
   "metadata": {},
   "outputs": [
    {
     "data": {
      "text/plain": [
       "array(['No aplica', 'En otro país'], dtype=object)"
      ]
     },
     "execution_count": 37,
     "metadata": {},
     "output_type": "execute_result"
    }
   ],
   "source": [
    "df_f[\"p17a\"].unique()"
   ]
  },
  {
   "cell_type": "code",
   "execution_count": 38,
   "id": "a041ab92",
   "metadata": {},
   "outputs": [
    {
     "data": {
      "text/html": [
       "<div>\n",
       "<style scoped>\n",
       "    .dataframe tbody tr th:only-of-type {\n",
       "        vertical-align: middle;\n",
       "    }\n",
       "\n",
       "    .dataframe tbody tr th {\n",
       "        vertical-align: top;\n",
       "    }\n",
       "\n",
       "    .dataframe thead th {\n",
       "        text-align: right;\n",
       "    }\n",
       "</style>\n",
       "<table border=\"1\" class=\"dataframe\">\n",
       "  <thead>\n",
       "    <tr style=\"text-align: right;\">\n",
       "      <th></th>\n",
       "      <th>ingpc</th>\n",
       "    </tr>\n",
       "    <tr>\n",
       "      <th>DPA_DESPAR</th>\n",
       "      <th></th>\n",
       "    </tr>\n",
       "  </thead>\n",
       "  <tbody>\n",
       "    <tr>\n",
       "      <th>CUMBAYA</th>\n",
       "      <td>1655.262319</td>\n",
       "    </tr>\n",
       "    <tr>\n",
       "      <th>SAMBORONDON</th>\n",
       "      <td>1180.365304</td>\n",
       "    </tr>\n",
       "    <tr>\n",
       "      <th>PUERTO BAQUERIZO MORENO</th>\n",
       "      <td>874.679114</td>\n",
       "    </tr>\n",
       "    <tr>\n",
       "      <th>PUERTO AYORA</th>\n",
       "      <td>858.397811</td>\n",
       "    </tr>\n",
       "    <tr>\n",
       "      <th>PUERTO VILLAMIL</th>\n",
       "      <td>836.803132</td>\n",
       "    </tr>\n",
       "    <tr>\n",
       "      <th>...</th>\n",
       "      <td>...</td>\n",
       "    </tr>\n",
       "    <tr>\n",
       "      <th>EL PARAISO DE CELEN</th>\n",
       "      <td>52.158730</td>\n",
       "    </tr>\n",
       "    <tr>\n",
       "      <th>GARCIA MORENO</th>\n",
       "      <td>47.170956</td>\n",
       "    </tr>\n",
       "    <tr>\n",
       "      <th>NUEVO PARAISO</th>\n",
       "      <td>45.242177</td>\n",
       "    </tr>\n",
       "    <tr>\n",
       "      <th>GUALEL</th>\n",
       "      <td>42.674000</td>\n",
       "    </tr>\n",
       "    <tr>\n",
       "      <th>ANGAMARCA</th>\n",
       "      <td>19.200000</td>\n",
       "    </tr>\n",
       "  </tbody>\n",
       "</table>\n",
       "<p>581 rows × 1 columns</p>\n",
       "</div>"
      ],
      "text/plain": [
       "                               ingpc\n",
       "DPA_DESPAR                          \n",
       "CUMBAYA                  1655.262319\n",
       "SAMBORONDON              1180.365304\n",
       "PUERTO BAQUERIZO MORENO   874.679114\n",
       "PUERTO AYORA              858.397811\n",
       "PUERTO VILLAMIL           836.803132\n",
       "...                              ...\n",
       "EL PARAISO DE CELEN        52.158730\n",
       "GARCIA MORENO              47.170956\n",
       "NUEVO PARAISO              45.242177\n",
       "GUALEL                     42.674000\n",
       "ANGAMARCA                  19.200000\n",
       "\n",
       "[581 rows x 1 columns]"
      ]
     },
     "execution_count": 38,
     "metadata": {},
     "output_type": "execute_result"
    }
   ],
   "source": [
    "pregunta8 = df_f.loc[df_f[\"p17a\"] != \"No aplica\"].groupby([\"DPA_DESPAR\"]).agg({\"ingpc\": \"mean\"})\n",
    "pregunta8 = pregunta8.sort_values(by=\"ingpc\", ascending = False)\n",
    "pregunta8"
   ]
  },
  {
   "cell_type": "code",
   "execution_count": 39,
   "id": "0891af19",
   "metadata": {},
   "outputs": [
    {
     "data": {
      "application/vnd.plotly.v1+json": {
       "config": {
        "plotlyServerURL": "https://plot.ly"
       },
       "data": [
        {
         "alignmentgroup": "True",
         "hovertemplate": "ingpc=%{x}<br>DPA_DESPAR=%{y}<extra></extra>",
         "legendgroup": "",
         "marker": {
          "color": "#636efa",
          "pattern": {
           "shape": ""
          }
         },
         "name": "",
         "offsetgroup": "",
         "orientation": "h",
         "showlegend": false,
         "textposition": "auto",
         "type": "bar",
         "x": [
          684.6868915929203,
          706.7083333333334,
          756.3535353535353,
          768.7708333333334,
          836.8031324480763,
          858.3978107507094,
          874.6791138779671,
          1180.365303884712,
          1655.2623188405796
         ],
         "xaxis": "x",
         "y": [
          "SANGOLQUI",
          "TOMAS DE BERLANGA (SANTO TOMAS)",
          "ALANGASI",
          "ISLA SANTA MARÍA (FLOREANA) (CAB. EN  PTO. VELASCO IBARRA)",
          "PUERTO VILLAMIL",
          "PUERTO AYORA",
          "PUERTO BAQUERIZO MORENO",
          "SAMBORONDON",
          "CUMBAYA"
         ],
         "yaxis": "y"
        }
       ],
       "layout": {
        "barmode": "relative",
        "legend": {
         "tracegroupgap": 0
        },
        "template": {
         "data": {
          "bar": [
           {
            "error_x": {
             "color": "#2a3f5f"
            },
            "error_y": {
             "color": "#2a3f5f"
            },
            "marker": {
             "line": {
              "color": "#E5ECF6",
              "width": 0.5
             },
             "pattern": {
              "fillmode": "overlay",
              "size": 10,
              "solidity": 0.2
             }
            },
            "type": "bar"
           }
          ],
          "barpolar": [
           {
            "marker": {
             "line": {
              "color": "#E5ECF6",
              "width": 0.5
             },
             "pattern": {
              "fillmode": "overlay",
              "size": 10,
              "solidity": 0.2
             }
            },
            "type": "barpolar"
           }
          ],
          "carpet": [
           {
            "aaxis": {
             "endlinecolor": "#2a3f5f",
             "gridcolor": "white",
             "linecolor": "white",
             "minorgridcolor": "white",
             "startlinecolor": "#2a3f5f"
            },
            "baxis": {
             "endlinecolor": "#2a3f5f",
             "gridcolor": "white",
             "linecolor": "white",
             "minorgridcolor": "white",
             "startlinecolor": "#2a3f5f"
            },
            "type": "carpet"
           }
          ],
          "choropleth": [
           {
            "colorbar": {
             "outlinewidth": 0,
             "ticks": ""
            },
            "type": "choropleth"
           }
          ],
          "contour": [
           {
            "colorbar": {
             "outlinewidth": 0,
             "ticks": ""
            },
            "colorscale": [
             [
              0,
              "#0d0887"
             ],
             [
              0.1111111111111111,
              "#46039f"
             ],
             [
              0.2222222222222222,
              "#7201a8"
             ],
             [
              0.3333333333333333,
              "#9c179e"
             ],
             [
              0.4444444444444444,
              "#bd3786"
             ],
             [
              0.5555555555555556,
              "#d8576b"
             ],
             [
              0.6666666666666666,
              "#ed7953"
             ],
             [
              0.7777777777777778,
              "#fb9f3a"
             ],
             [
              0.8888888888888888,
              "#fdca26"
             ],
             [
              1,
              "#f0f921"
             ]
            ],
            "type": "contour"
           }
          ],
          "contourcarpet": [
           {
            "colorbar": {
             "outlinewidth": 0,
             "ticks": ""
            },
            "type": "contourcarpet"
           }
          ],
          "heatmap": [
           {
            "colorbar": {
             "outlinewidth": 0,
             "ticks": ""
            },
            "colorscale": [
             [
              0,
              "#0d0887"
             ],
             [
              0.1111111111111111,
              "#46039f"
             ],
             [
              0.2222222222222222,
              "#7201a8"
             ],
             [
              0.3333333333333333,
              "#9c179e"
             ],
             [
              0.4444444444444444,
              "#bd3786"
             ],
             [
              0.5555555555555556,
              "#d8576b"
             ],
             [
              0.6666666666666666,
              "#ed7953"
             ],
             [
              0.7777777777777778,
              "#fb9f3a"
             ],
             [
              0.8888888888888888,
              "#fdca26"
             ],
             [
              1,
              "#f0f921"
             ]
            ],
            "type": "heatmap"
           }
          ],
          "heatmapgl": [
           {
            "colorbar": {
             "outlinewidth": 0,
             "ticks": ""
            },
            "colorscale": [
             [
              0,
              "#0d0887"
             ],
             [
              0.1111111111111111,
              "#46039f"
             ],
             [
              0.2222222222222222,
              "#7201a8"
             ],
             [
              0.3333333333333333,
              "#9c179e"
             ],
             [
              0.4444444444444444,
              "#bd3786"
             ],
             [
              0.5555555555555556,
              "#d8576b"
             ],
             [
              0.6666666666666666,
              "#ed7953"
             ],
             [
              0.7777777777777778,
              "#fb9f3a"
             ],
             [
              0.8888888888888888,
              "#fdca26"
             ],
             [
              1,
              "#f0f921"
             ]
            ],
            "type": "heatmapgl"
           }
          ],
          "histogram": [
           {
            "marker": {
             "pattern": {
              "fillmode": "overlay",
              "size": 10,
              "solidity": 0.2
             }
            },
            "type": "histogram"
           }
          ],
          "histogram2d": [
           {
            "colorbar": {
             "outlinewidth": 0,
             "ticks": ""
            },
            "colorscale": [
             [
              0,
              "#0d0887"
             ],
             [
              0.1111111111111111,
              "#46039f"
             ],
             [
              0.2222222222222222,
              "#7201a8"
             ],
             [
              0.3333333333333333,
              "#9c179e"
             ],
             [
              0.4444444444444444,
              "#bd3786"
             ],
             [
              0.5555555555555556,
              "#d8576b"
             ],
             [
              0.6666666666666666,
              "#ed7953"
             ],
             [
              0.7777777777777778,
              "#fb9f3a"
             ],
             [
              0.8888888888888888,
              "#fdca26"
             ],
             [
              1,
              "#f0f921"
             ]
            ],
            "type": "histogram2d"
           }
          ],
          "histogram2dcontour": [
           {
            "colorbar": {
             "outlinewidth": 0,
             "ticks": ""
            },
            "colorscale": [
             [
              0,
              "#0d0887"
             ],
             [
              0.1111111111111111,
              "#46039f"
             ],
             [
              0.2222222222222222,
              "#7201a8"
             ],
             [
              0.3333333333333333,
              "#9c179e"
             ],
             [
              0.4444444444444444,
              "#bd3786"
             ],
             [
              0.5555555555555556,
              "#d8576b"
             ],
             [
              0.6666666666666666,
              "#ed7953"
             ],
             [
              0.7777777777777778,
              "#fb9f3a"
             ],
             [
              0.8888888888888888,
              "#fdca26"
             ],
             [
              1,
              "#f0f921"
             ]
            ],
            "type": "histogram2dcontour"
           }
          ],
          "mesh3d": [
           {
            "colorbar": {
             "outlinewidth": 0,
             "ticks": ""
            },
            "type": "mesh3d"
           }
          ],
          "parcoords": [
           {
            "line": {
             "colorbar": {
              "outlinewidth": 0,
              "ticks": ""
             }
            },
            "type": "parcoords"
           }
          ],
          "pie": [
           {
            "automargin": true,
            "type": "pie"
           }
          ],
          "scatter": [
           {
            "fillpattern": {
             "fillmode": "overlay",
             "size": 10,
             "solidity": 0.2
            },
            "type": "scatter"
           }
          ],
          "scatter3d": [
           {
            "line": {
             "colorbar": {
              "outlinewidth": 0,
              "ticks": ""
             }
            },
            "marker": {
             "colorbar": {
              "outlinewidth": 0,
              "ticks": ""
             }
            },
            "type": "scatter3d"
           }
          ],
          "scattercarpet": [
           {
            "marker": {
             "colorbar": {
              "outlinewidth": 0,
              "ticks": ""
             }
            },
            "type": "scattercarpet"
           }
          ],
          "scattergeo": [
           {
            "marker": {
             "colorbar": {
              "outlinewidth": 0,
              "ticks": ""
             }
            },
            "type": "scattergeo"
           }
          ],
          "scattergl": [
           {
            "marker": {
             "colorbar": {
              "outlinewidth": 0,
              "ticks": ""
             }
            },
            "type": "scattergl"
           }
          ],
          "scattermapbox": [
           {
            "marker": {
             "colorbar": {
              "outlinewidth": 0,
              "ticks": ""
             }
            },
            "type": "scattermapbox"
           }
          ],
          "scatterpolar": [
           {
            "marker": {
             "colorbar": {
              "outlinewidth": 0,
              "ticks": ""
             }
            },
            "type": "scatterpolar"
           }
          ],
          "scatterpolargl": [
           {
            "marker": {
             "colorbar": {
              "outlinewidth": 0,
              "ticks": ""
             }
            },
            "type": "scatterpolargl"
           }
          ],
          "scatterternary": [
           {
            "marker": {
             "colorbar": {
              "outlinewidth": 0,
              "ticks": ""
             }
            },
            "type": "scatterternary"
           }
          ],
          "surface": [
           {
            "colorbar": {
             "outlinewidth": 0,
             "ticks": ""
            },
            "colorscale": [
             [
              0,
              "#0d0887"
             ],
             [
              0.1111111111111111,
              "#46039f"
             ],
             [
              0.2222222222222222,
              "#7201a8"
             ],
             [
              0.3333333333333333,
              "#9c179e"
             ],
             [
              0.4444444444444444,
              "#bd3786"
             ],
             [
              0.5555555555555556,
              "#d8576b"
             ],
             [
              0.6666666666666666,
              "#ed7953"
             ],
             [
              0.7777777777777778,
              "#fb9f3a"
             ],
             [
              0.8888888888888888,
              "#fdca26"
             ],
             [
              1,
              "#f0f921"
             ]
            ],
            "type": "surface"
           }
          ],
          "table": [
           {
            "cells": {
             "fill": {
              "color": "#EBF0F8"
             },
             "line": {
              "color": "white"
             }
            },
            "header": {
             "fill": {
              "color": "#C8D4E3"
             },
             "line": {
              "color": "white"
             }
            },
            "type": "table"
           }
          ]
         },
         "layout": {
          "annotationdefaults": {
           "arrowcolor": "#2a3f5f",
           "arrowhead": 0,
           "arrowwidth": 1
          },
          "autotypenumbers": "strict",
          "coloraxis": {
           "colorbar": {
            "outlinewidth": 0,
            "ticks": ""
           }
          },
          "colorscale": {
           "diverging": [
            [
             0,
             "#8e0152"
            ],
            [
             0.1,
             "#c51b7d"
            ],
            [
             0.2,
             "#de77ae"
            ],
            [
             0.3,
             "#f1b6da"
            ],
            [
             0.4,
             "#fde0ef"
            ],
            [
             0.5,
             "#f7f7f7"
            ],
            [
             0.6,
             "#e6f5d0"
            ],
            [
             0.7,
             "#b8e186"
            ],
            [
             0.8,
             "#7fbc41"
            ],
            [
             0.9,
             "#4d9221"
            ],
            [
             1,
             "#276419"
            ]
           ],
           "sequential": [
            [
             0,
             "#0d0887"
            ],
            [
             0.1111111111111111,
             "#46039f"
            ],
            [
             0.2222222222222222,
             "#7201a8"
            ],
            [
             0.3333333333333333,
             "#9c179e"
            ],
            [
             0.4444444444444444,
             "#bd3786"
            ],
            [
             0.5555555555555556,
             "#d8576b"
            ],
            [
             0.6666666666666666,
             "#ed7953"
            ],
            [
             0.7777777777777778,
             "#fb9f3a"
            ],
            [
             0.8888888888888888,
             "#fdca26"
            ],
            [
             1,
             "#f0f921"
            ]
           ],
           "sequentialminus": [
            [
             0,
             "#0d0887"
            ],
            [
             0.1111111111111111,
             "#46039f"
            ],
            [
             0.2222222222222222,
             "#7201a8"
            ],
            [
             0.3333333333333333,
             "#9c179e"
            ],
            [
             0.4444444444444444,
             "#bd3786"
            ],
            [
             0.5555555555555556,
             "#d8576b"
            ],
            [
             0.6666666666666666,
             "#ed7953"
            ],
            [
             0.7777777777777778,
             "#fb9f3a"
            ],
            [
             0.8888888888888888,
             "#fdca26"
            ],
            [
             1,
             "#f0f921"
            ]
           ]
          },
          "colorway": [
           "#636efa",
           "#EF553B",
           "#00cc96",
           "#ab63fa",
           "#FFA15A",
           "#19d3f3",
           "#FF6692",
           "#B6E880",
           "#FF97FF",
           "#FECB52"
          ],
          "font": {
           "color": "#2a3f5f"
          },
          "geo": {
           "bgcolor": "white",
           "lakecolor": "white",
           "landcolor": "#E5ECF6",
           "showlakes": true,
           "showland": true,
           "subunitcolor": "white"
          },
          "hoverlabel": {
           "align": "left"
          },
          "hovermode": "closest",
          "mapbox": {
           "style": "light"
          },
          "paper_bgcolor": "white",
          "plot_bgcolor": "#E5ECF6",
          "polar": {
           "angularaxis": {
            "gridcolor": "white",
            "linecolor": "white",
            "ticks": ""
           },
           "bgcolor": "#E5ECF6",
           "radialaxis": {
            "gridcolor": "white",
            "linecolor": "white",
            "ticks": ""
           }
          },
          "scene": {
           "xaxis": {
            "backgroundcolor": "#E5ECF6",
            "gridcolor": "white",
            "gridwidth": 2,
            "linecolor": "white",
            "showbackground": true,
            "ticks": "",
            "zerolinecolor": "white"
           },
           "yaxis": {
            "backgroundcolor": "#E5ECF6",
            "gridcolor": "white",
            "gridwidth": 2,
            "linecolor": "white",
            "showbackground": true,
            "ticks": "",
            "zerolinecolor": "white"
           },
           "zaxis": {
            "backgroundcolor": "#E5ECF6",
            "gridcolor": "white",
            "gridwidth": 2,
            "linecolor": "white",
            "showbackground": true,
            "ticks": "",
            "zerolinecolor": "white"
           }
          },
          "shapedefaults": {
           "line": {
            "color": "#2a3f5f"
           }
          },
          "ternary": {
           "aaxis": {
            "gridcolor": "white",
            "linecolor": "white",
            "ticks": ""
           },
           "baxis": {
            "gridcolor": "white",
            "linecolor": "white",
            "ticks": ""
           },
           "bgcolor": "#E5ECF6",
           "caxis": {
            "gridcolor": "white",
            "linecolor": "white",
            "ticks": ""
           }
          },
          "title": {
           "x": 0.05
          },
          "xaxis": {
           "automargin": true,
           "gridcolor": "white",
           "linecolor": "white",
           "ticks": "",
           "title": {
            "standoff": 15
           },
           "zerolinecolor": "white",
           "zerolinewidth": 2
          },
          "yaxis": {
           "automargin": true,
           "gridcolor": "white",
           "linecolor": "white",
           "ticks": "",
           "title": {
            "standoff": 15
           },
           "zerolinecolor": "white",
           "zerolinewidth": 2
          }
         }
        },
        "title": {
         "text": "Ingreso promedio de personas extranjeros x sueldo"
        },
        "xaxis": {
         "anchor": "y",
         "domain": [
          0,
          1
         ],
         "title": {
          "text": "ingpc"
         }
        },
        "yaxis": {
         "anchor": "x",
         "domain": [
          0,
          1
         ],
         "title": {
          "text": "DPA_DESPAR"
         }
        }
       }
      },
      "text/html": [
       "<div>                            <div id=\"3ade7cb7-577a-48b0-9f66-3e9eda6658f0\" class=\"plotly-graph-div\" style=\"height:525px; width:100%;\"></div>            <script type=\"text/javascript\">                require([\"plotly\"], function(Plotly) {                    window.PLOTLYENV=window.PLOTLYENV || {};                                    if (document.getElementById(\"3ade7cb7-577a-48b0-9f66-3e9eda6658f0\")) {                    Plotly.newPlot(                        \"3ade7cb7-577a-48b0-9f66-3e9eda6658f0\",                        [{\"alignmentgroup\":\"True\",\"hovertemplate\":\"ingpc=%{x}\\u003cbr\\u003eDPA_DESPAR=%{y}\\u003cextra\\u003e\\u003c\\u002fextra\\u003e\",\"legendgroup\":\"\",\"marker\":{\"color\":\"#636efa\",\"pattern\":{\"shape\":\"\"}},\"name\":\"\",\"offsetgroup\":\"\",\"orientation\":\"h\",\"showlegend\":false,\"textposition\":\"auto\",\"x\":[684.6868915929203,706.7083333333334,756.3535353535353,768.7708333333334,836.8031324480763,858.3978107507094,874.6791138779671,1180.365303884712,1655.2623188405796],\"xaxis\":\"x\",\"y\":[\"SANGOLQUI\",\"TOMAS DE BERLANGA (SANTO TOMAS)\",\"ALANGASI\",\"ISLA SANTA MAR\\u00cdA (FLOREANA) (CAB. EN  PTO. VELASCO IBARRA)\",\"PUERTO VILLAMIL\",\"PUERTO AYORA\",\"PUERTO BAQUERIZO MORENO\",\"SAMBORONDON\",\"CUMBAYA\"],\"yaxis\":\"y\",\"type\":\"bar\"}],                        {\"template\":{\"data\":{\"histogram2dcontour\":[{\"type\":\"histogram2dcontour\",\"colorbar\":{\"outlinewidth\":0,\"ticks\":\"\"},\"colorscale\":[[0.0,\"#0d0887\"],[0.1111111111111111,\"#46039f\"],[0.2222222222222222,\"#7201a8\"],[0.3333333333333333,\"#9c179e\"],[0.4444444444444444,\"#bd3786\"],[0.5555555555555556,\"#d8576b\"],[0.6666666666666666,\"#ed7953\"],[0.7777777777777778,\"#fb9f3a\"],[0.8888888888888888,\"#fdca26\"],[1.0,\"#f0f921\"]]}],\"choropleth\":[{\"type\":\"choropleth\",\"colorbar\":{\"outlinewidth\":0,\"ticks\":\"\"}}],\"histogram2d\":[{\"type\":\"histogram2d\",\"colorbar\":{\"outlinewidth\":0,\"ticks\":\"\"},\"colorscale\":[[0.0,\"#0d0887\"],[0.1111111111111111,\"#46039f\"],[0.2222222222222222,\"#7201a8\"],[0.3333333333333333,\"#9c179e\"],[0.4444444444444444,\"#bd3786\"],[0.5555555555555556,\"#d8576b\"],[0.6666666666666666,\"#ed7953\"],[0.7777777777777778,\"#fb9f3a\"],[0.8888888888888888,\"#fdca26\"],[1.0,\"#f0f921\"]]}],\"heatmap\":[{\"type\":\"heatmap\",\"colorbar\":{\"outlinewidth\":0,\"ticks\":\"\"},\"colorscale\":[[0.0,\"#0d0887\"],[0.1111111111111111,\"#46039f\"],[0.2222222222222222,\"#7201a8\"],[0.3333333333333333,\"#9c179e\"],[0.4444444444444444,\"#bd3786\"],[0.5555555555555556,\"#d8576b\"],[0.6666666666666666,\"#ed7953\"],[0.7777777777777778,\"#fb9f3a\"],[0.8888888888888888,\"#fdca26\"],[1.0,\"#f0f921\"]]}],\"heatmapgl\":[{\"type\":\"heatmapgl\",\"colorbar\":{\"outlinewidth\":0,\"ticks\":\"\"},\"colorscale\":[[0.0,\"#0d0887\"],[0.1111111111111111,\"#46039f\"],[0.2222222222222222,\"#7201a8\"],[0.3333333333333333,\"#9c179e\"],[0.4444444444444444,\"#bd3786\"],[0.5555555555555556,\"#d8576b\"],[0.6666666666666666,\"#ed7953\"],[0.7777777777777778,\"#fb9f3a\"],[0.8888888888888888,\"#fdca26\"],[1.0,\"#f0f921\"]]}],\"contourcarpet\":[{\"type\":\"contourcarpet\",\"colorbar\":{\"outlinewidth\":0,\"ticks\":\"\"}}],\"contour\":[{\"type\":\"contour\",\"colorbar\":{\"outlinewidth\":0,\"ticks\":\"\"},\"colorscale\":[[0.0,\"#0d0887\"],[0.1111111111111111,\"#46039f\"],[0.2222222222222222,\"#7201a8\"],[0.3333333333333333,\"#9c179e\"],[0.4444444444444444,\"#bd3786\"],[0.5555555555555556,\"#d8576b\"],[0.6666666666666666,\"#ed7953\"],[0.7777777777777778,\"#fb9f3a\"],[0.8888888888888888,\"#fdca26\"],[1.0,\"#f0f921\"]]}],\"surface\":[{\"type\":\"surface\",\"colorbar\":{\"outlinewidth\":0,\"ticks\":\"\"},\"colorscale\":[[0.0,\"#0d0887\"],[0.1111111111111111,\"#46039f\"],[0.2222222222222222,\"#7201a8\"],[0.3333333333333333,\"#9c179e\"],[0.4444444444444444,\"#bd3786\"],[0.5555555555555556,\"#d8576b\"],[0.6666666666666666,\"#ed7953\"],[0.7777777777777778,\"#fb9f3a\"],[0.8888888888888888,\"#fdca26\"],[1.0,\"#f0f921\"]]}],\"mesh3d\":[{\"type\":\"mesh3d\",\"colorbar\":{\"outlinewidth\":0,\"ticks\":\"\"}}],\"scatter\":[{\"fillpattern\":{\"fillmode\":\"overlay\",\"size\":10,\"solidity\":0.2},\"type\":\"scatter\"}],\"parcoords\":[{\"type\":\"parcoords\",\"line\":{\"colorbar\":{\"outlinewidth\":0,\"ticks\":\"\"}}}],\"scatterpolargl\":[{\"type\":\"scatterpolargl\",\"marker\":{\"colorbar\":{\"outlinewidth\":0,\"ticks\":\"\"}}}],\"bar\":[{\"error_x\":{\"color\":\"#2a3f5f\"},\"error_y\":{\"color\":\"#2a3f5f\"},\"marker\":{\"line\":{\"color\":\"#E5ECF6\",\"width\":0.5},\"pattern\":{\"fillmode\":\"overlay\",\"size\":10,\"solidity\":0.2}},\"type\":\"bar\"}],\"scattergeo\":[{\"type\":\"scattergeo\",\"marker\":{\"colorbar\":{\"outlinewidth\":0,\"ticks\":\"\"}}}],\"scatterpolar\":[{\"type\":\"scatterpolar\",\"marker\":{\"colorbar\":{\"outlinewidth\":0,\"ticks\":\"\"}}}],\"histogram\":[{\"marker\":{\"pattern\":{\"fillmode\":\"overlay\",\"size\":10,\"solidity\":0.2}},\"type\":\"histogram\"}],\"scattergl\":[{\"type\":\"scattergl\",\"marker\":{\"colorbar\":{\"outlinewidth\":0,\"ticks\":\"\"}}}],\"scatter3d\":[{\"type\":\"scatter3d\",\"line\":{\"colorbar\":{\"outlinewidth\":0,\"ticks\":\"\"}},\"marker\":{\"colorbar\":{\"outlinewidth\":0,\"ticks\":\"\"}}}],\"scattermapbox\":[{\"type\":\"scattermapbox\",\"marker\":{\"colorbar\":{\"outlinewidth\":0,\"ticks\":\"\"}}}],\"scatterternary\":[{\"type\":\"scatterternary\",\"marker\":{\"colorbar\":{\"outlinewidth\":0,\"ticks\":\"\"}}}],\"scattercarpet\":[{\"type\":\"scattercarpet\",\"marker\":{\"colorbar\":{\"outlinewidth\":0,\"ticks\":\"\"}}}],\"carpet\":[{\"aaxis\":{\"endlinecolor\":\"#2a3f5f\",\"gridcolor\":\"white\",\"linecolor\":\"white\",\"minorgridcolor\":\"white\",\"startlinecolor\":\"#2a3f5f\"},\"baxis\":{\"endlinecolor\":\"#2a3f5f\",\"gridcolor\":\"white\",\"linecolor\":\"white\",\"minorgridcolor\":\"white\",\"startlinecolor\":\"#2a3f5f\"},\"type\":\"carpet\"}],\"table\":[{\"cells\":{\"fill\":{\"color\":\"#EBF0F8\"},\"line\":{\"color\":\"white\"}},\"header\":{\"fill\":{\"color\":\"#C8D4E3\"},\"line\":{\"color\":\"white\"}},\"type\":\"table\"}],\"barpolar\":[{\"marker\":{\"line\":{\"color\":\"#E5ECF6\",\"width\":0.5},\"pattern\":{\"fillmode\":\"overlay\",\"size\":10,\"solidity\":0.2}},\"type\":\"barpolar\"}],\"pie\":[{\"automargin\":true,\"type\":\"pie\"}]},\"layout\":{\"autotypenumbers\":\"strict\",\"colorway\":[\"#636efa\",\"#EF553B\",\"#00cc96\",\"#ab63fa\",\"#FFA15A\",\"#19d3f3\",\"#FF6692\",\"#B6E880\",\"#FF97FF\",\"#FECB52\"],\"font\":{\"color\":\"#2a3f5f\"},\"hovermode\":\"closest\",\"hoverlabel\":{\"align\":\"left\"},\"paper_bgcolor\":\"white\",\"plot_bgcolor\":\"#E5ECF6\",\"polar\":{\"bgcolor\":\"#E5ECF6\",\"angularaxis\":{\"gridcolor\":\"white\",\"linecolor\":\"white\",\"ticks\":\"\"},\"radialaxis\":{\"gridcolor\":\"white\",\"linecolor\":\"white\",\"ticks\":\"\"}},\"ternary\":{\"bgcolor\":\"#E5ECF6\",\"aaxis\":{\"gridcolor\":\"white\",\"linecolor\":\"white\",\"ticks\":\"\"},\"baxis\":{\"gridcolor\":\"white\",\"linecolor\":\"white\",\"ticks\":\"\"},\"caxis\":{\"gridcolor\":\"white\",\"linecolor\":\"white\",\"ticks\":\"\"}},\"coloraxis\":{\"colorbar\":{\"outlinewidth\":0,\"ticks\":\"\"}},\"colorscale\":{\"sequential\":[[0.0,\"#0d0887\"],[0.1111111111111111,\"#46039f\"],[0.2222222222222222,\"#7201a8\"],[0.3333333333333333,\"#9c179e\"],[0.4444444444444444,\"#bd3786\"],[0.5555555555555556,\"#d8576b\"],[0.6666666666666666,\"#ed7953\"],[0.7777777777777778,\"#fb9f3a\"],[0.8888888888888888,\"#fdca26\"],[1.0,\"#f0f921\"]],\"sequentialminus\":[[0.0,\"#0d0887\"],[0.1111111111111111,\"#46039f\"],[0.2222222222222222,\"#7201a8\"],[0.3333333333333333,\"#9c179e\"],[0.4444444444444444,\"#bd3786\"],[0.5555555555555556,\"#d8576b\"],[0.6666666666666666,\"#ed7953\"],[0.7777777777777778,\"#fb9f3a\"],[0.8888888888888888,\"#fdca26\"],[1.0,\"#f0f921\"]],\"diverging\":[[0,\"#8e0152\"],[0.1,\"#c51b7d\"],[0.2,\"#de77ae\"],[0.3,\"#f1b6da\"],[0.4,\"#fde0ef\"],[0.5,\"#f7f7f7\"],[0.6,\"#e6f5d0\"],[0.7,\"#b8e186\"],[0.8,\"#7fbc41\"],[0.9,\"#4d9221\"],[1,\"#276419\"]]},\"xaxis\":{\"gridcolor\":\"white\",\"linecolor\":\"white\",\"ticks\":\"\",\"title\":{\"standoff\":15},\"zerolinecolor\":\"white\",\"automargin\":true,\"zerolinewidth\":2},\"yaxis\":{\"gridcolor\":\"white\",\"linecolor\":\"white\",\"ticks\":\"\",\"title\":{\"standoff\":15},\"zerolinecolor\":\"white\",\"automargin\":true,\"zerolinewidth\":2},\"scene\":{\"xaxis\":{\"backgroundcolor\":\"#E5ECF6\",\"gridcolor\":\"white\",\"linecolor\":\"white\",\"showbackground\":true,\"ticks\":\"\",\"zerolinecolor\":\"white\",\"gridwidth\":2},\"yaxis\":{\"backgroundcolor\":\"#E5ECF6\",\"gridcolor\":\"white\",\"linecolor\":\"white\",\"showbackground\":true,\"ticks\":\"\",\"zerolinecolor\":\"white\",\"gridwidth\":2},\"zaxis\":{\"backgroundcolor\":\"#E5ECF6\",\"gridcolor\":\"white\",\"linecolor\":\"white\",\"showbackground\":true,\"ticks\":\"\",\"zerolinecolor\":\"white\",\"gridwidth\":2}},\"shapedefaults\":{\"line\":{\"color\":\"#2a3f5f\"}},\"annotationdefaults\":{\"arrowcolor\":\"#2a3f5f\",\"arrowhead\":0,\"arrowwidth\":1},\"geo\":{\"bgcolor\":\"white\",\"landcolor\":\"#E5ECF6\",\"subunitcolor\":\"white\",\"showland\":true,\"showlakes\":true,\"lakecolor\":\"white\"},\"title\":{\"x\":0.05},\"mapbox\":{\"style\":\"light\"}}},\"xaxis\":{\"anchor\":\"y\",\"domain\":[0.0,1.0],\"title\":{\"text\":\"ingpc\"}},\"yaxis\":{\"anchor\":\"x\",\"domain\":[0.0,1.0],\"title\":{\"text\":\"DPA_DESPAR\"}},\"legend\":{\"tracegroupgap\":0},\"title\":{\"text\":\"Ingreso promedio de personas extranjeros x sueldo\"},\"barmode\":\"relative\"},                        {\"responsive\": true}                    ).then(function(){\n",
       "                            \n",
       "var gd = document.getElementById('3ade7cb7-577a-48b0-9f66-3e9eda6658f0');\n",
       "var x = new MutationObserver(function (mutations, observer) {{\n",
       "        var display = window.getComputedStyle(gd).display;\n",
       "        if (!display || display === 'none') {{\n",
       "            console.log([gd, 'removed!']);\n",
       "            Plotly.purge(gd);\n",
       "            observer.disconnect();\n",
       "        }}\n",
       "}});\n",
       "\n",
       "// Listen for the removal of the full notebook cells\n",
       "var notebookContainer = gd.closest('#notebook-container');\n",
       "if (notebookContainer) {{\n",
       "    x.observe(notebookContainer, {childList: true});\n",
       "}}\n",
       "\n",
       "// Listen for the clearing of the current output cell\n",
       "var outputEl = gd.closest('.output');\n",
       "if (outputEl) {{\n",
       "    x.observe(outputEl, {childList: true});\n",
       "}}\n",
       "\n",
       "                        })                };                });            </script>        </div>"
      ]
     },
     "metadata": {},
     "output_type": "display_data"
    }
   ],
   "source": [
    "pregunta8 = pregunta8.reset_index()\n",
    "fig = px.bar(pregunta8.iloc[0:9, :].sort_values(by=\"ingpc\", ascending = True), x=\"ingpc\", y=\"DPA_DESPAR\", orientation='h', title = \"Ingreso promedio de personas extranjeros x sueldo\")\n",
    "fig.show()"
   ]
  },
  {
   "cell_type": "markdown",
   "id": "1bfdc8a9",
   "metadata": {},
   "source": [
    "# ¿En qué años el flujo de inmigrantes fue mayor? En qué años hubo más inmigrantes que trabajan y en qué año que no?"
   ]
  },
  {
   "cell_type": "code",
   "execution_count": 40,
   "id": "052cea63",
   "metadata": {},
   "outputs": [
    {
     "data": {
      "text/html": [
       "<div>\n",
       "<style scoped>\n",
       "    .dataframe tbody tr th:only-of-type {\n",
       "        vertical-align: middle;\n",
       "    }\n",
       "\n",
       "    .dataframe tbody tr th {\n",
       "        vertical-align: top;\n",
       "    }\n",
       "\n",
       "    .dataframe thead th {\n",
       "        text-align: right;\n",
       "    }\n",
       "</style>\n",
       "<table border=\"1\" class=\"dataframe\">\n",
       "  <thead>\n",
       "    <tr style=\"text-align: right;\">\n",
       "      <th></th>\n",
       "      <th>index</th>\n",
       "      <th>area</th>\n",
       "      <th>ciudad</th>\n",
       "      <th>zona</th>\n",
       "      <th>sector</th>\n",
       "      <th>panelm</th>\n",
       "      <th>vivienda</th>\n",
       "      <th>hogar</th>\n",
       "      <th>p01</th>\n",
       "      <th>p02</th>\n",
       "      <th>...</th>\n",
       "      <th>DPA_PROVIN</th>\n",
       "      <th>DPA_DESPRO_x</th>\n",
       "      <th>geometry_x</th>\n",
       "      <th>DPA_DESPRO_y</th>\n",
       "      <th>DPA_VALOR_y</th>\n",
       "      <th>DPA_ANIO_y</th>\n",
       "      <th>REI_CODIGO</th>\n",
       "      <th>REN_CODIGO</th>\n",
       "      <th>PEE_CODIGO</th>\n",
       "      <th>geometry_y</th>\n",
       "    </tr>\n",
       "  </thead>\n",
       "  <tbody>\n",
       "    <tr>\n",
       "      <th>0</th>\n",
       "      <td>0</td>\n",
       "      <td>Urbana</td>\n",
       "      <td>10150</td>\n",
       "      <td>001</td>\n",
       "      <td>003</td>\n",
       "      <td>Panel K2</td>\n",
       "      <td>Vivienda Uno</td>\n",
       "      <td>Hogar Uno</td>\n",
       "      <td>Persona 1</td>\n",
       "      <td>Hombre</td>\n",
       "      <td>...</td>\n",
       "      <td>1</td>\n",
       "      <td>AZUAY</td>\n",
       "      <td>POLYGON ((724179.847 9687634.625, 724188.327 9...</td>\n",
       "      <td>AZUAY</td>\n",
       "      <td>0</td>\n",
       "      <td>2012</td>\n",
       "      <td>05</td>\n",
       "      <td>01</td>\n",
       "      <td>593</td>\n",
       "      <td>POLYGON ((770262.329 9716934.130, 770300.821 9...</td>\n",
       "    </tr>\n",
       "    <tr>\n",
       "      <th>1</th>\n",
       "      <td>1</td>\n",
       "      <td>Urbana</td>\n",
       "      <td>10150</td>\n",
       "      <td>001</td>\n",
       "      <td>003</td>\n",
       "      <td>Panel K2</td>\n",
       "      <td>Vivienda Uno</td>\n",
       "      <td>Hogar Uno</td>\n",
       "      <td>Persona 2</td>\n",
       "      <td>Mujer</td>\n",
       "      <td>...</td>\n",
       "      <td>1</td>\n",
       "      <td>AZUAY</td>\n",
       "      <td>POLYGON ((724179.847 9687634.625, 724188.327 9...</td>\n",
       "      <td>AZUAY</td>\n",
       "      <td>0</td>\n",
       "      <td>2012</td>\n",
       "      <td>05</td>\n",
       "      <td>01</td>\n",
       "      <td>593</td>\n",
       "      <td>POLYGON ((770262.329 9716934.130, 770300.821 9...</td>\n",
       "    </tr>\n",
       "    <tr>\n",
       "      <th>2</th>\n",
       "      <td>2</td>\n",
       "      <td>Urbana</td>\n",
       "      <td>10150</td>\n",
       "      <td>001</td>\n",
       "      <td>003</td>\n",
       "      <td>Panel K2</td>\n",
       "      <td>Vivienda Uno</td>\n",
       "      <td>Hogar Uno</td>\n",
       "      <td>Persona 3</td>\n",
       "      <td>Hombre</td>\n",
       "      <td>...</td>\n",
       "      <td>1</td>\n",
       "      <td>AZUAY</td>\n",
       "      <td>POLYGON ((724179.847 9687634.625, 724188.327 9...</td>\n",
       "      <td>AZUAY</td>\n",
       "      <td>0</td>\n",
       "      <td>2012</td>\n",
       "      <td>05</td>\n",
       "      <td>01</td>\n",
       "      <td>593</td>\n",
       "      <td>POLYGON ((770262.329 9716934.130, 770300.821 9...</td>\n",
       "    </tr>\n",
       "    <tr>\n",
       "      <th>3</th>\n",
       "      <td>3</td>\n",
       "      <td>Urbana</td>\n",
       "      <td>10150</td>\n",
       "      <td>001</td>\n",
       "      <td>003</td>\n",
       "      <td>Panel K2</td>\n",
       "      <td>Vivienda Uno</td>\n",
       "      <td>Hogar Uno</td>\n",
       "      <td>Persona 4</td>\n",
       "      <td>Mujer</td>\n",
       "      <td>...</td>\n",
       "      <td>1</td>\n",
       "      <td>AZUAY</td>\n",
       "      <td>POLYGON ((724179.847 9687634.625, 724188.327 9...</td>\n",
       "      <td>AZUAY</td>\n",
       "      <td>0</td>\n",
       "      <td>2012</td>\n",
       "      <td>05</td>\n",
       "      <td>01</td>\n",
       "      <td>593</td>\n",
       "      <td>POLYGON ((770262.329 9716934.130, 770300.821 9...</td>\n",
       "    </tr>\n",
       "    <tr>\n",
       "      <th>4</th>\n",
       "      <td>4</td>\n",
       "      <td>Urbana</td>\n",
       "      <td>10150</td>\n",
       "      <td>001</td>\n",
       "      <td>003</td>\n",
       "      <td>Panel K2</td>\n",
       "      <td>Vivienda Dos</td>\n",
       "      <td>Hogar Uno</td>\n",
       "      <td>Persona 1</td>\n",
       "      <td>Mujer</td>\n",
       "      <td>...</td>\n",
       "      <td>1</td>\n",
       "      <td>AZUAY</td>\n",
       "      <td>POLYGON ((724179.847 9687634.625, 724188.327 9...</td>\n",
       "      <td>AZUAY</td>\n",
       "      <td>0</td>\n",
       "      <td>2012</td>\n",
       "      <td>05</td>\n",
       "      <td>01</td>\n",
       "      <td>593</td>\n",
       "      <td>POLYGON ((770262.329 9716934.130, 770300.821 9...</td>\n",
       "    </tr>\n",
       "  </tbody>\n",
       "</table>\n",
       "<p>5 rows × 436 columns</p>\n",
       "</div>"
      ],
      "text/plain": [
       "   index    area  ciudad zona sector    panelm      vivienda      hogar  \\\n",
       "0      0  Urbana   10150  001    003  Panel K2  Vivienda Uno  Hogar Uno   \n",
       "1      1  Urbana   10150  001    003  Panel K2  Vivienda Uno  Hogar Uno   \n",
       "2      2  Urbana   10150  001    003  Panel K2  Vivienda Uno  Hogar Uno   \n",
       "3      3  Urbana   10150  001    003  Panel K2  Vivienda Uno  Hogar Uno   \n",
       "4      4  Urbana   10150  001    003  Panel K2  Vivienda Dos  Hogar Uno   \n",
       "\n",
       "         p01     p02  ... DPA_PROVIN DPA_DESPRO_x  \\\n",
       "0  Persona 1  Hombre  ...          1        AZUAY   \n",
       "1  Persona 2   Mujer  ...          1        AZUAY   \n",
       "2  Persona 3  Hombre  ...          1        AZUAY   \n",
       "3  Persona 4   Mujer  ...          1        AZUAY   \n",
       "4  Persona 1   Mujer  ...          1        AZUAY   \n",
       "\n",
       "                                          geometry_x DPA_DESPRO_y DPA_VALOR_y  \\\n",
       "0  POLYGON ((724179.847 9687634.625, 724188.327 9...        AZUAY           0   \n",
       "1  POLYGON ((724179.847 9687634.625, 724188.327 9...        AZUAY           0   \n",
       "2  POLYGON ((724179.847 9687634.625, 724188.327 9...        AZUAY           0   \n",
       "3  POLYGON ((724179.847 9687634.625, 724188.327 9...        AZUAY           0   \n",
       "4  POLYGON ((724179.847 9687634.625, 724188.327 9...        AZUAY           0   \n",
       "\n",
       "  DPA_ANIO_y REI_CODIGO REN_CODIGO PEE_CODIGO  \\\n",
       "0       2012         05         01        593   \n",
       "1       2012         05         01        593   \n",
       "2       2012         05         01        593   \n",
       "3       2012         05         01        593   \n",
       "4       2012         05         01        593   \n",
       "\n",
       "                                          geometry_y  \n",
       "0  POLYGON ((770262.329 9716934.130, 770300.821 9...  \n",
       "1  POLYGON ((770262.329 9716934.130, 770300.821 9...  \n",
       "2  POLYGON ((770262.329 9716934.130, 770300.821 9...  \n",
       "3  POLYGON ((770262.329 9716934.130, 770300.821 9...  \n",
       "4  POLYGON ((770262.329 9716934.130, 770300.821 9...  \n",
       "\n",
       "[5 rows x 436 columns]"
      ]
     },
     "execution_count": 40,
     "metadata": {},
     "output_type": "execute_result"
    }
   ],
   "source": [
    "df_enc = df.reset_index()\n",
    "df_enc.head()"
   ]
  },
  {
   "cell_type": "code",
   "execution_count": 41,
   "id": "059aaaa7",
   "metadata": {},
   "outputs": [
    {
     "data": {
      "text/plain": [
       "(573530, 436)"
      ]
     },
     "execution_count": 41,
     "metadata": {},
     "output_type": "execute_result"
    }
   ],
   "source": [
    "df_enc.shape"
   ]
  },
  {
   "cell_type": "code",
   "execution_count": 42,
   "id": "94b4d1bb",
   "metadata": {},
   "outputs": [
    {
     "data": {
      "text/plain": [
       "array(['No aplica', 'En otro país'], dtype=object)"
      ]
     },
     "execution_count": 42,
     "metadata": {},
     "output_type": "execute_result"
    }
   ],
   "source": [
    "df_enc[\"p17a\"].unique()"
   ]
  },
  {
   "cell_type": "code",
   "execution_count": 43,
   "id": "f200d593",
   "metadata": {},
   "outputs": [
    {
     "data": {
      "text/plain": [
       "573530"
      ]
     },
     "execution_count": 43,
     "metadata": {},
     "output_type": "execute_result"
    }
   ],
   "source": [
    "df_enc[\"p17a\"].value_counts().sum()"
   ]
  },
  {
   "cell_type": "code",
   "execution_count": 44,
   "id": "3cb924c1",
   "metadata": {},
   "outputs": [
    {
     "data": {
      "text/html": [
       "<div>\n",
       "<style scoped>\n",
       "    .dataframe tbody tr th:only-of-type {\n",
       "        vertical-align: middle;\n",
       "    }\n",
       "\n",
       "    .dataframe tbody tr th {\n",
       "        vertical-align: top;\n",
       "    }\n",
       "\n",
       "    .dataframe thead th {\n",
       "        text-align: right;\n",
       "    }\n",
       "</style>\n",
       "<table border=\"1\" class=\"dataframe\">\n",
       "  <thead>\n",
       "    <tr style=\"text-align: right;\">\n",
       "      <th></th>\n",
       "      <th></th>\n",
       "      <th>index</th>\n",
       "    </tr>\n",
       "    <tr>\n",
       "      <th>year</th>\n",
       "      <th>p17a</th>\n",
       "      <th></th>\n",
       "    </tr>\n",
       "  </thead>\n",
       "  <tbody>\n",
       "    <tr>\n",
       "      <th rowspan=\"2\" valign=\"top\">2016</th>\n",
       "      <th>En otro país</th>\n",
       "      <td>78240</td>\n",
       "    </tr>\n",
       "    <tr>\n",
       "      <th>No aplica</th>\n",
       "      <td>210355</td>\n",
       "    </tr>\n",
       "    <tr>\n",
       "      <th rowspan=\"2\" valign=\"top\">2017</th>\n",
       "      <th>En otro país</th>\n",
       "      <td>79566</td>\n",
       "    </tr>\n",
       "    <tr>\n",
       "      <th>No aplica</th>\n",
       "      <td>205369</td>\n",
       "    </tr>\n",
       "  </tbody>\n",
       "</table>\n",
       "</div>"
      ],
      "text/plain": [
       "                    index\n",
       "year p17a                \n",
       "2016 En otro país   78240\n",
       "     No aplica     210355\n",
       "2017 En otro país   79566\n",
       "     No aplica     205369"
      ]
     },
     "execution_count": 44,
     "metadata": {},
     "output_type": "execute_result"
    }
   ],
   "source": [
    "pregunta7 = df_enc.groupby([\"year\", \"p17a\"]).agg({\"index\": \"count\"})\n",
    "pregunta7"
   ]
  },
  {
   "cell_type": "code",
   "execution_count": 45,
   "id": "dd7a1769",
   "metadata": {},
   "outputs": [
    {
     "data": {
      "text/html": [
       "<div>\n",
       "<style scoped>\n",
       "    .dataframe tbody tr th:only-of-type {\n",
       "        vertical-align: middle;\n",
       "    }\n",
       "\n",
       "    .dataframe tbody tr th {\n",
       "        vertical-align: top;\n",
       "    }\n",
       "\n",
       "    .dataframe thead th {\n",
       "        text-align: right;\n",
       "    }\n",
       "</style>\n",
       "<table border=\"1\" class=\"dataframe\">\n",
       "  <thead>\n",
       "    <tr style=\"text-align: right;\">\n",
       "      <th></th>\n",
       "      <th>year</th>\n",
       "      <th>p17a</th>\n",
       "      <th>index</th>\n",
       "    </tr>\n",
       "  </thead>\n",
       "  <tbody>\n",
       "    <tr>\n",
       "      <th>0</th>\n",
       "      <td>2016</td>\n",
       "      <td>En otro país</td>\n",
       "      <td>78240</td>\n",
       "    </tr>\n",
       "    <tr>\n",
       "      <th>1</th>\n",
       "      <td>2016</td>\n",
       "      <td>No aplica</td>\n",
       "      <td>210355</td>\n",
       "    </tr>\n",
       "    <tr>\n",
       "      <th>2</th>\n",
       "      <td>2017</td>\n",
       "      <td>En otro país</td>\n",
       "      <td>79566</td>\n",
       "    </tr>\n",
       "    <tr>\n",
       "      <th>3</th>\n",
       "      <td>2017</td>\n",
       "      <td>No aplica</td>\n",
       "      <td>205369</td>\n",
       "    </tr>\n",
       "  </tbody>\n",
       "</table>\n",
       "</div>"
      ],
      "text/plain": [
       "   year          p17a   index\n",
       "0  2016  En otro país   78240\n",
       "1  2016     No aplica  210355\n",
       "2  2017  En otro país   79566\n",
       "3  2017     No aplica  205369"
      ]
     },
     "execution_count": 45,
     "metadata": {},
     "output_type": "execute_result"
    }
   ],
   "source": [
    "pregunta7 = pregunta7.reset_index()\n",
    "pregunta7"
   ]
  },
  {
   "cell_type": "code",
   "execution_count": 46,
   "id": "da1d8d08",
   "metadata": {},
   "outputs": [
    {
     "data": {
      "text/plain": [
       "2017"
      ]
     },
     "execution_count": 46,
     "metadata": {},
     "output_type": "execute_result"
    }
   ],
   "source": [
    "idxmax_ext = pregunta7.loc[pregunta7[\"p17a\"] != \"No aplica\"][\"index\"].idxmax()\n",
    "pregunta7.iloc[idxmax_ext, :][\"year\"]"
   ]
  },
  {
   "cell_type": "code",
   "execution_count": 74,
   "id": "e3b30962",
   "metadata": {},
   "outputs": [
    {
     "data": {
      "application/vnd.plotly.v1+json": {
       "config": {
        "plotlyServerURL": "https://plot.ly"
       },
       "data": [
        {
         "alignmentgroup": "True",
         "hovertemplate": "Año=2016<br>Persona=%{x}<br>index=%{marker.color}<extra></extra>",
         "legendgroup": "",
         "marker": {
          "color": [
           78240,
           210355
          ],
          "coloraxis": "coloraxis",
          "pattern": {
           "shape": ""
          }
         },
         "name": "",
         "offsetgroup": "",
         "orientation": "v",
         "showlegend": false,
         "textposition": "auto",
         "type": "bar",
         "x": [
          "Extranjero",
          "Ecuatoriano"
         ],
         "xaxis": "x",
         "y": [
          78240,
          210355
         ],
         "yaxis": "y"
        },
        {
         "alignmentgroup": "True",
         "hovertemplate": "Año=2017<br>Persona=%{x}<br>index=%{marker.color}<extra></extra>",
         "legendgroup": "",
         "marker": {
          "color": [
           79566,
           205369
          ],
          "coloraxis": "coloraxis",
          "pattern": {
           "shape": ""
          }
         },
         "name": "",
         "offsetgroup": "",
         "orientation": "v",
         "showlegend": false,
         "textposition": "auto",
         "type": "bar",
         "x": [
          "Extranjero",
          "Ecuatoriano"
         ],
         "xaxis": "x2",
         "y": [
          79566,
          205369
         ],
         "yaxis": "y2"
        }
       ],
       "layout": {
        "annotations": [
         {
          "font": {},
          "showarrow": false,
          "text": "Año=2016",
          "x": 0.245,
          "xanchor": "center",
          "xref": "paper",
          "y": 1,
          "yanchor": "bottom",
          "yref": "paper"
         },
         {
          "font": {},
          "showarrow": false,
          "text": "Año=2017",
          "x": 0.755,
          "xanchor": "center",
          "xref": "paper",
          "y": 1,
          "yanchor": "bottom",
          "yref": "paper"
         }
        ],
        "barmode": "relative",
        "coloraxis": {
         "colorbar": {
          "title": {
           "text": "index"
          }
         },
         "colorscale": [
          [
           0,
           "#0d0887"
          ],
          [
           0.1111111111111111,
           "#46039f"
          ],
          [
           0.2222222222222222,
           "#7201a8"
          ],
          [
           0.3333333333333333,
           "#9c179e"
          ],
          [
           0.4444444444444444,
           "#bd3786"
          ],
          [
           0.5555555555555556,
           "#d8576b"
          ],
          [
           0.6666666666666666,
           "#ed7953"
          ],
          [
           0.7777777777777778,
           "#fb9f3a"
          ],
          [
           0.8888888888888888,
           "#fdca26"
          ],
          [
           1,
           "#f0f921"
          ]
         ]
        },
        "legend": {
         "tracegroupgap": 0
        },
        "template": {
         "data": {
          "bar": [
           {
            "error_x": {
             "color": "#2a3f5f"
            },
            "error_y": {
             "color": "#2a3f5f"
            },
            "marker": {
             "line": {
              "color": "#E5ECF6",
              "width": 0.5
             },
             "pattern": {
              "fillmode": "overlay",
              "size": 10,
              "solidity": 0.2
             }
            },
            "type": "bar"
           }
          ],
          "barpolar": [
           {
            "marker": {
             "line": {
              "color": "#E5ECF6",
              "width": 0.5
             },
             "pattern": {
              "fillmode": "overlay",
              "size": 10,
              "solidity": 0.2
             }
            },
            "type": "barpolar"
           }
          ],
          "carpet": [
           {
            "aaxis": {
             "endlinecolor": "#2a3f5f",
             "gridcolor": "white",
             "linecolor": "white",
             "minorgridcolor": "white",
             "startlinecolor": "#2a3f5f"
            },
            "baxis": {
             "endlinecolor": "#2a3f5f",
             "gridcolor": "white",
             "linecolor": "white",
             "minorgridcolor": "white",
             "startlinecolor": "#2a3f5f"
            },
            "type": "carpet"
           }
          ],
          "choropleth": [
           {
            "colorbar": {
             "outlinewidth": 0,
             "ticks": ""
            },
            "type": "choropleth"
           }
          ],
          "contour": [
           {
            "colorbar": {
             "outlinewidth": 0,
             "ticks": ""
            },
            "colorscale": [
             [
              0,
              "#0d0887"
             ],
             [
              0.1111111111111111,
              "#46039f"
             ],
             [
              0.2222222222222222,
              "#7201a8"
             ],
             [
              0.3333333333333333,
              "#9c179e"
             ],
             [
              0.4444444444444444,
              "#bd3786"
             ],
             [
              0.5555555555555556,
              "#d8576b"
             ],
             [
              0.6666666666666666,
              "#ed7953"
             ],
             [
              0.7777777777777778,
              "#fb9f3a"
             ],
             [
              0.8888888888888888,
              "#fdca26"
             ],
             [
              1,
              "#f0f921"
             ]
            ],
            "type": "contour"
           }
          ],
          "contourcarpet": [
           {
            "colorbar": {
             "outlinewidth": 0,
             "ticks": ""
            },
            "type": "contourcarpet"
           }
          ],
          "heatmap": [
           {
            "colorbar": {
             "outlinewidth": 0,
             "ticks": ""
            },
            "colorscale": [
             [
              0,
              "#0d0887"
             ],
             [
              0.1111111111111111,
              "#46039f"
             ],
             [
              0.2222222222222222,
              "#7201a8"
             ],
             [
              0.3333333333333333,
              "#9c179e"
             ],
             [
              0.4444444444444444,
              "#bd3786"
             ],
             [
              0.5555555555555556,
              "#d8576b"
             ],
             [
              0.6666666666666666,
              "#ed7953"
             ],
             [
              0.7777777777777778,
              "#fb9f3a"
             ],
             [
              0.8888888888888888,
              "#fdca26"
             ],
             [
              1,
              "#f0f921"
             ]
            ],
            "type": "heatmap"
           }
          ],
          "heatmapgl": [
           {
            "colorbar": {
             "outlinewidth": 0,
             "ticks": ""
            },
            "colorscale": [
             [
              0,
              "#0d0887"
             ],
             [
              0.1111111111111111,
              "#46039f"
             ],
             [
              0.2222222222222222,
              "#7201a8"
             ],
             [
              0.3333333333333333,
              "#9c179e"
             ],
             [
              0.4444444444444444,
              "#bd3786"
             ],
             [
              0.5555555555555556,
              "#d8576b"
             ],
             [
              0.6666666666666666,
              "#ed7953"
             ],
             [
              0.7777777777777778,
              "#fb9f3a"
             ],
             [
              0.8888888888888888,
              "#fdca26"
             ],
             [
              1,
              "#f0f921"
             ]
            ],
            "type": "heatmapgl"
           }
          ],
          "histogram": [
           {
            "marker": {
             "pattern": {
              "fillmode": "overlay",
              "size": 10,
              "solidity": 0.2
             }
            },
            "type": "histogram"
           }
          ],
          "histogram2d": [
           {
            "colorbar": {
             "outlinewidth": 0,
             "ticks": ""
            },
            "colorscale": [
             [
              0,
              "#0d0887"
             ],
             [
              0.1111111111111111,
              "#46039f"
             ],
             [
              0.2222222222222222,
              "#7201a8"
             ],
             [
              0.3333333333333333,
              "#9c179e"
             ],
             [
              0.4444444444444444,
              "#bd3786"
             ],
             [
              0.5555555555555556,
              "#d8576b"
             ],
             [
              0.6666666666666666,
              "#ed7953"
             ],
             [
              0.7777777777777778,
              "#fb9f3a"
             ],
             [
              0.8888888888888888,
              "#fdca26"
             ],
             [
              1,
              "#f0f921"
             ]
            ],
            "type": "histogram2d"
           }
          ],
          "histogram2dcontour": [
           {
            "colorbar": {
             "outlinewidth": 0,
             "ticks": ""
            },
            "colorscale": [
             [
              0,
              "#0d0887"
             ],
             [
              0.1111111111111111,
              "#46039f"
             ],
             [
              0.2222222222222222,
              "#7201a8"
             ],
             [
              0.3333333333333333,
              "#9c179e"
             ],
             [
              0.4444444444444444,
              "#bd3786"
             ],
             [
              0.5555555555555556,
              "#d8576b"
             ],
             [
              0.6666666666666666,
              "#ed7953"
             ],
             [
              0.7777777777777778,
              "#fb9f3a"
             ],
             [
              0.8888888888888888,
              "#fdca26"
             ],
             [
              1,
              "#f0f921"
             ]
            ],
            "type": "histogram2dcontour"
           }
          ],
          "mesh3d": [
           {
            "colorbar": {
             "outlinewidth": 0,
             "ticks": ""
            },
            "type": "mesh3d"
           }
          ],
          "parcoords": [
           {
            "line": {
             "colorbar": {
              "outlinewidth": 0,
              "ticks": ""
             }
            },
            "type": "parcoords"
           }
          ],
          "pie": [
           {
            "automargin": true,
            "type": "pie"
           }
          ],
          "scatter": [
           {
            "fillpattern": {
             "fillmode": "overlay",
             "size": 10,
             "solidity": 0.2
            },
            "type": "scatter"
           }
          ],
          "scatter3d": [
           {
            "line": {
             "colorbar": {
              "outlinewidth": 0,
              "ticks": ""
             }
            },
            "marker": {
             "colorbar": {
              "outlinewidth": 0,
              "ticks": ""
             }
            },
            "type": "scatter3d"
           }
          ],
          "scattercarpet": [
           {
            "marker": {
             "colorbar": {
              "outlinewidth": 0,
              "ticks": ""
             }
            },
            "type": "scattercarpet"
           }
          ],
          "scattergeo": [
           {
            "marker": {
             "colorbar": {
              "outlinewidth": 0,
              "ticks": ""
             }
            },
            "type": "scattergeo"
           }
          ],
          "scattergl": [
           {
            "marker": {
             "colorbar": {
              "outlinewidth": 0,
              "ticks": ""
             }
            },
            "type": "scattergl"
           }
          ],
          "scattermapbox": [
           {
            "marker": {
             "colorbar": {
              "outlinewidth": 0,
              "ticks": ""
             }
            },
            "type": "scattermapbox"
           }
          ],
          "scatterpolar": [
           {
            "marker": {
             "colorbar": {
              "outlinewidth": 0,
              "ticks": ""
             }
            },
            "type": "scatterpolar"
           }
          ],
          "scatterpolargl": [
           {
            "marker": {
             "colorbar": {
              "outlinewidth": 0,
              "ticks": ""
             }
            },
            "type": "scatterpolargl"
           }
          ],
          "scatterternary": [
           {
            "marker": {
             "colorbar": {
              "outlinewidth": 0,
              "ticks": ""
             }
            },
            "type": "scatterternary"
           }
          ],
          "surface": [
           {
            "colorbar": {
             "outlinewidth": 0,
             "ticks": ""
            },
            "colorscale": [
             [
              0,
              "#0d0887"
             ],
             [
              0.1111111111111111,
              "#46039f"
             ],
             [
              0.2222222222222222,
              "#7201a8"
             ],
             [
              0.3333333333333333,
              "#9c179e"
             ],
             [
              0.4444444444444444,
              "#bd3786"
             ],
             [
              0.5555555555555556,
              "#d8576b"
             ],
             [
              0.6666666666666666,
              "#ed7953"
             ],
             [
              0.7777777777777778,
              "#fb9f3a"
             ],
             [
              0.8888888888888888,
              "#fdca26"
             ],
             [
              1,
              "#f0f921"
             ]
            ],
            "type": "surface"
           }
          ],
          "table": [
           {
            "cells": {
             "fill": {
              "color": "#EBF0F8"
             },
             "line": {
              "color": "white"
             }
            },
            "header": {
             "fill": {
              "color": "#C8D4E3"
             },
             "line": {
              "color": "white"
             }
            },
            "type": "table"
           }
          ]
         },
         "layout": {
          "annotationdefaults": {
           "arrowcolor": "#2a3f5f",
           "arrowhead": 0,
           "arrowwidth": 1
          },
          "autotypenumbers": "strict",
          "coloraxis": {
           "colorbar": {
            "outlinewidth": 0,
            "ticks": ""
           }
          },
          "colorscale": {
           "diverging": [
            [
             0,
             "#8e0152"
            ],
            [
             0.1,
             "#c51b7d"
            ],
            [
             0.2,
             "#de77ae"
            ],
            [
             0.3,
             "#f1b6da"
            ],
            [
             0.4,
             "#fde0ef"
            ],
            [
             0.5,
             "#f7f7f7"
            ],
            [
             0.6,
             "#e6f5d0"
            ],
            [
             0.7,
             "#b8e186"
            ],
            [
             0.8,
             "#7fbc41"
            ],
            [
             0.9,
             "#4d9221"
            ],
            [
             1,
             "#276419"
            ]
           ],
           "sequential": [
            [
             0,
             "#0d0887"
            ],
            [
             0.1111111111111111,
             "#46039f"
            ],
            [
             0.2222222222222222,
             "#7201a8"
            ],
            [
             0.3333333333333333,
             "#9c179e"
            ],
            [
             0.4444444444444444,
             "#bd3786"
            ],
            [
             0.5555555555555556,
             "#d8576b"
            ],
            [
             0.6666666666666666,
             "#ed7953"
            ],
            [
             0.7777777777777778,
             "#fb9f3a"
            ],
            [
             0.8888888888888888,
             "#fdca26"
            ],
            [
             1,
             "#f0f921"
            ]
           ],
           "sequentialminus": [
            [
             0,
             "#0d0887"
            ],
            [
             0.1111111111111111,
             "#46039f"
            ],
            [
             0.2222222222222222,
             "#7201a8"
            ],
            [
             0.3333333333333333,
             "#9c179e"
            ],
            [
             0.4444444444444444,
             "#bd3786"
            ],
            [
             0.5555555555555556,
             "#d8576b"
            ],
            [
             0.6666666666666666,
             "#ed7953"
            ],
            [
             0.7777777777777778,
             "#fb9f3a"
            ],
            [
             0.8888888888888888,
             "#fdca26"
            ],
            [
             1,
             "#f0f921"
            ]
           ]
          },
          "colorway": [
           "#636efa",
           "#EF553B",
           "#00cc96",
           "#ab63fa",
           "#FFA15A",
           "#19d3f3",
           "#FF6692",
           "#B6E880",
           "#FF97FF",
           "#FECB52"
          ],
          "font": {
           "color": "#2a3f5f"
          },
          "geo": {
           "bgcolor": "white",
           "lakecolor": "white",
           "landcolor": "#E5ECF6",
           "showlakes": true,
           "showland": true,
           "subunitcolor": "white"
          },
          "hoverlabel": {
           "align": "left"
          },
          "hovermode": "closest",
          "mapbox": {
           "style": "light"
          },
          "paper_bgcolor": "white",
          "plot_bgcolor": "#E5ECF6",
          "polar": {
           "angularaxis": {
            "gridcolor": "white",
            "linecolor": "white",
            "ticks": ""
           },
           "bgcolor": "#E5ECF6",
           "radialaxis": {
            "gridcolor": "white",
            "linecolor": "white",
            "ticks": ""
           }
          },
          "scene": {
           "xaxis": {
            "backgroundcolor": "#E5ECF6",
            "gridcolor": "white",
            "gridwidth": 2,
            "linecolor": "white",
            "showbackground": true,
            "ticks": "",
            "zerolinecolor": "white"
           },
           "yaxis": {
            "backgroundcolor": "#E5ECF6",
            "gridcolor": "white",
            "gridwidth": 2,
            "linecolor": "white",
            "showbackground": true,
            "ticks": "",
            "zerolinecolor": "white"
           },
           "zaxis": {
            "backgroundcolor": "#E5ECF6",
            "gridcolor": "white",
            "gridwidth": 2,
            "linecolor": "white",
            "showbackground": true,
            "ticks": "",
            "zerolinecolor": "white"
           }
          },
          "shapedefaults": {
           "line": {
            "color": "#2a3f5f"
           }
          },
          "ternary": {
           "aaxis": {
            "gridcolor": "white",
            "linecolor": "white",
            "ticks": ""
           },
           "baxis": {
            "gridcolor": "white",
            "linecolor": "white",
            "ticks": ""
           },
           "bgcolor": "#E5ECF6",
           "caxis": {
            "gridcolor": "white",
            "linecolor": "white",
            "ticks": ""
           }
          },
          "title": {
           "x": 0.05
          },
          "xaxis": {
           "automargin": true,
           "gridcolor": "white",
           "linecolor": "white",
           "ticks": "",
           "title": {
            "standoff": 15
           },
           "zerolinecolor": "white",
           "zerolinewidth": 2
          },
          "yaxis": {
           "automargin": true,
           "gridcolor": "white",
           "linecolor": "white",
           "ticks": "",
           "title": {
            "standoff": 15
           },
           "zerolinecolor": "white",
           "zerolinewidth": 2
          }
         }
        },
        "title": {
         "text": "Cantidad de extranjeros encuestados"
        },
        "xaxis": {
         "anchor": "y",
         "domain": [
          0,
          0.49
         ],
         "title": {
          "text": "Persona"
         }
        },
        "xaxis2": {
         "anchor": "y2",
         "domain": [
          0.51,
          1
         ],
         "matches": "x",
         "title": {
          "text": "Persona"
         }
        },
        "yaxis": {
         "anchor": "x",
         "domain": [
          0,
          1
         ],
         "title": {
          "text": "index"
         }
        },
        "yaxis2": {
         "anchor": "x2",
         "domain": [
          0,
          1
         ],
         "matches": "y",
         "showticklabels": false
        }
       }
      },
      "text/html": [
       "<div>                            <div id=\"c670b50e-58e9-4481-a9c6-b642f2fbf6f1\" class=\"plotly-graph-div\" style=\"height:525px; width:100%;\"></div>            <script type=\"text/javascript\">                require([\"plotly\"], function(Plotly) {                    window.PLOTLYENV=window.PLOTLYENV || {};                                    if (document.getElementById(\"c670b50e-58e9-4481-a9c6-b642f2fbf6f1\")) {                    Plotly.newPlot(                        \"c670b50e-58e9-4481-a9c6-b642f2fbf6f1\",                        [{\"alignmentgroup\":\"True\",\"hovertemplate\":\"A\\u00f1o=2016\\u003cbr\\u003ePersona=%{x}\\u003cbr\\u003eindex=%{marker.color}\\u003cextra\\u003e\\u003c\\u002fextra\\u003e\",\"legendgroup\":\"\",\"marker\":{\"color\":[78240,210355],\"coloraxis\":\"coloraxis\",\"pattern\":{\"shape\":\"\"}},\"name\":\"\",\"offsetgroup\":\"\",\"orientation\":\"v\",\"showlegend\":false,\"textposition\":\"auto\",\"x\":[\"Extranjero\",\"Ecuatoriano\"],\"xaxis\":\"x\",\"y\":[78240,210355],\"yaxis\":\"y\",\"type\":\"bar\"},{\"alignmentgroup\":\"True\",\"hovertemplate\":\"A\\u00f1o=2017\\u003cbr\\u003ePersona=%{x}\\u003cbr\\u003eindex=%{marker.color}\\u003cextra\\u003e\\u003c\\u002fextra\\u003e\",\"legendgroup\":\"\",\"marker\":{\"color\":[79566,205369],\"coloraxis\":\"coloraxis\",\"pattern\":{\"shape\":\"\"}},\"name\":\"\",\"offsetgroup\":\"\",\"orientation\":\"v\",\"showlegend\":false,\"textposition\":\"auto\",\"x\":[\"Extranjero\",\"Ecuatoriano\"],\"xaxis\":\"x2\",\"y\":[79566,205369],\"yaxis\":\"y2\",\"type\":\"bar\"}],                        {\"template\":{\"data\":{\"histogram2dcontour\":[{\"type\":\"histogram2dcontour\",\"colorbar\":{\"outlinewidth\":0,\"ticks\":\"\"},\"colorscale\":[[0.0,\"#0d0887\"],[0.1111111111111111,\"#46039f\"],[0.2222222222222222,\"#7201a8\"],[0.3333333333333333,\"#9c179e\"],[0.4444444444444444,\"#bd3786\"],[0.5555555555555556,\"#d8576b\"],[0.6666666666666666,\"#ed7953\"],[0.7777777777777778,\"#fb9f3a\"],[0.8888888888888888,\"#fdca26\"],[1.0,\"#f0f921\"]]}],\"choropleth\":[{\"type\":\"choropleth\",\"colorbar\":{\"outlinewidth\":0,\"ticks\":\"\"}}],\"histogram2d\":[{\"type\":\"histogram2d\",\"colorbar\":{\"outlinewidth\":0,\"ticks\":\"\"},\"colorscale\":[[0.0,\"#0d0887\"],[0.1111111111111111,\"#46039f\"],[0.2222222222222222,\"#7201a8\"],[0.3333333333333333,\"#9c179e\"],[0.4444444444444444,\"#bd3786\"],[0.5555555555555556,\"#d8576b\"],[0.6666666666666666,\"#ed7953\"],[0.7777777777777778,\"#fb9f3a\"],[0.8888888888888888,\"#fdca26\"],[1.0,\"#f0f921\"]]}],\"heatmap\":[{\"type\":\"heatmap\",\"colorbar\":{\"outlinewidth\":0,\"ticks\":\"\"},\"colorscale\":[[0.0,\"#0d0887\"],[0.1111111111111111,\"#46039f\"],[0.2222222222222222,\"#7201a8\"],[0.3333333333333333,\"#9c179e\"],[0.4444444444444444,\"#bd3786\"],[0.5555555555555556,\"#d8576b\"],[0.6666666666666666,\"#ed7953\"],[0.7777777777777778,\"#fb9f3a\"],[0.8888888888888888,\"#fdca26\"],[1.0,\"#f0f921\"]]}],\"heatmapgl\":[{\"type\":\"heatmapgl\",\"colorbar\":{\"outlinewidth\":0,\"ticks\":\"\"},\"colorscale\":[[0.0,\"#0d0887\"],[0.1111111111111111,\"#46039f\"],[0.2222222222222222,\"#7201a8\"],[0.3333333333333333,\"#9c179e\"],[0.4444444444444444,\"#bd3786\"],[0.5555555555555556,\"#d8576b\"],[0.6666666666666666,\"#ed7953\"],[0.7777777777777778,\"#fb9f3a\"],[0.8888888888888888,\"#fdca26\"],[1.0,\"#f0f921\"]]}],\"contourcarpet\":[{\"type\":\"contourcarpet\",\"colorbar\":{\"outlinewidth\":0,\"ticks\":\"\"}}],\"contour\":[{\"type\":\"contour\",\"colorbar\":{\"outlinewidth\":0,\"ticks\":\"\"},\"colorscale\":[[0.0,\"#0d0887\"],[0.1111111111111111,\"#46039f\"],[0.2222222222222222,\"#7201a8\"],[0.3333333333333333,\"#9c179e\"],[0.4444444444444444,\"#bd3786\"],[0.5555555555555556,\"#d8576b\"],[0.6666666666666666,\"#ed7953\"],[0.7777777777777778,\"#fb9f3a\"],[0.8888888888888888,\"#fdca26\"],[1.0,\"#f0f921\"]]}],\"surface\":[{\"type\":\"surface\",\"colorbar\":{\"outlinewidth\":0,\"ticks\":\"\"},\"colorscale\":[[0.0,\"#0d0887\"],[0.1111111111111111,\"#46039f\"],[0.2222222222222222,\"#7201a8\"],[0.3333333333333333,\"#9c179e\"],[0.4444444444444444,\"#bd3786\"],[0.5555555555555556,\"#d8576b\"],[0.6666666666666666,\"#ed7953\"],[0.7777777777777778,\"#fb9f3a\"],[0.8888888888888888,\"#fdca26\"],[1.0,\"#f0f921\"]]}],\"mesh3d\":[{\"type\":\"mesh3d\",\"colorbar\":{\"outlinewidth\":0,\"ticks\":\"\"}}],\"scatter\":[{\"fillpattern\":{\"fillmode\":\"overlay\",\"size\":10,\"solidity\":0.2},\"type\":\"scatter\"}],\"parcoords\":[{\"type\":\"parcoords\",\"line\":{\"colorbar\":{\"outlinewidth\":0,\"ticks\":\"\"}}}],\"scatterpolargl\":[{\"type\":\"scatterpolargl\",\"marker\":{\"colorbar\":{\"outlinewidth\":0,\"ticks\":\"\"}}}],\"bar\":[{\"error_x\":{\"color\":\"#2a3f5f\"},\"error_y\":{\"color\":\"#2a3f5f\"},\"marker\":{\"line\":{\"color\":\"#E5ECF6\",\"width\":0.5},\"pattern\":{\"fillmode\":\"overlay\",\"size\":10,\"solidity\":0.2}},\"type\":\"bar\"}],\"scattergeo\":[{\"type\":\"scattergeo\",\"marker\":{\"colorbar\":{\"outlinewidth\":0,\"ticks\":\"\"}}}],\"scatterpolar\":[{\"type\":\"scatterpolar\",\"marker\":{\"colorbar\":{\"outlinewidth\":0,\"ticks\":\"\"}}}],\"histogram\":[{\"marker\":{\"pattern\":{\"fillmode\":\"overlay\",\"size\":10,\"solidity\":0.2}},\"type\":\"histogram\"}],\"scattergl\":[{\"type\":\"scattergl\",\"marker\":{\"colorbar\":{\"outlinewidth\":0,\"ticks\":\"\"}}}],\"scatter3d\":[{\"type\":\"scatter3d\",\"line\":{\"colorbar\":{\"outlinewidth\":0,\"ticks\":\"\"}},\"marker\":{\"colorbar\":{\"outlinewidth\":0,\"ticks\":\"\"}}}],\"scattermapbox\":[{\"type\":\"scattermapbox\",\"marker\":{\"colorbar\":{\"outlinewidth\":0,\"ticks\":\"\"}}}],\"scatterternary\":[{\"type\":\"scatterternary\",\"marker\":{\"colorbar\":{\"outlinewidth\":0,\"ticks\":\"\"}}}],\"scattercarpet\":[{\"type\":\"scattercarpet\",\"marker\":{\"colorbar\":{\"outlinewidth\":0,\"ticks\":\"\"}}}],\"carpet\":[{\"aaxis\":{\"endlinecolor\":\"#2a3f5f\",\"gridcolor\":\"white\",\"linecolor\":\"white\",\"minorgridcolor\":\"white\",\"startlinecolor\":\"#2a3f5f\"},\"baxis\":{\"endlinecolor\":\"#2a3f5f\",\"gridcolor\":\"white\",\"linecolor\":\"white\",\"minorgridcolor\":\"white\",\"startlinecolor\":\"#2a3f5f\"},\"type\":\"carpet\"}],\"table\":[{\"cells\":{\"fill\":{\"color\":\"#EBF0F8\"},\"line\":{\"color\":\"white\"}},\"header\":{\"fill\":{\"color\":\"#C8D4E3\"},\"line\":{\"color\":\"white\"}},\"type\":\"table\"}],\"barpolar\":[{\"marker\":{\"line\":{\"color\":\"#E5ECF6\",\"width\":0.5},\"pattern\":{\"fillmode\":\"overlay\",\"size\":10,\"solidity\":0.2}},\"type\":\"barpolar\"}],\"pie\":[{\"automargin\":true,\"type\":\"pie\"}]},\"layout\":{\"autotypenumbers\":\"strict\",\"colorway\":[\"#636efa\",\"#EF553B\",\"#00cc96\",\"#ab63fa\",\"#FFA15A\",\"#19d3f3\",\"#FF6692\",\"#B6E880\",\"#FF97FF\",\"#FECB52\"],\"font\":{\"color\":\"#2a3f5f\"},\"hovermode\":\"closest\",\"hoverlabel\":{\"align\":\"left\"},\"paper_bgcolor\":\"white\",\"plot_bgcolor\":\"#E5ECF6\",\"polar\":{\"bgcolor\":\"#E5ECF6\",\"angularaxis\":{\"gridcolor\":\"white\",\"linecolor\":\"white\",\"ticks\":\"\"},\"radialaxis\":{\"gridcolor\":\"white\",\"linecolor\":\"white\",\"ticks\":\"\"}},\"ternary\":{\"bgcolor\":\"#E5ECF6\",\"aaxis\":{\"gridcolor\":\"white\",\"linecolor\":\"white\",\"ticks\":\"\"},\"baxis\":{\"gridcolor\":\"white\",\"linecolor\":\"white\",\"ticks\":\"\"},\"caxis\":{\"gridcolor\":\"white\",\"linecolor\":\"white\",\"ticks\":\"\"}},\"coloraxis\":{\"colorbar\":{\"outlinewidth\":0,\"ticks\":\"\"}},\"colorscale\":{\"sequential\":[[0.0,\"#0d0887\"],[0.1111111111111111,\"#46039f\"],[0.2222222222222222,\"#7201a8\"],[0.3333333333333333,\"#9c179e\"],[0.4444444444444444,\"#bd3786\"],[0.5555555555555556,\"#d8576b\"],[0.6666666666666666,\"#ed7953\"],[0.7777777777777778,\"#fb9f3a\"],[0.8888888888888888,\"#fdca26\"],[1.0,\"#f0f921\"]],\"sequentialminus\":[[0.0,\"#0d0887\"],[0.1111111111111111,\"#46039f\"],[0.2222222222222222,\"#7201a8\"],[0.3333333333333333,\"#9c179e\"],[0.4444444444444444,\"#bd3786\"],[0.5555555555555556,\"#d8576b\"],[0.6666666666666666,\"#ed7953\"],[0.7777777777777778,\"#fb9f3a\"],[0.8888888888888888,\"#fdca26\"],[1.0,\"#f0f921\"]],\"diverging\":[[0,\"#8e0152\"],[0.1,\"#c51b7d\"],[0.2,\"#de77ae\"],[0.3,\"#f1b6da\"],[0.4,\"#fde0ef\"],[0.5,\"#f7f7f7\"],[0.6,\"#e6f5d0\"],[0.7,\"#b8e186\"],[0.8,\"#7fbc41\"],[0.9,\"#4d9221\"],[1,\"#276419\"]]},\"xaxis\":{\"gridcolor\":\"white\",\"linecolor\":\"white\",\"ticks\":\"\",\"title\":{\"standoff\":15},\"zerolinecolor\":\"white\",\"automargin\":true,\"zerolinewidth\":2},\"yaxis\":{\"gridcolor\":\"white\",\"linecolor\":\"white\",\"ticks\":\"\",\"title\":{\"standoff\":15},\"zerolinecolor\":\"white\",\"automargin\":true,\"zerolinewidth\":2},\"scene\":{\"xaxis\":{\"backgroundcolor\":\"#E5ECF6\",\"gridcolor\":\"white\",\"linecolor\":\"white\",\"showbackground\":true,\"ticks\":\"\",\"zerolinecolor\":\"white\",\"gridwidth\":2},\"yaxis\":{\"backgroundcolor\":\"#E5ECF6\",\"gridcolor\":\"white\",\"linecolor\":\"white\",\"showbackground\":true,\"ticks\":\"\",\"zerolinecolor\":\"white\",\"gridwidth\":2},\"zaxis\":{\"backgroundcolor\":\"#E5ECF6\",\"gridcolor\":\"white\",\"linecolor\":\"white\",\"showbackground\":true,\"ticks\":\"\",\"zerolinecolor\":\"white\",\"gridwidth\":2}},\"shapedefaults\":{\"line\":{\"color\":\"#2a3f5f\"}},\"annotationdefaults\":{\"arrowcolor\":\"#2a3f5f\",\"arrowhead\":0,\"arrowwidth\":1},\"geo\":{\"bgcolor\":\"white\",\"landcolor\":\"#E5ECF6\",\"subunitcolor\":\"white\",\"showland\":true,\"showlakes\":true,\"lakecolor\":\"white\"},\"title\":{\"x\":0.05},\"mapbox\":{\"style\":\"light\"}}},\"xaxis\":{\"anchor\":\"y\",\"domain\":[0.0,0.49],\"title\":{\"text\":\"Persona\"}},\"yaxis\":{\"anchor\":\"x\",\"domain\":[0.0,1.0],\"title\":{\"text\":\"index\"}},\"xaxis2\":{\"anchor\":\"y2\",\"domain\":[0.51,1.0],\"matches\":\"x\",\"title\":{\"text\":\"Persona\"}},\"yaxis2\":{\"anchor\":\"x2\",\"domain\":[0.0,1.0],\"matches\":\"y\",\"showticklabels\":false},\"annotations\":[{\"font\":{},\"showarrow\":false,\"text\":\"A\\u00f1o=2016\",\"x\":0.245,\"xanchor\":\"center\",\"xref\":\"paper\",\"y\":1.0,\"yanchor\":\"bottom\",\"yref\":\"paper\"},{\"font\":{},\"showarrow\":false,\"text\":\"A\\u00f1o=2017\",\"x\":0.755,\"xanchor\":\"center\",\"xref\":\"paper\",\"y\":1.0,\"yanchor\":\"bottom\",\"yref\":\"paper\"}],\"coloraxis\":{\"colorbar\":{\"title\":{\"text\":\"index\"}},\"colorscale\":[[0.0,\"#0d0887\"],[0.1111111111111111,\"#46039f\"],[0.2222222222222222,\"#7201a8\"],[0.3333333333333333,\"#9c179e\"],[0.4444444444444444,\"#bd3786\"],[0.5555555555555556,\"#d8576b\"],[0.6666666666666666,\"#ed7953\"],[0.7777777777777778,\"#fb9f3a\"],[0.8888888888888888,\"#fdca26\"],[1.0,\"#f0f921\"]]},\"legend\":{\"tracegroupgap\":0},\"title\":{\"text\":\"Cantidad de extranjeros encuestados\"},\"barmode\":\"relative\"},                        {\"responsive\": true}                    ).then(function(){\n",
       "                            \n",
       "var gd = document.getElementById('c670b50e-58e9-4481-a9c6-b642f2fbf6f1');\n",
       "var x = new MutationObserver(function (mutations, observer) {{\n",
       "        var display = window.getComputedStyle(gd).display;\n",
       "        if (!display || display === 'none') {{\n",
       "            console.log([gd, 'removed!']);\n",
       "            Plotly.purge(gd);\n",
       "            observer.disconnect();\n",
       "        }}\n",
       "}});\n",
       "\n",
       "// Listen for the removal of the full notebook cells\n",
       "var notebookContainer = gd.closest('#notebook-container');\n",
       "if (notebookContainer) {{\n",
       "    x.observe(notebookContainer, {childList: true});\n",
       "}}\n",
       "\n",
       "// Listen for the clearing of the current output cell\n",
       "var outputEl = gd.closest('.output');\n",
       "if (outputEl) {{\n",
       "    x.observe(outputEl, {childList: true});\n",
       "}}\n",
       "\n",
       "                        })                };                });            </script>        </div>"
      ]
     },
     "metadata": {},
     "output_type": "display_data"
    }
   ],
   "source": [
    "pregunta7[\"p17a\"] = pregunta7[\"p17a\"].str.replace(\"En otro país\", \"Extranjero\")\n",
    "pregunta7[\"p17a\"] = pregunta7[\"p17a\"].str.replace(\"No aplica\", \"Ecuatoriano\")\n",
    "fig = px.bar(pregunta7, x=\"p17a\", y=\"index\", color=\"index\", facet_col='year', title = \"Cantidad de extranjeros encuestados\",labels = {\"p17a\": \"Persona\", \"ingpc\": \"Cantidad de Personas\", \"year\": \"Año\"})\n",
    "fig.show()"
   ]
  },
  {
   "cell_type": "code",
   "execution_count": 129,
   "id": "ffdd0fc0",
   "metadata": {},
   "outputs": [
    {
     "data": {
      "text/html": [
       "<div>\n",
       "<style scoped>\n",
       "    .dataframe tbody tr th:only-of-type {\n",
       "        vertical-align: middle;\n",
       "    }\n",
       "\n",
       "    .dataframe tbody tr th {\n",
       "        vertical-align: top;\n",
       "    }\n",
       "\n",
       "    .dataframe thead th {\n",
       "        text-align: right;\n",
       "    }\n",
       "</style>\n",
       "<table border=\"1\" class=\"dataframe\">\n",
       "  <thead>\n",
       "    <tr style=\"text-align: right;\">\n",
       "      <th></th>\n",
       "      <th></th>\n",
       "      <th>empleo</th>\n",
       "      <th>desem</th>\n",
       "    </tr>\n",
       "    <tr>\n",
       "      <th>year</th>\n",
       "      <th>p17a</th>\n",
       "      <th></th>\n",
       "      <th></th>\n",
       "    </tr>\n",
       "  </thead>\n",
       "  <tbody>\n",
       "    <tr>\n",
       "      <th rowspan=\"2\" valign=\"top\">2016</th>\n",
       "      <th>En otro país</th>\n",
       "      <td>49283</td>\n",
       "      <td>2287</td>\n",
       "    </tr>\n",
       "    <tr>\n",
       "      <th>No aplica</th>\n",
       "      <td>85197</td>\n",
       "      <td>4416</td>\n",
       "    </tr>\n",
       "    <tr>\n",
       "      <th rowspan=\"2\" valign=\"top\">2017</th>\n",
       "      <th>En otro país</th>\n",
       "      <td>50629</td>\n",
       "      <td>1889</td>\n",
       "    </tr>\n",
       "    <tr>\n",
       "      <th>No aplica</th>\n",
       "      <td>84292</td>\n",
       "      <td>3962</td>\n",
       "    </tr>\n",
       "  </tbody>\n",
       "</table>\n",
       "</div>"
      ],
      "text/plain": [
       "                   empleo  desem\n",
       "year p17a                       \n",
       "2016 En otro país   49283   2287\n",
       "     No aplica      85197   4416\n",
       "2017 En otro país   50629   1889\n",
       "     No aplica      84292   3962"
      ]
     },
     "execution_count": 129,
     "metadata": {},
     "output_type": "execute_result"
    }
   ],
   "source": [
    "pregunta_8888 = df_enc.groupby([\"year\", \"p17a\"]).agg({\"empleo\": \"count\", \"desem\": \"count\"})\n",
    "pregunta_8888"
   ]
  },
  {
   "cell_type": "code",
   "execution_count": 138,
   "id": "7c454264",
   "metadata": {},
   "outputs": [
    {
     "data": {
      "text/html": [
       "<div>\n",
       "<style scoped>\n",
       "    .dataframe tbody tr th:only-of-type {\n",
       "        vertical-align: middle;\n",
       "    }\n",
       "\n",
       "    .dataframe tbody tr th {\n",
       "        vertical-align: top;\n",
       "    }\n",
       "\n",
       "    .dataframe thead th {\n",
       "        text-align: right;\n",
       "    }\n",
       "</style>\n",
       "<table border=\"1\" class=\"dataframe\">\n",
       "  <thead>\n",
       "    <tr style=\"text-align: right;\">\n",
       "      <th></th>\n",
       "      <th>index</th>\n",
       "      <th>year</th>\n",
       "      <th>p17a</th>\n",
       "      <th>empleo</th>\n",
       "      <th>desem</th>\n",
       "    </tr>\n",
       "  </thead>\n",
       "  <tbody>\n",
       "    <tr>\n",
       "      <th>0</th>\n",
       "      <td>0</td>\n",
       "      <td>2016</td>\n",
       "      <td>En otro país</td>\n",
       "      <td>49283</td>\n",
       "      <td>2287</td>\n",
       "    </tr>\n",
       "    <tr>\n",
       "      <th>1</th>\n",
       "      <td>1</td>\n",
       "      <td>2016</td>\n",
       "      <td>No aplica</td>\n",
       "      <td>85197</td>\n",
       "      <td>4416</td>\n",
       "    </tr>\n",
       "    <tr>\n",
       "      <th>2</th>\n",
       "      <td>2</td>\n",
       "      <td>2017</td>\n",
       "      <td>En otro país</td>\n",
       "      <td>50629</td>\n",
       "      <td>1889</td>\n",
       "    </tr>\n",
       "    <tr>\n",
       "      <th>3</th>\n",
       "      <td>3</td>\n",
       "      <td>2017</td>\n",
       "      <td>No aplica</td>\n",
       "      <td>84292</td>\n",
       "      <td>3962</td>\n",
       "    </tr>\n",
       "  </tbody>\n",
       "</table>\n",
       "</div>"
      ],
      "text/plain": [
       "   index  year          p17a  empleo  desem\n",
       "0      0  2016  En otro país   49283   2287\n",
       "1      1  2016     No aplica   85197   4416\n",
       "2      2  2017  En otro país   50629   1889\n",
       "3      3  2017     No aplica   84292   3962"
      ]
     },
     "execution_count": 138,
     "metadata": {},
     "output_type": "execute_result"
    }
   ],
   "source": [
    "pregunta_8888 = pregunta_8888.reset_index()\n"
   ]
  },
  {
   "cell_type": "code",
   "execution_count": 141,
   "id": "e8819ad1",
   "metadata": {},
   "outputs": [
    {
     "data": {
      "application/vnd.plotly.v1+json": {
       "config": {
        "plotlyServerURL": "https://plot.ly"
       },
       "data": [
        {
         "alignmentgroup": "True",
         "hovertemplate": "Año=2016<br>Persona=%{x}<br>Cantidad de personas sin trabajo=%{marker.color}<extra></extra>",
         "legendgroup": "",
         "marker": {
          "color": [
           2287,
           4416
          ],
          "coloraxis": "coloraxis",
          "pattern": {
           "shape": ""
          }
         },
         "name": "",
         "offsetgroup": "",
         "orientation": "v",
         "showlegend": false,
         "textposition": "auto",
         "type": "bar",
         "x": [
          "Extranjero",
          "Ecuatoriano"
         ],
         "xaxis": "x",
         "y": [
          2287,
          4416
         ],
         "yaxis": "y"
        },
        {
         "alignmentgroup": "True",
         "hovertemplate": "Año=2017<br>Persona=%{x}<br>Cantidad de personas sin trabajo=%{marker.color}<extra></extra>",
         "legendgroup": "",
         "marker": {
          "color": [
           1889,
           3962
          ],
          "coloraxis": "coloraxis",
          "pattern": {
           "shape": ""
          }
         },
         "name": "",
         "offsetgroup": "",
         "orientation": "v",
         "showlegend": false,
         "textposition": "auto",
         "type": "bar",
         "x": [
          "Extranjero",
          "Ecuatoriano"
         ],
         "xaxis": "x2",
         "y": [
          1889,
          3962
         ],
         "yaxis": "y2"
        }
       ],
       "layout": {
        "annotations": [
         {
          "font": {},
          "showarrow": false,
          "text": "Año=2016",
          "x": 0.245,
          "xanchor": "center",
          "xref": "paper",
          "y": 1,
          "yanchor": "bottom",
          "yref": "paper"
         },
         {
          "font": {},
          "showarrow": false,
          "text": "Año=2017",
          "x": 0.755,
          "xanchor": "center",
          "xref": "paper",
          "y": 1,
          "yanchor": "bottom",
          "yref": "paper"
         }
        ],
        "barmode": "relative",
        "coloraxis": {
         "colorbar": {
          "title": {
           "text": "Cantidad de personas sin trabajo"
          }
         },
         "colorscale": [
          [
           0,
           "#0d0887"
          ],
          [
           0.1111111111111111,
           "#46039f"
          ],
          [
           0.2222222222222222,
           "#7201a8"
          ],
          [
           0.3333333333333333,
           "#9c179e"
          ],
          [
           0.4444444444444444,
           "#bd3786"
          ],
          [
           0.5555555555555556,
           "#d8576b"
          ],
          [
           0.6666666666666666,
           "#ed7953"
          ],
          [
           0.7777777777777778,
           "#fb9f3a"
          ],
          [
           0.8888888888888888,
           "#fdca26"
          ],
          [
           1,
           "#f0f921"
          ]
         ]
        },
        "legend": {
         "tracegroupgap": 0
        },
        "template": {
         "data": {
          "bar": [
           {
            "error_x": {
             "color": "#2a3f5f"
            },
            "error_y": {
             "color": "#2a3f5f"
            },
            "marker": {
             "line": {
              "color": "#E5ECF6",
              "width": 0.5
             },
             "pattern": {
              "fillmode": "overlay",
              "size": 10,
              "solidity": 0.2
             }
            },
            "type": "bar"
           }
          ],
          "barpolar": [
           {
            "marker": {
             "line": {
              "color": "#E5ECF6",
              "width": 0.5
             },
             "pattern": {
              "fillmode": "overlay",
              "size": 10,
              "solidity": 0.2
             }
            },
            "type": "barpolar"
           }
          ],
          "carpet": [
           {
            "aaxis": {
             "endlinecolor": "#2a3f5f",
             "gridcolor": "white",
             "linecolor": "white",
             "minorgridcolor": "white",
             "startlinecolor": "#2a3f5f"
            },
            "baxis": {
             "endlinecolor": "#2a3f5f",
             "gridcolor": "white",
             "linecolor": "white",
             "minorgridcolor": "white",
             "startlinecolor": "#2a3f5f"
            },
            "type": "carpet"
           }
          ],
          "choropleth": [
           {
            "colorbar": {
             "outlinewidth": 0,
             "ticks": ""
            },
            "type": "choropleth"
           }
          ],
          "contour": [
           {
            "colorbar": {
             "outlinewidth": 0,
             "ticks": ""
            },
            "colorscale": [
             [
              0,
              "#0d0887"
             ],
             [
              0.1111111111111111,
              "#46039f"
             ],
             [
              0.2222222222222222,
              "#7201a8"
             ],
             [
              0.3333333333333333,
              "#9c179e"
             ],
             [
              0.4444444444444444,
              "#bd3786"
             ],
             [
              0.5555555555555556,
              "#d8576b"
             ],
             [
              0.6666666666666666,
              "#ed7953"
             ],
             [
              0.7777777777777778,
              "#fb9f3a"
             ],
             [
              0.8888888888888888,
              "#fdca26"
             ],
             [
              1,
              "#f0f921"
             ]
            ],
            "type": "contour"
           }
          ],
          "contourcarpet": [
           {
            "colorbar": {
             "outlinewidth": 0,
             "ticks": ""
            },
            "type": "contourcarpet"
           }
          ],
          "heatmap": [
           {
            "colorbar": {
             "outlinewidth": 0,
             "ticks": ""
            },
            "colorscale": [
             [
              0,
              "#0d0887"
             ],
             [
              0.1111111111111111,
              "#46039f"
             ],
             [
              0.2222222222222222,
              "#7201a8"
             ],
             [
              0.3333333333333333,
              "#9c179e"
             ],
             [
              0.4444444444444444,
              "#bd3786"
             ],
             [
              0.5555555555555556,
              "#d8576b"
             ],
             [
              0.6666666666666666,
              "#ed7953"
             ],
             [
              0.7777777777777778,
              "#fb9f3a"
             ],
             [
              0.8888888888888888,
              "#fdca26"
             ],
             [
              1,
              "#f0f921"
             ]
            ],
            "type": "heatmap"
           }
          ],
          "heatmapgl": [
           {
            "colorbar": {
             "outlinewidth": 0,
             "ticks": ""
            },
            "colorscale": [
             [
              0,
              "#0d0887"
             ],
             [
              0.1111111111111111,
              "#46039f"
             ],
             [
              0.2222222222222222,
              "#7201a8"
             ],
             [
              0.3333333333333333,
              "#9c179e"
             ],
             [
              0.4444444444444444,
              "#bd3786"
             ],
             [
              0.5555555555555556,
              "#d8576b"
             ],
             [
              0.6666666666666666,
              "#ed7953"
             ],
             [
              0.7777777777777778,
              "#fb9f3a"
             ],
             [
              0.8888888888888888,
              "#fdca26"
             ],
             [
              1,
              "#f0f921"
             ]
            ],
            "type": "heatmapgl"
           }
          ],
          "histogram": [
           {
            "marker": {
             "pattern": {
              "fillmode": "overlay",
              "size": 10,
              "solidity": 0.2
             }
            },
            "type": "histogram"
           }
          ],
          "histogram2d": [
           {
            "colorbar": {
             "outlinewidth": 0,
             "ticks": ""
            },
            "colorscale": [
             [
              0,
              "#0d0887"
             ],
             [
              0.1111111111111111,
              "#46039f"
             ],
             [
              0.2222222222222222,
              "#7201a8"
             ],
             [
              0.3333333333333333,
              "#9c179e"
             ],
             [
              0.4444444444444444,
              "#bd3786"
             ],
             [
              0.5555555555555556,
              "#d8576b"
             ],
             [
              0.6666666666666666,
              "#ed7953"
             ],
             [
              0.7777777777777778,
              "#fb9f3a"
             ],
             [
              0.8888888888888888,
              "#fdca26"
             ],
             [
              1,
              "#f0f921"
             ]
            ],
            "type": "histogram2d"
           }
          ],
          "histogram2dcontour": [
           {
            "colorbar": {
             "outlinewidth": 0,
             "ticks": ""
            },
            "colorscale": [
             [
              0,
              "#0d0887"
             ],
             [
              0.1111111111111111,
              "#46039f"
             ],
             [
              0.2222222222222222,
              "#7201a8"
             ],
             [
              0.3333333333333333,
              "#9c179e"
             ],
             [
              0.4444444444444444,
              "#bd3786"
             ],
             [
              0.5555555555555556,
              "#d8576b"
             ],
             [
              0.6666666666666666,
              "#ed7953"
             ],
             [
              0.7777777777777778,
              "#fb9f3a"
             ],
             [
              0.8888888888888888,
              "#fdca26"
             ],
             [
              1,
              "#f0f921"
             ]
            ],
            "type": "histogram2dcontour"
           }
          ],
          "mesh3d": [
           {
            "colorbar": {
             "outlinewidth": 0,
             "ticks": ""
            },
            "type": "mesh3d"
           }
          ],
          "parcoords": [
           {
            "line": {
             "colorbar": {
              "outlinewidth": 0,
              "ticks": ""
             }
            },
            "type": "parcoords"
           }
          ],
          "pie": [
           {
            "automargin": true,
            "type": "pie"
           }
          ],
          "scatter": [
           {
            "fillpattern": {
             "fillmode": "overlay",
             "size": 10,
             "solidity": 0.2
            },
            "type": "scatter"
           }
          ],
          "scatter3d": [
           {
            "line": {
             "colorbar": {
              "outlinewidth": 0,
              "ticks": ""
             }
            },
            "marker": {
             "colorbar": {
              "outlinewidth": 0,
              "ticks": ""
             }
            },
            "type": "scatter3d"
           }
          ],
          "scattercarpet": [
           {
            "marker": {
             "colorbar": {
              "outlinewidth": 0,
              "ticks": ""
             }
            },
            "type": "scattercarpet"
           }
          ],
          "scattergeo": [
           {
            "marker": {
             "colorbar": {
              "outlinewidth": 0,
              "ticks": ""
             }
            },
            "type": "scattergeo"
           }
          ],
          "scattergl": [
           {
            "marker": {
             "colorbar": {
              "outlinewidth": 0,
              "ticks": ""
             }
            },
            "type": "scattergl"
           }
          ],
          "scattermapbox": [
           {
            "marker": {
             "colorbar": {
              "outlinewidth": 0,
              "ticks": ""
             }
            },
            "type": "scattermapbox"
           }
          ],
          "scatterpolar": [
           {
            "marker": {
             "colorbar": {
              "outlinewidth": 0,
              "ticks": ""
             }
            },
            "type": "scatterpolar"
           }
          ],
          "scatterpolargl": [
           {
            "marker": {
             "colorbar": {
              "outlinewidth": 0,
              "ticks": ""
             }
            },
            "type": "scatterpolargl"
           }
          ],
          "scatterternary": [
           {
            "marker": {
             "colorbar": {
              "outlinewidth": 0,
              "ticks": ""
             }
            },
            "type": "scatterternary"
           }
          ],
          "surface": [
           {
            "colorbar": {
             "outlinewidth": 0,
             "ticks": ""
            },
            "colorscale": [
             [
              0,
              "#0d0887"
             ],
             [
              0.1111111111111111,
              "#46039f"
             ],
             [
              0.2222222222222222,
              "#7201a8"
             ],
             [
              0.3333333333333333,
              "#9c179e"
             ],
             [
              0.4444444444444444,
              "#bd3786"
             ],
             [
              0.5555555555555556,
              "#d8576b"
             ],
             [
              0.6666666666666666,
              "#ed7953"
             ],
             [
              0.7777777777777778,
              "#fb9f3a"
             ],
             [
              0.8888888888888888,
              "#fdca26"
             ],
             [
              1,
              "#f0f921"
             ]
            ],
            "type": "surface"
           }
          ],
          "table": [
           {
            "cells": {
             "fill": {
              "color": "#EBF0F8"
             },
             "line": {
              "color": "white"
             }
            },
            "header": {
             "fill": {
              "color": "#C8D4E3"
             },
             "line": {
              "color": "white"
             }
            },
            "type": "table"
           }
          ]
         },
         "layout": {
          "annotationdefaults": {
           "arrowcolor": "#2a3f5f",
           "arrowhead": 0,
           "arrowwidth": 1
          },
          "autotypenumbers": "strict",
          "coloraxis": {
           "colorbar": {
            "outlinewidth": 0,
            "ticks": ""
           }
          },
          "colorscale": {
           "diverging": [
            [
             0,
             "#8e0152"
            ],
            [
             0.1,
             "#c51b7d"
            ],
            [
             0.2,
             "#de77ae"
            ],
            [
             0.3,
             "#f1b6da"
            ],
            [
             0.4,
             "#fde0ef"
            ],
            [
             0.5,
             "#f7f7f7"
            ],
            [
             0.6,
             "#e6f5d0"
            ],
            [
             0.7,
             "#b8e186"
            ],
            [
             0.8,
             "#7fbc41"
            ],
            [
             0.9,
             "#4d9221"
            ],
            [
             1,
             "#276419"
            ]
           ],
           "sequential": [
            [
             0,
             "#0d0887"
            ],
            [
             0.1111111111111111,
             "#46039f"
            ],
            [
             0.2222222222222222,
             "#7201a8"
            ],
            [
             0.3333333333333333,
             "#9c179e"
            ],
            [
             0.4444444444444444,
             "#bd3786"
            ],
            [
             0.5555555555555556,
             "#d8576b"
            ],
            [
             0.6666666666666666,
             "#ed7953"
            ],
            [
             0.7777777777777778,
             "#fb9f3a"
            ],
            [
             0.8888888888888888,
             "#fdca26"
            ],
            [
             1,
             "#f0f921"
            ]
           ],
           "sequentialminus": [
            [
             0,
             "#0d0887"
            ],
            [
             0.1111111111111111,
             "#46039f"
            ],
            [
             0.2222222222222222,
             "#7201a8"
            ],
            [
             0.3333333333333333,
             "#9c179e"
            ],
            [
             0.4444444444444444,
             "#bd3786"
            ],
            [
             0.5555555555555556,
             "#d8576b"
            ],
            [
             0.6666666666666666,
             "#ed7953"
            ],
            [
             0.7777777777777778,
             "#fb9f3a"
            ],
            [
             0.8888888888888888,
             "#fdca26"
            ],
            [
             1,
             "#f0f921"
            ]
           ]
          },
          "colorway": [
           "#636efa",
           "#EF553B",
           "#00cc96",
           "#ab63fa",
           "#FFA15A",
           "#19d3f3",
           "#FF6692",
           "#B6E880",
           "#FF97FF",
           "#FECB52"
          ],
          "font": {
           "color": "#2a3f5f"
          },
          "geo": {
           "bgcolor": "white",
           "lakecolor": "white",
           "landcolor": "#E5ECF6",
           "showlakes": true,
           "showland": true,
           "subunitcolor": "white"
          },
          "hoverlabel": {
           "align": "left"
          },
          "hovermode": "closest",
          "mapbox": {
           "style": "light"
          },
          "paper_bgcolor": "white",
          "plot_bgcolor": "#E5ECF6",
          "polar": {
           "angularaxis": {
            "gridcolor": "white",
            "linecolor": "white",
            "ticks": ""
           },
           "bgcolor": "#E5ECF6",
           "radialaxis": {
            "gridcolor": "white",
            "linecolor": "white",
            "ticks": ""
           }
          },
          "scene": {
           "xaxis": {
            "backgroundcolor": "#E5ECF6",
            "gridcolor": "white",
            "gridwidth": 2,
            "linecolor": "white",
            "showbackground": true,
            "ticks": "",
            "zerolinecolor": "white"
           },
           "yaxis": {
            "backgroundcolor": "#E5ECF6",
            "gridcolor": "white",
            "gridwidth": 2,
            "linecolor": "white",
            "showbackground": true,
            "ticks": "",
            "zerolinecolor": "white"
           },
           "zaxis": {
            "backgroundcolor": "#E5ECF6",
            "gridcolor": "white",
            "gridwidth": 2,
            "linecolor": "white",
            "showbackground": true,
            "ticks": "",
            "zerolinecolor": "white"
           }
          },
          "shapedefaults": {
           "line": {
            "color": "#2a3f5f"
           }
          },
          "ternary": {
           "aaxis": {
            "gridcolor": "white",
            "linecolor": "white",
            "ticks": ""
           },
           "baxis": {
            "gridcolor": "white",
            "linecolor": "white",
            "ticks": ""
           },
           "bgcolor": "#E5ECF6",
           "caxis": {
            "gridcolor": "white",
            "linecolor": "white",
            "ticks": ""
           }
          },
          "title": {
           "x": 0.05
          },
          "xaxis": {
           "automargin": true,
           "gridcolor": "white",
           "linecolor": "white",
           "ticks": "",
           "title": {
            "standoff": 15
           },
           "zerolinecolor": "white",
           "zerolinewidth": 2
          },
          "yaxis": {
           "automargin": true,
           "gridcolor": "white",
           "linecolor": "white",
           "ticks": "",
           "title": {
            "standoff": 15
           },
           "zerolinecolor": "white",
           "zerolinewidth": 2
          }
         }
        },
        "title": {
         "text": "Cantidad de extranjeros que no tienen empleo en los años 2016 y 2017"
        },
        "xaxis": {
         "anchor": "y",
         "domain": [
          0,
          0.49
         ],
         "title": {
          "text": "Persona"
         }
        },
        "xaxis2": {
         "anchor": "y2",
         "domain": [
          0.51,
          1
         ],
         "matches": "x",
         "title": {
          "text": "Persona"
         }
        },
        "yaxis": {
         "anchor": "x",
         "domain": [
          0,
          1
         ],
         "title": {
          "text": "Cantidad de personas sin trabajo"
         }
        },
        "yaxis2": {
         "anchor": "x2",
         "domain": [
          0,
          1
         ],
         "matches": "y",
         "showticklabels": false
        }
       }
      },
      "text/html": [
       "<div>                            <div id=\"28d5dcbd-258a-4e9c-8f29-1dfcd719d3cf\" class=\"plotly-graph-div\" style=\"height:525px; width:100%;\"></div>            <script type=\"text/javascript\">                require([\"plotly\"], function(Plotly) {                    window.PLOTLYENV=window.PLOTLYENV || {};                                    if (document.getElementById(\"28d5dcbd-258a-4e9c-8f29-1dfcd719d3cf\")) {                    Plotly.newPlot(                        \"28d5dcbd-258a-4e9c-8f29-1dfcd719d3cf\",                        [{\"alignmentgroup\":\"True\",\"hovertemplate\":\"A\\u00f1o=2016\\u003cbr\\u003ePersona=%{x}\\u003cbr\\u003eCantidad de personas sin trabajo=%{marker.color}\\u003cextra\\u003e\\u003c\\u002fextra\\u003e\",\"legendgroup\":\"\",\"marker\":{\"color\":[2287,4416],\"coloraxis\":\"coloraxis\",\"pattern\":{\"shape\":\"\"}},\"name\":\"\",\"offsetgroup\":\"\",\"orientation\":\"v\",\"showlegend\":false,\"textposition\":\"auto\",\"x\":[\"Extranjero\",\"Ecuatoriano\"],\"xaxis\":\"x\",\"y\":[2287,4416],\"yaxis\":\"y\",\"type\":\"bar\"},{\"alignmentgroup\":\"True\",\"hovertemplate\":\"A\\u00f1o=2017\\u003cbr\\u003ePersona=%{x}\\u003cbr\\u003eCantidad de personas sin trabajo=%{marker.color}\\u003cextra\\u003e\\u003c\\u002fextra\\u003e\",\"legendgroup\":\"\",\"marker\":{\"color\":[1889,3962],\"coloraxis\":\"coloraxis\",\"pattern\":{\"shape\":\"\"}},\"name\":\"\",\"offsetgroup\":\"\",\"orientation\":\"v\",\"showlegend\":false,\"textposition\":\"auto\",\"x\":[\"Extranjero\",\"Ecuatoriano\"],\"xaxis\":\"x2\",\"y\":[1889,3962],\"yaxis\":\"y2\",\"type\":\"bar\"}],                        {\"template\":{\"data\":{\"histogram2dcontour\":[{\"type\":\"histogram2dcontour\",\"colorbar\":{\"outlinewidth\":0,\"ticks\":\"\"},\"colorscale\":[[0.0,\"#0d0887\"],[0.1111111111111111,\"#46039f\"],[0.2222222222222222,\"#7201a8\"],[0.3333333333333333,\"#9c179e\"],[0.4444444444444444,\"#bd3786\"],[0.5555555555555556,\"#d8576b\"],[0.6666666666666666,\"#ed7953\"],[0.7777777777777778,\"#fb9f3a\"],[0.8888888888888888,\"#fdca26\"],[1.0,\"#f0f921\"]]}],\"choropleth\":[{\"type\":\"choropleth\",\"colorbar\":{\"outlinewidth\":0,\"ticks\":\"\"}}],\"histogram2d\":[{\"type\":\"histogram2d\",\"colorbar\":{\"outlinewidth\":0,\"ticks\":\"\"},\"colorscale\":[[0.0,\"#0d0887\"],[0.1111111111111111,\"#46039f\"],[0.2222222222222222,\"#7201a8\"],[0.3333333333333333,\"#9c179e\"],[0.4444444444444444,\"#bd3786\"],[0.5555555555555556,\"#d8576b\"],[0.6666666666666666,\"#ed7953\"],[0.7777777777777778,\"#fb9f3a\"],[0.8888888888888888,\"#fdca26\"],[1.0,\"#f0f921\"]]}],\"heatmap\":[{\"type\":\"heatmap\",\"colorbar\":{\"outlinewidth\":0,\"ticks\":\"\"},\"colorscale\":[[0.0,\"#0d0887\"],[0.1111111111111111,\"#46039f\"],[0.2222222222222222,\"#7201a8\"],[0.3333333333333333,\"#9c179e\"],[0.4444444444444444,\"#bd3786\"],[0.5555555555555556,\"#d8576b\"],[0.6666666666666666,\"#ed7953\"],[0.7777777777777778,\"#fb9f3a\"],[0.8888888888888888,\"#fdca26\"],[1.0,\"#f0f921\"]]}],\"heatmapgl\":[{\"type\":\"heatmapgl\",\"colorbar\":{\"outlinewidth\":0,\"ticks\":\"\"},\"colorscale\":[[0.0,\"#0d0887\"],[0.1111111111111111,\"#46039f\"],[0.2222222222222222,\"#7201a8\"],[0.3333333333333333,\"#9c179e\"],[0.4444444444444444,\"#bd3786\"],[0.5555555555555556,\"#d8576b\"],[0.6666666666666666,\"#ed7953\"],[0.7777777777777778,\"#fb9f3a\"],[0.8888888888888888,\"#fdca26\"],[1.0,\"#f0f921\"]]}],\"contourcarpet\":[{\"type\":\"contourcarpet\",\"colorbar\":{\"outlinewidth\":0,\"ticks\":\"\"}}],\"contour\":[{\"type\":\"contour\",\"colorbar\":{\"outlinewidth\":0,\"ticks\":\"\"},\"colorscale\":[[0.0,\"#0d0887\"],[0.1111111111111111,\"#46039f\"],[0.2222222222222222,\"#7201a8\"],[0.3333333333333333,\"#9c179e\"],[0.4444444444444444,\"#bd3786\"],[0.5555555555555556,\"#d8576b\"],[0.6666666666666666,\"#ed7953\"],[0.7777777777777778,\"#fb9f3a\"],[0.8888888888888888,\"#fdca26\"],[1.0,\"#f0f921\"]]}],\"surface\":[{\"type\":\"surface\",\"colorbar\":{\"outlinewidth\":0,\"ticks\":\"\"},\"colorscale\":[[0.0,\"#0d0887\"],[0.1111111111111111,\"#46039f\"],[0.2222222222222222,\"#7201a8\"],[0.3333333333333333,\"#9c179e\"],[0.4444444444444444,\"#bd3786\"],[0.5555555555555556,\"#d8576b\"],[0.6666666666666666,\"#ed7953\"],[0.7777777777777778,\"#fb9f3a\"],[0.8888888888888888,\"#fdca26\"],[1.0,\"#f0f921\"]]}],\"mesh3d\":[{\"type\":\"mesh3d\",\"colorbar\":{\"outlinewidth\":0,\"ticks\":\"\"}}],\"scatter\":[{\"fillpattern\":{\"fillmode\":\"overlay\",\"size\":10,\"solidity\":0.2},\"type\":\"scatter\"}],\"parcoords\":[{\"type\":\"parcoords\",\"line\":{\"colorbar\":{\"outlinewidth\":0,\"ticks\":\"\"}}}],\"scatterpolargl\":[{\"type\":\"scatterpolargl\",\"marker\":{\"colorbar\":{\"outlinewidth\":0,\"ticks\":\"\"}}}],\"bar\":[{\"error_x\":{\"color\":\"#2a3f5f\"},\"error_y\":{\"color\":\"#2a3f5f\"},\"marker\":{\"line\":{\"color\":\"#E5ECF6\",\"width\":0.5},\"pattern\":{\"fillmode\":\"overlay\",\"size\":10,\"solidity\":0.2}},\"type\":\"bar\"}],\"scattergeo\":[{\"type\":\"scattergeo\",\"marker\":{\"colorbar\":{\"outlinewidth\":0,\"ticks\":\"\"}}}],\"scatterpolar\":[{\"type\":\"scatterpolar\",\"marker\":{\"colorbar\":{\"outlinewidth\":0,\"ticks\":\"\"}}}],\"histogram\":[{\"marker\":{\"pattern\":{\"fillmode\":\"overlay\",\"size\":10,\"solidity\":0.2}},\"type\":\"histogram\"}],\"scattergl\":[{\"type\":\"scattergl\",\"marker\":{\"colorbar\":{\"outlinewidth\":0,\"ticks\":\"\"}}}],\"scatter3d\":[{\"type\":\"scatter3d\",\"line\":{\"colorbar\":{\"outlinewidth\":0,\"ticks\":\"\"}},\"marker\":{\"colorbar\":{\"outlinewidth\":0,\"ticks\":\"\"}}}],\"scattermapbox\":[{\"type\":\"scattermapbox\",\"marker\":{\"colorbar\":{\"outlinewidth\":0,\"ticks\":\"\"}}}],\"scatterternary\":[{\"type\":\"scatterternary\",\"marker\":{\"colorbar\":{\"outlinewidth\":0,\"ticks\":\"\"}}}],\"scattercarpet\":[{\"type\":\"scattercarpet\",\"marker\":{\"colorbar\":{\"outlinewidth\":0,\"ticks\":\"\"}}}],\"carpet\":[{\"aaxis\":{\"endlinecolor\":\"#2a3f5f\",\"gridcolor\":\"white\",\"linecolor\":\"white\",\"minorgridcolor\":\"white\",\"startlinecolor\":\"#2a3f5f\"},\"baxis\":{\"endlinecolor\":\"#2a3f5f\",\"gridcolor\":\"white\",\"linecolor\":\"white\",\"minorgridcolor\":\"white\",\"startlinecolor\":\"#2a3f5f\"},\"type\":\"carpet\"}],\"table\":[{\"cells\":{\"fill\":{\"color\":\"#EBF0F8\"},\"line\":{\"color\":\"white\"}},\"header\":{\"fill\":{\"color\":\"#C8D4E3\"},\"line\":{\"color\":\"white\"}},\"type\":\"table\"}],\"barpolar\":[{\"marker\":{\"line\":{\"color\":\"#E5ECF6\",\"width\":0.5},\"pattern\":{\"fillmode\":\"overlay\",\"size\":10,\"solidity\":0.2}},\"type\":\"barpolar\"}],\"pie\":[{\"automargin\":true,\"type\":\"pie\"}]},\"layout\":{\"autotypenumbers\":\"strict\",\"colorway\":[\"#636efa\",\"#EF553B\",\"#00cc96\",\"#ab63fa\",\"#FFA15A\",\"#19d3f3\",\"#FF6692\",\"#B6E880\",\"#FF97FF\",\"#FECB52\"],\"font\":{\"color\":\"#2a3f5f\"},\"hovermode\":\"closest\",\"hoverlabel\":{\"align\":\"left\"},\"paper_bgcolor\":\"white\",\"plot_bgcolor\":\"#E5ECF6\",\"polar\":{\"bgcolor\":\"#E5ECF6\",\"angularaxis\":{\"gridcolor\":\"white\",\"linecolor\":\"white\",\"ticks\":\"\"},\"radialaxis\":{\"gridcolor\":\"white\",\"linecolor\":\"white\",\"ticks\":\"\"}},\"ternary\":{\"bgcolor\":\"#E5ECF6\",\"aaxis\":{\"gridcolor\":\"white\",\"linecolor\":\"white\",\"ticks\":\"\"},\"baxis\":{\"gridcolor\":\"white\",\"linecolor\":\"white\",\"ticks\":\"\"},\"caxis\":{\"gridcolor\":\"white\",\"linecolor\":\"white\",\"ticks\":\"\"}},\"coloraxis\":{\"colorbar\":{\"outlinewidth\":0,\"ticks\":\"\"}},\"colorscale\":{\"sequential\":[[0.0,\"#0d0887\"],[0.1111111111111111,\"#46039f\"],[0.2222222222222222,\"#7201a8\"],[0.3333333333333333,\"#9c179e\"],[0.4444444444444444,\"#bd3786\"],[0.5555555555555556,\"#d8576b\"],[0.6666666666666666,\"#ed7953\"],[0.7777777777777778,\"#fb9f3a\"],[0.8888888888888888,\"#fdca26\"],[1.0,\"#f0f921\"]],\"sequentialminus\":[[0.0,\"#0d0887\"],[0.1111111111111111,\"#46039f\"],[0.2222222222222222,\"#7201a8\"],[0.3333333333333333,\"#9c179e\"],[0.4444444444444444,\"#bd3786\"],[0.5555555555555556,\"#d8576b\"],[0.6666666666666666,\"#ed7953\"],[0.7777777777777778,\"#fb9f3a\"],[0.8888888888888888,\"#fdca26\"],[1.0,\"#f0f921\"]],\"diverging\":[[0,\"#8e0152\"],[0.1,\"#c51b7d\"],[0.2,\"#de77ae\"],[0.3,\"#f1b6da\"],[0.4,\"#fde0ef\"],[0.5,\"#f7f7f7\"],[0.6,\"#e6f5d0\"],[0.7,\"#b8e186\"],[0.8,\"#7fbc41\"],[0.9,\"#4d9221\"],[1,\"#276419\"]]},\"xaxis\":{\"gridcolor\":\"white\",\"linecolor\":\"white\",\"ticks\":\"\",\"title\":{\"standoff\":15},\"zerolinecolor\":\"white\",\"automargin\":true,\"zerolinewidth\":2},\"yaxis\":{\"gridcolor\":\"white\",\"linecolor\":\"white\",\"ticks\":\"\",\"title\":{\"standoff\":15},\"zerolinecolor\":\"white\",\"automargin\":true,\"zerolinewidth\":2},\"scene\":{\"xaxis\":{\"backgroundcolor\":\"#E5ECF6\",\"gridcolor\":\"white\",\"linecolor\":\"white\",\"showbackground\":true,\"ticks\":\"\",\"zerolinecolor\":\"white\",\"gridwidth\":2},\"yaxis\":{\"backgroundcolor\":\"#E5ECF6\",\"gridcolor\":\"white\",\"linecolor\":\"white\",\"showbackground\":true,\"ticks\":\"\",\"zerolinecolor\":\"white\",\"gridwidth\":2},\"zaxis\":{\"backgroundcolor\":\"#E5ECF6\",\"gridcolor\":\"white\",\"linecolor\":\"white\",\"showbackground\":true,\"ticks\":\"\",\"zerolinecolor\":\"white\",\"gridwidth\":2}},\"shapedefaults\":{\"line\":{\"color\":\"#2a3f5f\"}},\"annotationdefaults\":{\"arrowcolor\":\"#2a3f5f\",\"arrowhead\":0,\"arrowwidth\":1},\"geo\":{\"bgcolor\":\"white\",\"landcolor\":\"#E5ECF6\",\"subunitcolor\":\"white\",\"showland\":true,\"showlakes\":true,\"lakecolor\":\"white\"},\"title\":{\"x\":0.05},\"mapbox\":{\"style\":\"light\"}}},\"xaxis\":{\"anchor\":\"y\",\"domain\":[0.0,0.49],\"title\":{\"text\":\"Persona\"}},\"yaxis\":{\"anchor\":\"x\",\"domain\":[0.0,1.0],\"title\":{\"text\":\"Cantidad de personas sin trabajo\"}},\"xaxis2\":{\"anchor\":\"y2\",\"domain\":[0.51,1.0],\"matches\":\"x\",\"title\":{\"text\":\"Persona\"}},\"yaxis2\":{\"anchor\":\"x2\",\"domain\":[0.0,1.0],\"matches\":\"y\",\"showticklabels\":false},\"annotations\":[{\"font\":{},\"showarrow\":false,\"text\":\"A\\u00f1o=2016\",\"x\":0.245,\"xanchor\":\"center\",\"xref\":\"paper\",\"y\":1.0,\"yanchor\":\"bottom\",\"yref\":\"paper\"},{\"font\":{},\"showarrow\":false,\"text\":\"A\\u00f1o=2017\",\"x\":0.755,\"xanchor\":\"center\",\"xref\":\"paper\",\"y\":1.0,\"yanchor\":\"bottom\",\"yref\":\"paper\"}],\"coloraxis\":{\"colorbar\":{\"title\":{\"text\":\"Cantidad de personas sin trabajo\"}},\"colorscale\":[[0.0,\"#0d0887\"],[0.1111111111111111,\"#46039f\"],[0.2222222222222222,\"#7201a8\"],[0.3333333333333333,\"#9c179e\"],[0.4444444444444444,\"#bd3786\"],[0.5555555555555556,\"#d8576b\"],[0.6666666666666666,\"#ed7953\"],[0.7777777777777778,\"#fb9f3a\"],[0.8888888888888888,\"#fdca26\"],[1.0,\"#f0f921\"]]},\"legend\":{\"tracegroupgap\":0},\"title\":{\"text\":\"Cantidad de extranjeros que no tienen empleo en los a\\u00f1os 2016 y 2017\"},\"barmode\":\"relative\"},                        {\"responsive\": true}                    ).then(function(){\n",
       "                            \n",
       "var gd = document.getElementById('28d5dcbd-258a-4e9c-8f29-1dfcd719d3cf');\n",
       "var x = new MutationObserver(function (mutations, observer) {{\n",
       "        var display = window.getComputedStyle(gd).display;\n",
       "        if (!display || display === 'none') {{\n",
       "            console.log([gd, 'removed!']);\n",
       "            Plotly.purge(gd);\n",
       "            observer.disconnect();\n",
       "        }}\n",
       "}});\n",
       "\n",
       "// Listen for the removal of the full notebook cells\n",
       "var notebookContainer = gd.closest('#notebook-container');\n",
       "if (notebookContainer) {{\n",
       "    x.observe(notebookContainer, {childList: true});\n",
       "}}\n",
       "\n",
       "// Listen for the clearing of the current output cell\n",
       "var outputEl = gd.closest('.output');\n",
       "if (outputEl) {{\n",
       "    x.observe(outputEl, {childList: true});\n",
       "}}\n",
       "\n",
       "                        })                };                });            </script>        </div>"
      ]
     },
     "metadata": {},
     "output_type": "display_data"
    }
   ],
   "source": [
    "pregunta_8888[\"p17a\"] = pregunta_8888[\"p17a\"].str.replace(\"En otro país\", \"Extranjero\")\n",
    "pregunta_8888[\"p17a\"] = pregunta_8888[\"p17a\"].str.replace(\"No aplica\", \"Ecuatoriano\")\n",
    "fig = px.bar(pregunta_8888, x=\"p17a\", y=\"desem\", color=\"desem\", facet_col='year', title = \"Cantidad de extranjeros que no tienen empleo en los años 2016 y 2017\", labels = {\"p17a\": \"Persona\", \"desem\": \"Cantidad de personas sin trabajo\", \"year\": \"Año\"})\n",
    "fig.show()"
   ]
  },
  {
   "cell_type": "code",
   "execution_count": 143,
   "id": "c8342a8e",
   "metadata": {},
   "outputs": [
    {
     "data": {
      "application/vnd.plotly.v1+json": {
       "config": {
        "plotlyServerURL": "https://plot.ly"
       },
       "data": [
        {
         "alignmentgroup": "True",
         "hovertemplate": "Año=2016<br>Persona=%{x}<br>Cantidad de personas con trabajo=%{marker.color}<extra></extra>",
         "legendgroup": "",
         "marker": {
          "color": [
           49283,
           85197
          ],
          "coloraxis": "coloraxis",
          "pattern": {
           "shape": ""
          }
         },
         "name": "",
         "offsetgroup": "",
         "orientation": "v",
         "showlegend": false,
         "textposition": "auto",
         "type": "bar",
         "x": [
          "Extranjero",
          "Ecuatoriano"
         ],
         "xaxis": "x",
         "y": [
          49283,
          85197
         ],
         "yaxis": "y"
        },
        {
         "alignmentgroup": "True",
         "hovertemplate": "Año=2017<br>Persona=%{x}<br>Cantidad de personas con trabajo=%{marker.color}<extra></extra>",
         "legendgroup": "",
         "marker": {
          "color": [
           50629,
           84292
          ],
          "coloraxis": "coloraxis",
          "pattern": {
           "shape": ""
          }
         },
         "name": "",
         "offsetgroup": "",
         "orientation": "v",
         "showlegend": false,
         "textposition": "auto",
         "type": "bar",
         "x": [
          "Extranjero",
          "Ecuatoriano"
         ],
         "xaxis": "x2",
         "y": [
          50629,
          84292
         ],
         "yaxis": "y2"
        }
       ],
       "layout": {
        "annotations": [
         {
          "font": {},
          "showarrow": false,
          "text": "Año=2016",
          "x": 0.245,
          "xanchor": "center",
          "xref": "paper",
          "y": 1,
          "yanchor": "bottom",
          "yref": "paper"
         },
         {
          "font": {},
          "showarrow": false,
          "text": "Año=2017",
          "x": 0.755,
          "xanchor": "center",
          "xref": "paper",
          "y": 1,
          "yanchor": "bottom",
          "yref": "paper"
         }
        ],
        "barmode": "relative",
        "coloraxis": {
         "colorbar": {
          "title": {
           "text": "Cantidad de personas con trabajo"
          }
         },
         "colorscale": [
          [
           0,
           "#0d0887"
          ],
          [
           0.1111111111111111,
           "#46039f"
          ],
          [
           0.2222222222222222,
           "#7201a8"
          ],
          [
           0.3333333333333333,
           "#9c179e"
          ],
          [
           0.4444444444444444,
           "#bd3786"
          ],
          [
           0.5555555555555556,
           "#d8576b"
          ],
          [
           0.6666666666666666,
           "#ed7953"
          ],
          [
           0.7777777777777778,
           "#fb9f3a"
          ],
          [
           0.8888888888888888,
           "#fdca26"
          ],
          [
           1,
           "#f0f921"
          ]
         ]
        },
        "legend": {
         "tracegroupgap": 0
        },
        "template": {
         "data": {
          "bar": [
           {
            "error_x": {
             "color": "#2a3f5f"
            },
            "error_y": {
             "color": "#2a3f5f"
            },
            "marker": {
             "line": {
              "color": "#E5ECF6",
              "width": 0.5
             },
             "pattern": {
              "fillmode": "overlay",
              "size": 10,
              "solidity": 0.2
             }
            },
            "type": "bar"
           }
          ],
          "barpolar": [
           {
            "marker": {
             "line": {
              "color": "#E5ECF6",
              "width": 0.5
             },
             "pattern": {
              "fillmode": "overlay",
              "size": 10,
              "solidity": 0.2
             }
            },
            "type": "barpolar"
           }
          ],
          "carpet": [
           {
            "aaxis": {
             "endlinecolor": "#2a3f5f",
             "gridcolor": "white",
             "linecolor": "white",
             "minorgridcolor": "white",
             "startlinecolor": "#2a3f5f"
            },
            "baxis": {
             "endlinecolor": "#2a3f5f",
             "gridcolor": "white",
             "linecolor": "white",
             "minorgridcolor": "white",
             "startlinecolor": "#2a3f5f"
            },
            "type": "carpet"
           }
          ],
          "choropleth": [
           {
            "colorbar": {
             "outlinewidth": 0,
             "ticks": ""
            },
            "type": "choropleth"
           }
          ],
          "contour": [
           {
            "colorbar": {
             "outlinewidth": 0,
             "ticks": ""
            },
            "colorscale": [
             [
              0,
              "#0d0887"
             ],
             [
              0.1111111111111111,
              "#46039f"
             ],
             [
              0.2222222222222222,
              "#7201a8"
             ],
             [
              0.3333333333333333,
              "#9c179e"
             ],
             [
              0.4444444444444444,
              "#bd3786"
             ],
             [
              0.5555555555555556,
              "#d8576b"
             ],
             [
              0.6666666666666666,
              "#ed7953"
             ],
             [
              0.7777777777777778,
              "#fb9f3a"
             ],
             [
              0.8888888888888888,
              "#fdca26"
             ],
             [
              1,
              "#f0f921"
             ]
            ],
            "type": "contour"
           }
          ],
          "contourcarpet": [
           {
            "colorbar": {
             "outlinewidth": 0,
             "ticks": ""
            },
            "type": "contourcarpet"
           }
          ],
          "heatmap": [
           {
            "colorbar": {
             "outlinewidth": 0,
             "ticks": ""
            },
            "colorscale": [
             [
              0,
              "#0d0887"
             ],
             [
              0.1111111111111111,
              "#46039f"
             ],
             [
              0.2222222222222222,
              "#7201a8"
             ],
             [
              0.3333333333333333,
              "#9c179e"
             ],
             [
              0.4444444444444444,
              "#bd3786"
             ],
             [
              0.5555555555555556,
              "#d8576b"
             ],
             [
              0.6666666666666666,
              "#ed7953"
             ],
             [
              0.7777777777777778,
              "#fb9f3a"
             ],
             [
              0.8888888888888888,
              "#fdca26"
             ],
             [
              1,
              "#f0f921"
             ]
            ],
            "type": "heatmap"
           }
          ],
          "heatmapgl": [
           {
            "colorbar": {
             "outlinewidth": 0,
             "ticks": ""
            },
            "colorscale": [
             [
              0,
              "#0d0887"
             ],
             [
              0.1111111111111111,
              "#46039f"
             ],
             [
              0.2222222222222222,
              "#7201a8"
             ],
             [
              0.3333333333333333,
              "#9c179e"
             ],
             [
              0.4444444444444444,
              "#bd3786"
             ],
             [
              0.5555555555555556,
              "#d8576b"
             ],
             [
              0.6666666666666666,
              "#ed7953"
             ],
             [
              0.7777777777777778,
              "#fb9f3a"
             ],
             [
              0.8888888888888888,
              "#fdca26"
             ],
             [
              1,
              "#f0f921"
             ]
            ],
            "type": "heatmapgl"
           }
          ],
          "histogram": [
           {
            "marker": {
             "pattern": {
              "fillmode": "overlay",
              "size": 10,
              "solidity": 0.2
             }
            },
            "type": "histogram"
           }
          ],
          "histogram2d": [
           {
            "colorbar": {
             "outlinewidth": 0,
             "ticks": ""
            },
            "colorscale": [
             [
              0,
              "#0d0887"
             ],
             [
              0.1111111111111111,
              "#46039f"
             ],
             [
              0.2222222222222222,
              "#7201a8"
             ],
             [
              0.3333333333333333,
              "#9c179e"
             ],
             [
              0.4444444444444444,
              "#bd3786"
             ],
             [
              0.5555555555555556,
              "#d8576b"
             ],
             [
              0.6666666666666666,
              "#ed7953"
             ],
             [
              0.7777777777777778,
              "#fb9f3a"
             ],
             [
              0.8888888888888888,
              "#fdca26"
             ],
             [
              1,
              "#f0f921"
             ]
            ],
            "type": "histogram2d"
           }
          ],
          "histogram2dcontour": [
           {
            "colorbar": {
             "outlinewidth": 0,
             "ticks": ""
            },
            "colorscale": [
             [
              0,
              "#0d0887"
             ],
             [
              0.1111111111111111,
              "#46039f"
             ],
             [
              0.2222222222222222,
              "#7201a8"
             ],
             [
              0.3333333333333333,
              "#9c179e"
             ],
             [
              0.4444444444444444,
              "#bd3786"
             ],
             [
              0.5555555555555556,
              "#d8576b"
             ],
             [
              0.6666666666666666,
              "#ed7953"
             ],
             [
              0.7777777777777778,
              "#fb9f3a"
             ],
             [
              0.8888888888888888,
              "#fdca26"
             ],
             [
              1,
              "#f0f921"
             ]
            ],
            "type": "histogram2dcontour"
           }
          ],
          "mesh3d": [
           {
            "colorbar": {
             "outlinewidth": 0,
             "ticks": ""
            },
            "type": "mesh3d"
           }
          ],
          "parcoords": [
           {
            "line": {
             "colorbar": {
              "outlinewidth": 0,
              "ticks": ""
             }
            },
            "type": "parcoords"
           }
          ],
          "pie": [
           {
            "automargin": true,
            "type": "pie"
           }
          ],
          "scatter": [
           {
            "fillpattern": {
             "fillmode": "overlay",
             "size": 10,
             "solidity": 0.2
            },
            "type": "scatter"
           }
          ],
          "scatter3d": [
           {
            "line": {
             "colorbar": {
              "outlinewidth": 0,
              "ticks": ""
             }
            },
            "marker": {
             "colorbar": {
              "outlinewidth": 0,
              "ticks": ""
             }
            },
            "type": "scatter3d"
           }
          ],
          "scattercarpet": [
           {
            "marker": {
             "colorbar": {
              "outlinewidth": 0,
              "ticks": ""
             }
            },
            "type": "scattercarpet"
           }
          ],
          "scattergeo": [
           {
            "marker": {
             "colorbar": {
              "outlinewidth": 0,
              "ticks": ""
             }
            },
            "type": "scattergeo"
           }
          ],
          "scattergl": [
           {
            "marker": {
             "colorbar": {
              "outlinewidth": 0,
              "ticks": ""
             }
            },
            "type": "scattergl"
           }
          ],
          "scattermapbox": [
           {
            "marker": {
             "colorbar": {
              "outlinewidth": 0,
              "ticks": ""
             }
            },
            "type": "scattermapbox"
           }
          ],
          "scatterpolar": [
           {
            "marker": {
             "colorbar": {
              "outlinewidth": 0,
              "ticks": ""
             }
            },
            "type": "scatterpolar"
           }
          ],
          "scatterpolargl": [
           {
            "marker": {
             "colorbar": {
              "outlinewidth": 0,
              "ticks": ""
             }
            },
            "type": "scatterpolargl"
           }
          ],
          "scatterternary": [
           {
            "marker": {
             "colorbar": {
              "outlinewidth": 0,
              "ticks": ""
             }
            },
            "type": "scatterternary"
           }
          ],
          "surface": [
           {
            "colorbar": {
             "outlinewidth": 0,
             "ticks": ""
            },
            "colorscale": [
             [
              0,
              "#0d0887"
             ],
             [
              0.1111111111111111,
              "#46039f"
             ],
             [
              0.2222222222222222,
              "#7201a8"
             ],
             [
              0.3333333333333333,
              "#9c179e"
             ],
             [
              0.4444444444444444,
              "#bd3786"
             ],
             [
              0.5555555555555556,
              "#d8576b"
             ],
             [
              0.6666666666666666,
              "#ed7953"
             ],
             [
              0.7777777777777778,
              "#fb9f3a"
             ],
             [
              0.8888888888888888,
              "#fdca26"
             ],
             [
              1,
              "#f0f921"
             ]
            ],
            "type": "surface"
           }
          ],
          "table": [
           {
            "cells": {
             "fill": {
              "color": "#EBF0F8"
             },
             "line": {
              "color": "white"
             }
            },
            "header": {
             "fill": {
              "color": "#C8D4E3"
             },
             "line": {
              "color": "white"
             }
            },
            "type": "table"
           }
          ]
         },
         "layout": {
          "annotationdefaults": {
           "arrowcolor": "#2a3f5f",
           "arrowhead": 0,
           "arrowwidth": 1
          },
          "autotypenumbers": "strict",
          "coloraxis": {
           "colorbar": {
            "outlinewidth": 0,
            "ticks": ""
           }
          },
          "colorscale": {
           "diverging": [
            [
             0,
             "#8e0152"
            ],
            [
             0.1,
             "#c51b7d"
            ],
            [
             0.2,
             "#de77ae"
            ],
            [
             0.3,
             "#f1b6da"
            ],
            [
             0.4,
             "#fde0ef"
            ],
            [
             0.5,
             "#f7f7f7"
            ],
            [
             0.6,
             "#e6f5d0"
            ],
            [
             0.7,
             "#b8e186"
            ],
            [
             0.8,
             "#7fbc41"
            ],
            [
             0.9,
             "#4d9221"
            ],
            [
             1,
             "#276419"
            ]
           ],
           "sequential": [
            [
             0,
             "#0d0887"
            ],
            [
             0.1111111111111111,
             "#46039f"
            ],
            [
             0.2222222222222222,
             "#7201a8"
            ],
            [
             0.3333333333333333,
             "#9c179e"
            ],
            [
             0.4444444444444444,
             "#bd3786"
            ],
            [
             0.5555555555555556,
             "#d8576b"
            ],
            [
             0.6666666666666666,
             "#ed7953"
            ],
            [
             0.7777777777777778,
             "#fb9f3a"
            ],
            [
             0.8888888888888888,
             "#fdca26"
            ],
            [
             1,
             "#f0f921"
            ]
           ],
           "sequentialminus": [
            [
             0,
             "#0d0887"
            ],
            [
             0.1111111111111111,
             "#46039f"
            ],
            [
             0.2222222222222222,
             "#7201a8"
            ],
            [
             0.3333333333333333,
             "#9c179e"
            ],
            [
             0.4444444444444444,
             "#bd3786"
            ],
            [
             0.5555555555555556,
             "#d8576b"
            ],
            [
             0.6666666666666666,
             "#ed7953"
            ],
            [
             0.7777777777777778,
             "#fb9f3a"
            ],
            [
             0.8888888888888888,
             "#fdca26"
            ],
            [
             1,
             "#f0f921"
            ]
           ]
          },
          "colorway": [
           "#636efa",
           "#EF553B",
           "#00cc96",
           "#ab63fa",
           "#FFA15A",
           "#19d3f3",
           "#FF6692",
           "#B6E880",
           "#FF97FF",
           "#FECB52"
          ],
          "font": {
           "color": "#2a3f5f"
          },
          "geo": {
           "bgcolor": "white",
           "lakecolor": "white",
           "landcolor": "#E5ECF6",
           "showlakes": true,
           "showland": true,
           "subunitcolor": "white"
          },
          "hoverlabel": {
           "align": "left"
          },
          "hovermode": "closest",
          "mapbox": {
           "style": "light"
          },
          "paper_bgcolor": "white",
          "plot_bgcolor": "#E5ECF6",
          "polar": {
           "angularaxis": {
            "gridcolor": "white",
            "linecolor": "white",
            "ticks": ""
           },
           "bgcolor": "#E5ECF6",
           "radialaxis": {
            "gridcolor": "white",
            "linecolor": "white",
            "ticks": ""
           }
          },
          "scene": {
           "xaxis": {
            "backgroundcolor": "#E5ECF6",
            "gridcolor": "white",
            "gridwidth": 2,
            "linecolor": "white",
            "showbackground": true,
            "ticks": "",
            "zerolinecolor": "white"
           },
           "yaxis": {
            "backgroundcolor": "#E5ECF6",
            "gridcolor": "white",
            "gridwidth": 2,
            "linecolor": "white",
            "showbackground": true,
            "ticks": "",
            "zerolinecolor": "white"
           },
           "zaxis": {
            "backgroundcolor": "#E5ECF6",
            "gridcolor": "white",
            "gridwidth": 2,
            "linecolor": "white",
            "showbackground": true,
            "ticks": "",
            "zerolinecolor": "white"
           }
          },
          "shapedefaults": {
           "line": {
            "color": "#2a3f5f"
           }
          },
          "ternary": {
           "aaxis": {
            "gridcolor": "white",
            "linecolor": "white",
            "ticks": ""
           },
           "baxis": {
            "gridcolor": "white",
            "linecolor": "white",
            "ticks": ""
           },
           "bgcolor": "#E5ECF6",
           "caxis": {
            "gridcolor": "white",
            "linecolor": "white",
            "ticks": ""
           }
          },
          "title": {
           "x": 0.05
          },
          "xaxis": {
           "automargin": true,
           "gridcolor": "white",
           "linecolor": "white",
           "ticks": "",
           "title": {
            "standoff": 15
           },
           "zerolinecolor": "white",
           "zerolinewidth": 2
          },
          "yaxis": {
           "automargin": true,
           "gridcolor": "white",
           "linecolor": "white",
           "ticks": "",
           "title": {
            "standoff": 15
           },
           "zerolinecolor": "white",
           "zerolinewidth": 2
          }
         }
        },
        "title": {
         "text": "Cantidad de extranjeros y ecuatorianos que tienen empleo en los años 2016 y 2017"
        },
        "xaxis": {
         "anchor": "y",
         "domain": [
          0,
          0.49
         ],
         "title": {
          "text": "Persona"
         }
        },
        "xaxis2": {
         "anchor": "y2",
         "domain": [
          0.51,
          1
         ],
         "matches": "x",
         "title": {
          "text": "Persona"
         }
        },
        "yaxis": {
         "anchor": "x",
         "domain": [
          0,
          1
         ],
         "title": {
          "text": "Cantidad de personas con trabajo"
         }
        },
        "yaxis2": {
         "anchor": "x2",
         "domain": [
          0,
          1
         ],
         "matches": "y",
         "showticklabels": false
        }
       }
      },
      "text/html": [
       "<div>                            <div id=\"f1eb332b-c448-4fc3-a20e-a6b1382a2a4f\" class=\"plotly-graph-div\" style=\"height:525px; width:100%;\"></div>            <script type=\"text/javascript\">                require([\"plotly\"], function(Plotly) {                    window.PLOTLYENV=window.PLOTLYENV || {};                                    if (document.getElementById(\"f1eb332b-c448-4fc3-a20e-a6b1382a2a4f\")) {                    Plotly.newPlot(                        \"f1eb332b-c448-4fc3-a20e-a6b1382a2a4f\",                        [{\"alignmentgroup\":\"True\",\"hovertemplate\":\"A\\u00f1o=2016\\u003cbr\\u003ePersona=%{x}\\u003cbr\\u003eCantidad de personas con trabajo=%{marker.color}\\u003cextra\\u003e\\u003c\\u002fextra\\u003e\",\"legendgroup\":\"\",\"marker\":{\"color\":[49283,85197],\"coloraxis\":\"coloraxis\",\"pattern\":{\"shape\":\"\"}},\"name\":\"\",\"offsetgroup\":\"\",\"orientation\":\"v\",\"showlegend\":false,\"textposition\":\"auto\",\"x\":[\"Extranjero\",\"Ecuatoriano\"],\"xaxis\":\"x\",\"y\":[49283,85197],\"yaxis\":\"y\",\"type\":\"bar\"},{\"alignmentgroup\":\"True\",\"hovertemplate\":\"A\\u00f1o=2017\\u003cbr\\u003ePersona=%{x}\\u003cbr\\u003eCantidad de personas con trabajo=%{marker.color}\\u003cextra\\u003e\\u003c\\u002fextra\\u003e\",\"legendgroup\":\"\",\"marker\":{\"color\":[50629,84292],\"coloraxis\":\"coloraxis\",\"pattern\":{\"shape\":\"\"}},\"name\":\"\",\"offsetgroup\":\"\",\"orientation\":\"v\",\"showlegend\":false,\"textposition\":\"auto\",\"x\":[\"Extranjero\",\"Ecuatoriano\"],\"xaxis\":\"x2\",\"y\":[50629,84292],\"yaxis\":\"y2\",\"type\":\"bar\"}],                        {\"template\":{\"data\":{\"histogram2dcontour\":[{\"type\":\"histogram2dcontour\",\"colorbar\":{\"outlinewidth\":0,\"ticks\":\"\"},\"colorscale\":[[0.0,\"#0d0887\"],[0.1111111111111111,\"#46039f\"],[0.2222222222222222,\"#7201a8\"],[0.3333333333333333,\"#9c179e\"],[0.4444444444444444,\"#bd3786\"],[0.5555555555555556,\"#d8576b\"],[0.6666666666666666,\"#ed7953\"],[0.7777777777777778,\"#fb9f3a\"],[0.8888888888888888,\"#fdca26\"],[1.0,\"#f0f921\"]]}],\"choropleth\":[{\"type\":\"choropleth\",\"colorbar\":{\"outlinewidth\":0,\"ticks\":\"\"}}],\"histogram2d\":[{\"type\":\"histogram2d\",\"colorbar\":{\"outlinewidth\":0,\"ticks\":\"\"},\"colorscale\":[[0.0,\"#0d0887\"],[0.1111111111111111,\"#46039f\"],[0.2222222222222222,\"#7201a8\"],[0.3333333333333333,\"#9c179e\"],[0.4444444444444444,\"#bd3786\"],[0.5555555555555556,\"#d8576b\"],[0.6666666666666666,\"#ed7953\"],[0.7777777777777778,\"#fb9f3a\"],[0.8888888888888888,\"#fdca26\"],[1.0,\"#f0f921\"]]}],\"heatmap\":[{\"type\":\"heatmap\",\"colorbar\":{\"outlinewidth\":0,\"ticks\":\"\"},\"colorscale\":[[0.0,\"#0d0887\"],[0.1111111111111111,\"#46039f\"],[0.2222222222222222,\"#7201a8\"],[0.3333333333333333,\"#9c179e\"],[0.4444444444444444,\"#bd3786\"],[0.5555555555555556,\"#d8576b\"],[0.6666666666666666,\"#ed7953\"],[0.7777777777777778,\"#fb9f3a\"],[0.8888888888888888,\"#fdca26\"],[1.0,\"#f0f921\"]]}],\"heatmapgl\":[{\"type\":\"heatmapgl\",\"colorbar\":{\"outlinewidth\":0,\"ticks\":\"\"},\"colorscale\":[[0.0,\"#0d0887\"],[0.1111111111111111,\"#46039f\"],[0.2222222222222222,\"#7201a8\"],[0.3333333333333333,\"#9c179e\"],[0.4444444444444444,\"#bd3786\"],[0.5555555555555556,\"#d8576b\"],[0.6666666666666666,\"#ed7953\"],[0.7777777777777778,\"#fb9f3a\"],[0.8888888888888888,\"#fdca26\"],[1.0,\"#f0f921\"]]}],\"contourcarpet\":[{\"type\":\"contourcarpet\",\"colorbar\":{\"outlinewidth\":0,\"ticks\":\"\"}}],\"contour\":[{\"type\":\"contour\",\"colorbar\":{\"outlinewidth\":0,\"ticks\":\"\"},\"colorscale\":[[0.0,\"#0d0887\"],[0.1111111111111111,\"#46039f\"],[0.2222222222222222,\"#7201a8\"],[0.3333333333333333,\"#9c179e\"],[0.4444444444444444,\"#bd3786\"],[0.5555555555555556,\"#d8576b\"],[0.6666666666666666,\"#ed7953\"],[0.7777777777777778,\"#fb9f3a\"],[0.8888888888888888,\"#fdca26\"],[1.0,\"#f0f921\"]]}],\"surface\":[{\"type\":\"surface\",\"colorbar\":{\"outlinewidth\":0,\"ticks\":\"\"},\"colorscale\":[[0.0,\"#0d0887\"],[0.1111111111111111,\"#46039f\"],[0.2222222222222222,\"#7201a8\"],[0.3333333333333333,\"#9c179e\"],[0.4444444444444444,\"#bd3786\"],[0.5555555555555556,\"#d8576b\"],[0.6666666666666666,\"#ed7953\"],[0.7777777777777778,\"#fb9f3a\"],[0.8888888888888888,\"#fdca26\"],[1.0,\"#f0f921\"]]}],\"mesh3d\":[{\"type\":\"mesh3d\",\"colorbar\":{\"outlinewidth\":0,\"ticks\":\"\"}}],\"scatter\":[{\"fillpattern\":{\"fillmode\":\"overlay\",\"size\":10,\"solidity\":0.2},\"type\":\"scatter\"}],\"parcoords\":[{\"type\":\"parcoords\",\"line\":{\"colorbar\":{\"outlinewidth\":0,\"ticks\":\"\"}}}],\"scatterpolargl\":[{\"type\":\"scatterpolargl\",\"marker\":{\"colorbar\":{\"outlinewidth\":0,\"ticks\":\"\"}}}],\"bar\":[{\"error_x\":{\"color\":\"#2a3f5f\"},\"error_y\":{\"color\":\"#2a3f5f\"},\"marker\":{\"line\":{\"color\":\"#E5ECF6\",\"width\":0.5},\"pattern\":{\"fillmode\":\"overlay\",\"size\":10,\"solidity\":0.2}},\"type\":\"bar\"}],\"scattergeo\":[{\"type\":\"scattergeo\",\"marker\":{\"colorbar\":{\"outlinewidth\":0,\"ticks\":\"\"}}}],\"scatterpolar\":[{\"type\":\"scatterpolar\",\"marker\":{\"colorbar\":{\"outlinewidth\":0,\"ticks\":\"\"}}}],\"histogram\":[{\"marker\":{\"pattern\":{\"fillmode\":\"overlay\",\"size\":10,\"solidity\":0.2}},\"type\":\"histogram\"}],\"scattergl\":[{\"type\":\"scattergl\",\"marker\":{\"colorbar\":{\"outlinewidth\":0,\"ticks\":\"\"}}}],\"scatter3d\":[{\"type\":\"scatter3d\",\"line\":{\"colorbar\":{\"outlinewidth\":0,\"ticks\":\"\"}},\"marker\":{\"colorbar\":{\"outlinewidth\":0,\"ticks\":\"\"}}}],\"scattermapbox\":[{\"type\":\"scattermapbox\",\"marker\":{\"colorbar\":{\"outlinewidth\":0,\"ticks\":\"\"}}}],\"scatterternary\":[{\"type\":\"scatterternary\",\"marker\":{\"colorbar\":{\"outlinewidth\":0,\"ticks\":\"\"}}}],\"scattercarpet\":[{\"type\":\"scattercarpet\",\"marker\":{\"colorbar\":{\"outlinewidth\":0,\"ticks\":\"\"}}}],\"carpet\":[{\"aaxis\":{\"endlinecolor\":\"#2a3f5f\",\"gridcolor\":\"white\",\"linecolor\":\"white\",\"minorgridcolor\":\"white\",\"startlinecolor\":\"#2a3f5f\"},\"baxis\":{\"endlinecolor\":\"#2a3f5f\",\"gridcolor\":\"white\",\"linecolor\":\"white\",\"minorgridcolor\":\"white\",\"startlinecolor\":\"#2a3f5f\"},\"type\":\"carpet\"}],\"table\":[{\"cells\":{\"fill\":{\"color\":\"#EBF0F8\"},\"line\":{\"color\":\"white\"}},\"header\":{\"fill\":{\"color\":\"#C8D4E3\"},\"line\":{\"color\":\"white\"}},\"type\":\"table\"}],\"barpolar\":[{\"marker\":{\"line\":{\"color\":\"#E5ECF6\",\"width\":0.5},\"pattern\":{\"fillmode\":\"overlay\",\"size\":10,\"solidity\":0.2}},\"type\":\"barpolar\"}],\"pie\":[{\"automargin\":true,\"type\":\"pie\"}]},\"layout\":{\"autotypenumbers\":\"strict\",\"colorway\":[\"#636efa\",\"#EF553B\",\"#00cc96\",\"#ab63fa\",\"#FFA15A\",\"#19d3f3\",\"#FF6692\",\"#B6E880\",\"#FF97FF\",\"#FECB52\"],\"font\":{\"color\":\"#2a3f5f\"},\"hovermode\":\"closest\",\"hoverlabel\":{\"align\":\"left\"},\"paper_bgcolor\":\"white\",\"plot_bgcolor\":\"#E5ECF6\",\"polar\":{\"bgcolor\":\"#E5ECF6\",\"angularaxis\":{\"gridcolor\":\"white\",\"linecolor\":\"white\",\"ticks\":\"\"},\"radialaxis\":{\"gridcolor\":\"white\",\"linecolor\":\"white\",\"ticks\":\"\"}},\"ternary\":{\"bgcolor\":\"#E5ECF6\",\"aaxis\":{\"gridcolor\":\"white\",\"linecolor\":\"white\",\"ticks\":\"\"},\"baxis\":{\"gridcolor\":\"white\",\"linecolor\":\"white\",\"ticks\":\"\"},\"caxis\":{\"gridcolor\":\"white\",\"linecolor\":\"white\",\"ticks\":\"\"}},\"coloraxis\":{\"colorbar\":{\"outlinewidth\":0,\"ticks\":\"\"}},\"colorscale\":{\"sequential\":[[0.0,\"#0d0887\"],[0.1111111111111111,\"#46039f\"],[0.2222222222222222,\"#7201a8\"],[0.3333333333333333,\"#9c179e\"],[0.4444444444444444,\"#bd3786\"],[0.5555555555555556,\"#d8576b\"],[0.6666666666666666,\"#ed7953\"],[0.7777777777777778,\"#fb9f3a\"],[0.8888888888888888,\"#fdca26\"],[1.0,\"#f0f921\"]],\"sequentialminus\":[[0.0,\"#0d0887\"],[0.1111111111111111,\"#46039f\"],[0.2222222222222222,\"#7201a8\"],[0.3333333333333333,\"#9c179e\"],[0.4444444444444444,\"#bd3786\"],[0.5555555555555556,\"#d8576b\"],[0.6666666666666666,\"#ed7953\"],[0.7777777777777778,\"#fb9f3a\"],[0.8888888888888888,\"#fdca26\"],[1.0,\"#f0f921\"]],\"diverging\":[[0,\"#8e0152\"],[0.1,\"#c51b7d\"],[0.2,\"#de77ae\"],[0.3,\"#f1b6da\"],[0.4,\"#fde0ef\"],[0.5,\"#f7f7f7\"],[0.6,\"#e6f5d0\"],[0.7,\"#b8e186\"],[0.8,\"#7fbc41\"],[0.9,\"#4d9221\"],[1,\"#276419\"]]},\"xaxis\":{\"gridcolor\":\"white\",\"linecolor\":\"white\",\"ticks\":\"\",\"title\":{\"standoff\":15},\"zerolinecolor\":\"white\",\"automargin\":true,\"zerolinewidth\":2},\"yaxis\":{\"gridcolor\":\"white\",\"linecolor\":\"white\",\"ticks\":\"\",\"title\":{\"standoff\":15},\"zerolinecolor\":\"white\",\"automargin\":true,\"zerolinewidth\":2},\"scene\":{\"xaxis\":{\"backgroundcolor\":\"#E5ECF6\",\"gridcolor\":\"white\",\"linecolor\":\"white\",\"showbackground\":true,\"ticks\":\"\",\"zerolinecolor\":\"white\",\"gridwidth\":2},\"yaxis\":{\"backgroundcolor\":\"#E5ECF6\",\"gridcolor\":\"white\",\"linecolor\":\"white\",\"showbackground\":true,\"ticks\":\"\",\"zerolinecolor\":\"white\",\"gridwidth\":2},\"zaxis\":{\"backgroundcolor\":\"#E5ECF6\",\"gridcolor\":\"white\",\"linecolor\":\"white\",\"showbackground\":true,\"ticks\":\"\",\"zerolinecolor\":\"white\",\"gridwidth\":2}},\"shapedefaults\":{\"line\":{\"color\":\"#2a3f5f\"}},\"annotationdefaults\":{\"arrowcolor\":\"#2a3f5f\",\"arrowhead\":0,\"arrowwidth\":1},\"geo\":{\"bgcolor\":\"white\",\"landcolor\":\"#E5ECF6\",\"subunitcolor\":\"white\",\"showland\":true,\"showlakes\":true,\"lakecolor\":\"white\"},\"title\":{\"x\":0.05},\"mapbox\":{\"style\":\"light\"}}},\"xaxis\":{\"anchor\":\"y\",\"domain\":[0.0,0.49],\"title\":{\"text\":\"Persona\"}},\"yaxis\":{\"anchor\":\"x\",\"domain\":[0.0,1.0],\"title\":{\"text\":\"Cantidad de personas con trabajo\"}},\"xaxis2\":{\"anchor\":\"y2\",\"domain\":[0.51,1.0],\"matches\":\"x\",\"title\":{\"text\":\"Persona\"}},\"yaxis2\":{\"anchor\":\"x2\",\"domain\":[0.0,1.0],\"matches\":\"y\",\"showticklabels\":false},\"annotations\":[{\"font\":{},\"showarrow\":false,\"text\":\"A\\u00f1o=2016\",\"x\":0.245,\"xanchor\":\"center\",\"xref\":\"paper\",\"y\":1.0,\"yanchor\":\"bottom\",\"yref\":\"paper\"},{\"font\":{},\"showarrow\":false,\"text\":\"A\\u00f1o=2017\",\"x\":0.755,\"xanchor\":\"center\",\"xref\":\"paper\",\"y\":1.0,\"yanchor\":\"bottom\",\"yref\":\"paper\"}],\"coloraxis\":{\"colorbar\":{\"title\":{\"text\":\"Cantidad de personas con trabajo\"}},\"colorscale\":[[0.0,\"#0d0887\"],[0.1111111111111111,\"#46039f\"],[0.2222222222222222,\"#7201a8\"],[0.3333333333333333,\"#9c179e\"],[0.4444444444444444,\"#bd3786\"],[0.5555555555555556,\"#d8576b\"],[0.6666666666666666,\"#ed7953\"],[0.7777777777777778,\"#fb9f3a\"],[0.8888888888888888,\"#fdca26\"],[1.0,\"#f0f921\"]]},\"legend\":{\"tracegroupgap\":0},\"title\":{\"text\":\"Cantidad de extranjeros y ecuatorianos que tienen empleo en los a\\u00f1os 2016 y 2017\"},\"barmode\":\"relative\"},                        {\"responsive\": true}                    ).then(function(){\n",
       "                            \n",
       "var gd = document.getElementById('f1eb332b-c448-4fc3-a20e-a6b1382a2a4f');\n",
       "var x = new MutationObserver(function (mutations, observer) {{\n",
       "        var display = window.getComputedStyle(gd).display;\n",
       "        if (!display || display === 'none') {{\n",
       "            console.log([gd, 'removed!']);\n",
       "            Plotly.purge(gd);\n",
       "            observer.disconnect();\n",
       "        }}\n",
       "}});\n",
       "\n",
       "// Listen for the removal of the full notebook cells\n",
       "var notebookContainer = gd.closest('#notebook-container');\n",
       "if (notebookContainer) {{\n",
       "    x.observe(notebookContainer, {childList: true});\n",
       "}}\n",
       "\n",
       "// Listen for the clearing of the current output cell\n",
       "var outputEl = gd.closest('.output');\n",
       "if (outputEl) {{\n",
       "    x.observe(outputEl, {childList: true});\n",
       "}}\n",
       "\n",
       "                        })                };                });            </script>        </div>"
      ]
     },
     "metadata": {},
     "output_type": "display_data"
    }
   ],
   "source": [
    "fig = px.bar(pregunta_8888, x=\"p17a\", y=\"empleo\", color=\"empleo\", facet_col='year', title = \"Cantidad de extranjeros y ecuatorianos que tienen empleo en los años 2016 y 2017\", labels = {\"p17a\": \"Persona\", \"empleo\": \"Cantidad de personas con trabajo\", \"year\": \"Año\"})\n",
    "fig.show()"
   ]
  },
  {
   "cell_type": "markdown",
   "id": "82421502",
   "metadata": {},
   "source": [
    "# ¿Cuáles son los barrios de Guayaquil con un mayor índice de pobreza multidimensional? "
   ]
  },
  {
   "cell_type": "code",
   "execution_count": 48,
   "id": "e8a1a285",
   "metadata": {},
   "outputs": [
    {
     "data": {
      "text/html": [
       "<div>\n",
       "<style scoped>\n",
       "    .dataframe tbody tr th:only-of-type {\n",
       "        vertical-align: middle;\n",
       "    }\n",
       "\n",
       "    .dataframe tbody tr th {\n",
       "        vertical-align: top;\n",
       "    }\n",
       "\n",
       "    .dataframe thead th {\n",
       "        text-align: right;\n",
       "    }\n",
       "</style>\n",
       "<table border=\"1\" class=\"dataframe\">\n",
       "  <thead>\n",
       "    <tr style=\"text-align: right;\">\n",
       "      <th></th>\n",
       "      <th>area</th>\n",
       "      <th>ciudad</th>\n",
       "      <th>zona</th>\n",
       "      <th>sector</th>\n",
       "      <th>panelm</th>\n",
       "      <th>vivienda</th>\n",
       "      <th>hogar</th>\n",
       "      <th>p01</th>\n",
       "      <th>p02</th>\n",
       "      <th>p03</th>\n",
       "      <th>...</th>\n",
       "      <th>DPA_PROVIN</th>\n",
       "      <th>DPA_DESPRO_x</th>\n",
       "      <th>geometry_x</th>\n",
       "      <th>DPA_DESPRO_y</th>\n",
       "      <th>DPA_VALOR_y</th>\n",
       "      <th>DPA_ANIO_y</th>\n",
       "      <th>REI_CODIGO</th>\n",
       "      <th>REN_CODIGO</th>\n",
       "      <th>PEE_CODIGO</th>\n",
       "      <th>geometry_y</th>\n",
       "    </tr>\n",
       "  </thead>\n",
       "  <tbody>\n",
       "    <tr>\n",
       "      <th>0</th>\n",
       "      <td>Urbana</td>\n",
       "      <td>10150</td>\n",
       "      <td>001</td>\n",
       "      <td>003</td>\n",
       "      <td>Panel K2</td>\n",
       "      <td>Vivienda Uno</td>\n",
       "      <td>Hogar Uno</td>\n",
       "      <td>Persona 1</td>\n",
       "      <td>Hombre</td>\n",
       "      <td>53.0</td>\n",
       "      <td>...</td>\n",
       "      <td>1</td>\n",
       "      <td>AZUAY</td>\n",
       "      <td>POLYGON ((724179.847 9687634.625, 724188.327 9...</td>\n",
       "      <td>AZUAY</td>\n",
       "      <td>0</td>\n",
       "      <td>2012</td>\n",
       "      <td>05</td>\n",
       "      <td>01</td>\n",
       "      <td>593</td>\n",
       "      <td>POLYGON ((770262.329 9716934.130, 770300.821 9...</td>\n",
       "    </tr>\n",
       "    <tr>\n",
       "      <th>1</th>\n",
       "      <td>Urbana</td>\n",
       "      <td>10150</td>\n",
       "      <td>001</td>\n",
       "      <td>003</td>\n",
       "      <td>Panel K2</td>\n",
       "      <td>Vivienda Uno</td>\n",
       "      <td>Hogar Uno</td>\n",
       "      <td>Persona 2</td>\n",
       "      <td>Mujer</td>\n",
       "      <td>53.0</td>\n",
       "      <td>...</td>\n",
       "      <td>1</td>\n",
       "      <td>AZUAY</td>\n",
       "      <td>POLYGON ((724179.847 9687634.625, 724188.327 9...</td>\n",
       "      <td>AZUAY</td>\n",
       "      <td>0</td>\n",
       "      <td>2012</td>\n",
       "      <td>05</td>\n",
       "      <td>01</td>\n",
       "      <td>593</td>\n",
       "      <td>POLYGON ((770262.329 9716934.130, 770300.821 9...</td>\n",
       "    </tr>\n",
       "    <tr>\n",
       "      <th>2</th>\n",
       "      <td>Urbana</td>\n",
       "      <td>10150</td>\n",
       "      <td>001</td>\n",
       "      <td>003</td>\n",
       "      <td>Panel K2</td>\n",
       "      <td>Vivienda Uno</td>\n",
       "      <td>Hogar Uno</td>\n",
       "      <td>Persona 3</td>\n",
       "      <td>Hombre</td>\n",
       "      <td>23.0</td>\n",
       "      <td>...</td>\n",
       "      <td>1</td>\n",
       "      <td>AZUAY</td>\n",
       "      <td>POLYGON ((724179.847 9687634.625, 724188.327 9...</td>\n",
       "      <td>AZUAY</td>\n",
       "      <td>0</td>\n",
       "      <td>2012</td>\n",
       "      <td>05</td>\n",
       "      <td>01</td>\n",
       "      <td>593</td>\n",
       "      <td>POLYGON ((770262.329 9716934.130, 770300.821 9...</td>\n",
       "    </tr>\n",
       "    <tr>\n",
       "      <th>3</th>\n",
       "      <td>Urbana</td>\n",
       "      <td>10150</td>\n",
       "      <td>001</td>\n",
       "      <td>003</td>\n",
       "      <td>Panel K2</td>\n",
       "      <td>Vivienda Uno</td>\n",
       "      <td>Hogar Uno</td>\n",
       "      <td>Persona 4</td>\n",
       "      <td>Mujer</td>\n",
       "      <td>14.0</td>\n",
       "      <td>...</td>\n",
       "      <td>1</td>\n",
       "      <td>AZUAY</td>\n",
       "      <td>POLYGON ((724179.847 9687634.625, 724188.327 9...</td>\n",
       "      <td>AZUAY</td>\n",
       "      <td>0</td>\n",
       "      <td>2012</td>\n",
       "      <td>05</td>\n",
       "      <td>01</td>\n",
       "      <td>593</td>\n",
       "      <td>POLYGON ((770262.329 9716934.130, 770300.821 9...</td>\n",
       "    </tr>\n",
       "    <tr>\n",
       "      <th>4</th>\n",
       "      <td>Urbana</td>\n",
       "      <td>10150</td>\n",
       "      <td>001</td>\n",
       "      <td>003</td>\n",
       "      <td>Panel K2</td>\n",
       "      <td>Vivienda Dos</td>\n",
       "      <td>Hogar Uno</td>\n",
       "      <td>Persona 1</td>\n",
       "      <td>Mujer</td>\n",
       "      <td>49.0</td>\n",
       "      <td>...</td>\n",
       "      <td>1</td>\n",
       "      <td>AZUAY</td>\n",
       "      <td>POLYGON ((724179.847 9687634.625, 724188.327 9...</td>\n",
       "      <td>AZUAY</td>\n",
       "      <td>0</td>\n",
       "      <td>2012</td>\n",
       "      <td>05</td>\n",
       "      <td>01</td>\n",
       "      <td>593</td>\n",
       "      <td>POLYGON ((770262.329 9716934.130, 770300.821 9...</td>\n",
       "    </tr>\n",
       "  </tbody>\n",
       "</table>\n",
       "<p>5 rows × 435 columns</p>\n",
       "</div>"
      ],
      "text/plain": [
       "     area  ciudad zona sector    panelm      vivienda      hogar        p01  \\\n",
       "0  Urbana   10150  001    003  Panel K2  Vivienda Uno  Hogar Uno  Persona 1   \n",
       "1  Urbana   10150  001    003  Panel K2  Vivienda Uno  Hogar Uno  Persona 2   \n",
       "2  Urbana   10150  001    003  Panel K2  Vivienda Uno  Hogar Uno  Persona 3   \n",
       "3  Urbana   10150  001    003  Panel K2  Vivienda Uno  Hogar Uno  Persona 4   \n",
       "4  Urbana   10150  001    003  Panel K2  Vivienda Dos  Hogar Uno  Persona 1   \n",
       "\n",
       "      p02   p03  ... DPA_PROVIN DPA_DESPRO_x  \\\n",
       "0  Hombre  53.0  ...          1        AZUAY   \n",
       "1   Mujer  53.0  ...          1        AZUAY   \n",
       "2  Hombre  23.0  ...          1        AZUAY   \n",
       "3   Mujer  14.0  ...          1        AZUAY   \n",
       "4   Mujer  49.0  ...          1        AZUAY   \n",
       "\n",
       "                                          geometry_x DPA_DESPRO_y DPA_VALOR_y  \\\n",
       "0  POLYGON ((724179.847 9687634.625, 724188.327 9...        AZUAY           0   \n",
       "1  POLYGON ((724179.847 9687634.625, 724188.327 9...        AZUAY           0   \n",
       "2  POLYGON ((724179.847 9687634.625, 724188.327 9...        AZUAY           0   \n",
       "3  POLYGON ((724179.847 9687634.625, 724188.327 9...        AZUAY           0   \n",
       "4  POLYGON ((724179.847 9687634.625, 724188.327 9...        AZUAY           0   \n",
       "\n",
       "  DPA_ANIO_y REI_CODIGO REN_CODIGO  PEE_CODIGO  \\\n",
       "0       2012         05         01         593   \n",
       "1       2012         05         01         593   \n",
       "2       2012         05         01         593   \n",
       "3       2012         05         01         593   \n",
       "4       2012         05         01         593   \n",
       "\n",
       "                                          geometry_y  \n",
       "0  POLYGON ((770262.329 9716934.130, 770300.821 9...  \n",
       "1  POLYGON ((770262.329 9716934.130, 770300.821 9...  \n",
       "2  POLYGON ((770262.329 9716934.130, 770300.821 9...  \n",
       "3  POLYGON ((770262.329 9716934.130, 770300.821 9...  \n",
       "4  POLYGON ((770262.329 9716934.130, 770300.821 9...  \n",
       "\n",
       "[5 rows x 435 columns]"
      ]
     },
     "execution_count": 48,
     "metadata": {},
     "output_type": "execute_result"
    }
   ],
   "source": [
    "df.head()"
   ]
  },
  {
   "cell_type": "code",
   "execution_count": 59,
   "id": "d37afdc8",
   "metadata": {},
   "outputs": [],
   "source": [
    "df_p99 = df.reset_index()"
   ]
  },
  {
   "cell_type": "code",
   "execution_count": 60,
   "id": "3f62a100",
   "metadata": {},
   "outputs": [
    {
     "data": {
      "text/plain": [
       "0         53.0\n",
       "1         53.0\n",
       "2         23.0\n",
       "3         14.0\n",
       "4         49.0\n",
       "          ... \n",
       "573525    52.0\n",
       "573526    77.0\n",
       "573527    73.0\n",
       "573528    57.0\n",
       "573529    63.0\n",
       "Name: p03, Length: 573530, dtype: object"
      ]
     },
     "execution_count": 60,
     "metadata": {},
     "output_type": "execute_result"
    }
   ],
   "source": [
    "df_p99[\"p03\"].astype(str)"
   ]
  },
  {
   "cell_type": "code",
   "execution_count": 61,
   "id": "eaf3b048",
   "metadata": {},
   "outputs": [
    {
     "data": {
      "text/plain": [
       "array([53.0, 23.0, 14.0, 49.0, 47.0, 26.0, 20.0, 22.0, 7.0, 4.0, 69.0,\n",
       "       61.0, 34.0, 19.0, 1.0, 58.0, 56.0, 21.0, 17.0, 13.0, 68.0, 65.0,\n",
       "       42.0, 30.0, 33.0, 31.0, 12.0, 9.0, 43.0, 27.0, 11.0, 45.0, 46.0,\n",
       "       10.0, 36.0, 15.0, 6.0, 3.0, 8.0, 78.0, 35.0, 60.0, 28.0, 24.0, 2.0,\n",
       "       55.0, 29.0, 25.0, 5.0, 44.0, 18.0, 0.0, 37.0, 41.0, 70.0, 50.0,\n",
       "       76.0, 48.0, 32.0, 59.0, 64.0, 57.0, 73.0, 38.0, 51.0, 80.0, 40.0,\n",
       "       39.0, 16.0, 87.0, 54.0, 77.0, 66.0, 63.0, 79.0, 52.0, 67.0, 83.0,\n",
       "       74.0, 94.0, 91.0, 72.0, 62.0, 86.0, 82.0, 71.0, 81.0, 75.0, 85.0,\n",
       "       89.0, 84.0, 88.0, 95.0, 96.0, 90.0, 92.0, 93.0, '98 y más', 97.0,\n",
       "       'No informa'], dtype=object)"
      ]
     },
     "execution_count": 61,
     "metadata": {},
     "output_type": "execute_result"
    }
   ],
   "source": [
    "df_p99[\"p03\"].unique()"
   ]
  },
  {
   "cell_type": "code",
   "execution_count": 62,
   "id": "0fa06ff1",
   "metadata": {},
   "outputs": [],
   "source": [
    "df_p99[\"p03\"] = df_p99[\"p03\"].replace('98 y más', '98')"
   ]
  },
  {
   "cell_type": "code",
   "execution_count": 63,
   "id": "3e445180",
   "metadata": {},
   "outputs": [],
   "source": [
    "df_p99 = df_p99.loc[df_p99[\"p03\"] != \"No informa\"]"
   ]
  },
  {
   "cell_type": "code",
   "execution_count": 64,
   "id": "c6985145",
   "metadata": {},
   "outputs": [],
   "source": [
    "df_p99[\"p03\"] = df_p99[\"p03\"].astype('int64')"
   ]
  },
  {
   "cell_type": "code",
   "execution_count": 66,
   "id": "29a035ef",
   "metadata": {},
   "outputs": [
    {
     "data": {
      "text/plain": [
       "array([53, 23, 14, 49, 47, 26, 20, 22,  7,  4, 69, 61, 34, 19,  1, 58, 56,\n",
       "       21, 17, 13, 68, 65, 42, 30, 33, 31, 12,  9, 43, 27, 11, 45, 46, 10,\n",
       "       36, 15,  6,  3,  8, 78, 35, 60, 28, 24,  2, 55, 29, 25,  5, 44, 18,\n",
       "        0, 37, 41, 70, 50, 76, 48, 32, 59, 64, 57, 73, 38, 51, 80, 40, 39,\n",
       "       16, 87, 54, 77, 66, 63, 79, 52, 67, 83, 74, 94, 91, 72, 62, 86, 82,\n",
       "       71, 81, 75, 85, 89, 84, 88, 95, 96, 90, 92, 93, 98, 97],\n",
       "      dtype=int64)"
      ]
     },
     "execution_count": 66,
     "metadata": {},
     "output_type": "execute_result"
    }
   ],
   "source": [
    "df_p99[\"p03\"].unique()"
   ]
  },
  {
   "cell_type": "code",
   "execution_count": 81,
   "id": "582bc839",
   "metadata": {},
   "outputs": [
    {
     "data": {
      "text/plain": [
       "(11377, 436)"
      ]
     },
     "execution_count": 81,
     "metadata": {},
     "output_type": "execute_result"
    }
   ],
   "source": [
    "df_p99.loc[df_p99[\"p03\"] == 5].shape"
   ]
  },
  {
   "cell_type": "code",
   "execution_count": 82,
   "id": "03b8e854",
   "metadata": {},
   "outputs": [
    {
     "data": {
      "text/plain": [
       "['Superior Universitario', 'Educación Básica', 'Primaria', NaN, 'Post-grado', 'Educación  Media', 'Secundaria', 'Superior no universitario', 'Ninguno', 'Centro de alfabetización']\n",
       "Categories (9, object): ['Centro de alfabetización', 'Educación  Media', 'Educación Básica', 'Ninguno', ..., 'Primaria', 'Secundaria', 'Superior Universitario', 'Superior no universitario']"
      ]
     },
     "execution_count": 82,
     "metadata": {},
     "output_type": "execute_result"
    }
   ],
   "source": [
    "# Educacion\n",
    "df_p99[\"p10a\"].unique()"
   ]
  },
  {
   "cell_type": "code",
   "execution_count": 83,
   "id": "03e2c72c",
   "metadata": {},
   "outputs": [
    {
     "data": {
      "text/html": [
       "<div>\n",
       "<style scoped>\n",
       "    .dataframe tbody tr th:only-of-type {\n",
       "        vertical-align: middle;\n",
       "    }\n",
       "\n",
       "    .dataframe tbody tr th {\n",
       "        vertical-align: top;\n",
       "    }\n",
       "\n",
       "    .dataframe thead th {\n",
       "        text-align: right;\n",
       "    }\n",
       "</style>\n",
       "<table border=\"1\" class=\"dataframe\">\n",
       "  <thead>\n",
       "    <tr style=\"text-align: right;\">\n",
       "      <th></th>\n",
       "      <th>index</th>\n",
       "      <th>area</th>\n",
       "      <th>ciudad</th>\n",
       "      <th>zona</th>\n",
       "      <th>sector</th>\n",
       "      <th>panelm</th>\n",
       "      <th>vivienda</th>\n",
       "      <th>hogar</th>\n",
       "      <th>p01</th>\n",
       "      <th>p02</th>\n",
       "      <th>...</th>\n",
       "      <th>DPA_PROVIN</th>\n",
       "      <th>DPA_DESPRO_x</th>\n",
       "      <th>geometry_x</th>\n",
       "      <th>DPA_DESPRO_y</th>\n",
       "      <th>DPA_VALOR_y</th>\n",
       "      <th>DPA_ANIO_y</th>\n",
       "      <th>REI_CODIGO</th>\n",
       "      <th>REN_CODIGO</th>\n",
       "      <th>PEE_CODIGO</th>\n",
       "      <th>geometry_y</th>\n",
       "    </tr>\n",
       "  </thead>\n",
       "  <tbody>\n",
       "    <tr>\n",
       "      <th>0</th>\n",
       "      <td>0</td>\n",
       "      <td>Urbana</td>\n",
       "      <td>10150</td>\n",
       "      <td>001</td>\n",
       "      <td>003</td>\n",
       "      <td>Panel K2</td>\n",
       "      <td>Vivienda Uno</td>\n",
       "      <td>Hogar Uno</td>\n",
       "      <td>Persona 1</td>\n",
       "      <td>Hombre</td>\n",
       "      <td>...</td>\n",
       "      <td>1</td>\n",
       "      <td>AZUAY</td>\n",
       "      <td>POLYGON ((724179.847 9687634.625, 724188.327 9...</td>\n",
       "      <td>AZUAY</td>\n",
       "      <td>0</td>\n",
       "      <td>2012</td>\n",
       "      <td>05</td>\n",
       "      <td>01</td>\n",
       "      <td>593</td>\n",
       "      <td>POLYGON ((770262.329 9716934.130, 770300.821 9...</td>\n",
       "    </tr>\n",
       "    <tr>\n",
       "      <th>1</th>\n",
       "      <td>1</td>\n",
       "      <td>Urbana</td>\n",
       "      <td>10150</td>\n",
       "      <td>001</td>\n",
       "      <td>003</td>\n",
       "      <td>Panel K2</td>\n",
       "      <td>Vivienda Uno</td>\n",
       "      <td>Hogar Uno</td>\n",
       "      <td>Persona 2</td>\n",
       "      <td>Mujer</td>\n",
       "      <td>...</td>\n",
       "      <td>1</td>\n",
       "      <td>AZUAY</td>\n",
       "      <td>POLYGON ((724179.847 9687634.625, 724188.327 9...</td>\n",
       "      <td>AZUAY</td>\n",
       "      <td>0</td>\n",
       "      <td>2012</td>\n",
       "      <td>05</td>\n",
       "      <td>01</td>\n",
       "      <td>593</td>\n",
       "      <td>POLYGON ((770262.329 9716934.130, 770300.821 9...</td>\n",
       "    </tr>\n",
       "    <tr>\n",
       "      <th>2</th>\n",
       "      <td>2</td>\n",
       "      <td>Urbana</td>\n",
       "      <td>10150</td>\n",
       "      <td>001</td>\n",
       "      <td>003</td>\n",
       "      <td>Panel K2</td>\n",
       "      <td>Vivienda Uno</td>\n",
       "      <td>Hogar Uno</td>\n",
       "      <td>Persona 3</td>\n",
       "      <td>Hombre</td>\n",
       "      <td>...</td>\n",
       "      <td>1</td>\n",
       "      <td>AZUAY</td>\n",
       "      <td>POLYGON ((724179.847 9687634.625, 724188.327 9...</td>\n",
       "      <td>AZUAY</td>\n",
       "      <td>0</td>\n",
       "      <td>2012</td>\n",
       "      <td>05</td>\n",
       "      <td>01</td>\n",
       "      <td>593</td>\n",
       "      <td>POLYGON ((770262.329 9716934.130, 770300.821 9...</td>\n",
       "    </tr>\n",
       "    <tr>\n",
       "      <th>3</th>\n",
       "      <td>3</td>\n",
       "      <td>Urbana</td>\n",
       "      <td>10150</td>\n",
       "      <td>001</td>\n",
       "      <td>003</td>\n",
       "      <td>Panel K2</td>\n",
       "      <td>Vivienda Uno</td>\n",
       "      <td>Hogar Uno</td>\n",
       "      <td>Persona 4</td>\n",
       "      <td>Mujer</td>\n",
       "      <td>...</td>\n",
       "      <td>1</td>\n",
       "      <td>AZUAY</td>\n",
       "      <td>POLYGON ((724179.847 9687634.625, 724188.327 9...</td>\n",
       "      <td>AZUAY</td>\n",
       "      <td>0</td>\n",
       "      <td>2012</td>\n",
       "      <td>05</td>\n",
       "      <td>01</td>\n",
       "      <td>593</td>\n",
       "      <td>POLYGON ((770262.329 9716934.130, 770300.821 9...</td>\n",
       "    </tr>\n",
       "    <tr>\n",
       "      <th>4</th>\n",
       "      <td>4</td>\n",
       "      <td>Urbana</td>\n",
       "      <td>10150</td>\n",
       "      <td>001</td>\n",
       "      <td>003</td>\n",
       "      <td>Panel K2</td>\n",
       "      <td>Vivienda Dos</td>\n",
       "      <td>Hogar Uno</td>\n",
       "      <td>Persona 1</td>\n",
       "      <td>Mujer</td>\n",
       "      <td>...</td>\n",
       "      <td>1</td>\n",
       "      <td>AZUAY</td>\n",
       "      <td>POLYGON ((724179.847 9687634.625, 724188.327 9...</td>\n",
       "      <td>AZUAY</td>\n",
       "      <td>0</td>\n",
       "      <td>2012</td>\n",
       "      <td>05</td>\n",
       "      <td>01</td>\n",
       "      <td>593</td>\n",
       "      <td>POLYGON ((770262.329 9716934.130, 770300.821 9...</td>\n",
       "    </tr>\n",
       "  </tbody>\n",
       "</table>\n",
       "<p>5 rows × 436 columns</p>\n",
       "</div>"
      ],
      "text/plain": [
       "   index    area  ciudad zona sector    panelm      vivienda      hogar  \\\n",
       "0      0  Urbana   10150  001    003  Panel K2  Vivienda Uno  Hogar Uno   \n",
       "1      1  Urbana   10150  001    003  Panel K2  Vivienda Uno  Hogar Uno   \n",
       "2      2  Urbana   10150  001    003  Panel K2  Vivienda Uno  Hogar Uno   \n",
       "3      3  Urbana   10150  001    003  Panel K2  Vivienda Uno  Hogar Uno   \n",
       "4      4  Urbana   10150  001    003  Panel K2  Vivienda Dos  Hogar Uno   \n",
       "\n",
       "         p01     p02  ...  DPA_PROVIN DPA_DESPRO_x  \\\n",
       "0  Persona 1  Hombre  ...           1        AZUAY   \n",
       "1  Persona 2   Mujer  ...           1        AZUAY   \n",
       "2  Persona 3  Hombre  ...           1        AZUAY   \n",
       "3  Persona 4   Mujer  ...           1        AZUAY   \n",
       "4  Persona 1   Mujer  ...           1        AZUAY   \n",
       "\n",
       "                                          geometry_x DPA_DESPRO_y DPA_VALOR_y  \\\n",
       "0  POLYGON ((724179.847 9687634.625, 724188.327 9...        AZUAY           0   \n",
       "1  POLYGON ((724179.847 9687634.625, 724188.327 9...        AZUAY           0   \n",
       "2  POLYGON ((724179.847 9687634.625, 724188.327 9...        AZUAY           0   \n",
       "3  POLYGON ((724179.847 9687634.625, 724188.327 9...        AZUAY           0   \n",
       "4  POLYGON ((724179.847 9687634.625, 724188.327 9...        AZUAY           0   \n",
       "\n",
       "  DPA_ANIO_y REI_CODIGO REN_CODIGO PEE_CODIGO  \\\n",
       "0       2012         05         01        593   \n",
       "1       2012         05         01        593   \n",
       "2       2012         05         01        593   \n",
       "3       2012         05         01        593   \n",
       "4       2012         05         01        593   \n",
       "\n",
       "                                          geometry_y  \n",
       "0  POLYGON ((770262.329 9716934.130, 770300.821 9...  \n",
       "1  POLYGON ((770262.329 9716934.130, 770300.821 9...  \n",
       "2  POLYGON ((770262.329 9716934.130, 770300.821 9...  \n",
       "3  POLYGON ((770262.329 9716934.130, 770300.821 9...  \n",
       "4  POLYGON ((770262.329 9716934.130, 770300.821 9...  \n",
       "\n",
       "[5 rows x 436 columns]"
      ]
     },
     "execution_count": 83,
     "metadata": {},
     "output_type": "execute_result"
    }
   ],
   "source": [
    "df_p99.head()"
   ]
  },
  {
   "cell_type": "code",
   "execution_count": 119,
   "id": "11aa4f24",
   "metadata": {},
   "outputs": [],
   "source": [
    "df_p99[\"indice_educacion\"] = 0\n",
    "df_p99[\"indice_trabajoseguridad\"] = 0\n",
    "df_p99[\"indice_saludalimentacion\"] = 0 \n",
    "df_p99[\"indice_vivienda\"] = 0"
   ]
  },
  {
   "cell_type": "code",
   "execution_count": 122,
   "id": "4296adeb",
   "metadata": {},
   "outputs": [
    {
     "data": {
      "text/plain": [
       "['NO POBRE', 'POBRE', NaN]\n",
       "Categories (2, object): ['NO POBRE', 'POBRE']"
      ]
     },
     "execution_count": 122,
     "metadata": {},
     "output_type": "execute_result"
    }
   ],
   "source": [
    "df_p99[\"pobreza\"].unique()"
   ]
  }
 ],
 "metadata": {
  "kernelspec": {
   "display_name": "Python 3 (ipykernel)",
   "language": "python",
   "name": "python3"
  },
  "language_info": {
   "codemirror_mode": {
    "name": "ipython",
    "version": 3
   },
   "file_extension": ".py",
   "mimetype": "text/x-python",
   "name": "python",
   "nbconvert_exporter": "python",
   "pygments_lexer": "ipython3",
   "version": "3.9.16"
  }
 },
 "nbformat": 4,
 "nbformat_minor": 5
}
