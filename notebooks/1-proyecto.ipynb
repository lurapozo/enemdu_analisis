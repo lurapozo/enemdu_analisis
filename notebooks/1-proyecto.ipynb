{
 "cells": [
  {
   "cell_type": "code",
   "execution_count": 1,
   "id": "42e22e0c",
   "metadata": {},
   "outputs": [],
   "source": [
    "import numpy as np\n",
    "import pandas as pd\n",
    "import geopandas as gpd"
   ]
  },
  {
   "cell_type": "code",
   "execution_count": 2,
   "id": "efcfca23",
   "metadata": {},
   "outputs": [],
   "source": [
    "df = pd.read_spss(\"../data/032017_bddEnemdu_SPSS/201703_EnemduBDD_15anios.sav\")"
   ]
  },
  {
   "cell_type": "code",
   "execution_count": 3,
   "id": "8fb150cf",
   "metadata": {},
   "outputs": [
    {
     "data": {
      "text/html": [
       "<div>\n",
       "<style scoped>\n",
       "    .dataframe tbody tr th:only-of-type {\n",
       "        vertical-align: middle;\n",
       "    }\n",
       "\n",
       "    .dataframe tbody tr th {\n",
       "        vertical-align: top;\n",
       "    }\n",
       "\n",
       "    .dataframe thead th {\n",
       "        text-align: right;\n",
       "    }\n",
       "</style>\n",
       "<table border=\"1\" class=\"dataframe\">\n",
       "  <thead>\n",
       "    <tr style=\"text-align: right;\">\n",
       "      <th></th>\n",
       "      <th>area</th>\n",
       "      <th>ciudad</th>\n",
       "      <th>zona</th>\n",
       "      <th>sector</th>\n",
       "      <th>panelm</th>\n",
       "      <th>vivienda</th>\n",
       "      <th>hogar</th>\n",
       "      <th>p01</th>\n",
       "      <th>p02</th>\n",
       "      <th>p03</th>\n",
       "      <th>...</th>\n",
       "      <th>desem</th>\n",
       "      <th>desemab</th>\n",
       "      <th>desemoc</th>\n",
       "      <th>desem1</th>\n",
       "      <th>desem2</th>\n",
       "      <th>pein</th>\n",
       "      <th>menor10</th>\n",
       "      <th>menor15</th>\n",
       "      <th>pobla10</th>\n",
       "      <th>pobla15</th>\n",
       "    </tr>\n",
       "  </thead>\n",
       "  <tbody>\n",
       "    <tr>\n",
       "      <th>0</th>\n",
       "      <td>Urbana</td>\n",
       "      <td>10150.0</td>\n",
       "      <td>001</td>\n",
       "      <td>003</td>\n",
       "      <td>Panel K2</td>\n",
       "      <td>Vivienda Uno</td>\n",
       "      <td>Hogar Uno</td>\n",
       "      <td>Persona 1</td>\n",
       "      <td>Hombre</td>\n",
       "      <td>54.0</td>\n",
       "      <td>...</td>\n",
       "      <td>NaN</td>\n",
       "      <td>NaN</td>\n",
       "      <td>NaN</td>\n",
       "      <td>NaN</td>\n",
       "      <td>NaN</td>\n",
       "      <td>NaN</td>\n",
       "      <td>NaN</td>\n",
       "      <td>NaN</td>\n",
       "      <td>Población mayor o igual a 10 años</td>\n",
       "      <td>Población mayor o igual a 15 años</td>\n",
       "    </tr>\n",
       "    <tr>\n",
       "      <th>1</th>\n",
       "      <td>Urbana</td>\n",
       "      <td>10150.0</td>\n",
       "      <td>001</td>\n",
       "      <td>003</td>\n",
       "      <td>Panel K2</td>\n",
       "      <td>Vivienda Uno</td>\n",
       "      <td>Hogar Uno</td>\n",
       "      <td>Persona 2</td>\n",
       "      <td>Mujer</td>\n",
       "      <td>53.0</td>\n",
       "      <td>...</td>\n",
       "      <td>NaN</td>\n",
       "      <td>NaN</td>\n",
       "      <td>NaN</td>\n",
       "      <td>NaN</td>\n",
       "      <td>NaN</td>\n",
       "      <td>NaN</td>\n",
       "      <td>NaN</td>\n",
       "      <td>NaN</td>\n",
       "      <td>Población mayor o igual a 10 años</td>\n",
       "      <td>Población mayor o igual a 15 años</td>\n",
       "    </tr>\n",
       "    <tr>\n",
       "      <th>2</th>\n",
       "      <td>Urbana</td>\n",
       "      <td>10150.0</td>\n",
       "      <td>001</td>\n",
       "      <td>003</td>\n",
       "      <td>Panel K2</td>\n",
       "      <td>Vivienda Uno</td>\n",
       "      <td>Hogar Uno</td>\n",
       "      <td>Persona 3</td>\n",
       "      <td>Mujer</td>\n",
       "      <td>15.0</td>\n",
       "      <td>...</td>\n",
       "      <td>NaN</td>\n",
       "      <td>NaN</td>\n",
       "      <td>NaN</td>\n",
       "      <td>NaN</td>\n",
       "      <td>NaN</td>\n",
       "      <td>Población Económicamente Inactiva</td>\n",
       "      <td>NaN</td>\n",
       "      <td>NaN</td>\n",
       "      <td>Población mayor o igual a 10 años</td>\n",
       "      <td>Población mayor o igual a 15 años</td>\n",
       "    </tr>\n",
       "    <tr>\n",
       "      <th>3</th>\n",
       "      <td>Urbana</td>\n",
       "      <td>10150.0</td>\n",
       "      <td>001</td>\n",
       "      <td>003</td>\n",
       "      <td>Panel K2</td>\n",
       "      <td>Vivienda Dos</td>\n",
       "      <td>Hogar Uno</td>\n",
       "      <td>Persona 1</td>\n",
       "      <td>Mujer</td>\n",
       "      <td>51.0</td>\n",
       "      <td>...</td>\n",
       "      <td>NaN</td>\n",
       "      <td>NaN</td>\n",
       "      <td>NaN</td>\n",
       "      <td>NaN</td>\n",
       "      <td>NaN</td>\n",
       "      <td>NaN</td>\n",
       "      <td>NaN</td>\n",
       "      <td>NaN</td>\n",
       "      <td>Población mayor o igual a 10 años</td>\n",
       "      <td>Población mayor o igual a 15 años</td>\n",
       "    </tr>\n",
       "    <tr>\n",
       "      <th>4</th>\n",
       "      <td>Urbana</td>\n",
       "      <td>10150.0</td>\n",
       "      <td>001</td>\n",
       "      <td>003</td>\n",
       "      <td>Panel K2</td>\n",
       "      <td>Vivienda Dos</td>\n",
       "      <td>Hogar Uno</td>\n",
       "      <td>Persona 2</td>\n",
       "      <td>Hombre</td>\n",
       "      <td>47.0</td>\n",
       "      <td>...</td>\n",
       "      <td>NaN</td>\n",
       "      <td>NaN</td>\n",
       "      <td>NaN</td>\n",
       "      <td>NaN</td>\n",
       "      <td>NaN</td>\n",
       "      <td>NaN</td>\n",
       "      <td>NaN</td>\n",
       "      <td>NaN</td>\n",
       "      <td>Población mayor o igual a 10 años</td>\n",
       "      <td>Población mayor o igual a 15 años</td>\n",
       "    </tr>\n",
       "  </tbody>\n",
       "</table>\n",
       "<p>5 rows × 185 columns</p>\n",
       "</div>"
      ],
      "text/plain": [
       "     area   ciudad zona sector    panelm      vivienda      hogar        p01  \\\n",
       "0  Urbana  10150.0  001    003  Panel K2  Vivienda Uno  Hogar Uno  Persona 1   \n",
       "1  Urbana  10150.0  001    003  Panel K2  Vivienda Uno  Hogar Uno  Persona 2   \n",
       "2  Urbana  10150.0  001    003  Panel K2  Vivienda Uno  Hogar Uno  Persona 3   \n",
       "3  Urbana  10150.0  001    003  Panel K2  Vivienda Dos  Hogar Uno  Persona 1   \n",
       "4  Urbana  10150.0  001    003  Panel K2  Vivienda Dos  Hogar Uno  Persona 2   \n",
       "\n",
       "      p02   p03  ... desem desemab desemoc desem1 desem2  \\\n",
       "0  Hombre  54.0  ...   NaN     NaN     NaN    NaN    NaN   \n",
       "1   Mujer  53.0  ...   NaN     NaN     NaN    NaN    NaN   \n",
       "2   Mujer  15.0  ...   NaN     NaN     NaN    NaN    NaN   \n",
       "3   Mujer  51.0  ...   NaN     NaN     NaN    NaN    NaN   \n",
       "4  Hombre  47.0  ...   NaN     NaN     NaN    NaN    NaN   \n",
       "\n",
       "                                pein menor10 menor15  \\\n",
       "0                                NaN     NaN     NaN   \n",
       "1                                NaN     NaN     NaN   \n",
       "2  Población Económicamente Inactiva     NaN     NaN   \n",
       "3                                NaN     NaN     NaN   \n",
       "4                                NaN     NaN     NaN   \n",
       "\n",
       "                             pobla10                            pobla15  \n",
       "0  Población mayor o igual a 10 años  Población mayor o igual a 15 años  \n",
       "1  Población mayor o igual a 10 años  Población mayor o igual a 15 años  \n",
       "2  Población mayor o igual a 10 años  Población mayor o igual a 15 años  \n",
       "3  Población mayor o igual a 10 años  Población mayor o igual a 15 años  \n",
       "4  Población mayor o igual a 10 años  Población mayor o igual a 15 años  \n",
       "\n",
       "[5 rows x 185 columns]"
      ]
     },
     "execution_count": 3,
     "metadata": {},
     "output_type": "execute_result"
    }
   ],
   "source": [
    "df.head()"
   ]
  },
  {
   "cell_type": "code",
   "execution_count": 4,
   "id": "80204ae3",
   "metadata": {},
   "outputs": [],
   "source": [
    "df['ciudad'] = df['ciudad'].astype('int')"
   ]
  },
  {
   "cell_type": "code",
   "execution_count": 5,
   "id": "50d87466",
   "metadata": {
    "scrolled": true
   },
   "outputs": [
    {
     "name": "stderr",
     "output_type": "stream",
     "text": [
      "/home/lurapozo/anaconda3/envs/ids/lib/python3.9/site-packages/IPython/lib/pretty.py:778: FutureWarning: Index.ravel returning ndarray is deprecated; in a future version this will return a view on self.\n",
      "  output = repr(obj)\n"
     ]
    },
    {
     "data": {
      "text/plain": [
       "0        20.0\n",
       "1        20.0\n",
       "2         NaN\n",
       "3        40.0\n",
       "4        30.0\n",
       "         ... \n",
       "59237     3.0\n",
       "59238     7.0\n",
       "59239     NaN\n",
       "59240     NaN\n",
       "59241    58.0\n",
       "Name: p45, Length: 59242, dtype: category\n",
       "Categories (77, float64): [0.0, 1.0, 2.0, 3.0, ..., 74.0, 75.0, 78.0, 80.0]"
      ]
     },
     "execution_count": 5,
     "metadata": {},
     "output_type": "execute_result"
    }
   ],
   "source": [
    "df['p45'] #Cuantos años trabaja"
   ]
  },
  {
   "cell_type": "code",
   "execution_count": 6,
   "id": "af5d1cc2",
   "metadata": {
    "scrolled": true
   },
   "outputs": [
    {
     "data": {
      "text/plain": [
       "0                                NaN\n",
       "1                                NaN\n",
       "2                    No tiene tiempo\n",
       "3                                NaN\n",
       "4                                NaN\n",
       "                    ...             \n",
       "59237                            NaN\n",
       "59238                            NaN\n",
       "59239    No está en edad de trabajar\n",
       "59240                            NaN\n",
       "59241                            NaN\n",
       "Name: p34, Length: 59242, dtype: category\n",
       "Categories (12, object): ['Espera cosecha o temporada de trabajo', 'Espera respuesta a una gestión', 'Espera respuesta de un empleador', 'Está enfermo o incapacitado', ..., 'Piensa que no le darán trabajo', 'Su cónyuge o familia no le permiten', 'Tiene trabajo para empezar inmediatamente', 'Trabajo ocasional']"
      ]
     },
     "execution_count": 6,
     "metadata": {},
     "output_type": "execute_result"
    }
   ],
   "source": [
    "df['p34']"
   ]
  },
  {
   "cell_type": "code",
   "execution_count": 7,
   "id": "7ec11a89",
   "metadata": {
    "scrolled": true
   },
   "outputs": [
    {
     "data": {
      "text/plain": [
       "0         No\n",
       "1         No\n",
       "2         Si\n",
       "3         No\n",
       "4         No\n",
       "        ... \n",
       "59237     No\n",
       "59238     No\n",
       "59239     Si\n",
       "59240    NaN\n",
       "59241     No\n",
       "Name: p07, Length: 59242, dtype: category\n",
       "Categories (2, object): ['No', 'Si']"
      ]
     },
     "execution_count": 7,
     "metadata": {},
     "output_type": "execute_result"
    }
   ],
   "source": [
    "df['p07'] #asiste a clases"
   ]
  },
  {
   "cell_type": "code",
   "execution_count": 8,
   "id": "0380d6a8",
   "metadata": {
    "scrolled": true
   },
   "outputs": [
    {
     "data": {
      "text/plain": [
       "0          Casado(a)\n",
       "1          Casado(a)\n",
       "2         Soltero(a)\n",
       "3        Unión libre\n",
       "4        Unión libre\n",
       "            ...     \n",
       "59237     Soltero(a)\n",
       "59238    Separado(a)\n",
       "59239     Soltero(a)\n",
       "59240            NaN\n",
       "59241       Viudo(a)\n",
       "Name: p06, Length: 59242, dtype: category\n",
       "Categories (6, object): ['Casado(a)', 'Divorciado(a)', 'Separado(a)', 'Soltero(a)', 'Unión libre', 'Viudo(a)']"
      ]
     },
     "execution_count": 8,
     "metadata": {},
     "output_type": "execute_result"
    }
   ],
   "source": [
    "df['p06']"
   ]
  },
  {
   "cell_type": "code",
   "execution_count": 9,
   "id": "70dcdb16",
   "metadata": {
    "scrolled": true
   },
   "outputs": [
    {
     "data": {
      "text/plain": [
       "0                           NaN\n",
       "1                           NaN\n",
       "2                           NaN\n",
       "3        En otro lugar del país\n",
       "4                           NaN\n",
       "                  ...          \n",
       "59237                       NaN\n",
       "59238                       NaN\n",
       "59239                       NaN\n",
       "59240                       NaN\n",
       "59241    En otro lugar del país\n",
       "Name: p17a, Length: 59242, dtype: category\n",
       "Categories (2, object): ['En otro lugar del país', 'En otro país']"
      ]
     },
     "execution_count": 9,
     "metadata": {},
     "output_type": "execute_result"
    }
   ],
   "source": [
    "df['p17a']"
   ]
  },
  {
   "cell_type": "code",
   "execution_count": 10,
   "id": "e5d035f5",
   "metadata": {},
   "outputs": [
    {
     "data": {
      "text/plain": [
       "0                       NaN\n",
       "1                       NaN\n",
       "2                       NaN\n",
       "3        Salud o enfermedad\n",
       "4                       NaN\n",
       "                ...        \n",
       "59237                   NaN\n",
       "59238                   NaN\n",
       "59239                   NaN\n",
       "59240                   NaN\n",
       "59241           Por trabajo\n",
       "Name: p18, Length: 59242, dtype: category\n",
       "Categories (8, object): ['Compró o le dieron casa o terreno', 'Estudio', 'Matrimonio', 'Otro, cual', 'Para mejorar ingresos', 'Por trabajo', 'Salud o enfermedad', 'Se vino con la familia']"
      ]
     },
     "execution_count": 10,
     "metadata": {},
     "output_type": "execute_result"
    }
   ],
   "source": [
    "df['p18']"
   ]
  },
  {
   "cell_type": "code",
   "execution_count": 11,
   "id": "ce8ee606",
   "metadata": {},
   "outputs": [
    {
     "data": {
      "text/plain": [
       "21       Se vino con la familia\n",
       "22       Se vino con la familia\n",
       "217                 Por trabajo\n",
       "228                 Por trabajo\n",
       "229                 Por trabajo\n",
       "                  ...          \n",
       "56600    Se vino con la familia\n",
       "56708               Por trabajo\n",
       "56761                Matrimonio\n",
       "58270               Por trabajo\n",
       "59204               Por trabajo\n",
       "Name: p18, Length: 1187, dtype: category\n",
       "Categories (8, object): ['Compró o le dieron casa o terreno', 'Estudio', 'Matrimonio', 'Otro, cual', 'Para mejorar ingresos', 'Por trabajo', 'Salud o enfermedad', 'Se vino con la familia']"
      ]
     },
     "execution_count": 11,
     "metadata": {},
     "output_type": "execute_result"
    }
   ],
   "source": [
    "extranjeros = df.loc[df['p17a'] == 'En otro país', 'p18']\n",
    "extranjeros"
   ]
  },
  {
   "cell_type": "code",
   "execution_count": 12,
   "id": "730ea956",
   "metadata": {},
   "outputs": [
    {
     "data": {
      "text/plain": [
       "Se vino con la familia               527\n",
       "Por trabajo                          302\n",
       "Otro, cual                           156\n",
       "Para mejorar ingresos                 60\n",
       "Matrimonio                            56\n",
       "Salud o enfermedad                    35\n",
       "Compró o le dieron casa o terreno     33\n",
       "Estudio                               18\n",
       "Name: p18, dtype: int64"
      ]
     },
     "execution_count": 12,
     "metadata": {},
     "output_type": "execute_result"
    }
   ],
   "source": [
    "extranjeros.value_counts()"
   ]
  },
  {
   "cell_type": "code",
   "execution_count": 13,
   "id": "027bdba0",
   "metadata": {},
   "outputs": [
    {
     "data": {
      "text/plain": [
       "0        Superior Universitario\n",
       "1        Superior Universitario\n",
       "2              Educación Básica\n",
       "3                      Primaria\n",
       "4                      Primaria\n",
       "                  ...          \n",
       "59237          Educación  Media\n",
       "59238    Superior Universitario\n",
       "59239          Educación Básica\n",
       "59240                       NaN\n",
       "59241                   Ninguno\n",
       "Name: p10a, Length: 59242, dtype: category\n",
       "Categories (9, object): ['Centro de alfabetización', 'Educación  Media', 'Educación Básica', 'Ninguno', ..., 'Primaria', 'Secundaria', 'Superior Universitario', 'Superior no universitario']"
      ]
     },
     "execution_count": 13,
     "metadata": {},
     "output_type": "execute_result"
    }
   ],
   "source": [
    "df['p10a'] #Nivel de instruccion"
   ]
  },
  {
   "cell_type": "code",
   "execution_count": 14,
   "id": "5c4e3a9f",
   "metadata": {},
   "outputs": [
    {
     "data": {
      "text/plain": [
       "0          Sector Formal\n",
       "1          Sector Formal\n",
       "2                    NaN\n",
       "3        Sector Informal\n",
       "4        Sector Informal\n",
       "              ...       \n",
       "59237    Sector Informal\n",
       "59238      Sector Formal\n",
       "59239                NaN\n",
       "59240                NaN\n",
       "59241    Sector Informal\n",
       "Name: SECEMP, Length: 59242, dtype: category\n",
       "Categories (4, object): ['Empleo Doméstico', 'No Clasificados por Sector', 'Sector Formal', 'Sector Informal']"
      ]
     },
     "execution_count": 14,
     "metadata": {},
     "output_type": "execute_result"
    }
   ],
   "source": [
    "df['SECEMP']"
   ]
  },
  {
   "cell_type": "code",
   "execution_count": 15,
   "id": "240982ec",
   "metadata": {},
   "outputs": [],
   "source": [
    "#quitar formal, informalm empdom, nocla que dan la misma info que SECEMP"
   ]
  },
  {
   "cell_type": "code",
   "execution_count": 16,
   "id": "552d954f",
   "metadata": {},
   "outputs": [
    {
     "data": {
      "text/plain": [
       "0                                     Empleados de oficina\n",
       "1                Profesionales cient?ficos e intelectuales\n",
       "2                                                      NaN\n",
       "3        Trabajadores no calificados, ocupaciones eleme...\n",
       "4               Operadores de instalac. m?quinas y montad.\n",
       "                               ...                        \n",
       "59237    Trabajadores no calificados, ocupaciones eleme...\n",
       "59238           Personal direct./admin. p?blica y empresas\n",
       "59239                                                  NaN\n",
       "59240                                                  NaN\n",
       "59241      Trabajad. calificados agropecuarios y pesqueros\n",
       "Name: grupo1, Length: 59242, dtype: category\n",
       "Categories (10, object): ['Empleados de oficina', 'Fuerzas Armadas', 'Oficiales operarios y artesanos', 'Operadores de instalac. m?quinas y montad.', ..., 'T?cnicos y profesionales de nivel medio', 'Trabajad. calificados agropecuarios y pesqueros', 'Trabajad. de los servicios y comerciantes', 'Trabajadores no calificados, ocupaciones elem...]"
      ]
     },
     "execution_count": 16,
     "metadata": {},
     "output_type": "execute_result"
    }
   ],
   "source": [
    "df['grupo1'] #Grupo de Ocupación CIUO8 (población ocupada de 15 años y más)"
   ]
  },
  {
   "cell_type": "code",
   "execution_count": 17,
   "id": "e7d92367",
   "metadata": {},
   "outputs": [
    {
     "data": {
      "text/plain": [
       "0                             C. Industrias manufactureras\n",
       "1                                             P. Ense?anza\n",
       "2                                                      NaN\n",
       "3        N. Actividades y servicios administrativos y d...\n",
       "4                           H. Transporte y almacenamiento\n",
       "                               ...                        \n",
       "59237    A. Agricultura, ganader?a caza y silvicultura ...\n",
       "59238    A. Agricultura, ganader?a caza y silvicultura ...\n",
       "59239                                                  NaN\n",
       "59240                                                  NaN\n",
       "59241    A. Agricultura, ganader?a caza y silvicultura ...\n",
       "Name: rama1, Length: 59242, dtype: category\n",
       "Categories (21, object): ['A. Agricultura, ganader?a caza y silvicultura..., 'B. Explotaci?n de minas y canteras', 'C. Industrias manufactureras', 'D. Suministros de electricidad, gas, aire aco..., ..., 'R. Artes, entretenimiento y recreaci?n', 'S. Otras actividades de servicios', 'T  Actividades en hogares privados con servic..., 'U  Actividades de organizaciones extraterrito...]"
      ]
     },
     "execution_count": 17,
     "metadata": {},
     "output_type": "execute_result"
    }
   ],
   "source": [
    "df['rama1'] #Rama de Actividad CIIU4.0 (población ocupada de 15 años y más)"
   ]
  },
  {
   "cell_type": "code",
   "execution_count": 18,
   "id": "53681ec1",
   "metadata": {},
   "outputs": [
    {
     "data": {
      "text/plain": [
       "0        Población con Empleo\n",
       "1        Población con Empleo\n",
       "2                         NaN\n",
       "3        Población con Empleo\n",
       "4        Población con Empleo\n",
       "                 ...         \n",
       "59237    Población con Empleo\n",
       "59238    Población con Empleo\n",
       "59239                     NaN\n",
       "59240                     NaN\n",
       "59241    Población con Empleo\n",
       "Name: empleo, Length: 59242, dtype: category\n",
       "Categories (1, object): ['Población con Empleo']"
      ]
     },
     "execution_count": 18,
     "metadata": {},
     "output_type": "execute_result"
    }
   ],
   "source": [
    "df['empleo'] #Quienes tienen empleo"
   ]
  },
  {
   "cell_type": "code",
   "execution_count": 19,
   "id": "a8981e7d",
   "metadata": {},
   "outputs": [
    {
     "data": {
      "text/plain": [
       "0        Población en Edad de Trabajar\n",
       "1        Población en Edad de Trabajar\n",
       "2        Población en Edad de Trabajar\n",
       "3        Población en Edad de Trabajar\n",
       "4        Población en Edad de Trabajar\n",
       "                     ...              \n",
       "59237    Población en Edad de Trabajar\n",
       "59238    Población en Edad de Trabajar\n",
       "59239                              NaN\n",
       "59240                              NaN\n",
       "59241    Población en Edad de Trabajar\n",
       "Name: petn, Length: 59242, dtype: category\n",
       "Categories (1, object): ['Población en Edad de Trabajar']"
      ]
     },
     "execution_count": 19,
     "metadata": {},
     "output_type": "execute_result"
    }
   ],
   "source": [
    "df['petn']"
   ]
  },
  {
   "cell_type": "code",
   "execution_count": 20,
   "id": "8e0433db",
   "metadata": {},
   "outputs": [
    {
     "data": {
      "text/plain": [
       "0        Población Económicamente Activa\n",
       "1        Población Económicamente Activa\n",
       "2                                    NaN\n",
       "3        Población Económicamente Activa\n",
       "4        Población Económicamente Activa\n",
       "                      ...               \n",
       "59237    Población Económicamente Activa\n",
       "59238    Población Económicamente Activa\n",
       "59239                                NaN\n",
       "59240                                NaN\n",
       "59241    Población Económicamente Activa\n",
       "Name: pean, Length: 59242, dtype: category\n",
       "Categories (1, object): ['Población Económicamente Activa']"
      ]
     },
     "execution_count": 20,
     "metadata": {},
     "output_type": "execute_result"
    }
   ],
   "source": [
    "df['pean']"
   ]
  },
  {
   "cell_type": "code",
   "execution_count": 21,
   "id": "d267b11e",
   "metadata": {},
   "outputs": [
    {
     "data": {
      "text/plain": [
       "0              NaN\n",
       "1              NaN\n",
       "2              NaN\n",
       "3        Subempleo\n",
       "4              NaN\n",
       "           ...    \n",
       "59237    Subempleo\n",
       "59238          NaN\n",
       "59239          NaN\n",
       "59240          NaN\n",
       "59241          NaN\n",
       "Name: sub, Length: 59242, dtype: category\n",
       "Categories (1, object): ['Subempleo']"
      ]
     },
     "execution_count": 21,
     "metadata": {},
     "output_type": "execute_result"
    }
   ],
   "source": [
    "df['sub']"
   ]
  },
  {
   "cell_type": "code",
   "execution_count": 22,
   "id": "53dfa8f5",
   "metadata": {},
   "outputs": [
    {
     "data": {
      "text/plain": [
       "0        NaN\n",
       "1        NaN\n",
       "2        NaN\n",
       "3        NaN\n",
       "4        NaN\n",
       "        ... \n",
       "59237    NaN\n",
       "59238    NaN\n",
       "59239    NaN\n",
       "59240    NaN\n",
       "59241    NaN\n",
       "Name: desem, Length: 59242, dtype: category\n",
       "Categories (1, object): ['Desempleo']"
      ]
     },
     "execution_count": 22,
     "metadata": {},
     "output_type": "execute_result"
    }
   ],
   "source": [
    "df['desem']"
   ]
  },
  {
   "cell_type": "code",
   "execution_count": 23,
   "id": "937818fd",
   "metadata": {},
   "outputs": [
    {
     "data": {
      "text/plain": [
       "0        NaN\n",
       "1        NaN\n",
       "2        NaN\n",
       "3        NaN\n",
       "4        NaN\n",
       "        ... \n",
       "59237    NaN\n",
       "59238    NaN\n",
       "59239    NaN\n",
       "59240    NaN\n",
       "59241    NaN\n",
       "Name: sub_w, Length: 59242, dtype: category\n",
       "Categories (1, object): ['Subempleo por insuficiencia de ingresos']"
      ]
     },
     "execution_count": 23,
     "metadata": {},
     "output_type": "execute_result"
    }
   ],
   "source": [
    "df['sub_w']"
   ]
  },
  {
   "cell_type": "code",
   "execution_count": 24,
   "id": "e23ff5a5",
   "metadata": {},
   "outputs": [
    {
     "data": {
      "text/plain": [
       "0                         NaN\n",
       "1                         NaN\n",
       "2                         NaN\n",
       "3                         NaN\n",
       "4        Otro empleo no pleno\n",
       "                 ...         \n",
       "59237                     NaN\n",
       "59238                     NaN\n",
       "59239                     NaN\n",
       "59240                     NaN\n",
       "59241    Otro empleo no pleno\n",
       "Name: oinad, Length: 59242, dtype: category\n",
       "Categories (1, object): ['Otro empleo no pleno']"
      ]
     },
     "execution_count": 24,
     "metadata": {},
     "output_type": "execute_result"
    }
   ],
   "source": [
    "df['oinad']"
   ]
  },
  {
   "cell_type": "code",
   "execution_count": 25,
   "id": "4e0b9540",
   "metadata": {},
   "outputs": [
    {
     "data": {
      "text/plain": [
       "0                 Si\n",
       "1                 Si\n",
       "2                 Si\n",
       "3                 Si\n",
       "4        No responde\n",
       "            ...     \n",
       "59237             Si\n",
       "59238             Si\n",
       "59239             Si\n",
       "59240             Si\n",
       "59241             Si\n",
       "Name: ced01a, Length: 59242, dtype: category\n",
       "Categories (3, object): ['No', 'No responde', 'Si']"
      ]
     },
     "execution_count": 25,
     "metadata": {},
     "output_type": "execute_result"
    }
   ],
   "source": [
    "df['ced01a'] #Cedula de identidad Tal vez sirva"
   ]
  },
  {
   "cell_type": "code",
   "execution_count": 26,
   "id": "e7c4139c",
   "metadata": {},
   "outputs": [
    {
     "data": {
      "text/plain": [
       "0        1072.0\n",
       "1         410.0\n",
       "2           NaN\n",
       "3         120.0\n",
       "4         320.0\n",
       "          ...  \n",
       "59237       NaN\n",
       "59238     949.0\n",
       "59239       NaN\n",
       "59240       NaN\n",
       "59241     300.0\n",
       "Name: ingrl, Length: 59242, dtype: category\n",
       "Categories (1715, object): [0.0, 1.0, 2.0, 3.0, ..., 22000.0, 27000.0, 'Gasta mas de lo que gana', 'No informa']"
      ]
     },
     "execution_count": 26,
     "metadata": {},
     "output_type": "execute_result"
    }
   ],
   "source": [
    "df['ingrl'] #Ingreso del trabajo"
   ]
  },
  {
   "cell_type": "code",
   "execution_count": 27,
   "id": "20a9d875",
   "metadata": {},
   "outputs": [
    {
     "data": {
      "text/plain": [
       "0        Uno\n",
       "1        Uno\n",
       "2        NaN\n",
       "3        Uno\n",
       "4        Uno\n",
       "        ... \n",
       "59237    Uno\n",
       "59238    Uno\n",
       "59239    NaN\n",
       "59240    NaN\n",
       "59241    Uno\n",
       "Name: p50, Length: 59242, dtype: category\n",
       "Categories (2, object): ['Mas de uno', 'Uno']"
      ]
     },
     "execution_count": 27,
     "metadata": {},
     "output_type": "execute_result"
    }
   ],
   "source": [
    "df['p50'] #Cuantos trabajos tiene"
   ]
  },
  {
   "cell_type": "code",
   "execution_count": 28,
   "id": "09431ee0",
   "metadata": {
    "scrolled": true
   },
   "outputs": [
    {
     "data": {
      "text/plain": [
       "0        NaN\n",
       "1        NaN\n",
       "2        NaN\n",
       "3        NaN\n",
       "4        NaN\n",
       "        ... \n",
       "59237    NaN\n",
       "59238    NaN\n",
       "59239    NaN\n",
       "59240    NaN\n",
       "59241    NaN\n",
       "Name: p38, Length: 59242, dtype: category\n",
       "Categories (9, object): ['Despido intempestivo', 'Fue mal en el negocio', 'Liquidación empresa', 'Otro', ..., 'Se jubiló o pensionaron', 'Supresión partidas', 'Terminación contrato', 'Termino ciclo agrícola']"
      ]
     },
     "execution_count": 28,
     "metadata": {},
     "output_type": "execute_result"
    }
   ],
   "source": [
    "df['p38'] #Motivos por que dejo de trabajar"
   ]
  },
  {
   "cell_type": "code",
   "execution_count": 29,
   "id": "d818d08b",
   "metadata": {},
   "outputs": [
    {
     "data": {
      "text/plain": [
       "0               NaN\n",
       "1               NaN\n",
       "2        Estudiante\n",
       "3               NaN\n",
       "4               NaN\n",
       "            ...    \n",
       "59237           NaN\n",
       "59238           NaN\n",
       "59239    Estudiante\n",
       "59240           NaN\n",
       "59241           NaN\n",
       "Name: p36, Length: 59242, dtype: category\n",
       "Categories (6, object): ['Ama de casa', 'Estudiante', 'Incapacitado', 'Jubilado pensión', 'Otro', 'Rentista']"
      ]
     },
     "execution_count": 29,
     "metadata": {},
     "output_type": "execute_result"
    }
   ],
   "source": [
    "df['p36'] #Condicion de inactividad (porque no puede trabajar)"
   ]
  },
  {
   "cell_type": "code",
   "execution_count": 30,
   "id": "d701f00b",
   "metadata": {},
   "outputs": [
    {
     "data": {
      "text/plain": [
       "0                                NaN\n",
       "1                                NaN\n",
       "2                    No tiene tiempo\n",
       "3                                NaN\n",
       "4                                NaN\n",
       "                    ...             \n",
       "59237                            NaN\n",
       "59238                            NaN\n",
       "59239    No está en edad de trabajar\n",
       "59240                            NaN\n",
       "59241                            NaN\n",
       "Name: p34, Length: 59242, dtype: category\n",
       "Categories (12, object): ['Espera cosecha o temporada de trabajo', 'Espera respuesta a una gestión', 'Espera respuesta de un empleador', 'Está enfermo o incapacitado', ..., 'Piensa que no le darán trabajo', 'Su cónyuge o familia no le permiten', 'Tiene trabajo para empezar inmediatamente', 'Trabajo ocasional']"
      ]
     },
     "execution_count": 30,
     "metadata": {},
     "output_type": "execute_result"
    }
   ],
   "source": [
    "df['p34'] #Por que no busco trabajo"
   ]
  },
  {
   "cell_type": "code",
   "execution_count": 31,
   "id": "5edf1de4",
   "metadata": {},
   "outputs": [
    {
     "data": {
      "text/plain": [
       "0        NaN\n",
       "1        NaN\n",
       "2        NaN\n",
       "3        NaN\n",
       "4        NaN\n",
       "        ... \n",
       "59237    NaN\n",
       "59238    NaN\n",
       "59239    NaN\n",
       "59240    NaN\n",
       "59241    NaN\n",
       "Name: p35, Length: 59242, dtype: category\n",
       "Categories (2, object): ['No', 'Si']"
      ]
     },
     "execution_count": 31,
     "metadata": {},
     "output_type": "execute_result"
    }
   ],
   "source": [
    "df['p35'] #Si quiere trabajar"
   ]
  },
  {
   "cell_type": "code",
   "execution_count": 32,
   "id": "a254b89f",
   "metadata": {},
   "outputs": [
    {
     "data": {
      "text/plain": [
       "0        Mestizo\n",
       "1        Mestizo\n",
       "2        Mestizo\n",
       "3        Mestizo\n",
       "4        Mestizo\n",
       "          ...   \n",
       "59237    Mestizo\n",
       "59238    Mestizo\n",
       "59239    Mestizo\n",
       "59240        NaN\n",
       "59241    Mestizo\n",
       "Name: p15, Length: 59242, dtype: category\n",
       "Categories (8, object): ['Afroecuatoriano', 'Blanco', 'Indígena', 'Mestizo', 'Montubio', 'Mulato', 'Negro', 'Otro, cual']"
      ]
     },
     "execution_count": 32,
     "metadata": {},
     "output_type": "execute_result"
    }
   ],
   "source": [
    "df['p15'] #Raza"
   ]
  },
  {
   "cell_type": "code",
   "execution_count": 33,
   "id": "ea057efc",
   "metadata": {},
   "outputs": [
    {
     "name": "stderr",
     "output_type": "stream",
     "text": [
      "/home/lurapozo/anaconda3/envs/ids/lib/python3.9/site-packages/IPython/lib/pretty.py:778: FutureWarning: Index.ravel returning ndarray is deprecated; in a future version this will return a view on self.\n",
      "  output = repr(obj)\n"
     ]
    },
    {
     "data": {
      "text/plain": [
       "0       NaN\n",
       "1       NaN\n",
       "2       NaN\n",
       "3       NaN\n",
       "4       NaN\n",
       "         ..\n",
       "59237   NaN\n",
       "59238   NaN\n",
       "59239   NaN\n",
       "59240   NaN\n",
       "59241   NaN\n",
       "Name: p51c, Length: 59242, dtype: category\n",
       "Categories (11, float64): [0.0, 1.0, 2.0, 3.0, ..., 7.0, 8.0, 10.0, 14.0]"
      ]
     },
     "execution_count": 33,
     "metadata": {},
     "output_type": "execute_result"
    }
   ],
   "source": [
    "df['p51c']"
   ]
  },
  {
   "cell_type": "code",
   "execution_count": 34,
   "id": "0408a461",
   "metadata": {},
   "outputs": [],
   "source": [
    "cant = gpd.read_file(\"../data/SHP/nxcantones.shp\")"
   ]
  },
  {
   "cell_type": "code",
   "execution_count": 35,
   "id": "b4b7a6d8",
   "metadata": {},
   "outputs": [],
   "source": [
    "parr = gpd.read_file(\"../data/SHP/nxparroquias.shp\")"
   ]
  },
  {
   "cell_type": "code",
   "execution_count": 36,
   "id": "056bb70f",
   "metadata": {},
   "outputs": [],
   "source": [
    "prov = gpd.read_file(\"../data/SHP/nxprovincias.shp\")"
   ]
  },
  {
   "cell_type": "code",
   "execution_count": 37,
   "id": "12eec33b",
   "metadata": {},
   "outputs": [
    {
     "data": {
      "text/html": [
       "<div>\n",
       "<style scoped>\n",
       "    .dataframe tbody tr th:only-of-type {\n",
       "        vertical-align: middle;\n",
       "    }\n",
       "\n",
       "    .dataframe tbody tr th {\n",
       "        vertical-align: top;\n",
       "    }\n",
       "\n",
       "    .dataframe thead th {\n",
       "        text-align: right;\n",
       "    }\n",
       "</style>\n",
       "<table border=\"1\" class=\"dataframe\">\n",
       "  <thead>\n",
       "    <tr style=\"text-align: right;\">\n",
       "      <th></th>\n",
       "      <th>area</th>\n",
       "      <th>ciudad</th>\n",
       "      <th>zona</th>\n",
       "      <th>sector</th>\n",
       "    </tr>\n",
       "  </thead>\n",
       "  <tbody>\n",
       "    <tr>\n",
       "      <th>0</th>\n",
       "      <td>Urbana</td>\n",
       "      <td>10150</td>\n",
       "      <td>001</td>\n",
       "      <td>003</td>\n",
       "    </tr>\n",
       "    <tr>\n",
       "      <th>1</th>\n",
       "      <td>Urbana</td>\n",
       "      <td>10150</td>\n",
       "      <td>001</td>\n",
       "      <td>003</td>\n",
       "    </tr>\n",
       "    <tr>\n",
       "      <th>2</th>\n",
       "      <td>Urbana</td>\n",
       "      <td>10150</td>\n",
       "      <td>001</td>\n",
       "      <td>003</td>\n",
       "    </tr>\n",
       "    <tr>\n",
       "      <th>3</th>\n",
       "      <td>Urbana</td>\n",
       "      <td>10150</td>\n",
       "      <td>001</td>\n",
       "      <td>003</td>\n",
       "    </tr>\n",
       "    <tr>\n",
       "      <th>4</th>\n",
       "      <td>Urbana</td>\n",
       "      <td>10150</td>\n",
       "      <td>001</td>\n",
       "      <td>003</td>\n",
       "    </tr>\n",
       "    <tr>\n",
       "      <th>...</th>\n",
       "      <td>...</td>\n",
       "      <td>...</td>\n",
       "      <td>...</td>\n",
       "      <td>...</td>\n",
       "    </tr>\n",
       "    <tr>\n",
       "      <th>59237</th>\n",
       "      <td>Rural</td>\n",
       "      <td>900451</td>\n",
       "      <td>999</td>\n",
       "      <td>007</td>\n",
       "    </tr>\n",
       "    <tr>\n",
       "      <th>59238</th>\n",
       "      <td>Rural</td>\n",
       "      <td>900451</td>\n",
       "      <td>999</td>\n",
       "      <td>007</td>\n",
       "    </tr>\n",
       "    <tr>\n",
       "      <th>59239</th>\n",
       "      <td>Rural</td>\n",
       "      <td>900451</td>\n",
       "      <td>999</td>\n",
       "      <td>007</td>\n",
       "    </tr>\n",
       "    <tr>\n",
       "      <th>59240</th>\n",
       "      <td>Rural</td>\n",
       "      <td>900451</td>\n",
       "      <td>999</td>\n",
       "      <td>007</td>\n",
       "    </tr>\n",
       "    <tr>\n",
       "      <th>59241</th>\n",
       "      <td>Rural</td>\n",
       "      <td>900451</td>\n",
       "      <td>999</td>\n",
       "      <td>007</td>\n",
       "    </tr>\n",
       "  </tbody>\n",
       "</table>\n",
       "<p>59242 rows × 4 columns</p>\n",
       "</div>"
      ],
      "text/plain": [
       "         area  ciudad zona sector\n",
       "0      Urbana   10150  001    003\n",
       "1      Urbana   10150  001    003\n",
       "2      Urbana   10150  001    003\n",
       "3      Urbana   10150  001    003\n",
       "4      Urbana   10150  001    003\n",
       "...       ...     ...  ...    ...\n",
       "59237   Rural  900451  999    007\n",
       "59238   Rural  900451  999    007\n",
       "59239   Rural  900451  999    007\n",
       "59240   Rural  900451  999    007\n",
       "59241   Rural  900451  999    007\n",
       "\n",
       "[59242 rows x 4 columns]"
      ]
     },
     "execution_count": 37,
     "metadata": {},
     "output_type": "execute_result"
    }
   ],
   "source": [
    "df.iloc[:,:4]"
   ]
  },
  {
   "cell_type": "code",
   "execution_count": 38,
   "id": "e8f669c2",
   "metadata": {},
   "outputs": [
    {
     "data": {
      "text/html": [
       "<div>\n",
       "<style scoped>\n",
       "    .dataframe tbody tr th:only-of-type {\n",
       "        vertical-align: middle;\n",
       "    }\n",
       "\n",
       "    .dataframe tbody tr th {\n",
       "        vertical-align: top;\n",
       "    }\n",
       "\n",
       "    .dataframe thead th {\n",
       "        text-align: right;\n",
       "    }\n",
       "</style>\n",
       "<table border=\"1\" class=\"dataframe\">\n",
       "  <thead>\n",
       "    <tr style=\"text-align: right;\">\n",
       "      <th></th>\n",
       "      <th>DPA_PARROQ</th>\n",
       "      <th>DPA_DESPAR</th>\n",
       "      <th>DPA_VALOR</th>\n",
       "      <th>DPA_ANIO</th>\n",
       "      <th>DPA_CANTON</th>\n",
       "      <th>DPA_DESCAN</th>\n",
       "      <th>DPA_PROVIN</th>\n",
       "      <th>DPA_DESPRO</th>\n",
       "      <th>geometry</th>\n",
       "    </tr>\n",
       "  </thead>\n",
       "  <tbody>\n",
       "    <tr>\n",
       "      <th>0</th>\n",
       "      <td>020150</td>\n",
       "      <td>GUARANDA</td>\n",
       "      <td>0</td>\n",
       "      <td>2012</td>\n",
       "      <td>0201</td>\n",
       "      <td>GUARANDA</td>\n",
       "      <td>02</td>\n",
       "      <td>BOLIVAR</td>\n",
       "      <td>POLYGON ((736004.379 9838239.905, 736006.324 9...</td>\n",
       "    </tr>\n",
       "    <tr>\n",
       "      <th>1</th>\n",
       "      <td>020151</td>\n",
       "      <td>FACUNDO VELA</td>\n",
       "      <td>0</td>\n",
       "      <td>2012</td>\n",
       "      <td>0201</td>\n",
       "      <td>GUARANDA</td>\n",
       "      <td>02</td>\n",
       "      <td>BOLIVAR</td>\n",
       "      <td>POLYGON ((716027.651 9868847.197, 716028.320 9...</td>\n",
       "    </tr>\n",
       "    <tr>\n",
       "      <th>2</th>\n",
       "      <td>020153</td>\n",
       "      <td>JULIO E. MORENO (CATANAHUAN GRANDE)</td>\n",
       "      <td>0</td>\n",
       "      <td>2012</td>\n",
       "      <td>0201</td>\n",
       "      <td>GUARANDA</td>\n",
       "      <td>02</td>\n",
       "      <td>BOLIVAR</td>\n",
       "      <td>POLYGON ((721344.030 9824034.783, 721314.366 9...</td>\n",
       "    </tr>\n",
       "    <tr>\n",
       "      <th>3</th>\n",
       "      <td>020155</td>\n",
       "      <td>SALINAS</td>\n",
       "      <td>0</td>\n",
       "      <td>2012</td>\n",
       "      <td>0201</td>\n",
       "      <td>GUARANDA</td>\n",
       "      <td>02</td>\n",
       "      <td>BOLIVAR</td>\n",
       "      <td>POLYGON ((705426.023 9858768.396, 705493.833 9...</td>\n",
       "    </tr>\n",
       "    <tr>\n",
       "      <th>4</th>\n",
       "      <td>020156</td>\n",
       "      <td>SAN LORENZO</td>\n",
       "      <td>0</td>\n",
       "      <td>2012</td>\n",
       "      <td>0201</td>\n",
       "      <td>GUARANDA</td>\n",
       "      <td>02</td>\n",
       "      <td>BOLIVAR</td>\n",
       "      <td>POLYGON ((737792.824 9814211.296, 738001.238 9...</td>\n",
       "    </tr>\n",
       "  </tbody>\n",
       "</table>\n",
       "</div>"
      ],
      "text/plain": [
       "  DPA_PARROQ                           DPA_DESPAR  DPA_VALOR DPA_ANIO  \\\n",
       "0     020150                             GUARANDA          0     2012   \n",
       "1     020151                         FACUNDO VELA          0     2012   \n",
       "2     020153  JULIO E. MORENO (CATANAHUAN GRANDE)          0     2012   \n",
       "3     020155                              SALINAS          0     2012   \n",
       "4     020156                          SAN LORENZO          0     2012   \n",
       "\n",
       "  DPA_CANTON DPA_DESCAN DPA_PROVIN DPA_DESPRO  \\\n",
       "0       0201   GUARANDA         02    BOLIVAR   \n",
       "1       0201   GUARANDA         02    BOLIVAR   \n",
       "2       0201   GUARANDA         02    BOLIVAR   \n",
       "3       0201   GUARANDA         02    BOLIVAR   \n",
       "4       0201   GUARANDA         02    BOLIVAR   \n",
       "\n",
       "                                            geometry  \n",
       "0  POLYGON ((736004.379 9838239.905, 736006.324 9...  \n",
       "1  POLYGON ((716027.651 9868847.197, 716028.320 9...  \n",
       "2  POLYGON ((721344.030 9824034.783, 721314.366 9...  \n",
       "3  POLYGON ((705426.023 9858768.396, 705493.833 9...  \n",
       "4  POLYGON ((737792.824 9814211.296, 738001.238 9...  "
      ]
     },
     "execution_count": 38,
     "metadata": {},
     "output_type": "execute_result"
    }
   ],
   "source": [
    "parr.head()"
   ]
  },
  {
   "cell_type": "code",
   "execution_count": 39,
   "id": "dbc32254",
   "metadata": {},
   "outputs": [],
   "source": [
    "parr['DPA_PARROQ'] = parr['DPA_PARROQ'].astype('int')"
   ]
  },
  {
   "cell_type": "code",
   "execution_count": 40,
   "id": "ee48377d",
   "metadata": {},
   "outputs": [],
   "source": [
    "region = df.merge(parr, left_on = \"ciudad\", right_on = \"DPA_PARROQ\")"
   ]
  },
  {
   "cell_type": "code",
   "execution_count": 41,
   "id": "d8480b9a",
   "metadata": {},
   "outputs": [
    {
     "data": {
      "text/html": [
       "<div>\n",
       "<style scoped>\n",
       "    .dataframe tbody tr th:only-of-type {\n",
       "        vertical-align: middle;\n",
       "    }\n",
       "\n",
       "    .dataframe tbody tr th {\n",
       "        vertical-align: top;\n",
       "    }\n",
       "\n",
       "    .dataframe thead th {\n",
       "        text-align: right;\n",
       "    }\n",
       "</style>\n",
       "<table border=\"1\" class=\"dataframe\">\n",
       "  <thead>\n",
       "    <tr style=\"text-align: right;\">\n",
       "      <th></th>\n",
       "      <th>area</th>\n",
       "      <th>ciudad</th>\n",
       "      <th>zona</th>\n",
       "      <th>sector</th>\n",
       "      <th>panelm</th>\n",
       "      <th>vivienda</th>\n",
       "      <th>hogar</th>\n",
       "      <th>p01</th>\n",
       "      <th>p02</th>\n",
       "      <th>p03</th>\n",
       "      <th>...</th>\n",
       "      <th>pobla15</th>\n",
       "      <th>DPA_PARROQ</th>\n",
       "      <th>DPA_DESPAR</th>\n",
       "      <th>DPA_VALOR</th>\n",
       "      <th>DPA_ANIO</th>\n",
       "      <th>DPA_CANTON</th>\n",
       "      <th>DPA_DESCAN</th>\n",
       "      <th>DPA_PROVIN</th>\n",
       "      <th>DPA_DESPRO</th>\n",
       "      <th>geometry</th>\n",
       "    </tr>\n",
       "  </thead>\n",
       "  <tbody>\n",
       "    <tr>\n",
       "      <th>0</th>\n",
       "      <td>Urbana</td>\n",
       "      <td>10150</td>\n",
       "      <td>001</td>\n",
       "      <td>003</td>\n",
       "      <td>Panel K2</td>\n",
       "      <td>Vivienda Uno</td>\n",
       "      <td>Hogar Uno</td>\n",
       "      <td>Persona 1</td>\n",
       "      <td>Hombre</td>\n",
       "      <td>54.0</td>\n",
       "      <td>...</td>\n",
       "      <td>Población mayor o igual a 15 años</td>\n",
       "      <td>10150</td>\n",
       "      <td>CUENCA</td>\n",
       "      <td>0</td>\n",
       "      <td>2012</td>\n",
       "      <td>0101</td>\n",
       "      <td>CUENCA</td>\n",
       "      <td>01</td>\n",
       "      <td>AZUAY</td>\n",
       "      <td>POLYGON ((724179.847 9687634.625, 724188.327 9...</td>\n",
       "    </tr>\n",
       "    <tr>\n",
       "      <th>1</th>\n",
       "      <td>Urbana</td>\n",
       "      <td>10150</td>\n",
       "      <td>001</td>\n",
       "      <td>003</td>\n",
       "      <td>Panel K2</td>\n",
       "      <td>Vivienda Uno</td>\n",
       "      <td>Hogar Uno</td>\n",
       "      <td>Persona 2</td>\n",
       "      <td>Mujer</td>\n",
       "      <td>53.0</td>\n",
       "      <td>...</td>\n",
       "      <td>Población mayor o igual a 15 años</td>\n",
       "      <td>10150</td>\n",
       "      <td>CUENCA</td>\n",
       "      <td>0</td>\n",
       "      <td>2012</td>\n",
       "      <td>0101</td>\n",
       "      <td>CUENCA</td>\n",
       "      <td>01</td>\n",
       "      <td>AZUAY</td>\n",
       "      <td>POLYGON ((724179.847 9687634.625, 724188.327 9...</td>\n",
       "    </tr>\n",
       "    <tr>\n",
       "      <th>2</th>\n",
       "      <td>Urbana</td>\n",
       "      <td>10150</td>\n",
       "      <td>001</td>\n",
       "      <td>003</td>\n",
       "      <td>Panel K2</td>\n",
       "      <td>Vivienda Uno</td>\n",
       "      <td>Hogar Uno</td>\n",
       "      <td>Persona 3</td>\n",
       "      <td>Mujer</td>\n",
       "      <td>15.0</td>\n",
       "      <td>...</td>\n",
       "      <td>Población mayor o igual a 15 años</td>\n",
       "      <td>10150</td>\n",
       "      <td>CUENCA</td>\n",
       "      <td>0</td>\n",
       "      <td>2012</td>\n",
       "      <td>0101</td>\n",
       "      <td>CUENCA</td>\n",
       "      <td>01</td>\n",
       "      <td>AZUAY</td>\n",
       "      <td>POLYGON ((724179.847 9687634.625, 724188.327 9...</td>\n",
       "    </tr>\n",
       "    <tr>\n",
       "      <th>3</th>\n",
       "      <td>Urbana</td>\n",
       "      <td>10150</td>\n",
       "      <td>001</td>\n",
       "      <td>003</td>\n",
       "      <td>Panel K2</td>\n",
       "      <td>Vivienda Dos</td>\n",
       "      <td>Hogar Uno</td>\n",
       "      <td>Persona 1</td>\n",
       "      <td>Mujer</td>\n",
       "      <td>51.0</td>\n",
       "      <td>...</td>\n",
       "      <td>Población mayor o igual a 15 años</td>\n",
       "      <td>10150</td>\n",
       "      <td>CUENCA</td>\n",
       "      <td>0</td>\n",
       "      <td>2012</td>\n",
       "      <td>0101</td>\n",
       "      <td>CUENCA</td>\n",
       "      <td>01</td>\n",
       "      <td>AZUAY</td>\n",
       "      <td>POLYGON ((724179.847 9687634.625, 724188.327 9...</td>\n",
       "    </tr>\n",
       "    <tr>\n",
       "      <th>4</th>\n",
       "      <td>Urbana</td>\n",
       "      <td>10150</td>\n",
       "      <td>001</td>\n",
       "      <td>003</td>\n",
       "      <td>Panel K2</td>\n",
       "      <td>Vivienda Dos</td>\n",
       "      <td>Hogar Uno</td>\n",
       "      <td>Persona 2</td>\n",
       "      <td>Hombre</td>\n",
       "      <td>47.0</td>\n",
       "      <td>...</td>\n",
       "      <td>Población mayor o igual a 15 años</td>\n",
       "      <td>10150</td>\n",
       "      <td>CUENCA</td>\n",
       "      <td>0</td>\n",
       "      <td>2012</td>\n",
       "      <td>0101</td>\n",
       "      <td>CUENCA</td>\n",
       "      <td>01</td>\n",
       "      <td>AZUAY</td>\n",
       "      <td>POLYGON ((724179.847 9687634.625, 724188.327 9...</td>\n",
       "    </tr>\n",
       "  </tbody>\n",
       "</table>\n",
       "<p>5 rows × 194 columns</p>\n",
       "</div>"
      ],
      "text/plain": [
       "     area  ciudad zona sector    panelm      vivienda      hogar        p01  \\\n",
       "0  Urbana   10150  001    003  Panel K2  Vivienda Uno  Hogar Uno  Persona 1   \n",
       "1  Urbana   10150  001    003  Panel K2  Vivienda Uno  Hogar Uno  Persona 2   \n",
       "2  Urbana   10150  001    003  Panel K2  Vivienda Uno  Hogar Uno  Persona 3   \n",
       "3  Urbana   10150  001    003  Panel K2  Vivienda Dos  Hogar Uno  Persona 1   \n",
       "4  Urbana   10150  001    003  Panel K2  Vivienda Dos  Hogar Uno  Persona 2   \n",
       "\n",
       "      p02   p03  ...                            pobla15 DPA_PARROQ DPA_DESPAR  \\\n",
       "0  Hombre  54.0  ...  Población mayor o igual a 15 años      10150     CUENCA   \n",
       "1   Mujer  53.0  ...  Población mayor o igual a 15 años      10150     CUENCA   \n",
       "2   Mujer  15.0  ...  Población mayor o igual a 15 años      10150     CUENCA   \n",
       "3   Mujer  51.0  ...  Población mayor o igual a 15 años      10150     CUENCA   \n",
       "4  Hombre  47.0  ...  Población mayor o igual a 15 años      10150     CUENCA   \n",
       "\n",
       "  DPA_VALOR DPA_ANIO DPA_CANTON DPA_DESCAN DPA_PROVIN  DPA_DESPRO  \\\n",
       "0         0     2012       0101     CUENCA         01       AZUAY   \n",
       "1         0     2012       0101     CUENCA         01       AZUAY   \n",
       "2         0     2012       0101     CUENCA         01       AZUAY   \n",
       "3         0     2012       0101     CUENCA         01       AZUAY   \n",
       "4         0     2012       0101     CUENCA         01       AZUAY   \n",
       "\n",
       "                                            geometry  \n",
       "0  POLYGON ((724179.847 9687634.625, 724188.327 9...  \n",
       "1  POLYGON ((724179.847 9687634.625, 724188.327 9...  \n",
       "2  POLYGON ((724179.847 9687634.625, 724188.327 9...  \n",
       "3  POLYGON ((724179.847 9687634.625, 724188.327 9...  \n",
       "4  POLYGON ((724179.847 9687634.625, 724188.327 9...  \n",
       "\n",
       "[5 rows x 194 columns]"
      ]
     },
     "execution_count": 41,
     "metadata": {},
     "output_type": "execute_result"
    }
   ],
   "source": [
    "region.head()"
   ]
  },
  {
   "cell_type": "code",
   "execution_count": 42,
   "id": "873ecfde",
   "metadata": {},
   "outputs": [],
   "source": [
    "datos = region[[\n",
    "    'area','ciudad','zona', 'sector',  'vivienda', 'p01', 'p02', 'p03',\n",
    "    'p06', 'p07', 'p10a', 'p17a', 'p18', 'p34', 'p45', 'SECEMP', \n",
    "    'grupo1', 'rama1', 'empleo', 'sub', 'petn', 'pean', 'desem',\n",
    "    'sub_w', 'oinad', 'ced01a', 'ingrl', 'p50', 'p38', 'p36', 'p35', 'p15',\n",
    "    'p51c', 'DPA_PARROQ', 'DPA_DESPAR', 'geometry'\n",
    "]]"
   ]
  },
  {
   "cell_type": "code",
   "execution_count": 43,
   "id": "08c9508a",
   "metadata": {},
   "outputs": [
    {
     "data": {
      "text/html": [
       "<div>\n",
       "<style scoped>\n",
       "    .dataframe tbody tr th:only-of-type {\n",
       "        vertical-align: middle;\n",
       "    }\n",
       "\n",
       "    .dataframe tbody tr th {\n",
       "        vertical-align: top;\n",
       "    }\n",
       "\n",
       "    .dataframe thead th {\n",
       "        text-align: right;\n",
       "    }\n",
       "</style>\n",
       "<table border=\"1\" class=\"dataframe\">\n",
       "  <thead>\n",
       "    <tr style=\"text-align: right;\">\n",
       "      <th></th>\n",
       "      <th>area</th>\n",
       "      <th>ciudad</th>\n",
       "      <th>zona</th>\n",
       "      <th>sector</th>\n",
       "      <th>vivienda</th>\n",
       "      <th>p01</th>\n",
       "      <th>p02</th>\n",
       "      <th>p03</th>\n",
       "      <th>p06</th>\n",
       "      <th>p07</th>\n",
       "      <th>...</th>\n",
       "      <th>ingrl</th>\n",
       "      <th>p50</th>\n",
       "      <th>p38</th>\n",
       "      <th>p36</th>\n",
       "      <th>p35</th>\n",
       "      <th>p15</th>\n",
       "      <th>p51c</th>\n",
       "      <th>DPA_PARROQ</th>\n",
       "      <th>DPA_DESPAR</th>\n",
       "      <th>geometry</th>\n",
       "    </tr>\n",
       "  </thead>\n",
       "  <tbody>\n",
       "    <tr>\n",
       "      <th>0</th>\n",
       "      <td>Urbana</td>\n",
       "      <td>10150</td>\n",
       "      <td>001</td>\n",
       "      <td>003</td>\n",
       "      <td>Vivienda Uno</td>\n",
       "      <td>Persona 1</td>\n",
       "      <td>Hombre</td>\n",
       "      <td>54.0</td>\n",
       "      <td>Casado(a)</td>\n",
       "      <td>No</td>\n",
       "      <td>...</td>\n",
       "      <td>1072.0</td>\n",
       "      <td>Uno</td>\n",
       "      <td>NaN</td>\n",
       "      <td>NaN</td>\n",
       "      <td>NaN</td>\n",
       "      <td>Mestizo</td>\n",
       "      <td>NaN</td>\n",
       "      <td>10150</td>\n",
       "      <td>CUENCA</td>\n",
       "      <td>POLYGON ((724179.847 9687634.625, 724188.327 9...</td>\n",
       "    </tr>\n",
       "    <tr>\n",
       "      <th>1</th>\n",
       "      <td>Urbana</td>\n",
       "      <td>10150</td>\n",
       "      <td>001</td>\n",
       "      <td>003</td>\n",
       "      <td>Vivienda Uno</td>\n",
       "      <td>Persona 2</td>\n",
       "      <td>Mujer</td>\n",
       "      <td>53.0</td>\n",
       "      <td>Casado(a)</td>\n",
       "      <td>No</td>\n",
       "      <td>...</td>\n",
       "      <td>410.0</td>\n",
       "      <td>Uno</td>\n",
       "      <td>NaN</td>\n",
       "      <td>NaN</td>\n",
       "      <td>NaN</td>\n",
       "      <td>Mestizo</td>\n",
       "      <td>NaN</td>\n",
       "      <td>10150</td>\n",
       "      <td>CUENCA</td>\n",
       "      <td>POLYGON ((724179.847 9687634.625, 724188.327 9...</td>\n",
       "    </tr>\n",
       "    <tr>\n",
       "      <th>2</th>\n",
       "      <td>Urbana</td>\n",
       "      <td>10150</td>\n",
       "      <td>001</td>\n",
       "      <td>003</td>\n",
       "      <td>Vivienda Uno</td>\n",
       "      <td>Persona 3</td>\n",
       "      <td>Mujer</td>\n",
       "      <td>15.0</td>\n",
       "      <td>Soltero(a)</td>\n",
       "      <td>Si</td>\n",
       "      <td>...</td>\n",
       "      <td>NaN</td>\n",
       "      <td>NaN</td>\n",
       "      <td>NaN</td>\n",
       "      <td>Estudiante</td>\n",
       "      <td>NaN</td>\n",
       "      <td>Mestizo</td>\n",
       "      <td>NaN</td>\n",
       "      <td>10150</td>\n",
       "      <td>CUENCA</td>\n",
       "      <td>POLYGON ((724179.847 9687634.625, 724188.327 9...</td>\n",
       "    </tr>\n",
       "    <tr>\n",
       "      <th>3</th>\n",
       "      <td>Urbana</td>\n",
       "      <td>10150</td>\n",
       "      <td>001</td>\n",
       "      <td>003</td>\n",
       "      <td>Vivienda Dos</td>\n",
       "      <td>Persona 1</td>\n",
       "      <td>Mujer</td>\n",
       "      <td>51.0</td>\n",
       "      <td>Unión libre</td>\n",
       "      <td>No</td>\n",
       "      <td>...</td>\n",
       "      <td>120.0</td>\n",
       "      <td>Uno</td>\n",
       "      <td>NaN</td>\n",
       "      <td>NaN</td>\n",
       "      <td>NaN</td>\n",
       "      <td>Mestizo</td>\n",
       "      <td>NaN</td>\n",
       "      <td>10150</td>\n",
       "      <td>CUENCA</td>\n",
       "      <td>POLYGON ((724179.847 9687634.625, 724188.327 9...</td>\n",
       "    </tr>\n",
       "    <tr>\n",
       "      <th>4</th>\n",
       "      <td>Urbana</td>\n",
       "      <td>10150</td>\n",
       "      <td>001</td>\n",
       "      <td>003</td>\n",
       "      <td>Vivienda Dos</td>\n",
       "      <td>Persona 2</td>\n",
       "      <td>Hombre</td>\n",
       "      <td>47.0</td>\n",
       "      <td>Unión libre</td>\n",
       "      <td>No</td>\n",
       "      <td>...</td>\n",
       "      <td>320.0</td>\n",
       "      <td>Uno</td>\n",
       "      <td>NaN</td>\n",
       "      <td>NaN</td>\n",
       "      <td>NaN</td>\n",
       "      <td>Mestizo</td>\n",
       "      <td>NaN</td>\n",
       "      <td>10150</td>\n",
       "      <td>CUENCA</td>\n",
       "      <td>POLYGON ((724179.847 9687634.625, 724188.327 9...</td>\n",
       "    </tr>\n",
       "  </tbody>\n",
       "</table>\n",
       "<p>5 rows × 36 columns</p>\n",
       "</div>"
      ],
      "text/plain": [
       "     area  ciudad zona sector      vivienda        p01     p02   p03  \\\n",
       "0  Urbana   10150  001    003  Vivienda Uno  Persona 1  Hombre  54.0   \n",
       "1  Urbana   10150  001    003  Vivienda Uno  Persona 2   Mujer  53.0   \n",
       "2  Urbana   10150  001    003  Vivienda Uno  Persona 3   Mujer  15.0   \n",
       "3  Urbana   10150  001    003  Vivienda Dos  Persona 1   Mujer  51.0   \n",
       "4  Urbana   10150  001    003  Vivienda Dos  Persona 2  Hombre  47.0   \n",
       "\n",
       "           p06 p07  ...   ingrl  p50  p38         p36  p35      p15 p51c  \\\n",
       "0    Casado(a)  No  ...  1072.0  Uno  NaN         NaN  NaN  Mestizo  NaN   \n",
       "1    Casado(a)  No  ...   410.0  Uno  NaN         NaN  NaN  Mestizo  NaN   \n",
       "2   Soltero(a)  Si  ...     NaN  NaN  NaN  Estudiante  NaN  Mestizo  NaN   \n",
       "3  Unión libre  No  ...   120.0  Uno  NaN         NaN  NaN  Mestizo  NaN   \n",
       "4  Unión libre  No  ...   320.0  Uno  NaN         NaN  NaN  Mestizo  NaN   \n",
       "\n",
       "  DPA_PARROQ DPA_DESPAR                                           geometry  \n",
       "0      10150     CUENCA  POLYGON ((724179.847 9687634.625, 724188.327 9...  \n",
       "1      10150     CUENCA  POLYGON ((724179.847 9687634.625, 724188.327 9...  \n",
       "2      10150     CUENCA  POLYGON ((724179.847 9687634.625, 724188.327 9...  \n",
       "3      10150     CUENCA  POLYGON ((724179.847 9687634.625, 724188.327 9...  \n",
       "4      10150     CUENCA  POLYGON ((724179.847 9687634.625, 724188.327 9...  \n",
       "\n",
       "[5 rows x 36 columns]"
      ]
     },
     "execution_count": 43,
     "metadata": {},
     "output_type": "execute_result"
    }
   ],
   "source": [
    "datos.head()"
   ]
  },
  {
   "cell_type": "code",
   "execution_count": 44,
   "id": "99bf01e3",
   "metadata": {},
   "outputs": [
    {
     "name": "stderr",
     "output_type": "stream",
     "text": [
      "<ipython-input-44-e91b53fe2776>:1: SettingWithCopyWarning: \n",
      "A value is trying to be set on a copy of a slice from a DataFrame\n",
      "\n",
      "See the caveats in the documentation: https://pandas.pydata.org/pandas-docs/stable/user_guide/indexing.html#returning-a-view-versus-a-copy\n",
      "  datos.rename(columns = {'p01':'persona', 'p02':'genero', 'p03':'edad',\n"
     ]
    }
   ],
   "source": [
    "datos.rename(columns = {'p01':'persona', 'p02':'genero', 'p03':'edad',\n",
    "                       'p06':'estado_civil', 'p07':'asiste_clases',\n",
    "                       'p10a':'nivel_instruccion', 'p17a':'extranjero',\n",
    "                       'p18':'razon_emigracion', 'p34':'razon_no_busco_trabajo',\n",
    "                       'p45':'anios_trabajando', 'SECEMP':'sector_empleado',\n",
    "                       'grupo1':'grupo_ocupacion', 'rama1':'rama_actividad',\n",
    "                       'petn':'edad_trabajar', 'pean':'econom_activa',\n",
    "                       'desem':'desempleo', 'sub_w':'sub_pocos_ingresos',\n",
    "                       'oinad':'emp_no_pleno', 'ced01a': 'cedula', 'ingrl':'ingresos_trabajo',\n",
    "                       'p50':'num_trabajos', 'p38':'mot_dejo_trab', 'p36':'trab_sem_pasada',\n",
    "                       'p35':'desea_trab', 'p15':'raza', 'p51c':'horas_trab'}, inplace = True)"
   ]
  },
  {
   "cell_type": "code",
   "execution_count": 45,
   "id": "9c988244",
   "metadata": {},
   "outputs": [
    {
     "data": {
      "text/html": [
       "<div>\n",
       "<style scoped>\n",
       "    .dataframe tbody tr th:only-of-type {\n",
       "        vertical-align: middle;\n",
       "    }\n",
       "\n",
       "    .dataframe tbody tr th {\n",
       "        vertical-align: top;\n",
       "    }\n",
       "\n",
       "    .dataframe thead th {\n",
       "        text-align: right;\n",
       "    }\n",
       "</style>\n",
       "<table border=\"1\" class=\"dataframe\">\n",
       "  <thead>\n",
       "    <tr style=\"text-align: right;\">\n",
       "      <th></th>\n",
       "      <th>area</th>\n",
       "      <th>ciudad</th>\n",
       "      <th>zona</th>\n",
       "      <th>sector</th>\n",
       "      <th>vivienda</th>\n",
       "      <th>persona</th>\n",
       "      <th>genero</th>\n",
       "      <th>edad</th>\n",
       "      <th>estado_civil</th>\n",
       "      <th>asiste_clases</th>\n",
       "      <th>...</th>\n",
       "      <th>ingresos_trabajo</th>\n",
       "      <th>num_trabajos</th>\n",
       "      <th>mot_dejo_trab</th>\n",
       "      <th>trab_sem_pasada</th>\n",
       "      <th>desea_trab</th>\n",
       "      <th>raza</th>\n",
       "      <th>horas_trab</th>\n",
       "      <th>DPA_PARROQ</th>\n",
       "      <th>DPA_DESPAR</th>\n",
       "      <th>geometry</th>\n",
       "    </tr>\n",
       "  </thead>\n",
       "  <tbody>\n",
       "    <tr>\n",
       "      <th>0</th>\n",
       "      <td>Urbana</td>\n",
       "      <td>10150</td>\n",
       "      <td>001</td>\n",
       "      <td>003</td>\n",
       "      <td>Vivienda Uno</td>\n",
       "      <td>Persona 1</td>\n",
       "      <td>Hombre</td>\n",
       "      <td>54.0</td>\n",
       "      <td>Casado(a)</td>\n",
       "      <td>No</td>\n",
       "      <td>...</td>\n",
       "      <td>1072.0</td>\n",
       "      <td>Uno</td>\n",
       "      <td>NaN</td>\n",
       "      <td>NaN</td>\n",
       "      <td>NaN</td>\n",
       "      <td>Mestizo</td>\n",
       "      <td>NaN</td>\n",
       "      <td>10150</td>\n",
       "      <td>CUENCA</td>\n",
       "      <td>POLYGON ((724179.847 9687634.625, 724188.327 9...</td>\n",
       "    </tr>\n",
       "    <tr>\n",
       "      <th>1</th>\n",
       "      <td>Urbana</td>\n",
       "      <td>10150</td>\n",
       "      <td>001</td>\n",
       "      <td>003</td>\n",
       "      <td>Vivienda Uno</td>\n",
       "      <td>Persona 2</td>\n",
       "      <td>Mujer</td>\n",
       "      <td>53.0</td>\n",
       "      <td>Casado(a)</td>\n",
       "      <td>No</td>\n",
       "      <td>...</td>\n",
       "      <td>410.0</td>\n",
       "      <td>Uno</td>\n",
       "      <td>NaN</td>\n",
       "      <td>NaN</td>\n",
       "      <td>NaN</td>\n",
       "      <td>Mestizo</td>\n",
       "      <td>NaN</td>\n",
       "      <td>10150</td>\n",
       "      <td>CUENCA</td>\n",
       "      <td>POLYGON ((724179.847 9687634.625, 724188.327 9...</td>\n",
       "    </tr>\n",
       "    <tr>\n",
       "      <th>2</th>\n",
       "      <td>Urbana</td>\n",
       "      <td>10150</td>\n",
       "      <td>001</td>\n",
       "      <td>003</td>\n",
       "      <td>Vivienda Uno</td>\n",
       "      <td>Persona 3</td>\n",
       "      <td>Mujer</td>\n",
       "      <td>15.0</td>\n",
       "      <td>Soltero(a)</td>\n",
       "      <td>Si</td>\n",
       "      <td>...</td>\n",
       "      <td>NaN</td>\n",
       "      <td>NaN</td>\n",
       "      <td>NaN</td>\n",
       "      <td>Estudiante</td>\n",
       "      <td>NaN</td>\n",
       "      <td>Mestizo</td>\n",
       "      <td>NaN</td>\n",
       "      <td>10150</td>\n",
       "      <td>CUENCA</td>\n",
       "      <td>POLYGON ((724179.847 9687634.625, 724188.327 9...</td>\n",
       "    </tr>\n",
       "    <tr>\n",
       "      <th>3</th>\n",
       "      <td>Urbana</td>\n",
       "      <td>10150</td>\n",
       "      <td>001</td>\n",
       "      <td>003</td>\n",
       "      <td>Vivienda Dos</td>\n",
       "      <td>Persona 1</td>\n",
       "      <td>Mujer</td>\n",
       "      <td>51.0</td>\n",
       "      <td>Unión libre</td>\n",
       "      <td>No</td>\n",
       "      <td>...</td>\n",
       "      <td>120.0</td>\n",
       "      <td>Uno</td>\n",
       "      <td>NaN</td>\n",
       "      <td>NaN</td>\n",
       "      <td>NaN</td>\n",
       "      <td>Mestizo</td>\n",
       "      <td>NaN</td>\n",
       "      <td>10150</td>\n",
       "      <td>CUENCA</td>\n",
       "      <td>POLYGON ((724179.847 9687634.625, 724188.327 9...</td>\n",
       "    </tr>\n",
       "    <tr>\n",
       "      <th>4</th>\n",
       "      <td>Urbana</td>\n",
       "      <td>10150</td>\n",
       "      <td>001</td>\n",
       "      <td>003</td>\n",
       "      <td>Vivienda Dos</td>\n",
       "      <td>Persona 2</td>\n",
       "      <td>Hombre</td>\n",
       "      <td>47.0</td>\n",
       "      <td>Unión libre</td>\n",
       "      <td>No</td>\n",
       "      <td>...</td>\n",
       "      <td>320.0</td>\n",
       "      <td>Uno</td>\n",
       "      <td>NaN</td>\n",
       "      <td>NaN</td>\n",
       "      <td>NaN</td>\n",
       "      <td>Mestizo</td>\n",
       "      <td>NaN</td>\n",
       "      <td>10150</td>\n",
       "      <td>CUENCA</td>\n",
       "      <td>POLYGON ((724179.847 9687634.625, 724188.327 9...</td>\n",
       "    </tr>\n",
       "  </tbody>\n",
       "</table>\n",
       "<p>5 rows × 36 columns</p>\n",
       "</div>"
      ],
      "text/plain": [
       "     area  ciudad zona sector      vivienda    persona  genero  edad  \\\n",
       "0  Urbana   10150  001    003  Vivienda Uno  Persona 1  Hombre  54.0   \n",
       "1  Urbana   10150  001    003  Vivienda Uno  Persona 2   Mujer  53.0   \n",
       "2  Urbana   10150  001    003  Vivienda Uno  Persona 3   Mujer  15.0   \n",
       "3  Urbana   10150  001    003  Vivienda Dos  Persona 1   Mujer  51.0   \n",
       "4  Urbana   10150  001    003  Vivienda Dos  Persona 2  Hombre  47.0   \n",
       "\n",
       "  estado_civil asiste_clases  ... ingresos_trabajo num_trabajos mot_dejo_trab  \\\n",
       "0    Casado(a)            No  ...           1072.0          Uno           NaN   \n",
       "1    Casado(a)            No  ...            410.0          Uno           NaN   \n",
       "2   Soltero(a)            Si  ...              NaN          NaN           NaN   \n",
       "3  Unión libre            No  ...            120.0          Uno           NaN   \n",
       "4  Unión libre            No  ...            320.0          Uno           NaN   \n",
       "\n",
       "  trab_sem_pasada desea_trab     raza horas_trab DPA_PARROQ DPA_DESPAR  \\\n",
       "0             NaN        NaN  Mestizo        NaN      10150     CUENCA   \n",
       "1             NaN        NaN  Mestizo        NaN      10150     CUENCA   \n",
       "2      Estudiante        NaN  Mestizo        NaN      10150     CUENCA   \n",
       "3             NaN        NaN  Mestizo        NaN      10150     CUENCA   \n",
       "4             NaN        NaN  Mestizo        NaN      10150     CUENCA   \n",
       "\n",
       "                                            geometry  \n",
       "0  POLYGON ((724179.847 9687634.625, 724188.327 9...  \n",
       "1  POLYGON ((724179.847 9687634.625, 724188.327 9...  \n",
       "2  POLYGON ((724179.847 9687634.625, 724188.327 9...  \n",
       "3  POLYGON ((724179.847 9687634.625, 724188.327 9...  \n",
       "4  POLYGON ((724179.847 9687634.625, 724188.327 9...  \n",
       "\n",
       "[5 rows x 36 columns]"
      ]
     },
     "execution_count": 45,
     "metadata": {},
     "output_type": "execute_result"
    }
   ],
   "source": [
    "datos.head()"
   ]
  },
  {
   "cell_type": "code",
   "execution_count": 46,
   "id": "6cf96f3a",
   "metadata": {
    "scrolled": false
   },
   "outputs": [
    {
     "data": {
      "text/plain": [
       "Index(['area', 'ciudad', 'zona', 'sector', 'vivienda', 'persona', 'genero',\n",
       "       'edad', 'estado_civil', 'asiste_clases', 'nivel_instruccion',\n",
       "       'extranjero', 'razon_emigracion', 'razon_no_busco_trabajo',\n",
       "       'anios_trabajando', 'sector_empleado', 'grupo_ocupacion',\n",
       "       'rama_actividad', 'empleo', 'sub', 'edad_trabajar', 'econom_activa',\n",
       "       'desempleo', 'sub_pocos_ingresos', 'emp_no_pleno', 'cedula',\n",
       "       'ingresos_trabajo', 'num_trabajos', 'mot_dejo_trab', 'trab_sem_pasada',\n",
       "       'desea_trab', 'raza', 'horas_trab', 'DPA_PARROQ', 'DPA_DESPAR',\n",
       "       'geometry'],\n",
       "      dtype='object')"
      ]
     },
     "execution_count": 46,
     "metadata": {},
     "output_type": "execute_result"
    }
   ],
   "source": [
    "datos.columns"
   ]
  },
  {
   "cell_type": "code",
   "execution_count": 47,
   "id": "ae7444cb",
   "metadata": {
    "scrolled": true
   },
   "outputs": [
    {
     "name": "stderr",
     "output_type": "stream",
     "text": [
      "<ipython-input-47-27f71d5e22d2>:1: SettingWithCopyWarning: \n",
      "A value is trying to be set on a copy of a slice from a DataFrame.\n",
      "Try using .loc[row_indexer,col_indexer] = value instead\n",
      "\n",
      "See the caveats in the documentation: https://pandas.pydata.org/pandas-docs/stable/user_guide/indexing.html#returning-a-view-versus-a-copy\n",
      "  datos['ingresos_trabajo'] = datos['ingresos_trabajo'].cat.remove_categories([\"Gasta mas de lo que gana\", \"No informa\"])\n"
     ]
    }
   ],
   "source": [
    "datos['ingresos_trabajo'] = datos['ingresos_trabajo'].cat.remove_categories([\"Gasta mas de lo que gana\", \"No informa\"])"
   ]
  },
  {
   "cell_type": "code",
   "execution_count": 48,
   "id": "de52687a",
   "metadata": {
    "scrolled": false
   },
   "outputs": [
    {
     "name": "stderr",
     "output_type": "stream",
     "text": [
      "<ipython-input-48-5d88c6bcb485>:1: SettingWithCopyWarning: \n",
      "A value is trying to be set on a copy of a slice from a DataFrame.\n",
      "Try using .loc[row_indexer,col_indexer] = value instead\n",
      "\n",
      "See the caveats in the documentation: https://pandas.pydata.org/pandas-docs/stable/user_guide/indexing.html#returning-a-view-versus-a-copy\n",
      "  datos['ingresos_trabajo'] = datos['ingresos_trabajo'].astype('float')\n"
     ]
    }
   ],
   "source": [
    "datos['ingresos_trabajo'] = datos['ingresos_trabajo'].astype('float')"
   ]
  },
  {
   "cell_type": "code",
   "execution_count": 49,
   "id": "c34841d4",
   "metadata": {},
   "outputs": [
    {
     "data": {
      "text/plain": [
       "dtype('float64')"
      ]
     },
     "execution_count": 49,
     "metadata": {},
     "output_type": "execute_result"
    }
   ],
   "source": [
    "datos['ingresos_trabajo'].dtype"
   ]
  },
  {
   "cell_type": "code",
   "execution_count": 50,
   "id": "d38c5957",
   "metadata": {
    "scrolled": true
   },
   "outputs": [
    {
     "name": "stderr",
     "output_type": "stream",
     "text": [
      "<ipython-input-50-ae3aefef357d>:1: SettingWithCopyWarning: \n",
      "A value is trying to be set on a copy of a slice from a DataFrame.\n",
      "Try using .loc[row_indexer,col_indexer] = value instead\n",
      "\n",
      "See the caveats in the documentation: https://pandas.pydata.org/pandas-docs/stable/user_guide/indexing.html#returning-a-view-versus-a-copy\n",
      "  datos['edad'] = datos['edad'].replace('98 y más', '98.0')\n"
     ]
    }
   ],
   "source": [
    "datos['edad'] = datos['edad'].replace('98 y más', '98.0')"
   ]
  },
  {
   "cell_type": "code",
   "execution_count": 51,
   "id": "de3a86d5",
   "metadata": {
    "scrolled": true
   },
   "outputs": [
    {
     "name": "stderr",
     "output_type": "stream",
     "text": [
      "<ipython-input-51-2f22d538c027>:1: SettingWithCopyWarning: \n",
      "A value is trying to be set on a copy of a slice from a DataFrame.\n",
      "Try using .loc[row_indexer,col_indexer] = value instead\n",
      "\n",
      "See the caveats in the documentation: https://pandas.pydata.org/pandas-docs/stable/user_guide/indexing.html#returning-a-view-versus-a-copy\n",
      "  datos['edad'] = datos['edad'].cat.remove_categories(\"No informa\")\n"
     ]
    }
   ],
   "source": [
    "datos['edad'] = datos['edad'].cat.remove_categories(\"No informa\")"
   ]
  },
  {
   "cell_type": "code",
   "execution_count": 52,
   "id": "924524f7",
   "metadata": {},
   "outputs": [
    {
     "name": "stderr",
     "output_type": "stream",
     "text": [
      "<ipython-input-52-41473f4523fc>:1: SettingWithCopyWarning: \n",
      "A value is trying to be set on a copy of a slice from a DataFrame.\n",
      "Try using .loc[row_indexer,col_indexer] = value instead\n",
      "\n",
      "See the caveats in the documentation: https://pandas.pydata.org/pandas-docs/stable/user_guide/indexing.html#returning-a-view-versus-a-copy\n",
      "  datos['edad'] = datos['edad'].astype('float')\n"
     ]
    }
   ],
   "source": [
    "datos['edad'] = datos['edad'].astype('float')"
   ]
  },
  {
   "cell_type": "code",
   "execution_count": 53,
   "id": "c204ad5b",
   "metadata": {},
   "outputs": [
    {
     "name": "stderr",
     "output_type": "stream",
     "text": [
      "<ipython-input-53-8e1dba68aba1>:1: SettingWithCopyWarning: \n",
      "A value is trying to be set on a copy of a slice from a DataFrame.\n",
      "Try using .loc[row_indexer,col_indexer] = value instead\n",
      "\n",
      "See the caveats in the documentation: https://pandas.pydata.org/pandas-docs/stable/user_guide/indexing.html#returning-a-view-versus-a-copy\n",
      "  datos['extranjero'] = datos['extranjero'].replace('En otro país', 'Extranjero')\n"
     ]
    }
   ],
   "source": [
    "datos['extranjero'] = datos['extranjero'].replace('En otro país', 'Extranjero')"
   ]
  },
  {
   "cell_type": "code",
   "execution_count": 54,
   "id": "264c5f76",
   "metadata": {},
   "outputs": [
    {
     "name": "stderr",
     "output_type": "stream",
     "text": [
      "<ipython-input-54-6cfeffbb05ce>:1: SettingWithCopyWarning: \n",
      "A value is trying to be set on a copy of a slice from a DataFrame.\n",
      "Try using .loc[row_indexer,col_indexer] = value instead\n",
      "\n",
      "See the caveats in the documentation: https://pandas.pydata.org/pandas-docs/stable/user_guide/indexing.html#returning-a-view-versus-a-copy\n",
      "  datos['horas_trab'] = datos['horas_trab'].astype('float')\n"
     ]
    }
   ],
   "source": [
    "datos['horas_trab'] = datos['horas_trab'].astype('float')"
   ]
  },
  {
   "cell_type": "code",
   "execution_count": 55,
   "id": "c1c61183",
   "metadata": {
    "scrolled": true
   },
   "outputs": [],
   "source": [
    "ext = datos"
   ]
  },
  {
   "cell_type": "code",
   "execution_count": 56,
   "id": "e63f6a43",
   "metadata": {
    "scrolled": true
   },
   "outputs": [
    {
     "name": "stderr",
     "output_type": "stream",
     "text": [
      "<ipython-input-56-08c527d6559e>:1: SettingWithCopyWarning: \n",
      "A value is trying to be set on a copy of a slice from a DataFrame.\n",
      "Try using .loc[row_indexer,col_indexer] = value instead\n",
      "\n",
      "See the caveats in the documentation: https://pandas.pydata.org/pandas-docs/stable/user_guide/indexing.html#returning-a-view-versus-a-copy\n",
      "  ext['extranjero'] = ext['extranjero'].replace('En otro lugar del país', 'Ecuatoriano')\n"
     ]
    }
   ],
   "source": [
    "ext['extranjero'] = ext['extranjero'].replace('En otro lugar del país', 'Ecuatoriano')"
   ]
  },
  {
   "cell_type": "code",
   "execution_count": 57,
   "id": "572ebd84",
   "metadata": {},
   "outputs": [
    {
     "name": "stderr",
     "output_type": "stream",
     "text": [
      "<ipython-input-57-8c83f07ffd8d>:1: SettingWithCopyWarning: \n",
      "A value is trying to be set on a copy of a slice from a DataFrame.\n",
      "Try using .loc[row_indexer,col_indexer] = value instead\n",
      "\n",
      "See the caveats in the documentation: https://pandas.pydata.org/pandas-docs/stable/user_guide/indexing.html#returning-a-view-versus-a-copy\n",
      "  ext['extranjero'] = ext['extranjero'].fillna('Ecuatoriano')\n"
     ]
    }
   ],
   "source": [
    "ext['extranjero'] = ext['extranjero'].fillna('Ecuatoriano')"
   ]
  },
  {
   "cell_type": "markdown",
   "id": "bad0450f",
   "metadata": {},
   "source": [
    "# Cuantas personas trabajan en relacion a nivel de instruccion"
   ]
  },
  {
   "cell_type": "code",
   "execution_count": 58,
   "id": "c8158926",
   "metadata": {},
   "outputs": [],
   "source": [
    "ext_trab = ext.loc[(ext['razon_emigracion'] != 'Por trabajo') & (ext['edad_trabajar'] == 'Población en Edad de Trabajar')]"
   ]
  },
  {
   "cell_type": "code",
   "execution_count": 59,
   "id": "62205bfd",
   "metadata": {},
   "outputs": [],
   "source": [
    "ext_emp = ext_trab.groupby(['extranjero', 'nivel_instruccion'])[['desempleo', 'empleo']].agg('count').reset_index()"
   ]
  },
  {
   "cell_type": "code",
   "execution_count": 60,
   "id": "934abe77",
   "metadata": {
    "scrolled": true
   },
   "outputs": [],
   "source": [
    "#fig = px.bar(ext, x=\"nivel_instruccion\", y=\"edad\", color=\"extranjero\")\n",
    "#fig.show()"
   ]
  },
  {
   "cell_type": "code",
   "execution_count": 61,
   "id": "4964f60a",
   "metadata": {},
   "outputs": [
    {
     "data": {
      "text/html": [
       "<div>\n",
       "<style scoped>\n",
       "    .dataframe tbody tr th:only-of-type {\n",
       "        vertical-align: middle;\n",
       "    }\n",
       "\n",
       "    .dataframe tbody tr th {\n",
       "        vertical-align: top;\n",
       "    }\n",
       "\n",
       "    .dataframe thead th {\n",
       "        text-align: right;\n",
       "    }\n",
       "</style>\n",
       "<table border=\"1\" class=\"dataframe\">\n",
       "  <thead>\n",
       "    <tr style=\"text-align: right;\">\n",
       "      <th></th>\n",
       "      <th>extranjero</th>\n",
       "      <th>nivel_instruccion</th>\n",
       "      <th>desempleo</th>\n",
       "      <th>empleo</th>\n",
       "    </tr>\n",
       "  </thead>\n",
       "  <tbody>\n",
       "    <tr>\n",
       "      <th>0</th>\n",
       "      <td>Ecuatoriano</td>\n",
       "      <td>Centro de alfabetización</td>\n",
       "      <td>3</td>\n",
       "      <td>130</td>\n",
       "    </tr>\n",
       "    <tr>\n",
       "      <th>1</th>\n",
       "      <td>Ecuatoriano</td>\n",
       "      <td>Educación  Media</td>\n",
       "      <td>254</td>\n",
       "      <td>2530</td>\n",
       "    </tr>\n",
       "    <tr>\n",
       "      <th>2</th>\n",
       "      <td>Ecuatoriano</td>\n",
       "      <td>Educación Básica</td>\n",
       "      <td>55</td>\n",
       "      <td>1333</td>\n",
       "    </tr>\n",
       "    <tr>\n",
       "      <th>3</th>\n",
       "      <td>Ecuatoriano</td>\n",
       "      <td>Ninguno</td>\n",
       "      <td>8</td>\n",
       "      <td>827</td>\n",
       "    </tr>\n",
       "    <tr>\n",
       "      <th>4</th>\n",
       "      <td>Ecuatoriano</td>\n",
       "      <td>Post-grado</td>\n",
       "      <td>14</td>\n",
       "      <td>372</td>\n",
       "    </tr>\n",
       "    <tr>\n",
       "      <th>5</th>\n",
       "      <td>Ecuatoriano</td>\n",
       "      <td>Primaria</td>\n",
       "      <td>137</td>\n",
       "      <td>7217</td>\n",
       "    </tr>\n",
       "    <tr>\n",
       "      <th>6</th>\n",
       "      <td>Ecuatoriano</td>\n",
       "      <td>Secundaria</td>\n",
       "      <td>275</td>\n",
       "      <td>6381</td>\n",
       "    </tr>\n",
       "    <tr>\n",
       "      <th>7</th>\n",
       "      <td>Ecuatoriano</td>\n",
       "      <td>Superior Universitario</td>\n",
       "      <td>316</td>\n",
       "      <td>4169</td>\n",
       "    </tr>\n",
       "    <tr>\n",
       "      <th>8</th>\n",
       "      <td>Ecuatoriano</td>\n",
       "      <td>Superior no universitario</td>\n",
       "      <td>27</td>\n",
       "      <td>471</td>\n",
       "    </tr>\n",
       "    <tr>\n",
       "      <th>9</th>\n",
       "      <td>Extranjero</td>\n",
       "      <td>Centro de alfabetización</td>\n",
       "      <td>0</td>\n",
       "      <td>1</td>\n",
       "    </tr>\n",
       "    <tr>\n",
       "      <th>10</th>\n",
       "      <td>Extranjero</td>\n",
       "      <td>Educación  Media</td>\n",
       "      <td>5</td>\n",
       "      <td>25</td>\n",
       "    </tr>\n",
       "    <tr>\n",
       "      <th>11</th>\n",
       "      <td>Extranjero</td>\n",
       "      <td>Educación Básica</td>\n",
       "      <td>0</td>\n",
       "      <td>18</td>\n",
       "    </tr>\n",
       "    <tr>\n",
       "      <th>12</th>\n",
       "      <td>Extranjero</td>\n",
       "      <td>Ninguno</td>\n",
       "      <td>0</td>\n",
       "      <td>9</td>\n",
       "    </tr>\n",
       "    <tr>\n",
       "      <th>13</th>\n",
       "      <td>Extranjero</td>\n",
       "      <td>Post-grado</td>\n",
       "      <td>4</td>\n",
       "      <td>12</td>\n",
       "    </tr>\n",
       "    <tr>\n",
       "      <th>14</th>\n",
       "      <td>Extranjero</td>\n",
       "      <td>Primaria</td>\n",
       "      <td>3</td>\n",
       "      <td>107</td>\n",
       "    </tr>\n",
       "    <tr>\n",
       "      <th>15</th>\n",
       "      <td>Extranjero</td>\n",
       "      <td>Secundaria</td>\n",
       "      <td>12</td>\n",
       "      <td>172</td>\n",
       "    </tr>\n",
       "    <tr>\n",
       "      <th>16</th>\n",
       "      <td>Extranjero</td>\n",
       "      <td>Superior Universitario</td>\n",
       "      <td>11</td>\n",
       "      <td>90</td>\n",
       "    </tr>\n",
       "    <tr>\n",
       "      <th>17</th>\n",
       "      <td>Extranjero</td>\n",
       "      <td>Superior no universitario</td>\n",
       "      <td>3</td>\n",
       "      <td>17</td>\n",
       "    </tr>\n",
       "  </tbody>\n",
       "</table>\n",
       "</div>"
      ],
      "text/plain": [
       "     extranjero          nivel_instruccion  desempleo  empleo\n",
       "0   Ecuatoriano   Centro de alfabetización          3     130\n",
       "1   Ecuatoriano           Educación  Media        254    2530\n",
       "2   Ecuatoriano           Educación Básica         55    1333\n",
       "3   Ecuatoriano                    Ninguno          8     827\n",
       "4   Ecuatoriano                 Post-grado         14     372\n",
       "5   Ecuatoriano                   Primaria        137    7217\n",
       "6   Ecuatoriano                 Secundaria        275    6381\n",
       "7   Ecuatoriano     Superior Universitario        316    4169\n",
       "8   Ecuatoriano  Superior no universitario         27     471\n",
       "9    Extranjero   Centro de alfabetización          0       1\n",
       "10   Extranjero           Educación  Media          5      25\n",
       "11   Extranjero           Educación Básica          0      18\n",
       "12   Extranjero                    Ninguno          0       9\n",
       "13   Extranjero                 Post-grado          4      12\n",
       "14   Extranjero                   Primaria          3     107\n",
       "15   Extranjero                 Secundaria         12     172\n",
       "16   Extranjero     Superior Universitario         11      90\n",
       "17   Extranjero  Superior no universitario          3      17"
      ]
     },
     "execution_count": 61,
     "metadata": {},
     "output_type": "execute_result"
    }
   ],
   "source": [
    "ext_emp"
   ]
  },
  {
   "cell_type": "code",
   "execution_count": 62,
   "id": "02783e19",
   "metadata": {},
   "outputs": [],
   "source": [
    "ntrab = datos.loc[datos[\"num_trabajos\"].notnull()]"
   ]
  },
  {
   "cell_type": "code",
   "execution_count": 63,
   "id": "b26ff387",
   "metadata": {},
   "outputs": [
    {
     "data": {
      "text/plain": [
       "num_trabajos\n",
       "Mas de uno    477.480407\n",
       "Uno           473.477051\n",
       "Name: ingresos_trabajo, dtype: float64"
      ]
     },
     "execution_count": 63,
     "metadata": {},
     "output_type": "execute_result"
    }
   ],
   "source": [
    "ntrab.groupby('num_trabajos')['ingresos_trabajo'].mean()"
   ]
  },
  {
   "cell_type": "code",
   "execution_count": 64,
   "id": "7a0f44d2",
   "metadata": {},
   "outputs": [
    {
     "data": {
      "text/plain": [
       "nivel_instruccion\n",
       "Centro de alfabetización      181.885417\n",
       "Educación  Media              316.565806\n",
       "Educación Básica              240.928767\n",
       "Ninguno                       173.393557\n",
       "Post-grado                   1537.670282\n",
       "Primaria                      304.007296\n",
       "Secundaria                    445.589545\n",
       "Superior Universitario        822.454237\n",
       "Superior no universitario     668.249513\n",
       "Name: ingresos_trabajo, dtype: float64"
      ]
     },
     "execution_count": 64,
     "metadata": {},
     "output_type": "execute_result"
    }
   ],
   "source": [
    "ntrab.groupby('nivel_instruccion')['ingresos_trabajo'].mean()"
   ]
  },
  {
   "cell_type": "code",
   "execution_count": 65,
   "id": "72970659",
   "metadata": {},
   "outputs": [],
   "source": [
    "ing_raza = datos.groupby(['raza', 'nivel_instruccion'])['ingresos_trabajo'].mean().reset_index()"
   ]
  },
  {
   "cell_type": "code",
   "execution_count": 67,
   "id": "49188b7a",
   "metadata": {},
   "outputs": [
    {
     "data": {
      "text/html": [
       "<div>\n",
       "<style scoped>\n",
       "    .dataframe tbody tr th:only-of-type {\n",
       "        vertical-align: middle;\n",
       "    }\n",
       "\n",
       "    .dataframe tbody tr th {\n",
       "        vertical-align: top;\n",
       "    }\n",
       "\n",
       "    .dataframe thead th {\n",
       "        text-align: right;\n",
       "    }\n",
       "</style>\n",
       "<table border=\"1\" class=\"dataframe\">\n",
       "  <thead>\n",
       "    <tr style=\"text-align: right;\">\n",
       "      <th></th>\n",
       "      <th>raza</th>\n",
       "      <th>nivel_instruccion</th>\n",
       "      <th>ingresos_trabajo</th>\n",
       "    </tr>\n",
       "  </thead>\n",
       "  <tbody>\n",
       "    <tr>\n",
       "      <th>0</th>\n",
       "      <td>Afroecuatoriano</td>\n",
       "      <td>Centro de alfabetización</td>\n",
       "      <td>NaN</td>\n",
       "    </tr>\n",
       "    <tr>\n",
       "      <th>1</th>\n",
       "      <td>Afroecuatoriano</td>\n",
       "      <td>Educación  Media</td>\n",
       "      <td>369.117647</td>\n",
       "    </tr>\n",
       "    <tr>\n",
       "      <th>2</th>\n",
       "      <td>Afroecuatoriano</td>\n",
       "      <td>Educación Básica</td>\n",
       "      <td>251.900000</td>\n",
       "    </tr>\n",
       "    <tr>\n",
       "      <th>3</th>\n",
       "      <td>Afroecuatoriano</td>\n",
       "      <td>Ninguno</td>\n",
       "      <td>110.000000</td>\n",
       "    </tr>\n",
       "    <tr>\n",
       "      <th>4</th>\n",
       "      <td>Afroecuatoriano</td>\n",
       "      <td>Post-grado</td>\n",
       "      <td>2355.333333</td>\n",
       "    </tr>\n",
       "    <tr>\n",
       "      <th>5</th>\n",
       "      <td>Afroecuatoriano</td>\n",
       "      <td>Primaria</td>\n",
       "      <td>272.682540</td>\n",
       "    </tr>\n",
       "    <tr>\n",
       "      <th>6</th>\n",
       "      <td>Afroecuatoriano</td>\n",
       "      <td>Secundaria</td>\n",
       "      <td>451.434109</td>\n",
       "    </tr>\n",
       "    <tr>\n",
       "      <th>7</th>\n",
       "      <td>Afroecuatoriano</td>\n",
       "      <td>Superior Universitario</td>\n",
       "      <td>811.000000</td>\n",
       "    </tr>\n",
       "    <tr>\n",
       "      <th>8</th>\n",
       "      <td>Afroecuatoriano</td>\n",
       "      <td>Superior no universitario</td>\n",
       "      <td>796.875000</td>\n",
       "    </tr>\n",
       "    <tr>\n",
       "      <th>9</th>\n",
       "      <td>Blanco</td>\n",
       "      <td>Centro de alfabetización</td>\n",
       "      <td>100.000000</td>\n",
       "    </tr>\n",
       "  </tbody>\n",
       "</table>\n",
       "</div>"
      ],
      "text/plain": [
       "              raza          nivel_instruccion  ingresos_trabajo\n",
       "0  Afroecuatoriano   Centro de alfabetización               NaN\n",
       "1  Afroecuatoriano           Educación  Media        369.117647\n",
       "2  Afroecuatoriano           Educación Básica        251.900000\n",
       "3  Afroecuatoriano                    Ninguno        110.000000\n",
       "4  Afroecuatoriano                 Post-grado       2355.333333\n",
       "5  Afroecuatoriano                   Primaria        272.682540\n",
       "6  Afroecuatoriano                 Secundaria        451.434109\n",
       "7  Afroecuatoriano     Superior Universitario        811.000000\n",
       "8  Afroecuatoriano  Superior no universitario        796.875000\n",
       "9           Blanco   Centro de alfabetización        100.000000"
      ]
     },
     "execution_count": 67,
     "metadata": {},
     "output_type": "execute_result"
    }
   ],
   "source": [
    "ing_raza.head(10)"
   ]
  },
  {
   "cell_type": "code",
   "execution_count": null,
   "id": "2b92e827",
   "metadata": {},
   "outputs": [],
   "source": []
  }
 ],
 "metadata": {
  "kernelspec": {
   "display_name": "Python 3",
   "language": "python",
   "name": "python3"
  },
  "language_info": {
   "codemirror_mode": {
    "name": "ipython",
    "version": 3
   },
   "file_extension": ".py",
   "mimetype": "text/x-python",
   "name": "python",
   "nbconvert_exporter": "python",
   "pygments_lexer": "ipython3",
   "version": "3.9.15"
  }
 },
 "nbformat": 4,
 "nbformat_minor": 5
}
